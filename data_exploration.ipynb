{
 "cells": [
  {
   "cell_type": "markdown",
   "metadata": {},
   "source": [
    "### Exploring the annotated data."
   ]
  },
  {
   "cell_type": "code",
   "execution_count": 1,
   "metadata": {},
   "outputs": [
    {
     "data": {
      "application/vnd.jupyter.widget-view+json": {
       "model_id": "975e12463e5b4857bc71247fb3c2da1d",
       "version_major": 2,
       "version_minor": 0
      },
      "text/plain": [
       "Resolving data files:   0%|          | 0/95 [00:00<?, ?it/s]"
      ]
     },
     "metadata": {},
     "output_type": "display_data"
    },
    {
     "data": {
      "application/vnd.jupyter.widget-view+json": {
       "model_id": "9cd284d009ad4b989b9f1c9ba772534d",
       "version_major": 2,
       "version_minor": 0
      },
      "text/plain": [
       "Downloading data:   0%|          | 0/95 [00:00<?, ?files/s]"
      ]
     },
     "metadata": {},
     "output_type": "display_data"
    },
    {
     "data": {
      "application/vnd.jupyter.widget-view+json": {
       "model_id": "45318ab0b992494599f17af562fd0efc",
       "version_major": 2,
       "version_minor": 0
      },
      "text/plain": [
       "Generating train split: 0 examples [00:00, ? examples/s]"
      ]
     },
     "metadata": {},
     "output_type": "display_data"
    },
    {
     "data": {
      "text/plain": [
       "DatasetDict({\n",
       "    train: Dataset({\n",
       "        features: ['id', 'name', 'author', 'description', 'tags', 'likes', 'viewed', 'published', 'date', 'time_retrieved', 'image_code', 'image_inputs', 'common_code', 'sound_code', 'sound_inputs', 'buffer_a_code', 'buffer_a_inputs', 'buffer_b_code', 'buffer_b_inputs', 'buffer_c_code', 'buffer_c_inputs', 'buffer_d_code', 'buffer_d_inputs', 'cube_a_code', 'cube_a_inputs', 'thumbnail', 'access', 'license', 'functions', 'test'],\n",
       "        num_rows: 19622\n",
       "    })\n",
       "})"
      ]
     },
     "execution_count": 1,
     "metadata": {},
     "output_type": "execute_result"
    }
   ],
   "source": [
    "from datasets import load_dataset, disable_caching\n",
    "import pandas as pd\n",
    "\n",
    "# can infer the generic loader script this easily\n",
    "disable_caching()\n",
    "# cache location [click](%userprofile%/.cache/huggingface/datasets)\n",
    "# needs force_redownload to avoid loading incorrect cached stuff\n",
    "ds = load_dataset(\"json\", data_dir=\"./data/annotated/\", download_mode=\"force_redownload\", cache_dir=None)\n",
    "# ds = load_dataset(\"json\", data_dir=\"./data/annotated_test/\", download_mode=\"force_redownload\", cache_dir=None)\n",
    "df = ds[\"train\"].to_pandas()\n",
    "# read \"date\" column as unix timestamp\n",
    "df[\"date\"] = pd.to_datetime(df[\"date\"].astype(int), unit=\"s\")\n",
    "ds"
   ]
  },
  {
   "cell_type": "code",
   "execution_count": 2,
   "metadata": {},
   "outputs": [
    {
     "data": {
      "text/plain": [
       "5924"
      ]
     },
     "execution_count": 2,
     "metadata": {},
     "output_type": "execute_result"
    }
   ],
   "source": [
    "# fewer than 6k unique authors in shaders20k\n",
    "df[\"author\"].nunique()"
   ]
  },
  {
   "cell_type": "code",
   "execution_count": 3,
   "metadata": {},
   "outputs": [],
   "source": [
    "#redo the df\n",
    "\n",
    "df = ds[\"train\"].to_pandas()\n",
    "# read \"date\" column as unix timestamp\n",
    "df[\"date\"] = pd.to_datetime(df[\"date\"].astype(int), unit=\"s\")\n",
    "#"
   ]
  },
  {
   "cell_type": "code",
   "execution_count": 4,
   "metadata": {},
   "outputs": [
    {
     "data": {
      "text/plain": [
       "test\n",
       "ok          11324\n",
       "error        5014\n",
       "timeout      3260\n",
       "timedout       24\n",
       "Name: count, dtype: int64"
      ]
     },
     "execution_count": 4,
     "metadata": {},
     "output_type": "execute_result"
    }
   ],
   "source": [
    "df[\"test\"].value_counts().head(10)"
   ]
  },
  {
   "cell_type": "code",
   "execution_count": 5,
   "metadata": {},
   "outputs": [
    {
     "name": "stdout",
     "output_type": "stream",
     "text": [
      "824\n"
     ]
    }
   ],
   "source": [
    "# list of permissive licenses like: https://huggingface.co/datasets/bigcode/the-stack-v2/blob/main/license_stats.csv (gated?)\n",
    "# maybe this instead: https://huggingface.co/datasets/bigcode/the-stack/blob/main/licenses.json\n",
    "# seems to be the one they actually use: https://huggingface.co/datasets/bigcode-data/license_list/resolve/main/permissive_licenses.txt \n",
    "\n",
    "import requests\n",
    "permissive_list = requests.get(\"https://huggingface.co/datasets/bigcode-data/license_list/resolve/main/permissive_licenses.txt\").content.decode(\"utf-8\").split()\n",
    "permissive_list = [l.lower() for l in permissive_list]\n",
    "\n",
    "print(len(permissive_list))"
   ]
  },
  {
   "cell_type": "code",
   "execution_count": 6,
   "metadata": {},
   "outputs": [
    {
     "name": "stdout",
     "output_type": "stream",
     "text": [
      "['CC-BY-NC-SA-3.0', 'cc-by-nc-sa-3.0', 'bsd-new', 'mit', 'cc-by-4.0', 'proprietary-license', 'cc-by-nc-nd-3.0', 'bsd-simplified', 'cc0-1.0', 'unknown-license-reference', 'public-domain', 'apache-2.0', 'cc-by-nc-sa-4.0', 'agpl-3.0', 'cc-by-sa-3.0', 'cc-by-3.0', 'cc-by-sa-2.5', 'cc-by-sa-4.0', 'cc-by-sa-4.0 WITH generic-exception', 'cc-by-3.0 AND mit', 'cc-by-nc-sa-2.0', 'cc-by-nc-sa-3.0 AND proprietary-license', 'wtfpl-2.0', 'gpl-3.0', 'cc-by-4.0 OR cc-by-3.0', 'beerware', 'gpl-3.0-plus OR cc-by-sa-3.0', 'unlicense', 'cc-by-nc-nd-4.0', 'warranty-disclaimer', 'x11', 'gpl-3.0-plus', 'cc-by-nc-4.0', 'cc-by-2.5', 'cc0-1.0 OR openssl-ssleay OR apache-2.0', 'gpl-2.0', 'gpl-2.0-plus', 'cc-by-nc-3.0', 'gpl-1.0-plus', 'artistic-2.0', 'cc-sampling-plus-1.0']\n"
     ]
    },
    {
     "data": {
      "application/vnd.jupyter.widget-view+json": {
       "model_id": "ce681fad272c4d0e990dd3e5ad907e6a",
       "version_major": 2,
       "version_minor": 0
      },
      "text/plain": [
       "Filter:   0%|          | 0/19622 [00:00<?, ? examples/s]"
      ]
     },
     "metadata": {},
     "output_type": "display_data"
    },
    {
     "data": {
      "application/vnd.jupyter.widget-view+json": {
       "model_id": "18657e0f2cac424896bbd9433aabb8e1",
       "version_major": 2,
       "version_minor": 0
      },
      "text/plain": [
       "Filter:   0%|          | 0/17806 [00:00<?, ? examples/s]"
      ]
     },
     "metadata": {},
     "output_type": "display_data"
    },
    {
     "data": {
      "application/vnd.jupyter.widget-view+json": {
       "model_id": "abc78d6aea8243d28f7b90cd0a729944",
       "version_major": 2,
       "version_minor": 0
      },
      "text/plain": [
       "Filter:   0%|          | 0/10602 [00:00<?, ? examples/s]"
      ]
     },
     "metadata": {},
     "output_type": "display_data"
    },
    {
     "data": {
      "text/plain": [
       "Dataset({\n",
       "    features: ['id', 'name', 'author', 'description', 'tags', 'likes', 'viewed', 'published', 'date', 'time_retrieved', 'image_code', 'image_inputs', 'common_code', 'sound_code', 'sound_inputs', 'buffer_a_code', 'buffer_a_inputs', 'buffer_b_code', 'buffer_b_inputs', 'buffer_c_code', 'buffer_c_inputs', 'buffer_d_code', 'buffer_d_inputs', 'cube_a_code', 'cube_a_inputs', 'thumbnail', 'access', 'license', 'functions', 'test'],\n",
       "    num_rows: 3425\n",
       "})"
      ]
     },
     "execution_count": 6,
     "metadata": {},
     "output_type": "execute_result"
    }
   ],
   "source": [
    "\n",
    "print(ds[\"train\"].unique(\"license\"))\n",
    "# filter permissive licenses\n",
    "filtered_ds = ds[\"train\"].filter(lambda x: x[\"license\"] in permissive_list + [\"CC-BY-NC-SA-3.0\"]) # permissive or base case(not actually permissive...) what about those AND and OR classifications?\n",
    "filtered_ds = filtered_ds.filter(lambda x: x[\"test\"] == \"ok\") # ok means it actually runs, valid was just that naga didn't error... but this also has issues\n",
    "filtered_ds = filtered_ds.filter(lambda x: x[\"published\"] == \"Public API\") # naga is the author of the test cases\n",
    "filtered_ds"
   ]
  },
  {
   "cell_type": "code",
   "execution_count": 7,
   "metadata": {},
   "outputs": [
    {
     "name": "stdout",
     "output_type": "stream",
     "text": [
      "['']\n"
     ]
    },
    {
     "data": {
      "application/vnd.jupyter.widget-view+json": {
       "model_id": "90ef1b0c521e4ccd9095cd0666229f47",
       "version_major": 2,
       "version_minor": 0
      },
      "text/plain": [
       "Filter:   0%|          | 0/19622 [00:00<?, ? examples/s]"
      ]
     },
     "metadata": {},
     "output_type": "display_data"
    },
    {
     "data": {
      "text/plain": [
       "Dataset({\n",
       "    features: ['id', 'name', 'author', 'description', 'tags', 'likes', 'viewed', 'published', 'date', 'time_retrieved', 'image_code', 'image_inputs', 'common_code', 'sound_code', 'sound_inputs', 'buffer_a_code', 'buffer_a_inputs', 'buffer_b_code', 'buffer_b_inputs', 'buffer_c_code', 'buffer_c_inputs', 'buffer_d_code', 'buffer_d_inputs', 'cube_a_code', 'cube_a_inputs', 'thumbnail', 'access', 'license', 'functions', 'test'],\n",
       "    num_rows: 0\n",
       "})"
      ]
     },
     "execution_count": 7,
     "metadata": {},
     "output_type": "execute_result"
    }
   ],
   "source": [
    "# seems to never contain any common pass? or my preprocessing is wrong.\n",
    "print(df[\"common_code\"].unique()) \n",
    "\n",
    "# see how many shaders contain buffer passes (seemingly none?)\n",
    "ds[\"train\"].filter(lambda x: x[\"buffer_a_code\"] + x[\"buffer_b_code\"] + x[\"buffer_c_code\"] + x[\"buffer_d_code\"] != \"\")"
   ]
  },
  {
   "cell_type": "code",
   "execution_count": 8,
   "metadata": {},
   "outputs": [
    {
     "data": {
      "text/plain": [
       "<Axes: title={'center': 'license'}, xlabel='date'>"
      ]
     },
     "execution_count": 8,
     "metadata": {},
     "output_type": "execute_result"
    },
    {
     "data": {
      "image/png": "[encoded data removed]",
      "text/plain": [
       "<Figure size 1500x700 with 1 Axes>"
      ]
     },
     "metadata": {},
     "output_type": "display_data"
    }
   ],
   "source": [
    "def plot_per_month(column, stretched=False, **kwargs):\n",
    "    feature_df = df[\"date\"].groupby([df[\"date\"].dt.to_period(\"M\"), df[column]]).count().unstack()\n",
    "    if stretched:\n",
    "        feature_df = feature_df.div(feature_df.sum(axis=1), axis=0)\n",
    "    return feature_df.plot(kind=\"bar\", stacked=True, figsize=(15,7), title=column, width=.9, **kwargs)\n",
    "    \n",
    "plot_per_month(\"license\", True, legend=False)"
   ]
  },
  {
   "cell_type": "code",
   "execution_count": 9,
   "metadata": {},
   "outputs": [
    {
     "data": {
      "text/plain": [
       "<Axes: title={'center': 'published'}, xlabel='date'>"
      ]
     },
     "execution_count": 9,
     "metadata": {},
     "output_type": "execute_result"
    },
    {
     "data": {
      "image/png": "[encoded data removed]",
      "text/plain": [
       "<Figure size 1500x700 with 1 Axes>"
      ]
     },
     "metadata": {},
     "output_type": "display_data"
    }
   ],
   "source": [
    "plot_per_month(\"published\", False)"
   ]
  },
  {
   "cell_type": "code",
   "execution_count": 10,
   "metadata": {},
   "outputs": [
    {
     "data": {
      "text/plain": [
       "<Axes: title={'center': 'test'}, xlabel='date'>"
      ]
     },
     "execution_count": 10,
     "metadata": {},
     "output_type": "execute_result"
    },
    {
     "data": {
      "image/png": "[encoded data removed]",
      "text/plain": [
       "<Figure size 1500x700 with 1 Axes>"
      ]
     },
     "metadata": {},
     "output_type": "display_data"
    }
   ],
   "source": [
    "# currently in development, another filtering step.\n",
    "plot_per_month(\"test\", stretched=True, legend=True)"
   ]
  },
  {
   "cell_type": "code",
   "execution_count": 11,
   "metadata": {},
   "outputs": [
    {
     "data": {
      "text/plain": [
       "count    19622.000000\n",
       "mean         7.946234\n",
       "std         10.261134\n",
       "min          0.000000\n",
       "25%          2.000000\n",
       "50%          5.000000\n",
       "75%         10.000000\n",
       "max        344.000000\n",
       "Name: num_functions, dtype: float64"
      ]
     },
     "execution_count": 11,
     "metadata": {},
     "output_type": "execute_result"
    }
   ],
   "source": [
    "df[\"num_functions\"] = df[\"functions\"].apply(len)\n",
    "df[\"num_functions\"].describe()"
   ]
  },
  {
   "cell_type": "code",
   "execution_count": 12,
   "metadata": {},
   "outputs": [
    {
     "data": {
      "text/plain": [
       "<Axes: title={'center': 'num_inputs'}, xlabel='date'>"
      ]
     },
     "execution_count": 12,
     "metadata": {},
     "output_type": "execute_result"
    },
    {
     "data": {
      "image/png": "[encoded data removed]",
      "text/plain": [
       "<Figure size 1500x700 with 1 Axes>"
      ]
     },
     "metadata": {},
     "output_type": "display_data"
    }
   ],
   "source": [
    "df[\"num_inputs\"] = df[\"image_inputs\"].apply(len)\n",
    "plot_per_month(\"num_inputs\", stretched=False, legend=True)"
   ]
  },
  {
   "cell_type": "code",
   "execution_count": 13,
   "metadata": {},
   "outputs": [
    {
     "name": "stdout",
     "output_type": "stream",
     "text": [
      "False\n"
     ]
    },
    {
     "data": {
      "text/html": [
       "<div>\n",
       "<style scoped>\n",
       "    .dataframe tbody tr th:only-of-type {\n",
       "        vertical-align: middle;\n",
       "    }\n",
       "\n",
       "    .dataframe tbody tr th {\n",
       "        vertical-align: top;\n",
       "    }\n",
       "\n",
       "    .dataframe thead th {\n",
       "        text-align: right;\n",
       "    }\n",
       "</style>\n",
       "<table border=\"1\" class=\"dataframe\">\n",
       "  <thead>\n",
       "    <tr style=\"text-align: right;\">\n",
       "      <th></th>\n",
       "      <th>id</th>\n",
       "      <th>name</th>\n",
       "      <th>author</th>\n",
       "      <th>description</th>\n",
       "      <th>tags</th>\n",
       "      <th>likes</th>\n",
       "      <th>viewed</th>\n",
       "      <th>published</th>\n",
       "      <th>date</th>\n",
       "      <th>time_retrieved</th>\n",
       "      <th>...</th>\n",
       "      <th>buffer_d_inputs</th>\n",
       "      <th>cube_a_code</th>\n",
       "      <th>cube_a_inputs</th>\n",
       "      <th>thumbnail</th>\n",
       "      <th>access</th>\n",
       "      <th>license</th>\n",
       "      <th>functions</th>\n",
       "      <th>test</th>\n",
       "      <th>num_functions</th>\n",
       "      <th>num_inputs</th>\n",
       "    </tr>\n",
       "  </thead>\n",
       "  <tbody>\n",
       "    <tr>\n",
       "      <th>25</th>\n",
       "      <td>4s23Wc</td>\n",
       "      <td>pfhrector</td>\n",
       "      <td>pfhunk</td>\n",
       "      <td>80s vector graphics inspired kaliset</td>\n",
       "      <td>[2d, fractal, kaliset]</td>\n",
       "      <td>7</td>\n",
       "      <td>791</td>\n",
       "      <td>Public</td>\n",
       "      <td>2014-03-11 02:44:55</td>\n",
       "      <td>2021-10-01</td>\n",
       "      <td>...</td>\n",
       "      <td>[]</td>\n",
       "      <td></td>\n",
       "      <td>[]</td>\n",
       "      <td>https://www.shadertoy.com/media/shaders/4s23Wc...</td>\n",
       "      <td>shaders20k</td>\n",
       "      <td>CC-BY-NC-SA-3.0</td>\n",
       "      <td>[]</td>\n",
       "      <td>ok</td>\n",
       "      <td>0</td>\n",
       "      <td>0</td>\n",
       "    </tr>\n",
       "    <tr>\n",
       "      <th>62</th>\n",
       "      <td>Md23DV</td>\n",
       "      <td>GLSL 2D Tutorials</td>\n",
       "      <td>vug</td>\n",
       "      <td>28 tutorials on writing pixel shaders at Shade...</td>\n",
       "      <td>[tutorial]</td>\n",
       "      <td>581</td>\n",
       "      <td>48910</td>\n",
       "      <td>Public</td>\n",
       "      <td>2014-03-08 20:58:49</td>\n",
       "      <td>2021-10-01</td>\n",
       "      <td>...</td>\n",
       "      <td>[]</td>\n",
       "      <td></td>\n",
       "      <td>[]</td>\n",
       "      <td>https://www.shadertoy.com/media/shaders/Md23DV...</td>\n",
       "      <td>shaders20k</td>\n",
       "      <td>CC-BY-NC-SA-3.0</td>\n",
       "      <td>[]</td>\n",
       "      <td>error</td>\n",
       "      <td>0</td>\n",
       "      <td>3</td>\n",
       "    </tr>\n",
       "    <tr>\n",
       "      <th>424</th>\n",
       "      <td>XsSSRz</td>\n",
       "      <td>Tiny Ray Marcher 3.0</td>\n",
       "      <td>Aaro</td>\n",
       "      <td>Oh its on. I'm sure comment section will be fu...</td>\n",
       "      <td>[reflection, ray, shadow, marching, tiny]</td>\n",
       "      <td>4</td>\n",
       "      <td>267</td>\n",
       "      <td>Public</td>\n",
       "      <td>2014-08-15 14:12:07</td>\n",
       "      <td>2021-10-01</td>\n",
       "      <td>...</td>\n",
       "      <td>[]</td>\n",
       "      <td></td>\n",
       "      <td>[]</td>\n",
       "      <td>https://www.shadertoy.com/media/shaders/XsSSRz...</td>\n",
       "      <td>shaders20k</td>\n",
       "      <td>CC-BY-NC-SA-3.0</td>\n",
       "      <td>[]</td>\n",
       "      <td>ok</td>\n",
       "      <td>0</td>\n",
       "      <td>0</td>\n",
       "    </tr>\n",
       "    <tr>\n",
       "      <th>565</th>\n",
       "      <td>Ms2XWw</td>\n",
       "      <td>Twist Scroller</td>\n",
       "      <td>ac3t1ne</td>\n",
       "      <td>Greetz!</td>\n",
       "      <td>[2d, retro, amiga, ac3t1ne, scroller]</td>\n",
       "      <td>14</td>\n",
       "      <td>966</td>\n",
       "      <td>Public</td>\n",
       "      <td>2014-10-10 18:41:28</td>\n",
       "      <td>2021-10-01</td>\n",
       "      <td>...</td>\n",
       "      <td>[]</td>\n",
       "      <td></td>\n",
       "      <td>[]</td>\n",
       "      <td>https://www.shadertoy.com/media/shaders/Ms2XWw...</td>\n",
       "      <td>shaders20k</td>\n",
       "      <td>CC-BY-NC-SA-3.0</td>\n",
       "      <td>[]</td>\n",
       "      <td>ok</td>\n",
       "      <td>0</td>\n",
       "      <td>0</td>\n",
       "    </tr>\n",
       "    <tr>\n",
       "      <th>613</th>\n",
       "      <td>ld2SW3</td>\n",
       "      <td>A Pattern Emerges</td>\n",
       "      <td>okro</td>\n",
       "      <td>Takes a few seconds.</td>\n",
       "      <td>[dots]</td>\n",
       "      <td>1</td>\n",
       "      <td>141</td>\n",
       "      <td>Public</td>\n",
       "      <td>2014-11-23 05:04:25</td>\n",
       "      <td>2021-10-01</td>\n",
       "      <td>...</td>\n",
       "      <td>[]</td>\n",
       "      <td></td>\n",
       "      <td>[]</td>\n",
       "      <td>https://www.shadertoy.com/media/shaders/ld2SW3...</td>\n",
       "      <td>shaders20k</td>\n",
       "      <td>CC-BY-NC-SA-3.0</td>\n",
       "      <td>[]</td>\n",
       "      <td>ok</td>\n",
       "      <td>0</td>\n",
       "      <td>0</td>\n",
       "    </tr>\n",
       "    <tr>\n",
       "      <th>...</th>\n",
       "      <td>...</td>\n",
       "      <td>...</td>\n",
       "      <td>...</td>\n",
       "      <td>...</td>\n",
       "      <td>...</td>\n",
       "      <td>...</td>\n",
       "      <td>...</td>\n",
       "      <td>...</td>\n",
       "      <td>...</td>\n",
       "      <td>...</td>\n",
       "      <td>...</td>\n",
       "      <td>...</td>\n",
       "      <td>...</td>\n",
       "      <td>...</td>\n",
       "      <td>...</td>\n",
       "      <td>...</td>\n",
       "      <td>...</td>\n",
       "      <td>...</td>\n",
       "      <td>...</td>\n",
       "      <td>...</td>\n",
       "      <td>...</td>\n",
       "    </tr>\n",
       "    <tr>\n",
       "      <th>19362</th>\n",
       "      <td>Nty3Ry</td>\n",
       "      <td>Plotting by dmc3105</td>\n",
       "      <td>dmc3105</td>\n",
       "      <td>my first shader</td>\n",
       "      <td>[math]</td>\n",
       "      <td>1</td>\n",
       "      <td>94</td>\n",
       "      <td>Public API</td>\n",
       "      <td>2021-11-26 15:06:50</td>\n",
       "      <td>2021-10-01</td>\n",
       "      <td>...</td>\n",
       "      <td>[]</td>\n",
       "      <td></td>\n",
       "      <td>[]</td>\n",
       "      <td>https://www.shadertoy.com/media/shaders/Nty3Ry...</td>\n",
       "      <td>shaders20k</td>\n",
       "      <td>CC-BY-NC-SA-3.0</td>\n",
       "      <td>[]</td>\n",
       "      <td>timeout</td>\n",
       "      <td>0</td>\n",
       "      <td>0</td>\n",
       "    </tr>\n",
       "    <tr>\n",
       "      <th>19422</th>\n",
       "      <td>std3zl</td>\n",
       "      <td>Lava Blob</td>\n",
       "      <td>Moustave</td>\n",
       "      <td>o</td>\n",
       "      <td>[yayyy]</td>\n",
       "      <td>2</td>\n",
       "      <td>25</td>\n",
       "      <td>Public</td>\n",
       "      <td>2021-11-10 18:04:19</td>\n",
       "      <td>2021-10-01</td>\n",
       "      <td>...</td>\n",
       "      <td>[]</td>\n",
       "      <td></td>\n",
       "      <td>[]</td>\n",
       "      <td>https://www.shadertoy.com/media/shaders/std3zl...</td>\n",
       "      <td>shaders20k</td>\n",
       "      <td>CC-BY-NC-SA-3.0</td>\n",
       "      <td>[]</td>\n",
       "      <td>error</td>\n",
       "      <td>0</td>\n",
       "      <td>0</td>\n",
       "    </tr>\n",
       "    <tr>\n",
       "      <th>19479</th>\n",
       "      <td>7t3SDM</td>\n",
       "      <td>Tetragrammaton</td>\n",
       "      <td>4eckme</td>\n",
       "      <td>https://ru.wikipedia.org/wiki/%D0%A2%D0%B5%D1%...</td>\n",
       "      <td>[tetragrammaton]</td>\n",
       "      <td>26</td>\n",
       "      <td>1891</td>\n",
       "      <td>Public</td>\n",
       "      <td>2021-12-11 07:59:44</td>\n",
       "      <td>2021-10-01</td>\n",
       "      <td>...</td>\n",
       "      <td>[]</td>\n",
       "      <td></td>\n",
       "      <td>[]</td>\n",
       "      <td>https://www.shadertoy.com/media/shaders/7t3SDM...</td>\n",
       "      <td>shaders20k</td>\n",
       "      <td>CC-BY-NC-SA-3.0</td>\n",
       "      <td>[]</td>\n",
       "      <td>timeout</td>\n",
       "      <td>0</td>\n",
       "      <td>0</td>\n",
       "    </tr>\n",
       "    <tr>\n",
       "      <th>19606</th>\n",
       "      <td>stKGDc</td>\n",
       "      <td>tiny voxels</td>\n",
       "      <td>flockaroo</td>\n",
       "      <td>...originally done in twigl.app (266 chars the...</td>\n",
       "      <td>[voxel, golfing, tinycode]</td>\n",
       "      <td>21</td>\n",
       "      <td>305</td>\n",
       "      <td>Public API</td>\n",
       "      <td>2021-12-02 21:22:22</td>\n",
       "      <td>2021-10-01</td>\n",
       "      <td>...</td>\n",
       "      <td>[]</td>\n",
       "      <td></td>\n",
       "      <td>[]</td>\n",
       "      <td>https://www.shadertoy.com/media/shaders/stKGDc...</td>\n",
       "      <td>shaders20k</td>\n",
       "      <td>cc-by-nc-sa-3.0</td>\n",
       "      <td>[]</td>\n",
       "      <td>timeout</td>\n",
       "      <td>0</td>\n",
       "      <td>0</td>\n",
       "    </tr>\n",
       "    <tr>\n",
       "      <th>19610</th>\n",
       "      <td>sttSz4</td>\n",
       "      <td>Chess Set in BW. 430 chars</td>\n",
       "      <td>Artleet</td>\n",
       "      <td>Chess set. The part of some inner jam, final v...</td>\n",
       "      <td>[raymarching, golf, golfing]</td>\n",
       "      <td>10</td>\n",
       "      <td>270</td>\n",
       "      <td>Public</td>\n",
       "      <td>2021-12-06 17:22:21</td>\n",
       "      <td>2021-10-01</td>\n",
       "      <td>...</td>\n",
       "      <td>[]</td>\n",
       "      <td></td>\n",
       "      <td>[]</td>\n",
       "      <td>https://www.shadertoy.com/media/shaders/sttSz4...</td>\n",
       "      <td>shaders20k</td>\n",
       "      <td>CC-BY-NC-SA-3.0</td>\n",
       "      <td>[]</td>\n",
       "      <td>error</td>\n",
       "      <td>0</td>\n",
       "      <td>0</td>\n",
       "    </tr>\n",
       "  </tbody>\n",
       "</table>\n",
       "<p>173 rows × 32 columns</p>\n",
       "</div>"
      ],
      "text/plain": [
       "           id                        name     author  \\\n",
       "25     4s23Wc                   pfhrector     pfhunk   \n",
       "62     Md23DV           GLSL 2D Tutorials        vug   \n",
       "424    XsSSRz        Tiny Ray Marcher 3.0       Aaro   \n",
       "565    Ms2XWw              Twist Scroller    ac3t1ne   \n",
       "613    ld2SW3           A Pattern Emerges       okro   \n",
       "...       ...                         ...        ...   \n",
       "19362  Nty3Ry         Plotting by dmc3105    dmc3105   \n",
       "19422  std3zl                   Lava Blob   Moustave   \n",
       "19479  7t3SDM              Tetragrammaton     4eckme   \n",
       "19606  stKGDc                 tiny voxels  flockaroo   \n",
       "19610  sttSz4  Chess Set in BW. 430 chars    Artleet   \n",
       "\n",
       "                                             description  \\\n",
       "25                  80s vector graphics inspired kaliset   \n",
       "62     28 tutorials on writing pixel shaders at Shade...   \n",
       "424    Oh its on. I'm sure comment section will be fu...   \n",
       "565                                              Greetz!   \n",
       "613                                 Takes a few seconds.   \n",
       "...                                                  ...   \n",
       "19362                                    my first shader   \n",
       "19422                                                  o   \n",
       "19479  https://ru.wikipedia.org/wiki/%D0%A2%D0%B5%D1%...   \n",
       "19606  ...originally done in twigl.app (266 chars the...   \n",
       "19610  Chess set. The part of some inner jam, final v...   \n",
       "\n",
       "                                            tags  likes  viewed   published  \\\n",
       "25                        [2d, fractal, kaliset]      7     791      Public   \n",
       "62                                    [tutorial]    581   48910      Public   \n",
       "424    [reflection, ray, shadow, marching, tiny]      4     267      Public   \n",
       "565        [2d, retro, amiga, ac3t1ne, scroller]     14     966      Public   \n",
       "613                                       [dots]      1     141      Public   \n",
       "...                                          ...    ...     ...         ...   \n",
       "19362                                     [math]      1      94  Public API   \n",
       "19422                                    [yayyy]      2      25      Public   \n",
       "19479                           [tetragrammaton]     26    1891      Public   \n",
       "19606                 [voxel, golfing, tinycode]     21     305  Public API   \n",
       "19610               [raymarching, golf, golfing]     10     270      Public   \n",
       "\n",
       "                     date time_retrieved  ... buffer_d_inputs cube_a_code  \\\n",
       "25    2014-03-11 02:44:55     2021-10-01  ...              []               \n",
       "62    2014-03-08 20:58:49     2021-10-01  ...              []               \n",
       "424   2014-08-15 14:12:07     2021-10-01  ...              []               \n",
       "565   2014-10-10 18:41:28     2021-10-01  ...              []               \n",
       "613   2014-11-23 05:04:25     2021-10-01  ...              []               \n",
       "...                   ...            ...  ...             ...         ...   \n",
       "19362 2021-11-26 15:06:50     2021-10-01  ...              []               \n",
       "19422 2021-11-10 18:04:19     2021-10-01  ...              []               \n",
       "19479 2021-12-11 07:59:44     2021-10-01  ...              []               \n",
       "19606 2021-12-02 21:22:22     2021-10-01  ...              []               \n",
       "19610 2021-12-06 17:22:21     2021-10-01  ...              []               \n",
       "\n",
       "      cube_a_inputs                                          thumbnail  \\\n",
       "25               []  https://www.shadertoy.com/media/shaders/4s23Wc...   \n",
       "62               []  https://www.shadertoy.com/media/shaders/Md23DV...   \n",
       "424              []  https://www.shadertoy.com/media/shaders/XsSSRz...   \n",
       "565              []  https://www.shadertoy.com/media/shaders/Ms2XWw...   \n",
       "613              []  https://www.shadertoy.com/media/shaders/ld2SW3...   \n",
       "...             ...                                                ...   \n",
       "19362            []  https://www.shadertoy.com/media/shaders/Nty3Ry...   \n",
       "19422            []  https://www.shadertoy.com/media/shaders/std3zl...   \n",
       "19479            []  https://www.shadertoy.com/media/shaders/7t3SDM...   \n",
       "19606            []  https://www.shadertoy.com/media/shaders/stKGDc...   \n",
       "19610            []  https://www.shadertoy.com/media/shaders/sttSz4...   \n",
       "\n",
       "           access          license functions     test num_functions num_inputs  \n",
       "25     shaders20k  CC-BY-NC-SA-3.0        []       ok             0          0  \n",
       "62     shaders20k  CC-BY-NC-SA-3.0        []    error             0          3  \n",
       "424    shaders20k  CC-BY-NC-SA-3.0        []       ok             0          0  \n",
       "565    shaders20k  CC-BY-NC-SA-3.0        []       ok             0          0  \n",
       "613    shaders20k  CC-BY-NC-SA-3.0        []       ok             0          0  \n",
       "...           ...              ...       ...      ...           ...        ...  \n",
       "19362  shaders20k  CC-BY-NC-SA-3.0        []  timeout             0          0  \n",
       "19422  shaders20k  CC-BY-NC-SA-3.0        []    error             0          0  \n",
       "19479  shaders20k  CC-BY-NC-SA-3.0        []  timeout             0          0  \n",
       "19606  shaders20k  cc-by-nc-sa-3.0        []  timeout             0          0  \n",
       "19610  shaders20k  CC-BY-NC-SA-3.0        []    error             0          0  \n",
       "\n",
       "[173 rows x 32 columns]"
      ]
     },
     "execution_count": 13,
     "metadata": {},
     "output_type": "execute_result"
    }
   ],
   "source": [
    "# these cases might be parsing failures? seem to always use macros inside functions or something.\n",
    "# some use no functions but Main(){...} which seems to work in glsl but not viable for our dataset\n",
    "from annotate import PARSER\n",
    "print(PARSER.parse(bytes(df[\"image_code\"][19616],encoding=\"utf-8\")).root_node.has_error)\n",
    "df.loc[df[\"num_functions\"] == 0]"
   ]
  },
  {
   "cell_type": "code",
   "execution_count": 14,
   "metadata": {},
   "outputs": [
    {
     "data": {
      "application/vnd.jupyter.widget-view+json": {
       "model_id": "bd49773bfd07466f8ebd47fff3e03ceb",
       "version_major": 2,
       "version_minor": 0
      },
      "text/plain": [
       "Map:   0%|          | 0/3425 [00:00<?, ? examples/s]"
      ]
     },
     "metadata": {},
     "output_type": "display_data"
    },
    {
     "data": {
      "text/plain": [
       "Dataset({\n",
       "    features: ['id', 'comment', 'header', 'docstring', 'body', 'full_code', 'func_bytes'],\n",
       "    num_rows: 16600\n",
       "})"
      ]
     },
     "execution_count": 14,
     "metadata": {},
     "output_type": "execute_result"
    }
   ],
   "source": [
    "# TODO: refactor into a generator because I dislike the current shape. but figure out how batching and threadding works then?\n",
    "# part of the filter.py or prepare.py script that will be done soon.\n",
    "def split_functions(batch):\n",
    "    # per function fields\n",
    "    comments, headers, docstrings, bodies = [],[],[],[]\n",
    "    # per document fields\n",
    "    full_code, funcs, ids = [],[],[]\n",
    "    for code, func_bytes, shader_id in zip(batch[\"image_code\"], batch[\"functions\"], batch[\"id\"]):\n",
    "        row_code = bytes(code,encoding=\"utf-8\")\n",
    "        for start_comment, start_header, end_header, end_docstring, end_function in func_bytes:\n",
    "            comments.append(row_code[start_comment:start_header].decode(encoding=\"utf-8\")),\n",
    "            headers.append(row_code[start_header:end_header].decode(encoding=\"utf-8\")),\n",
    "            docstrings.append(row_code[end_header:end_docstring].decode(encoding=\"utf-8\")),\n",
    "            bodies.append(row_code[end_docstring:end_function].decode(encoding=\"utf-8\")),\n",
    "            full_code.append(row_code.decode(encoding=\"utf-8\")),\n",
    "            funcs.append((start_comment, start_header, end_header, end_docstring, end_function))\n",
    "            ids.append(shader_id)\n",
    "    return {\n",
    "            \"comment\": comments,\n",
    "            \"header\": headers,\n",
    "            \"docstring\": docstrings,\n",
    "            \"body\": bodies,\n",
    "            \"full_code\": full_code,\n",
    "            \"func_bytes\": funcs,\n",
    "            \"id\": ids,\n",
    "            }\n",
    "\n",
    "\n",
    "# func_ds = ds.map(split_functions, batched=True, remove_columns=ds[\"train\"].column_names) # full dataset to functions\n",
    "func_ds = filtered_ds.map(split_functions, batched=True, remove_columns=filtered_ds.column_names) # only permissive shaders (the whole 20k set is single pass without common...)\n",
    "if \"train\" in func_ds:\n",
    "    func_ds = func_ds[\"train\"]\n",
    "func_ds"
   ]
  },
  {
   "cell_type": "code",
   "execution_count": 15,
   "metadata": {},
   "outputs": [
    {
     "data": {
      "text/html": [
       "<div>\n",
       "<style scoped>\n",
       "    .dataframe tbody tr th:only-of-type {\n",
       "        vertical-align: middle;\n",
       "    }\n",
       "\n",
       "    .dataframe tbody tr th {\n",
       "        vertical-align: top;\n",
       "    }\n",
       "\n",
       "    .dataframe thead th {\n",
       "        text-align: right;\n",
       "    }\n",
       "</style>\n",
       "<table border=\"1\" class=\"dataframe\">\n",
       "  <thead>\n",
       "    <tr style=\"text-align: right;\">\n",
       "      <th></th>\n",
       "      <th>id</th>\n",
       "      <th>comment</th>\n",
       "      <th>header</th>\n",
       "      <th>docstring</th>\n",
       "      <th>body</th>\n",
       "      <th>full_code</th>\n",
       "      <th>func_bytes</th>\n",
       "    </tr>\n",
       "  </thead>\n",
       "  <tbody>\n",
       "    <tr>\n",
       "      <th>0</th>\n",
       "      <td>XsS3DV</td>\n",
       "      <td></td>\n",
       "      <td>vec2 center ( vec2 border , vec2 offset , vec2...</td>\n",
       "      <td></td>\n",
       "      <td>\\n\\tvec2 c;\\n\\tif ( vel.x == 0.0 &amp;&amp; vel.y == 0...</td>\n",
       "      <td>\\nfloat k = 20.0;\\nfloat field = 0.0;\\nvec2 co...</td>\n",
       "      <td>[49, 49, 103, 103, 506]</td>\n",
       "    </tr>\n",
       "    <tr>\n",
       "      <th>1</th>\n",
       "      <td>XsS3DV</td>\n",
       "      <td></td>\n",
       "      <td>void circle ( float r , vec3 col , vec2 offset...</td>\n",
       "      <td></td>\n",
       "      <td>\\n\\tvec2 pos = coord.xy / iResolution.y;\\n\\tfl...</td>\n",
       "      <td>\\nfloat k = 20.0;\\nfloat field = 0.0;\\nvec2 co...</td>\n",
       "      <td>[508, 508, 569, 569, 797]</td>\n",
       "    </tr>\n",
       "    <tr>\n",
       "      <th>2</th>\n",
       "      <td>XsS3DV</td>\n",
       "      <td></td>\n",
       "      <td>vec3 band ( float shade, float low, float high...</td>\n",
       "      <td></td>\n",
       "      <td>\\n\\n\\tif ( (shade &gt;= low) &amp;&amp; (shade &lt;= high) )...</td>\n",
       "      <td>\\nfloat k = 20.0;\\nfloat field = 0.0;\\nvec2 co...</td>\n",
       "      <td>[800, 800, 872, 872, 1067]</td>\n",
       "    </tr>\n",
       "    <tr>\n",
       "      <th>3</th>\n",
       "      <td>XsS3DV</td>\n",
       "      <td></td>\n",
       "      <td>vec3 gradient ( float shade ) {</td>\n",
       "      <td></td>\n",
       "      <td>\\n\\tvec3 colour = vec3( (sin(iTime/2.0)*0.25)+...</td>\n",
       "      <td>\\nfloat k = 20.0;\\nfloat field = 0.0;\\nvec2 co...</td>\n",
       "      <td>[1069, 1069, 1100, 1100, 1876]</td>\n",
       "    </tr>\n",
       "    <tr>\n",
       "      <th>4</th>\n",
       "      <td>XsS3DV</td>\n",
       "      <td></td>\n",
       "      <td>void mainImage( out vec4 fragColor, in vec2 fr...</td>\n",
       "      <td></td>\n",
       "      <td>\\n\\n    coord = fragCoord;\\n    \\n\\tcircle ( ....</td>\n",
       "      <td>\\nfloat k = 20.0;\\nfloat field = 0.0;\\nvec2 co...</td>\n",
       "      <td>[1878, 1878, 1935, 1935, 2619]</td>\n",
       "    </tr>\n",
       "  </tbody>\n",
       "</table>\n",
       "</div>"
      ],
      "text/plain": [
       "       id comment                                             header  \\\n",
       "0  XsS3DV          vec2 center ( vec2 border , vec2 offset , vec2...   \n",
       "1  XsS3DV          void circle ( float r , vec3 col , vec2 offset...   \n",
       "2  XsS3DV          vec3 band ( float shade, float low, float high...   \n",
       "3  XsS3DV                            vec3 gradient ( float shade ) {   \n",
       "4  XsS3DV          void mainImage( out vec4 fragColor, in vec2 fr...   \n",
       "\n",
       "  docstring                                               body  \\\n",
       "0            \\n\\tvec2 c;\\n\\tif ( vel.x == 0.0 && vel.y == 0...   \n",
       "1            \\n\\tvec2 pos = coord.xy / iResolution.y;\\n\\tfl...   \n",
       "2            \\n\\n\\tif ( (shade >= low) && (shade <= high) )...   \n",
       "3            \\n\\tvec3 colour = vec3( (sin(iTime/2.0)*0.25)+...   \n",
       "4            \\n\\n    coord = fragCoord;\\n    \\n\\tcircle ( ....   \n",
       "\n",
       "                                           full_code  \\\n",
       "0  \\nfloat k = 20.0;\\nfloat field = 0.0;\\nvec2 co...   \n",
       "1  \\nfloat k = 20.0;\\nfloat field = 0.0;\\nvec2 co...   \n",
       "2  \\nfloat k = 20.0;\\nfloat field = 0.0;\\nvec2 co...   \n",
       "3  \\nfloat k = 20.0;\\nfloat field = 0.0;\\nvec2 co...   \n",
       "4  \\nfloat k = 20.0;\\nfloat field = 0.0;\\nvec2 co...   \n",
       "\n",
       "                       func_bytes  \n",
       "0         [49, 49, 103, 103, 506]  \n",
       "1       [508, 508, 569, 569, 797]  \n",
       "2      [800, 800, 872, 872, 1067]  \n",
       "3  [1069, 1069, 1100, 1100, 1876]  \n",
       "4  [1878, 1878, 1935, 1935, 2619]  "
      ]
     },
     "execution_count": 15,
     "metadata": {},
     "output_type": "execute_result"
    }
   ],
   "source": [
    "func_df = func_ds.to_pandas()\n",
    "func_df.head() "
   ]
  },
  {
   "cell_type": "code",
   "execution_count": 16,
   "metadata": {},
   "outputs": [
    {
     "name": "stdout",
     "output_type": "stream",
     "text": [
      "functions with context = 3822\n"
     ]
    },
    {
     "data": {
      "text/html": [
       "<div>\n",
       "<style scoped>\n",
       "    .dataframe tbody tr th:only-of-type {\n",
       "        vertical-align: middle;\n",
       "    }\n",
       "\n",
       "    .dataframe tbody tr th {\n",
       "        vertical-align: top;\n",
       "    }\n",
       "\n",
       "    .dataframe thead th {\n",
       "        text-align: right;\n",
       "    }\n",
       "</style>\n",
       "<table border=\"1\" class=\"dataframe\">\n",
       "  <thead>\n",
       "    <tr style=\"text-align: right;\">\n",
       "      <th>has_docstring</th>\n",
       "      <th>False</th>\n",
       "      <th>True</th>\n",
       "      <th>All</th>\n",
       "    </tr>\n",
       "    <tr>\n",
       "      <th>has_comment</th>\n",
       "      <th></th>\n",
       "      <th></th>\n",
       "      <th></th>\n",
       "    </tr>\n",
       "  </thead>\n",
       "  <tbody>\n",
       "    <tr>\n",
       "      <th>False</th>\n",
       "      <td>12778</td>\n",
       "      <td>1152</td>\n",
       "      <td>13930</td>\n",
       "    </tr>\n",
       "    <tr>\n",
       "      <th>True</th>\n",
       "      <td>2341</td>\n",
       "      <td>329</td>\n",
       "      <td>2670</td>\n",
       "    </tr>\n",
       "    <tr>\n",
       "      <th>All</th>\n",
       "      <td>15119</td>\n",
       "      <td>1481</td>\n",
       "      <td>16600</td>\n",
       "    </tr>\n",
       "  </tbody>\n",
       "</table>\n",
       "</div>"
      ],
      "text/plain": [
       "has_docstring  False  True    All\n",
       "has_comment                      \n",
       "False          12778  1152  13930\n",
       "True            2341   329   2670\n",
       "All            15119  1481  16600"
      ]
     },
     "execution_count": 16,
     "metadata": {},
     "output_type": "execute_result"
    }
   ],
   "source": [
    "func_df[\"has_comment\"] = func_df[\"comment\"] != \"\"\n",
    "func_df[\"has_docstring\"] = func_df[\"docstring\"] != \"\"\n",
    "func_df[\"model_ctx\"] = func_df[\"comment\"] + func_df[\"header\"] + func_df[\"comment\"]\n",
    "# how many functions are there, and what is the share of comments, \n",
    "\n",
    "xtab = pd.crosstab(func_df[\"has_comment\"], func_df[\"has_docstring\"], margins=True)\n",
    "print(f\"functions with context = {xtab.iloc[-1,-1] - xtab.iloc[0,0]}\")\n",
    "xtab\n",
    "\n",
    "# for the permissive subset of shaders 21k the number goes down to like 253 for both... and 150 for valid shaders only."
   ]
  },
  {
   "cell_type": "code",
   "execution_count": 17,
   "metadata": {},
   "outputs": [
    {
     "name": "stdout",
     "output_type": "stream",
     "text": [
      "1941\n"
     ]
    },
    {
     "data": {
      "text/plain": [
       "comment\n",
       "                                                                                                                                                                                                                                                                                                                                                                                                                                                                                                                                13930\n",
       "//----------------------------------------------------------------------------------------\\n//  3 out, 1 in...\\n                                                                                                                                                                                                                                                                                                                                                                                                                   22\n",
       "/**\\n * Return the normalized direction to march in from the eye point for a single pixel.\\n * \\n * fieldOfView: vertical field of view in degrees\\n * size: resolution of the output image\\n * fragCoord: the x,y coordinate of the pixel in the output image\\n */\\n                                                                                                                                                                                                                                                              21\n",
       "/**\\n * Return the shortest distance from the eyepoint to the scene surface along\\n * the marching direction. If no part of the surface is found between start and end,\\n * return end.\\n * \\n * eye: the eye point, acting as the origin of the ray\\n * marchingDirection: the normalized direction to march in\\n * start: the starting distance away from the eye\\n * end: the max distance away from the ey to march before giving up\\n */\\n                                                                                    21\n",
       "/**\\n * Lighting contribution of a single point light source via Phong illumination.\\n * \\n * The vec3 returned is the RGB color of the light's contribution.\\n *\\n * k_a: Ambient color\\n * k_d: Diffuse color\\n * k_s: Specular color\\n * alpha: Shininess coefficient\\n * p: position of point being lit\\n * eye: the position of the camera\\n * lightPos: the position of the light\\n * lightIntensity: color/intensity of the light\\n *\\n * See https://en.wikipedia.org/wiki/Phong_reflection_model#Description\\n */\\n       18\n",
       "/**\\n * Using the gradient of the SDF, estimate the normal on the surface at point p.\\n */\\n                                                                                                                                                                                                                                                                                                                                                                                                                                       18\n",
       "/**\\n * Lighting via Phong illumination.\\n * \\n * The vec3 returned is the RGB color of that point after lighting is applied.\\n * k_a: Ambient color\\n * k_d: Diffuse color\\n * k_s: Specular color\\n * alpha: Shininess coefficient\\n * p: position of point being lit\\n * eye: the position of the camera\\n *\\n * See https://en.wikipedia.org/wiki/Phong_reflection_model#Description\\n */\\n                                                                                                                                    18\n",
       "/**\\n * Return a transform matrix that will transform a ray from view space\\n * to world coordinates, given the eye point, the camera target, and an up vector.\\n *\\n * This assumes that the center of the camera is aligned with the negative z axis in\\n * view space when calculating the ray marching direction. See rayDirection.\\n */\\n                                                                                                                                                                                     17\n",
       "// http://iquilezles.org/www/articles/normalsSDF/normalsSDF.htm\\n                                                                                                                                                                                                                                                                                                                                                                                                                                                                  13\n",
       "// https://www.iquilezles.org/www/articles/distfunctions2d/distfunctions2d.htm\\n                                                                                                                                                                                                                                                                                                                                                                                                                                                   10\n",
       "Name: count, dtype: int64"
      ]
     },
     "execution_count": 17,
     "metadata": {},
     "output_type": "execute_result"
    }
   ],
   "source": [
    "# FINDING: only about half the comments are unique.\n",
    "# some frequent comment looks like a template maybe? should investigate\n",
    "print(func_df[\"comment\"].nunique())\n",
    "func_df[\"comment\"].value_counts(sort=True, ascending=False).head(10)"
   ]
  },
  {
   "cell_type": "code",
   "execution_count": 18,
   "metadata": {},
   "outputs": [
    {
     "name": "stdout",
     "output_type": "stream",
     "text": [
      "9110\n"
     ]
    },
    {
     "data": {
      "text/plain": [
       "header\n",
       "void mainImage( out vec4 fragColor, in vec2 fragCoord )\\n{    1979\n",
       "void mainImage( out vec4 fragColor, in vec2 fragCoord ) {      175\n",
       "void mainImage(out vec4 fragColor, in vec2 fragCoord) {        136\n",
       "void mainImage(out vec4 fragColor, in vec2 fragCoord)\\n{       127\n",
       "void mainImage( out vec4 fragColor, in vec2 fragCoord ){       100\n",
       "float sdBox( vec3 p, vec3 b )\\n{                                60\n",
       "vec3 calcNormal( in vec3 pos )\\n{                               47\n",
       "void mainImage( out vec4 O, vec2 U )\\n{                         45\n",
       "void mainImage( out vec4 O, vec2 u )\\n{                         41\n",
       "float map(vec3 p)\\n{                                            37\n",
       "Name: count, dtype: int64"
      ]
     },
     "execution_count": 18,
     "metadata": {},
     "output_type": "execute_result"
    }
   ],
   "source": [
    "# FINDING = only about a third of function-headers are unique?\n",
    "# it's expect to have one mainImage function per renderpass... but they are just whitesapce variable here - maybe we skip them in general\n",
    "print(func_df[\"header\"].nunique())\n",
    "func_df[\"header\"].value_counts(sort=True, ascending=False).head(10)"
   ]
  },
  {
   "cell_type": "code",
   "execution_count": 19,
   "metadata": {},
   "outputs": [
    {
     "data": {
      "text/plain": [
       "3224"
      ]
     },
     "execution_count": 19,
     "metadata": {},
     "output_type": "execute_result"
    }
   ],
   "source": [
    "# looks like some are not exact or might even use the common pass to bypass this\n",
    "func_df[\"header\"].str.startswith(\"void mainImage\").sum()"
   ]
  },
  {
   "cell_type": "code",
   "execution_count": 20,
   "metadata": {},
   "outputs": [
    {
     "name": "stdout",
     "output_type": "stream",
     "text": [
      "947\n"
     ]
    },
    {
     "data": {
      "text/plain": [
       "docstring\n",
       "                                                             15119\n",
       "\\n    // Normalized pixel coordinates (from 0 to 1)            268\n",
       "\\n    // Based on gluLookAt man page                            19\n",
       "\\n    //from David Hoskin's \"Hash without sine\"                 12\n",
       "\\n\\n    // Precompute values for skewed triangular grid         10\n",
       "\\n    // normalized pixel coordinates                            9\n",
       "\\n    \\n    //numerator /= (abs(denominator)+1.0);               8\n",
       "\\n    // filter kernel                                           8\n",
       " // in [0,1]                                                     6\n",
       "\\n    \\n    // Normalized pixel coordinates (from 0 to 1)        6\n",
       "Name: count, dtype: int64"
      ]
     },
     "execution_count": 20,
     "metadata": {},
     "output_type": "execute_result"
    }
   ],
   "source": [
    "# half the docstrings aren't unique?\n",
    "# most common one is the shadertoy.com/new default for the main function\n",
    "print(func_df[\"docstring\"].nunique())\n",
    "func_df[\"docstring\"].value_counts(sort=True, ascending=False).head(10)"
   ]
  },
  {
   "cell_type": "code",
   "execution_count": 21,
   "metadata": {},
   "outputs": [
    {
     "data": {
      "text/plain": [
       "155"
      ]
     },
     "execution_count": 21,
     "metadata": {},
     "output_type": "execute_result"
    }
   ],
   "source": [
    "# indicator where the docstring is just something commented out - not helpful instructions.\n",
    "func_df[\"docstring\"].str.endswith(\";\").sum()"
   ]
  },
  {
   "cell_type": "code",
   "execution_count": 22,
   "metadata": {},
   "outputs": [
    {
     "name": "stdout",
     "output_type": "stream",
     "text": [
      "352\n",
      "365\n"
     ]
    }
   ],
   "source": [
    "# the comment is just a link to some website/reference? although sometimes it's a bunch of natural langauge too?\n",
    "print(func_df[\"comment\"].str.contains(\"https://\").sum())\n",
    "print(func_df[\"comment\"].str.contains(\"www.\").sum())"
   ]
  },
  {
   "cell_type": "code",
   "execution_count": 23,
   "metadata": {},
   "outputs": [
    {
     "name": "stdout",
     "output_type": "stream",
     "text": [
      "9652\n"
     ]
    },
    {
     "data": {
      "text/plain": [
       "model_ctx\n",
       "void mainImage( out vec4 fragColor, in vec2 fragCoord )\\n{    1932\n",
       "void mainImage( out vec4 fragColor, in vec2 fragCoord ) {      170\n",
       "void mainImage(out vec4 fragColor, in vec2 fragCoord) {        132\n",
       "void mainImage(out vec4 fragColor, in vec2 fragCoord)\\n{       126\n",
       "void mainImage( out vec4 fragColor, in vec2 fragCoord ){        98\n",
       "float sdBox( vec3 p, vec3 b )\\n{                                57\n",
       "void mainImage( out vec4 O, vec2 U )\\n{                         44\n",
       "void mainImage( out vec4 O, vec2 u )\\n{                         41\n",
       "vec3 calcNormal( in vec3 pos )\\n{                               35\n",
       "float map(vec3 p)\\n{                                            35\n",
       "Name: count, dtype: int64"
      ]
     },
     "execution_count": 23,
     "metadata": {},
     "output_type": "execute_result"
    }
   ],
   "source": [
    "# proposed model_ctx takes all of them in normal order (doens't filter out the naked functions)\n",
    "print(func_df[\"model_ctx\"].nunique())\n",
    "func_df[\"model_ctx\"].value_counts(sort=True, ascending=False).head(10)"
   ]
  },
  {
   "cell_type": "code",
   "execution_count": 24,
   "metadata": {},
   "outputs": [
    {
     "data": {
      "text/plain": [
       "header\n",
       "mat3 viewMatrix(vec3 eye, vec3 center, vec3 up) {                                  17\n",
       "vec3 hash31(float p)\\n{                                                            16\n",
       "void mainImage( out vec4 fragColor, in vec2 fragCoord )\\n{                         15\n",
       "vec2 hash22(vec2 p) {                                                               8\n",
       "float noise3D(vec3 p){                                                              5\n",
       "float calcSoftshadow( in vec3 ro, in vec3 rd, in float mint, in float tmax )\\n{     4\n",
       "float checkersGradBox( in vec2 p )\\n{                                               4\n",
       "float F ( in vec2 coords )\\n{                                                       3\n",
       "void mainImage(out vec4 fragColor, in vec2 fragCoord){                              3\n",
       "float snoise(vec2 v) {                                                              3\n",
       "Name: count, dtype: int64"
      ]
     },
     "execution_count": 24,
     "metadata": {},
     "output_type": "execute_result"
    }
   ],
   "source": [
    "# figure out if a function is needed, by removing if from body and check if the code still runs (you should have filtered for only working shaders before)\n",
    "\n",
    "# step 1. subset the dataframe to only those rows that have comment and docstring\n",
    "both_df = func_df[func_df[\"has_comment\"] & func_df[\"has_docstring\"]]\n",
    "# 253 functions form 168 shaders, only 179 of which are unique combinations...\n",
    "both_df[\"header\"].value_counts(sort=True, ascending=False).head(10)"
   ]
  },
  {
   "cell_type": "code",
   "execution_count": 25,
   "metadata": {},
   "outputs": [
    {
     "data": {
      "text/plain": [
       "329"
      ]
     },
     "execution_count": 25,
     "metadata": {},
     "output_type": "execute_result"
    }
   ],
   "source": [
    "len(both_df)"
   ]
  },
  {
   "cell_type": "code",
   "execution_count": 26,
   "metadata": {},
   "outputs": [
    {
     "name": "stderr",
     "output_type": "stream",
     "text": [
      "C:\\Users\\Jan\\AppData\\Local\\Temp\\ipykernel_7308\\4005513836.py:13: SettingWithCopyWarning: \n",
      "A value is trying to be set on a copy of a slice from a DataFrame.\n",
      "Try using .loc[row_indexer,col_indexer] = value instead\n",
      "\n",
      "See the caveats in the documentation: https://pandas.pydata.org/pandas-docs/stable/user_guide/indexing.html#returning-a-view-versus-a-copy\n",
      "  both_df[\"needed\"] = both_df.apply(check_function_needed, axis=1)\n"
     ]
    },
    {
     "data": {
      "text/plain": [
       "needed\n",
       "True     318\n",
       "False     11\n",
       "Name: count, dtype: int64"
      ]
     },
     "execution_count": 26,
     "metadata": {},
     "output_type": "execute_result"
    }
   ],
   "source": [
    "# this step can timeout/hang -.-\n",
    "# step 2. if code runs without the function.\n",
    "from annotate import run_shader\n",
    "\n",
    "def check_function_needed(row):\n",
    "    code = row[\"full_code\"]\n",
    "    start_comment, start_header, end_header, end_docstring, end_function = row[\"func_bytes\"]\n",
    "    test_code = code[:start_comment] + code[end_function:] #TODO: this needs to be done in bytes -.-\n",
    "    status = run_shader(test_code)\n",
    "    return status == \"error\"\n",
    "\n",
    "\n",
    "both_df[\"needed\"] = both_df.apply(check_function_needed, axis=1)\n",
    "both_df[\"needed\"].value_counts()"
   ]
  },
  {
   "cell_type": "code",
   "execution_count": 28,
   "metadata": {},
   "outputs": [
    {
     "name": "stdout",
     "output_type": "stream",
     "text": [
      "329\n"
     ]
    },
    {
     "data": {
      "text/plain": [
       "318"
      ]
     },
     "execution_count": 28,
     "metadata": {},
     "output_type": "execute_result"
    }
   ],
   "source": [
    "# down select the only the needed and working examples.\n",
    "print(len(both_df))\n",
    "both_df = both_df.loc[both_df[\"needed\"]]\n",
    "len(both_df)"
   ]
  },
  {
   "cell_type": "code",
   "execution_count": 29,
   "metadata": {},
   "outputs": [
    {
     "name": "stdout",
     "output_type": "stream",
     "text": [
      "(318, 15)\n",
      "257\n"
     ]
    },
    {
     "name": "stderr",
     "output_type": "stream",
     "text": [
      "C:\\Users\\Jan\\AppData\\Local\\Temp\\ipykernel_7308\\1586844905.py:3: SettingWithCopyWarning: \n",
      "A value is trying to be set on a copy of a slice from a DataFrame.\n",
      "Try using .loc[row_indexer,col_indexer] = value instead\n",
      "\n",
      "See the caveats in the documentation: https://pandas.pydata.org/pandas-docs/stable/user_guide/indexing.html#returning-a-view-versus-a-copy\n",
      "  both_df.loc[:,\"input_both\"] = both_df[\"comment\"] + both_df[\"header\"] + both_df[\"docstring\"]\n",
      "C:\\Users\\Jan\\AppData\\Local\\Temp\\ipykernel_7308\\1586844905.py:4: SettingWithCopyWarning: \n",
      "A value is trying to be set on a copy of a slice from a DataFrame.\n",
      "Try using .loc[row_indexer,col_indexer] = value instead\n",
      "\n",
      "See the caveats in the documentation: https://pandas.pydata.org/pandas-docs/stable/user_guide/indexing.html#returning-a-view-versus-a-copy\n",
      "  both_df.loc[:,\"input_comment\"] = both_df[\"comment\"] + both_df[\"header\"]\n",
      "C:\\Users\\Jan\\AppData\\Local\\Temp\\ipykernel_7308\\1586844905.py:5: SettingWithCopyWarning: \n",
      "A value is trying to be set on a copy of a slice from a DataFrame.\n",
      "Try using .loc[row_indexer,col_indexer] = value instead\n",
      "\n",
      "See the caveats in the documentation: https://pandas.pydata.org/pandas-docs/stable/user_guide/indexing.html#returning-a-view-versus-a-copy\n",
      "  both_df.loc[:,\"input_docstring\"] = both_df[\"header\"] + both_df[\"docstring\"]\n",
      "C:\\Users\\Jan\\AppData\\Local\\Temp\\ipykernel_7308\\1586844905.py:6: SettingWithCopyWarning: \n",
      "A value is trying to be set on a copy of a slice from a DataFrame.\n",
      "Try using .loc[row_indexer,col_indexer] = value instead\n",
      "\n",
      "See the caveats in the documentation: https://pandas.pydata.org/pandas-docs/stable/user_guide/indexing.html#returning-a-view-versus-a-copy\n",
      "  both_df.loc[:,\"input_none\"] = both_df[\"header\"]\n",
      "C:\\Users\\Jan\\AppData\\Local\\Temp\\ipykernel_7308\\1586844905.py:10: SettingWithCopyWarning: \n",
      "A value is trying to be set on a copy of a slice from a DataFrame\n",
      "\n",
      "See the caveats in the documentation: https://pandas.pydata.org/pandas-docs/stable/user_guide/indexing.html#returning-a-view-versus-a-copy\n",
      "  both_df.drop_duplicates(\"input_both\", inplace=True)\n"
     ]
    },
    {
     "data": {
      "text/plain": [
       "Dataset({\n",
       "    features: ['id', 'comment', 'header', 'docstring', 'body', 'full_code', 'func_bytes', 'has_comment', 'has_docstring', 'model_ctx', 'needed', 'input_both', 'input_comment', 'input_docstring', 'input_none', '__index_level_0__'],\n",
       "    num_rows: 257\n",
       "})"
      ]
     },
     "execution_count": 29,
     "metadata": {},
     "output_type": "execute_result"
    }
   ],
   "source": [
    "from datasets import Dataset\n",
    "\n",
    "both_df.loc[:,\"input_both\"] = both_df[\"comment\"] + both_df[\"header\"] + both_df[\"docstring\"]\n",
    "both_df.loc[:,\"input_comment\"] = both_df[\"comment\"] + both_df[\"header\"]\n",
    "both_df.loc[:,\"input_docstring\"] = both_df[\"header\"] + both_df[\"docstring\"]\n",
    "both_df.loc[:,\"input_none\"] = both_df[\"header\"]\n",
    "print(both_df.shape)\n",
    "print(both_df[\"input_both\"].nunique())\n",
    "# remove the duplicates\n",
    "both_df.drop_duplicates(\"input_both\", inplace=True)\n",
    "experiment_ds = Dataset.from_pandas(both_df)\n",
    "experiment_ds"
   ]
  },
  {
   "cell_type": "code",
   "execution_count": 30,
   "metadata": {},
   "outputs": [
    {
     "data": {
      "application/vnd.jupyter.widget-view+json": {
       "model_id": "f7743f74e5be49e68bb0c09913673e95",
       "version_major": 2,
       "version_minor": 0
      },
      "text/plain": [
       "Uploading the dataset shards:   0%|          | 0/1 [00:00<?, ?it/s]"
      ]
     },
     "metadata": {},
     "output_type": "display_data"
    },
    {
     "data": {
      "application/vnd.jupyter.widget-view+json": {
       "model_id": "500e944d19334c75ae6b2a3ee7e92f7c",
       "version_major": 2,
       "version_minor": 0
      },
      "text/plain": [
       "Creating parquet from Arrow format:   0%|          | 0/1 [00:00<?, ?ba/s]"
      ]
     },
     "metadata": {},
     "output_type": "display_data"
    },
    {
     "data": {
      "application/vnd.jupyter.widget-view+json": {
       "model_id": "e1a9eae2f2c44befbf2461f57768234e",
       "version_major": 2,
       "version_minor": 0
      },
      "text/plain": [
       "README.md:   0%|          | 0.00/1.15k [00:00<?, ?B/s]"
      ]
     },
     "metadata": {},
     "output_type": "display_data"
    },
    {
     "data": {
      "text/plain": [
       "CommitInfo(commit_url='https://huggingface.co/datasets/Vipitis/Shadereval-experiments-dev/commit/d7775c097cec4a46812a3b35e1fff09a25bf8ecb', commit_message='v0.2 filtered down to 257 examples, ensures working and Public+API', commit_description='', oid='d7775c097cec4a46812a3b35e1fff09a25bf8ecb', pr_url=None, pr_revision=None, pr_num=None)"
      ]
     },
     "execution_count": 30,
     "metadata": {},
     "output_type": "execute_result"
    }
   ],
   "source": [
    "# this pushes the dataset to the hub, uncomment with care!\n",
    "# experiment_ds.push_to_hub(\"Vipitis/Shadereval-experiments-dev\", private=False, commit_message=\"v0.2 filtered down to 257 examples, ensures working and Public+API\")"
   ]
  }
 ],
 "metadata": {
  "kernelspec": {
   "display_name": "Python 3",
   "language": "python",
   "name": "python3"
  },
  "language_info": {
   "codemirror_mode": {
    "name": "ipython",
    "version": 3
   },
   "file_extension": ".py",
   "mimetype": "text/x-python",
   "name": "python",
   "nbconvert_exporter": "python",
   "pygments_lexer": "ipython3",
   "version": "3.9.4"
  }
 },
 "nbformat": 4,
 "nbformat_minor": 2
}
