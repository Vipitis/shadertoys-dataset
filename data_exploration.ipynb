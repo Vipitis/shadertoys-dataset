{
 "cells": [
  {
   "cell_type": "markdown",
   "metadata": {},
   "source": [
    "### Exploring the annotated data.\n"
   ]
  },
  {
   "cell_type": "code",
   "execution_count": 2,
   "metadata": {},
   "outputs": [
    {
     "data": {
      "application/vnd.jupyter.widget-view+json": {
       "model_id": "803ac22b133c42d8a5403cee1a82563f",
       "version_major": 2,
       "version_minor": 0
      },
      "text/plain": [
       "Resolving data files:   0%|          | 0/95 [00:00<?, ?it/s]"
      ]
     },
     "metadata": {},
     "output_type": "display_data"
    },
    {
     "data": {
      "text/plain": [
       "DatasetDict({\n",
       "    train: Dataset({\n",
       "        features: ['id', 'name', 'author', 'description', 'tags', 'likes', 'viewed', 'date', 'time_retrieved', 'image_code', 'image_inputs', 'common_code', 'sound_code', 'sound_inputs', 'buffer_a_code', 'buffer_a_inputs', 'buffer_b_code', 'buffer_b_inputs', 'buffer_c_code', 'buffer_c_inputs', 'buffer_d_code', 'buffer_d_inputs', 'cube_a_code', 'cube_a_inputs', 'license', 'thumbnail', 'access', 'wgpu-test'],\n",
       "        num_rows: 19622\n",
       "    })\n",
       "})"
      ]
     },
     "execution_count": 2,
     "metadata": {},
     "output_type": "execute_result"
    }
   ],
   "source": [
    "from datasets import load_dataset\n",
    "\n",
    "# can infer the generic loader script this easily\n",
    "ds = load_dataset(\"./data/annotated/\")\n",
    "ds"
   ]
  },
  {
   "cell_type": "code",
   "execution_count": 3,
   "metadata": {},
   "outputs": [
    {
     "data": {
      "application/vnd.jupyter.widget-view+json": {
       "model_id": "365275c1b7a344a8b85a83cced689844",
       "version_major": 2,
       "version_minor": 0
      },
      "text/plain": [
       "Resolving data files:   0%|          | 0/95 [00:00<?, ?it/s]"
      ]
     },
     "metadata": {},
     "output_type": "display_data"
    },
    {
     "data": {
      "text/plain": [
       "DatasetDict({\n",
       "    train: Dataset({\n",
       "        features: ['id', 'name', 'author', 'description', 'tags', 'likes', 'viewed', 'date', 'time_retrieved', 'image_code', 'image_inputs', 'common_code', 'sound_code', 'sound_inputs', 'buffer_a_code', 'buffer_a_inputs', 'buffer_b_code', 'buffer_b_inputs', 'buffer_c_code', 'buffer_c_inputs', 'buffer_d_code', 'buffer_d_inputs', 'cube_a_code', 'cube_a_inputs', 'license', 'thumbnail', 'access', 'wgpu-test', 'published'],\n",
       "        num_rows: 19622\n",
       "    })\n",
       "})"
      ]
     },
     "execution_count": 3,
     "metadata": {},
     "output_type": "execute_result"
    }
   ],
   "source": [
    "# how much faster would datasets be...\n",
    "\n",
    "from annotate import annotate_shader, try_shader\n",
    "import os\n",
    "\n",
    "# all .jsonl files in ./data/raw/\n",
    "raw_files = os.listdir(\"./data/raw/\")\n",
    "raw_files = [f for f in raw_files if f.endswith(\".jsonl\")]\n",
    "raw_ds = load_dataset(\"json\", data_files=[\"./data/raw/\" + f for f in raw_files])\n",
    "raw_ds\n",
    "info_ds = raw_ds.map(lambda x: x[\"Shader\"][\"info\"])\n",
    "info_ds\n",
    "# annotated_ds = raw_ds.map(annotate, fn_kwargs={\"test\": False, \"access\": \"shaders20k\"}, batched=False, num_proc=4)\n",
    "\n",
    "# merge the \"published\" column from info_ds into ds, and align by \"id\"ArithmeticError\n",
    "ds[\"train\"] = ds[\"train\"].add_column(\"published\", info_ds[\"train\"][\"published\"])\n",
    "\n",
    "ds"
   ]
  },
  {
   "cell_type": "code",
   "execution_count": 4,
   "metadata": {},
   "outputs": [],
   "source": [
    "from annotate import try_shader\n",
    "# TODO: make async for multithreading?\n",
    "def run_test(ex):\n",
    "    # print(ex)\n",
    "    for rp in ex[\"Shader\"][\"renderpass\"]:\n",
    "        if rp[\"type\"] == \"image\":\n",
    "            image_code = rp[\"code\"]\n",
    "    if not image_code:\n",
    "        return {\"wgpu-test\": \"untested\"}\n",
    "\n",
    "    res = try_shader(shader_data=ex, image_code=image_code)\n",
    "    return {\"wgpu-test\" :res}\n",
    "# hangs on 344\n",
    "# raw_ds = raw_ds.map(run_test, num_proc=1, batched=False)"
   ]
  },
  {
   "cell_type": "code",
   "execution_count": 7,
   "metadata": {},
   "outputs": [
    {
     "name": "stdout",
     "output_type": "stream",
     "text": [
      "https://shadertoy.com/view/XdfSDB\n"
     ]
    },
    {
     "data": {
      "application/vnd.jupyter.widget-view+json": {
       "model_id": "6f1f552590f642f3b76a19b0e6786446",
       "version_major": 2,
       "version_minor": 0
      },
      "text/plain": [
       "RFBOutputContext()"
      ]
     },
     "metadata": {},
     "output_type": "display_data"
    }
   ],
   "source": [
    "from wgpu_shadertoy import Shadertoy\n",
    "k = 344\n",
    "print(f'https://shadertoy.com/view/{ds[\"train\"][\"id\"][k]}, {ds[\"train\"][\"published\"][k]}')\n",
    "shader = Shadertoy.from_json(raw_ds[\"train\"][344]) \n",
    "# shader = Shadertoy.from_id(\"lXK3WV\")\n",
    "shader.show()"
   ]
  },
  {
   "cell_type": "code",
   "execution_count": 4,
   "metadata": {},
   "outputs": [],
   "source": [
    "shader._canvas.close()"
   ]
  },
  {
   "cell_type": "code",
   "execution_count": null,
   "metadata": {},
   "outputs": [],
   "source": [
    "# list of permissive licenses like: https://huggingface.co/datasets/bigcode/the-stack-v2/blob/main/license_stats.csv\n",
    "print(ds[\"train\"].unique(\"license\"))\n",
    "# filter permissive licenses\n",
    "ds[\"train\"].filter(lambda x: x[\"license\"] in \"mit apache-2.0\")"
   ]
  },
  {
   "cell_type": "code",
   "execution_count": null,
   "metadata": {},
   "outputs": [],
   "source": [
    "# see how many shaders contain buffer passes (seemingly none?)\n",
    "ds[\"train\"].filter(lambda x: x[\"buffer_a_code\"] + x[\"buffer_b_code\"] + x[\"buffer_c_code\"] + x[\"buffer_d_code\"] != \"\")"
   ]
  },
  {
   "cell_type": "code",
   "execution_count": null,
   "metadata": {},
   "outputs": [],
   "source": [
    "import pandas as pd\n",
    "df = ds[\"train\"].to_pandas()\n",
    "# read \"date\" column as unix timestamp\n",
    "df[\"date\"] = pd.to_datetime(df[\"date\"].astype(int), unit=\"s\")\n",
    "# plot entried per month as bars\n",
    "df[\"date\"].groupby(df[\"date\"].dt.to_period(\"M\")).count().plot(kind=\"bar\", figsize=(14,6))"
   ]
  },
  {
   "cell_type": "code",
   "execution_count": null,
   "metadata": {},
   "outputs": [],
   "source": [
    "# plot stacked and streched bars of licenses per month\n",
    "licenses = df[\"date\"].groupby([df[\"date\"].dt.to_period(\"M\"), df[\"license\"]]).count().unstack()\n",
    "licenses = licenses.div(licenses.sum(axis=1), axis=0)\n",
    "licenses.plot(kind=\"bar\", stacked=True, figsize=(14,6), mark_right=True, legend=False)"
   ]
  },
  {
   "cell_type": "code",
   "execution_count": null,
   "metadata": {},
   "outputs": [],
   "source": [
    "# plot stacked and streched bars of publishing privacy setting per month\n",
    "privacies = df[\"date\"].groupby([df[\"date\"].dt.to_period(\"M\"), df[\"published\"]]).count().unstack()\n",
    "privacies = privacies.div(privacies.sum(axis=1), axis=0)\n",
    "privacies.plot(kind=\"bar\", stacked=True, figsize=(14,6), mark_right=True, legend=True)"
   ]
  }
 ],
 "metadata": {
  "kernelspec": {
   "display_name": "Python 3",
   "language": "python",
   "name": "python3"
  },
  "language_info": {
   "codemirror_mode": {
    "name": "ipython",
    "version": 3
   },
   "file_extension": ".py",
   "mimetype": "text/x-python",
   "name": "python",
   "nbconvert_exporter": "python",
   "pygments_lexer": "ipython3",
   "version": "3.9.4"
  }
 },
 "nbformat": 4,
 "nbformat_minor": 2
}
