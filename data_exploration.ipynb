{
 "cells": [
  {
   "cell_type": "markdown",
   "metadata": {},
   "source": [
    "### Exploring the annotated data."
   ]
  },
  {
   "cell_type": "code",
   "execution_count": null,
   "metadata": {},
   "outputs": [],
   "source": [
    "from datasets import load_dataset, disable_caching\n",
    "import pandas as pd\n",
    "import os\n",
    "from tqdm.auto import tqdm\n",
    "\n",
    "# can infer the generic loader script this easily\n",
    "disable_caching()\n",
    "# cache location [click](%userprofile%/.cache/huggingface/datasets)\n",
    "# needs force_redownload to avoid loading incorrect cached stuff\n",
    "shader20k_files = os.listdir(\"./data/annotated\")\n",
    "# print(shader20k_files)\n",
    "shader20k_files = [f\"./data/annotated/{f}\" for f in shader20k_files if f.startswith(\"20k\")]\n",
    "# ds = load_dataset(\"json\", data_dir=\"./data/annotated\", download_mode=\"force_redownload\", cache_dir=None)\n",
    "ds = load_dataset(\"json\", data_files=shader20k_files, download_mode=\"force_redownload\", cache_dir=None)\n",
    "# ds = load_dataset(\"json\", data_dir=\"./data/annotated_test/\", download_mode=\"force_redownload\", cache_dir=None)\n",
    "df = ds[\"train\"].to_pandas()\n",
    "# read \"date\" column as unix timestamp\n",
    "df[\"date\"] = pd.to_datetime(df[\"date\"].astype(int), unit=\"s\")\n",
    "ds"
   ]
  },
  {
   "cell_type": "code",
   "execution_count": null,
   "metadata": {},
   "outputs": [],
   "source": [
    "# fewer than 6k unique authors in shaders20k\n",
    "df[\"author\"].nunique()"
   ]
  },
  {
   "cell_type": "code",
   "execution_count": null,
   "metadata": {},
   "outputs": [],
   "source": [
    "# this is just from the 20k shaders dataset\n",
    "df[\"date\"].dt.year.value_counts().sort_index()#.plot(kind=\"bar\")"
   ]
  },
  {
   "cell_type": "code",
   "execution_count": null,
   "metadata": {},
   "outputs": [],
   "source": [
    "#redo the df\n",
    "\n",
    "df = ds[\"train\"].to_pandas()\n",
    "# read \"date\" column as unix timestamp\n",
    "df[\"date\"] = pd.to_datetime(df[\"date\"].astype(int), unit=\"s\")\n",
    "#"
   ]
  },
  {
   "cell_type": "code",
   "execution_count": null,
   "metadata": {},
   "outputs": [],
   "source": [
    "df[\"test\"].value_counts().head(10)"
   ]
  },
  {
   "cell_type": "code",
   "execution_count": null,
   "metadata": {},
   "outputs": [],
   "source": [
    "# list of permissive licenses like: https://huggingface.co/datasets/bigcode/the-stack-v2/blob/main/license_stats.csv (gated?)\n",
    "# maybe this instead: https://huggingface.co/datasets/bigcode/the-stack/blob/main/licenses.json\n",
    "# seems to be the one they actually use: https://huggingface.co/datasets/bigcode-data/license_list/resolve/main/permissive_licenses.txt \n",
    "\n",
    "import requests\n",
    "permissive_list = requests.get(\"https://huggingface.co/datasets/bigcode-data/license_list/resolve/main/permissive_licenses.txt\").content.decode(\"utf-8\").split()\n",
    "permissive_list = [l.lower() for l in permissive_list]\n",
    "\n",
    "print(len(permissive_list))"
   ]
  },
  {
   "cell_type": "code",
   "execution_count": null,
   "metadata": {},
   "outputs": [],
   "source": [
    "# filtering down the dataset and keeping track of the numbers\n",
    "print(ds[\"train\"].unique(\"license\"))\n",
    "# filter permissive licenses\n",
    "filtered_ds = ds[\"train\"]\n",
    "num_all = len(filtered_ds)\n",
    "print(f\"{num_all=}\")\n",
    "filtered_ds = filtered_ds.filter(lambda x: x[\"published\"] == \"Public API\") # only take shaders published to the API\n",
    "num_public_api = len(filtered_ds)\n",
    "print(f\"{num_public_api=}\")\n",
    "filtered_ds = filtered_ds.filter(lambda x: x[\"license\"] in permissive_list + [\"CC-BY-NC-SA-3.0\"]) # permissive or base case(not actually permissive...) what about those AND and OR classifications?\n",
    "num_permissive = len(filtered_ds)\n",
    "print(f\"{num_permissive=}\")\n",
    "filtered_ds = filtered_ds.filter(lambda x: x[\"test\"] == \"ok\") # ok means it actually runs, valid was just that naga didn't error... but this also has issues\n",
    "num_working = len(filtered_ds)\n",
    "print(f\"{num_working=}\")\n",
    "filtered_ds"
   ]
  },
  {
   "cell_type": "code",
   "execution_count": null,
   "metadata": {},
   "outputs": [],
   "source": [
    "# seems to never contain any common pass? or my preprocessing is wrong.\n",
    "print(df[\"common_code\"].unique()) \n",
    "\n",
    "# see how many shaders contain buffer passes (seemingly none?)\n",
    "ds[\"train\"].filter(lambda x: x[\"buffer_a_code\"] + x[\"buffer_b_code\"] + x[\"buffer_c_code\"] + x[\"buffer_d_code\"] != \"\")"
   ]
  },
  {
   "cell_type": "code",
   "execution_count": null,
   "metadata": {},
   "outputs": [],
   "source": [
    "def plot_per_month(column, stretched=False, data=None, **kwargs):\n",
    "    if data is None:\n",
    "        # lazy default case, to avoid name errror when not running cells above\n",
    "        data = df\n",
    "    feature_df = data[\"date\"].groupby([data[\"date\"].dt.to_period(\"M\"), data[column]]).count().unstack()\n",
    "    if stretched:\n",
    "        feature_df = feature_df.div(feature_df.sum(axis=1), axis=0)\n",
    "    return feature_df.plot(kind=\"bar\", stacked=True, figsize=(15,7), title=column, width=.9, **kwargs)\n",
    "\n",
    "def plot_per_year(column, stretched=False, data=None, **kwargs):\n",
    "    if data is None:\n",
    "        # lazy default case, to avoid name errror when not running cells above\n",
    "        data = df\n",
    "    feature_df = data[\"date\"].groupby([data[\"date\"].dt.to_period(\"Y\"), data[column]]).count().unstack()\n",
    "    if stretched:\n",
    "        feature_df = feature_df.div(feature_df.sum(axis=1), axis=0)\n",
    "    return feature_df.plot(kind=\"bar\", stacked=True, figsize=(15,7), title=column, width=.9, **kwargs)\n",
    "    \n",
    "# plot_per_month(\"license\", True, legend=False)"
   ]
  },
  {
   "cell_type": "code",
   "execution_count": null,
   "metadata": {},
   "outputs": [],
   "source": [
    "plot_per_month(\"published\", False)"
   ]
  },
  {
   "cell_type": "code",
   "execution_count": null,
   "metadata": {},
   "outputs": [],
   "source": [
    "# currently in development, another filtering step.\n",
    "plot_per_month(\"test\", stretched=True, legend=True)"
   ]
  },
  {
   "cell_type": "code",
   "execution_count": null,
   "metadata": {},
   "outputs": [],
   "source": [
    "df[\"num_functions\"] = df[\"functions\"].apply(len)\n",
    "df[\"num_functions\"].describe()"
   ]
  },
  {
   "cell_type": "code",
   "execution_count": null,
   "metadata": {},
   "outputs": [],
   "source": [
    "df[\"num_inputs\"] = df[\"image_inputs\"].apply(len)\n",
    "plot_per_month(\"num_inputs\", stretched=False, legend=True)"
   ]
  },
  {
   "cell_type": "code",
   "execution_count": null,
   "metadata": {},
   "outputs": [],
   "source": [
    "# these cases might be parsing failures? seem to always use macros inside functions or something.\n",
    "# some use no functions but Main(){...} which seems to work in glsl but not viable for our dataset\n",
    "from annotate import PARSER\n",
    "print(PARSER.parse(bytes(df[\"image_code\"][19616],encoding=\"utf-8\")).root_node.has_error)\n",
    "df.loc[df[\"num_functions\"] == 0]"
   ]
  },
  {
   "cell_type": "code",
   "execution_count": null,
   "metadata": {},
   "outputs": [],
   "source": [
    "# TODO: refactor into a generator because I dislike the current shape. but figure out how batching and threadding works then?\n",
    "# part of the filter.py or prepare.py script that will be done soon.\n",
    "def split_functions(batch):\n",
    "    # per function fields\n",
    "    comments, headers, docstrings, bodies = [],[],[],[]\n",
    "    # per document fields\n",
    "    full_code, funcs, ids, dates = [],[],[],[]\n",
    "    for code, func_bytes, shader_id, shader_date in zip(batch[\"image_code\"], batch[\"functions\"], batch[\"id\"], batch[\"date\"]):\n",
    "        row_code = bytes(code,encoding=\"utf-8\")\n",
    "        for start_comment, start_header, end_header, end_docstring, end_function in func_bytes:\n",
    "            comments.append(row_code[start_comment:start_header].decode(encoding=\"utf-8\")),\n",
    "            headers.append(row_code[start_header:end_header].decode(encoding=\"utf-8\")),\n",
    "            docstrings.append(row_code[end_header:end_docstring].decode(encoding=\"utf-8\")),\n",
    "            bodies.append(row_code[end_docstring:end_function].decode(encoding=\"utf-8\")),\n",
    "            full_code.append(row_code.decode(encoding=\"utf-8\")),\n",
    "            funcs.append((start_comment, start_header, end_header, end_docstring, end_function))\n",
    "            ids.append(shader_id)\n",
    "            dates.append(shader_date)\n",
    "    return {\n",
    "            \"comment\": comments,\n",
    "            \"header\": headers,\n",
    "            \"docstring\": docstrings,\n",
    "            \"body\": bodies,\n",
    "            \"full_code\": full_code,\n",
    "            \"func_bytes\": funcs,\n",
    "            \"id\": ids,\n",
    "            \"date\": dates,\n",
    "            }\n",
    "\n",
    "\n",
    "# func_ds = ds.map(split_functions, batched=True, remove_columns=ds[\"train\"].column_names) # full dataset to functions\n",
    "func_ds = filtered_ds.map(split_functions, batched=True, remove_columns=filtered_ds.column_names) # only permissive shaders (the whole 20k set is single pass without common...)\n",
    "if \"train\" in func_ds:\n",
    "    func_ds = func_ds[\"train\"]\n",
    "func_ds"
   ]
  },
  {
   "cell_type": "code",
   "execution_count": null,
   "metadata": {},
   "outputs": [],
   "source": [
    "func_df = func_ds.to_pandas()\n",
    "func_df[\"date\"] = pd.to_datetime(func_ds[\"date\"], unit=\"s\") #didn't copy correctly?\n",
    "func_df.head() "
   ]
  },
  {
   "cell_type": "code",
   "execution_count": null,
   "metadata": {},
   "outputs": [],
   "source": [
    "func_df[\"has_comment\"] = func_df[\"comment\"] != \"\"\n",
    "func_df[\"has_docstring\"] = func_df[\"docstring\"] != \"\"\n",
    "# func_df[\"model_ctx\"] = func_df[\"comment\"] + func_df[\"header\"] + func_df[\"comment\"]\n",
    "# how many functions are there, and what is the share of comments, \n",
    "\n",
    "xtab = pd.crosstab(func_df[\"has_comment\"], func_df[\"has_docstring\"], margins=True)\n",
    "print(f\"functions with context = {xtab.iloc[-1,-1] - xtab.iloc[0,0]}\")\n",
    "xtab\n",
    "\n",
    "# for the permissive subset of shaders 21k the number goes down to like 253 for both... and 150 for valid shaders only."
   ]
  },
  {
   "cell_type": "code",
   "execution_count": null,
   "metadata": {},
   "outputs": [],
   "source": [
    "# FINDING: only about half the comments are unique.\n",
    "# some frequent comment looks like a template maybe? should investigate\n",
    "print(func_df[\"comment\"].nunique())\n",
    "func_df[\"comment\"].value_counts(sort=True, ascending=False).head(10)"
   ]
  },
  {
   "cell_type": "code",
   "execution_count": null,
   "metadata": {},
   "outputs": [],
   "source": [
    "# FINDING = only about a third of function-headers are unique?\n",
    "# it's expect to have one mainImage function per renderpass... but they are just whitesapce variable here - maybe we skip them in general\n",
    "print(func_df[\"header\"].nunique())\n",
    "func_df[\"header\"].value_counts(sort=True, ascending=False).head(10)"
   ]
  },
  {
   "cell_type": "code",
   "execution_count": null,
   "metadata": {},
   "outputs": [],
   "source": [
    "# looks like some are not exact or might even use the common pass to bypass this\n",
    "func_df[\"header\"].str.startswith(\"void mainImage\").sum()"
   ]
  },
  {
   "cell_type": "code",
   "execution_count": null,
   "metadata": {},
   "outputs": [],
   "source": [
    "# half the docstrings aren't unique?\n",
    "# most common one is the shadertoy.com/new default for the main function\n",
    "print(func_df[\"docstring\"].nunique())\n",
    "func_df[\"docstring\"].value_counts(sort=True, ascending=False).head(10)"
   ]
  },
  {
   "cell_type": "code",
   "execution_count": null,
   "metadata": {},
   "outputs": [],
   "source": [
    "# indicator where the docstring is just something commented out - not helpful instructions.\n",
    "func_df[\"docstring\"].str.endswith(\";\").sum()"
   ]
  },
  {
   "cell_type": "code",
   "execution_count": null,
   "metadata": {},
   "outputs": [],
   "source": [
    "# the comment is just a link to some website/reference? although sometimes it's a bunch of natural langauge too?\n",
    "print(func_df[\"comment\"].str.contains(\"https://\").sum())\n",
    "print(func_df[\"comment\"].str.contains(\"www.\").sum())"
   ]
  },
  {
   "cell_type": "code",
   "execution_count": null,
   "metadata": {},
   "outputs": [],
   "source": [
    "# figure out if a function is needed, by removing if from body and check if the code still runs (you should have filtered for only working shaders before)\n",
    "\n",
    "# step 1. subset the dataframe to only those rows that have comment and docstring\n",
    "both_df = func_df[func_df[\"has_comment\"] & func_df[\"has_docstring\"]]\n",
    "num_both= len(both_df)\n",
    "print(f\"{num_both=}\")\n",
    "# 253 functions form 168 shaders, only 179 of which are unique combinations...\n",
    "both_df[\"header\"].value_counts(sort=True, ascending=False).head(10)"
   ]
  },
  {
   "cell_type": "code",
   "execution_count": null,
   "metadata": {},
   "outputs": [],
   "source": [
    "# this step can timeout/hang -.-\n",
    "# step 2. if code runs without the function.\n",
    "# takes ~1.4 minutes at home.\n",
    "from annotate import run_shader\n",
    "\n",
    "def check_function_needed(row):\n",
    "    code = row[\"full_code\"]\n",
    "    start_comment, start_header, end_header, end_docstring, end_function = row[\"func_bytes\"]\n",
    "    test_code = code[:start_comment] + code[end_function:] #TODO: this needs to be done in bytes -.-\n",
    "    status = run_shader(test_code)\n",
    "    return status == \"error\"\n",
    "\n",
    "\n",
    "both_df[\"needed\"] = both_df.apply(check_function_needed, axis=1)\n",
    "both_df[\"needed\"].value_counts()"
   ]
  },
  {
   "cell_type": "code",
   "execution_count": null,
   "metadata": {},
   "outputs": [],
   "source": [
    "# down select the only the needed and working examples.\n",
    "print(len(both_df))\n",
    "both_df = both_df.loc[both_df[\"needed\"]]\n",
    "num_needed = len(both_df)\n",
    "print(f\"{num_needed=}\")"
   ]
  },
  {
   "cell_type": "code",
   "execution_count": null,
   "metadata": {},
   "outputs": [],
   "source": [
    "from datasets import Dataset\n",
    "\n",
    "both_df.loc[:,\"input_both\"] = both_df[\"comment\"] + both_df[\"header\"] + both_df[\"docstring\"]\n",
    "both_df.loc[:,\"input_comment\"] = both_df[\"comment\"] + both_df[\"header\"]\n",
    "both_df.loc[:,\"input_docstring\"] = both_df[\"header\"] + both_df[\"docstring\"]\n",
    "both_df.loc[:,\"input_none\"] = both_df[\"header\"]\n",
    "print(both_df.shape)\n",
    "print(both_df[\"input_both\"].nunique())\n",
    "# remove the duplicates\n",
    "both_df.drop_duplicates(\"input_both\", inplace=True)\n",
    "experiment_ds = Dataset.from_pandas(both_df)\n",
    "experiment_ds"
   ]
  },
  {
   "cell_type": "code",
   "execution_count": null,
   "metadata": {},
   "outputs": [],
   "source": [
    "# this pushes the dataset to the hub, uncomment with care!\n",
    "# experiment_ds.push_to_hub(\"Vipitis/Shadereval-experiments-dev\", private=False, commit_message=\"v0.2 filtered down to 257 examples, ensures working and Public+API\")"
   ]
  },
  {
   "cell_type": "code",
   "execution_count": null,
   "metadata": {},
   "outputs": [],
   "source": [
    "# making a river plot (sankey diagram) of all out filtering steps\n",
    "# keeping track of number of functions and then in backets (number of shader programs)\n",
    "# filtering steps are in this order:\n",
    "# 1. on shader programs: published, license, test,\n",
    "# 2. on functions: comment+docstring, needed, deduplicate\n",
    "\n",
    "program_filter_steps = [num_all, num_public_api, num_permissive, num_working]\n",
    "import matplotlib.pyplot as plt\n",
    "from matplotlib.sankey import Sankey\n",
    "plt.figure(figsize=(20,10))\n",
    "plot = Sankey(head_angle=135, ax=plt.gca(), offset=-5000, unit=\" shaders\")\n",
    "# easily add a secondary data source?\n",
    "plot.add(flows=[-num_all], labels=[\"shaders20k\"], pathlengths=[9000])\n",
    "plot.add(flows=[num_all, -num_public_api, -(num_all-num_public_api)], patchlabel=\"published\", labels=[None,\"Published+API\", \"public/private\"], pathlengths=[5000, 1000, 0], orientations=[0,0,-1], prior=0, connect=(0,0), trunklength=5000)\n",
    "plot.add(flows=[num_public_api, -num_permissive, -(num_public_api-num_permissive)], labels=[None,\"permissive\", \"copyright, copyleft\"], pathlengths=[1000, 6000, (num_all-num_public_api)], orientations=[0,0,-1], prior=1, connect=(1,0), trunklength=5000)\n",
    "plot.add(flows=[num_permissive, -num_working, -(num_permissive-num_working)], labels=[None, \"working\", \"error\"], pathlengths=[2000, 8000, (num_all-num_permissive)], orientations=[0,0,-1], prior=2, connect=(1,0))\n",
    "\n",
    "# no we switch to function level\n",
    "plot.add(flows=[num_working, -len(func_df)],prior=3, connect=(1,0),orientations=[1], patchlabel=\"function parsing\", labels=[None, \"functions\"], pathlengths=[1000, 2000]) #need to change unit?\n",
    "# add function with comment and docstring = 329\n",
    "plot.add(flows=[len(func_df), -xtab.iloc[1,1], -xtab.iloc[0,0], -xtab.iloc[0,1], -xtab.iloc[1,0]],prior=4, connect=(1,0),orientations=[0,0,-1,-1,-1], labels=[None,\"both\", \"none\", \"docstring\",\"comment\"], pathlengths=[3000, 0, 0, 0, 0])\n",
    "# only needed functions = 318\n",
    "plot.add(flows=[xtab.iloc[1,1], -318, -11],prior=5, connect=(1,0),orientations=[0, 0, -1], labels=[None,\"needed\", \"unneeded\"], pathlengths=[5000, 5000, 10000])\n",
    "# deduplicated = 257\n",
    "plot.add(flows=[318, -len(both_df), -(318-len(both_df))],prior=6, connect=(1,0),orientations=[0, 0, -1], labels=[None, \"unique\", \"duplicates\"], pathlengths=[4000, 2000, 10000])\n",
    "\n",
    "# TODO: fancy this up - maybe figure out a scale\n",
    "# TODO: refactor this all into a function or generator to make the syntax less horrible.\n",
    "plot.finish()\n",
    "plt.savefig(\"../Thesis/report/texs/charts/data_filtering.png\")\n",
    "plt.show()"
   ]
  },
  {
   "cell_type": "code",
   "execution_count": null,
   "metadata": {},
   "outputs": [],
   "source": [
    "# plot unique headers per month\n",
    "# only looking at our \"permissive\" subset.\n",
    "# tag every function as unique until it shows up twice (we use the header, iterate by time)\n",
    "for i, row in tqdm(func_df.iterrows()):\n",
    "    if func_df.loc[:i,\"header\"].eq(row[\"header\"]).sum() > 1:\n",
    "        func_df.at[i, \"unique_header\"] = False\n",
    "    else:\n",
    "        func_df.at[i, \"unique_header\"] = True\n",
    "\n",
    "plot_per_month(\"unique_header\", stretched=False, data=func_df, legend=True)"
   ]
  },
  {
   "cell_type": "markdown",
   "metadata": {},
   "source": [
    "# Extension with API data\n",
    "\n",
    "### only downloaded years 2020 till 2023 for now. It takes around 1 hour per year....\n",
    "\n",
    "there is ~ 32k shaders on the API.\n",
    "we need to apply a few extra filters and then join them with the above..."
   ]
  },
  {
   "cell_type": "code",
   "execution_count": null,
   "metadata": {},
   "outputs": [],
   "source": [
    "import os \n",
    "import jsonlines\n",
    "import datasets\n",
    "import pandas as pd\n",
    "\n",
    "\n",
    "# awful code snippet pending https://github.com/huggingface/datasets/issues/7092 to use load_dataset instead (with both parts maybe).\n",
    "api_files = os.listdir(\"./data/annotated/api\")\n",
    "\n",
    "api_files = [f\"./data/annotated/api/{f}\" for f in api_files]\n",
    "\n",
    "api_file_contents = []\n",
    "for f in api_files:\n",
    "    with jsonlines.open(f) as reader:\n",
    "        for obj in reader:\n",
    "            api_file_contents.append(obj)\n",
    "\n",
    "ds_api = datasets.Dataset.from_list(api_file_contents)\n",
    "\n",
    "df_api = ds_api.to_pandas()\n",
    "\n",
    "df_api[\"date\"] = pd.to_datetime(df_api[\"date\"].astype(int), unit=\"s\")\n",
    "\n",
    "num_all = len(df_api)\n",
    "print(f\"{num_all=}\")"
   ]
  },
  {
   "cell_type": "code",
   "execution_count": null,
   "metadata": {},
   "outputs": [],
   "source": [
    "\n",
    "# Filter 1: only shaders that are single pass (as in they don't have buffer passes etc)\n",
    "# TODO: sound could be allowed, since it doesn't impact the image.\n",
    "\n",
    "# TODO: maybe use common_code as that is trivially to combine?\n",
    "print(f'number of shaders with common code={df_api.loc[df_api[\"common_code\"] != \"\"].shape[0]}')\n",
    "other_passes = [col for col in df_api.columns if col.endswith(\"_code\") and col not in (\"image_code\")] #, \"common_code\", \"souncd_code\"\n",
    "\n",
    "df_api = df_api[(df_api.loc[:,other_passes] == \"\").all(axis=1)]\n",
    "num_single_pass = len(df_api)\n",
    "print(f\"{num_single_pass=}\")\n"
   ]
  },
  {
   "cell_type": "code",
   "execution_count": null,
   "metadata": {},
   "outputs": [],
   "source": [
    "# Filter 2: only shaders that don't require inputs (for the image_pass which is left now)\n",
    "# df_api[\"image_inputs\"].apply(len).value_counts() # -> there is quite something\n",
    "# TODO: maybe only some channel_types are bad... perhaps keep the ones we support (.complete)\n",
    "\n",
    "df_api = df_api[df_api[\"image_inputs\"].apply(len) == 0]\n",
    "num_no_inputs = len(df_api)\n",
    "print(f\"{num_no_inputs=}\")"
   ]
  },
  {
   "cell_type": "code",
   "execution_count": null,
   "metadata": {},
   "outputs": [],
   "source": [
    "# Filter 3: overlap with the shaders20k data.\n",
    "# we keep the \"older\" variant from the shaders20k dataset because that is static and won't change.\n",
    "\n",
    "ids_20k = set(df[\"id\"])\n",
    "\n",
    "df_api = df_api[~df_api[\"id\"].isin(ids_20k)]\n",
    "num_new = len(df_api)\n",
    "print(f\"{num_new=}\")"
   ]
  },
  {
   "cell_type": "markdown",
   "metadata": {},
   "source": [
    "### combine and use similar filters as above..."
   ]
  },
  {
   "cell_type": "code",
   "execution_count": 1,
   "metadata": {},
   "outputs": [
    {
     "name": "stdout",
     "output_type": "stream",
     "text": [
      "all combined is 27857 shaders\n",
      "8235\n",
      "8235 shaderprograms remaining after filter_public_api\n",
      "304 shaderprograms remaining after filter_licenses\n",
      "225 shaderprograms remaining after filter_single_pass\n",
      "167 shaderprograms remaining after filter_no_inputs\n",
      "163 shaderprograms remaining after filter_words\n",
      "137 shaderprograms remaining after filter_working\n",
      "19622\n",
      "7263 shaderprograms remaining after filter_public_api\n",
      "408 shaderprograms remaining after filter_licenses\n",
      "408 shaderprograms remaining after filter_single_pass\n",
      "345 shaderprograms remaining after filter_no_inputs\n",
      "330 shaderprograms remaining after filter_words\n",
      "276 shaderprograms remaining after filter_working\n",
      "413\n"
     ]
    }
   ],
   "source": [
    "# puttint it all together\n",
    "import os\n",
    "import jsonlines\n",
    "import pandas as pd\n",
    "import requests\n",
    "\n",
    "\n",
    "def load_data(data_dir: os.PathLike) -> pd.DataFrame:\n",
    "    lines = []\n",
    "    for file in os.listdir(data_dir):\n",
    "        if file.endswith(\".jsonl\"):\n",
    "            with jsonlines.open(os.path.join(data_dir, file)) as reader:\n",
    "                for obj in reader:\n",
    "                    lines.append(obj)\n",
    "\n",
    "    return pd.DataFrame(lines)\n",
    "\n",
    "\n",
    "def filter_public_api(dataframe: pd.DataFrame, **kwargs) -> pd.DataFrame:\n",
    "    \"\"\"\n",
    "    only keep shaders that are published to the API.\n",
    "    \"\"\"\n",
    "    # TODO: Publish API shouldn't be in raw or annotated, this needs to be fixed in both datahalves.\n",
    "    return dataframe[dataframe[\"published\"].isin([\"Public API\", 3])]\n",
    "\n",
    "\n",
    "def filter_licenses(dataframe: pd.DataFrame, keep_base=False, **kwargs) -> pd.DataFrame:\n",
    "    \"\"\"\n",
    "    only keep permissive licenses.\n",
    "    \"\"\"\n",
    "    permissive_list = requests.get(\"https://huggingface.co/datasets/bigcode-data/license_list/resolve/main/permissive_licenses.txt\").content.decode(\"utf-8\").split()\n",
    "    permissive_list = [l.lower() for l in permissive_list]\n",
    "    #TODO: figure out cases with AND and OR in the detection.\n",
    "    if keep_base:\n",
    "        permissive_list.append(\"CC-BY-NC-SA-3.0\")\n",
    "    return dataframe[dataframe[\"license\"].isin(permissive_list)]\n",
    "\n",
    "\n",
    "def filter_single_pass(dataframe: pd.DataFrame, **kwargs) -> pd.DataFrame:\n",
    "    \"\"\"\n",
    "    only keep shaders that are single pass.\n",
    "    \"\"\"\n",
    "    other_passes = [col for col in dataframe.columns if col.endswith(\"_code\") and col not in (\"image_code\")]\n",
    "    #TODO: consider keeping sound_code and common_code (the later one needs to be prepended to the image_code)\n",
    "    return dataframe[(dataframe.loc[:,other_passes] == \"\").all(axis=1)]\n",
    "\n",
    "\n",
    "def filter_no_inputs(dataframe: pd.DataFrame, **kwargs) -> pd.DataFrame:\n",
    "    \"\"\"\n",
    "    only keep shaders that don't require inputs.\n",
    "    to be used after you filtered for single pass shaders.\n",
    "    \"\"\"\n",
    "    # TODO: consider keeping some channel_types\n",
    "    return dataframe[dataframe[\"image_inputs\"].apply(len) == 0]\n",
    "\n",
    "#TODO: inspect if this is the case\n",
    "def filter_words(dataframe: pd.DataFrame, words=[\"test\", \"bug\"], **kwargs) -> pd.DataFrame:\n",
    "    \"\"\"\n",
    "    Drop all shaders that contain works like \"test\", \"debug\", \"ai\", \"chatGPT\", in the title, description or tags.\n",
    "    \"\"\"\n",
    "    for word in words:\n",
    "        dataframe = dataframe[~dataframe[\"name\"].str.contains(word, case=False)]\n",
    "        dataframe = dataframe[~dataframe[\"description\"].str.contains(word, case=False)]\n",
    "        # dataframe = dataframe[~dataframe[\"tags\"]\" \".join().str.contains(word, case=False)] # can't do string opeerations on list of tags.\n",
    "\n",
    "    return dataframe\n",
    "\n",
    "\n",
    "def filter_working(dataframe: pd.DataFrame, untested=False, **kwargs) -> pd.DataFrame:\n",
    "    \"\"\"\n",
    "    only keep shaders that are working.\n",
    "    Note: the idea of using `untested=True` is to first run all filters and just get a list of IDs, to then test these.\n",
    "    Testing is slow and should therefore be only annotated where it's needed.\n",
    "    \"\"\"\n",
    "\n",
    "    # TODO: testing needs to really work before we can rely on this\n",
    "    drop_values = [\"error\", \"panic\", \"timeout\", \"timedout\", \"valid\", \"untested\"]\n",
    "    keep_values = [\"ok\"]\n",
    "    if untested:\n",
    "        drop_values.remove(\"untested\")\n",
    "        keep_values.append(\"untested\")\n",
    "    return dataframe[dataframe[\"test\"].isin(keep_values)]\n",
    "\n",
    "PROGRAM_FILTERS = [filter_public_api, filter_licenses, filter_single_pass, filter_no_inputs, filter_words, filter_working]\n",
    "\n",
    "def filter_programs(dataframe: pd.DataFrame, filters=PROGRAM_FILTERS, **kwargs) -> pd.DataFrame:\n",
    "    \"\"\"\n",
    "    apply a series of filters and print the resulting numbers\n",
    "    kwargs are passed to the filters\n",
    "    untested: keep untested shaders (default: False)\n",
    "    keep_base: keep the base license (default: False)\n",
    "    \"\"\"\n",
    "    print(len(dataframe))\n",
    "\n",
    "    # TODO: add plotting into sankey?  when plot=True\n",
    "    # plot = kwargs.pop(\"plot\", None)\n",
    "    # if plot is None:\n",
    "        # import matplotlib.pyplot as plt\n",
    "        # from matplotlib.sankey import Sankey\n",
    "        # plt.figure(figsize=(20,10))\n",
    "        # plot = Sankey(head_angle=135, ax=plt.gca(), offset=-5000, unit=\" shader programs\")\n",
    "        # # easily add a secondary data source?\n",
    "        # plot.add(flows=[-len(dataframe)], labels=[\"datasource\"], pathlengths=[9000])\n",
    "\n",
    "\n",
    "    for f in filters:\n",
    "        dataframe = f(dataframe, **kwargs)\n",
    "        print(f\"{len(dataframe)} shaderprograms remaining after {f.__name__}\")\n",
    "    return dataframe\n",
    "\n",
    "\n",
    "def combine_datasets(base_data, add_data):\n",
    "    \"\"\"\n",
    "    combine two datasets, keeping the base data.\n",
    "    \"\"\"\n",
    "    ids_base = set(base_data[\"id\"])\n",
    "    return pd.concat([base_data, add_data[~add_data[\"id\"].isin(ids_base)]])\n",
    "\n",
    "\n",
    "api_df = load_data(\"./data/annotated/api\")\n",
    "s20k_df = load_data(\"./data/annotated\")\n",
    "all_combined_df = combine_datasets(s20k_df, api_df) # make this early\n",
    "print(f\"all combined is {len(all_combined_df)} shaders\")\n",
    "api_df = filter_programs(api_df, untested=False, keep_base=False)\n",
    "s20k_df = filter_programs(s20k_df, untested=False, keep_base=False)\n",
    "\n",
    "combined_df = combine_datasets(s20k_df, api_df)\n",
    "combined_df[\"date\"] = pd.to_datetime(combined_df[\"date\"].astype(int), unit=\"s\")\n",
    "print(len(combined_df))\n",
    "\n"
   ]
  },
  {
   "cell_type": "code",
   "execution_count": 2,
   "metadata": {},
   "outputs": [
    {
     "name": "stdout",
     "output_type": "stream",
     "text": [
      "all functions from all uniuqe image passes: 202752\n"
     ]
    }
   ],
   "source": [
    "# expand to functions and then do function filters\n",
    " \n",
    "from annotate import run_shader\n",
    "from tqdm import tqdm\n",
    "\n",
    "tqdm.pandas()\n",
    "\n",
    "def expand_functions(dataframe: pd.DataFrame) -> pd.DataFrame:\n",
    "    \n",
    "    # TODO: likely redundant, since we keep everything... might need some cleanup instead\n",
    "    cols_to_keep = [\"id\", \"date\", \"image_code\", \"functions\", \"func_bytes\", \"author\", \"license\"]\n",
    "    #function byte indicies: start_comment, start_header, end_header, end_docstring, end_function\n",
    "    func_parts = [\"comment\", \"header\", \"docstring\", \"body\"]\n",
    "\n",
    "    # TODO: do we need the whole functions for anything downstream?\n",
    "    dataframe[\"functions_\"] = dataframe[\"functions\"] # make a copy to keep it past explode\n",
    "    func_df = dataframe.explode(\"functions\")\n",
    "    func_df.rename(columns={\"functions\": \"func_bytes\", \"functions_\": \"functions\"}, inplace=True)\n",
    "    func_df.dropna(subset=[\"func_bytes\"], inplace=True) # some shaders got not functions parsed ? -> TODO: check the tree-sitter.has_error() result?\n",
    "    func_df.reset_index(inplace=True)\n",
    "    for row_idx, row in func_df.iterrows():\n",
    "        # print(row_idx, row)\n",
    "        # break\n",
    "        code = row[\"image_code\"]\n",
    "        code_bytes = bytes(code, encoding=\"utf-8\")\n",
    "        # func_bytes = row[\"func_bytes\"]\n",
    "        for idx, part in enumerate(func_parts):\n",
    "            start = row[\"func_bytes\"][idx]\n",
    "            end = row[\"func_bytes\"][idx+1]\n",
    "            func_df.at[row_idx, part] = code_bytes[start:end].decode(encoding=\"utf-8\")\n",
    "        \n",
    "    func_df.drop(columns=func_df.columns.difference(cols_to_keep + func_parts), inplace=True)\n",
    "    # func_df[\"date\"] = pd.to_datetime(func_df[\"date\"].astype(int), unit=\"s\")\n",
    "\n",
    "    return func_df\n",
    "\n",
    "def filter_has_context(dataframe: pd.DataFrame, context=\"comment\", **kwargs) -> pd.DataFrame:\n",
    "    \"\"\"\n",
    "    only keep functions that have a specific context. (not exclusive)\n",
    "    context: one of \"comment\", \"docstring\", \"both\", \"none\"\n",
    "    \"\"\"\n",
    "    # TODO: not all are implemented\n",
    "    if context == \"comment\":\n",
    "        return dataframe[dataframe[\"comment\"] != \"\"]\n",
    "    elif context == \"docstring\":\n",
    "        return dataframe[dataframe[\"docstring\"] != \"\"]\n",
    "    elif context == \"both\":\n",
    "        return dataframe[(dataframe[\"comment\"] != \"\") & (dataframe[\"docstring\"] != \"\")]\n",
    "    elif context == \"none\":\n",
    "        raise NotImplementedError(f\"not implemented yet for context: {context}\")\n",
    "    else:\n",
    "        raise ValueError(f\"unknown context: {context}\")\n",
    "\n",
    "# TODO: combine construct_inp and filter_has_context into one function maybe?\n",
    "def construct_inp(dataframe: pd.DataFrame, context=\"comment\", **kwargs) -> pd.DataFrame:\n",
    "    \"\"\"\n",
    "    adds the model_inp column based on the context.\n",
    "    \"\"\"\n",
    "    if context == \"comment\":\n",
    "        dataframe[\"model_inp\"] = dataframe[\"comment\"] + dataframe[\"header\"]\n",
    "    elif context == \"docstring\":\n",
    "        dataframe[\"model_inp\"] = dataframe[\"header\"] + dataframe[\"docstring\"]\n",
    "    elif context == \"both\":\n",
    "        dataframe[\"model_inp\"] = dataframe[\"comment\"] + dataframe[\"header\"] + dataframe[\"docstring\"]\n",
    "    elif context == \"none\":\n",
    "        dataframe[\"model_inp\"] = dataframe[\"header\"]\n",
    "    else:\n",
    "        raise ValueError(f\"unknown context: {context}\")\n",
    "    return dataframe\n",
    "\n",
    "def filter_length(dataframe: pd.DataFrame, max_length=2500, **kwargs) -> pd.DataFrame:\n",
    "    \"\"\"\n",
    "    sort out function bodies that are really long. (likely machine generated)\n",
    "    \"\"\"\n",
    "    # TODO: why chose this number?\n",
    "    return dataframe[dataframe[\"body\"].apply(len) <= max_length]\n",
    "\n",
    "def filter_alphabetic(dataframe: pd.DataFrame, column=\"comment\", cutoff=0.25, **kwargs) -> pd.DataFrame:\n",
    "    \"\"\"\n",
    "    sort out functions that have an alphabetic ration above the cutoff.\n",
    "    \"\"\"\n",
    "    return dataframe[dataframe[column].apply(lambda x: sum(c.isalpha() for c in x) / len(x)) > cutoff]\n",
    "\n",
    "def filter_duplicates(dataframe: pd.DataFrame, sort_by=\"date\", **kwargs) -> pd.DataFrame:\n",
    "    \"\"\"\n",
    "    only keeps unique model_inp values. \n",
    "    sort_by specifies a column to sort by and keep the top value of. (default is \"date\")\n",
    "    the sorting is not kept\n",
    "    \"\"\"\n",
    "    if sort_by not in dataframe.columns:\n",
    "        raise ValueError(f\"unknown column to sort by: {sort_by}\")\n",
    "    # asceding=True and keep=\"first\" are the defualts, meaning we keep ealier entries! \n",
    "    # if sorting my views or likes it might might sense to either set ascending=False or keep=\"last\" (not both).\n",
    "    dataframe.sort_values(by=sort_by, inplace=True, ascending=True)\n",
    "    out_df = dataframe.drop_duplicates(\"model_inp\", keep=\"first\") #default is \"keep first\"\n",
    "    # undo the sort\n",
    "    return out_df.sort_index()\n",
    "\n",
    "def filter_needed(dataframe: pd.DataFrame, **kwargs) -> pd.DataFrame:\n",
    "    \"\"\"\n",
    "    only keep functions that are needed. By running the shader with the function removed and seeing if it errors...\n",
    "    \"\"\"\n",
    "    def row_needed(row):\n",
    "        # print(row[\"id\"])\n",
    "        code_bytes = bytes(row[\"image_code\"], encoding=\"utf-8\")\n",
    "        start_comment, start_header, end_header, end_docstring, end_function = row[\"func_bytes\"]\n",
    "        outer_bytes = code_bytes[:start_comment] + b\"\\n\" +  code_bytes[end_function:]\n",
    "        test_code = outer_bytes.decode(encoding=\"utf-8\")\n",
    "        status = run_shader(test_code)\n",
    "        return status != \"ok\"\n",
    "    dataframe[\"needed\"] = dataframe.progress_apply(row_needed, axis=1)\n",
    "    return dataframe[dataframe[\"needed\"]]\n",
    "\n",
    "FUNCTION_FILTERS = [filter_has_context, construct_inp, filter_length, filter_alphabetic, filter_duplicates, filter_needed]\n",
    "def filter_functions(dataframe: pd.DataFrame, filters=FUNCTION_FILTERS, **kwargs) -> pd.DataFrame:\n",
    "    \"\"\"\n",
    "    apply a series of filters and print the resulting numbers\n",
    "    kwargs are passed to the filters\n",
    "    \"\"\"\n",
    "    print(len(dataframe))\n",
    "\n",
    "    for f in filters:\n",
    "        dataframe = f(dataframe, **kwargs)\n",
    "        print(f\"{len(dataframe)} functions remaining after {f.__name__}\")\n",
    "    return dataframe\n",
    "\n",
    "func_df = expand_functions(combined_df)\n",
    "all_funcs = expand_functions(all_combined_df)\n",
    "print(f\"all functions from all uniuqe image passes: {len(all_funcs)}\")\n",
    "# func_df = filter_functions(func_df, context=\"comment\")\n",
    "\n",
    "# func_df = expand_functions(combined_df)\n",
    "# print(len(func_df))\n",
    "# func_df = filter_has_context(func_df, context=\"comment\")\n",
    "# print(len(func_df))\n",
    "# func_df = construct_inp(func_df, context=\"comment\")\n",
    "# print(len(func_df)) # shouldn't change\n",
    "# func_df = filter_length(func_df)\n",
    "# print(len(func_df))\n",
    "# func_df = filter_duplicates(func_df)\n",
    "# print(len(func_df))\n",
    "# func_df = filter_needed(func_df) #this step takes nearly 3 minutes on my laptop! do we know if it ever hangs?\n",
    "# print(len(func_df))\n",
    "# func_df[\"body\"].apply(len).describe()\n",
    "# func_df[\"id\"].value_counts()"
   ]
  },
  {
   "cell_type": "code",
   "execution_count": 3,
   "metadata": {},
   "outputs": [
    {
     "data": {
      "text/plain": [
       "27857"
      ]
     },
     "execution_count": 3,
     "metadata": {},
     "output_type": "execute_result"
    }
   ],
   "source": [
    "len(all_combined_df)"
   ]
  },
  {
   "cell_type": "code",
   "execution_count": 65,
   "metadata": {},
   "outputs": [
    {
     "data": {
      "text/plain": [
       "'vec3 mod289(vec3 x) {'"
      ]
     },
     "execution_count": 65,
     "metadata": {},
     "output_type": "execute_result"
    }
   ],
   "source": [
    "all_funcs.header[0]"
   ]
  },
  {
   "cell_type": "code",
   "execution_count": 108,
   "metadata": {},
   "outputs": [],
   "source": [
    "all_funcs[\"date\"] = pd.to_datetime(all_funcs[\"date\"].astype(int), unit=\"s\")"
   ]
  },
  {
   "cell_type": "code",
   "execution_count": 66,
   "metadata": {},
   "outputs": [
    {
     "data": {
      "text/plain": [
       "<Axes: title={'center': 'top 60 return types from ~200k functions'}, xlabel='type'>"
      ]
     },
     "execution_count": 66,
     "metadata": {},
     "output_type": "execute_result"
    },
    {
     "data": {
      "image/png": "[encoded data removed]",
      "text/plain": [
       "<Figure size 1500x700 with 1 Axes>"
      ]
     },
     "metadata": {},
     "output_type": "display_data"
    }
   ],
   "source": [
    "all_funcs[\"type\"] = all_funcs[\"header\"].str.split().str[0]\n",
    "all_funcs[\"name\"] = all_funcs[\"header\"].str.split().str[1].str.split(\"(\").str[0]\n",
    "# all_funcs[\"type\"].value_counts().head(30)\n",
    "all_funcs[\"type\"].value_counts().head(60).plot(kind=\"bar\", logy=True, figsize=(15,7), title=\"top 60 return types from ~200k functions\", width=.9)"
   ]
  },
  {
   "cell_type": "code",
   "execution_count": null,
   "metadata": {},
   "outputs": [
    {
     "data": {
      "text/plain": [
       "name        type \n",
       "mainImage   void     26222\n",
       "noise       float     2242\n",
       "map         float     2044\n",
       "sdBox       float     1548\n",
       "hash        float     1370\n",
       "rot         mat2      1288\n",
       "rand        float     1250\n",
       "calcNormal  vec3      1247\n",
       "fbm         float     1147\n",
       "smin        float     1091\n",
       "sdSphere    float     1059\n",
       "box         float      963\n",
       "normal      vec3       937\n",
       "render      vec3       841\n",
       "map         vec2       832\n",
       "random      float      794\n",
       "getNormal   vec3       766\n",
       "hsv2rgb     vec3       716\n",
       "GetNormal   vec3       689\n",
       "sphere      float      642\n",
       "rotate      vec2       579\n",
       "sdTorus     float      549\n",
       "circle      float      542\n",
       "scene       float      470\n",
       "sdPlane     float      465\n",
       "dot2        float      448\n",
       "ShowScene   vec3       436\n",
       "calcAO      float      431\n",
       "palette     vec3       415\n",
       "RayMarch    float      411\n",
       "Name: count, dtype: int64"
      ]
     },
     "execution_count": 72,
     "metadata": {},
     "output_type": "execute_result"
    }
   ],
   "source": [
    "all_funcs[[[\"name\", \"type\"]].value_counts().head(30)]"
   ]
  },
  {
   "cell_type": "code",
   "execution_count": 103,
   "metadata": {},
   "outputs": [],
   "source": [
    "builtin_types = [\"void\", \"float\", \"vec2\", \"vec3\", \"vec4\", \"int\", \"uint\", \"mat2\", \"mat3\", \"mat4\", \"bool\", \"ivec2\", \"ivec3\", \"ivec4\", \"uvec2\", \"uvec3\", \"uvec4\", \"sampler2D\"]"
   ]
  },
  {
   "cell_type": "code",
   "execution_count": 107,
   "metadata": {},
   "outputs": [
    {
     "data": {
      "text/plain": [
       "type   name         \n",
       "float  noise             2242\n",
       "       map               2044\n",
       "       sdBox             1548\n",
       "       hash              1370\n",
       "int    modi                24\n",
       "       and                 23\n",
       "       hash                21\n",
       "       rand                16\n",
       "uint   hash               107\n",
       "       uhash11             27\n",
       "       ihash                9\n",
       "       hash11u              8\n",
       "vec2   map                832\n",
       "       rotate             579\n",
       "       Rot2D              402\n",
       "       opU                364\n",
       "vec3   calcNormal        1247\n",
       "       normal             937\n",
       "       render             841\n",
       "       getNormal          766\n",
       "vec4   permute            242\n",
       "       map                217\n",
       "       taylorInvSqrt      202\n",
       "       mod289             175\n",
       "void   mainImage        26222\n",
       "       pR                 138\n",
       "       rotate             130\n",
       "       mainVR             115\n",
       "Name: count, dtype: int64"
      ]
     },
     "execution_count": 107,
     "metadata": {},
     "output_type": "execute_result"
    }
   ],
   "source": [
    "# top 5 function names per type for some of the builtin types\n",
    "name_per_type = all_funcs.loc[all_funcs[\"type\"].isin(builtin_types[:7])][[\"name\", \"type\"]].groupby(\"type\").value_counts()\n",
    "name_per_type = name_per_type.groupby(\"type\").head(4)\n",
    "name_per_type"
   ]
  },
  {
   "cell_type": "code",
   "execution_count": 57,
   "metadata": {},
   "outputs": [
    {
     "data": {
      "text/plain": [
       "arg_types\n",
       "vec3         134933\n",
       "float        112759\n",
       "vec2         100042\n",
       "vec4          33330\n",
       "int            5943\n",
       "Ray            1271\n",
       "bool           1051\n",
       "sampler2D       692\n",
       "uint            570\n",
       "mat3            551\n",
       "mat4            423\n",
       "ivec2           377\n",
       "ray             300\n",
       "Sphere          288\n",
       "Complex         263\n",
       "Hit             263\n",
       "Real            255\n",
       "Material        255\n",
       "surface         241\n",
       "Ray_t           196\n",
       "float3          183\n",
       "uvec2           165\n",
       "material        160\n",
       "poly2           154\n",
       "vec1            154\n",
       "Light           149\n",
       "Camera          137\n",
       "uvec3           135\n",
       "mat2            120\n",
       "ray_t           107\n",
       "Name: count, dtype: int64"
      ]
     },
     "execution_count": 57,
     "metadata": {},
     "output_type": "execute_result"
    }
   ],
   "source": [
    "# count the arg types\n",
    "def get_arg_types(header):\n",
    "    if \"(\" not in header:\n",
    "        return []\n",
    "    \n",
    "    args = header.split(\"(\")[1].split(\")\")[0].split(\",\")\n",
    "    types = [arg.strip().removeprefix(\"const\").removeprefix(\"in \").removeprefix(\"out\").removeprefix(\"inout\").strip().split()[0] for arg in args if arg.strip() != \"\" and not arg.strip().startswith(\"//\")]\n",
    "    return types\n",
    "\n",
    "# get_arg_types(all_funcs[\"header\"].iloc[0])\n",
    "\n",
    "all_funcs[\"arg_types\"] = all_funcs[\"header\"].apply(get_arg_types)\n",
    "all_funcs[\"arg_types\"].explode().value_counts().head(30)\n",
    "# all_funcs[\"arg_types\"].explode().value_counts().head(60).plot(kind=\"bar\", logy=True, figsize=(15,7), title=\"top 60 argument types from ~200k functions\", width=.9)"
   ]
  },
  {
   "cell_type": "code",
   "execution_count": 58,
   "metadata": {},
   "outputs": [
    {
     "data": {
      "text/html": [
       "<div>\n",
       "<style scoped>\n",
       "    .dataframe tbody tr th:only-of-type {\n",
       "        vertical-align: middle;\n",
       "    }\n",
       "\n",
       "    .dataframe tbody tr th {\n",
       "        vertical-align: top;\n",
       "    }\n",
       "\n",
       "    .dataframe thead th {\n",
       "        text-align: right;\n",
       "    }\n",
       "</style>\n",
       "<table border=\"1\" class=\"dataframe\">\n",
       "  <thead>\n",
       "    <tr style=\"text-align: right;\">\n",
       "      <th></th>\n",
       "      <th>id</th>\n",
       "      <th>author</th>\n",
       "      <th>date</th>\n",
       "      <th>image_code</th>\n",
       "      <th>license</th>\n",
       "      <th>func_bytes</th>\n",
       "      <th>functions</th>\n",
       "      <th>comment</th>\n",
       "      <th>header</th>\n",
       "      <th>docstring</th>\n",
       "      <th>body</th>\n",
       "      <th>type</th>\n",
       "      <th>arg_types</th>\n",
       "    </tr>\n",
       "  </thead>\n",
       "  <tbody>\n",
       "    <tr>\n",
       "      <th>0</th>\n",
       "      <td>4dB3DV</td>\n",
       "      <td>steverock</td>\n",
       "      <td>1393353675</td>\n",
       "      <td>\\nvec3 mod289(vec3 x) {\\n  return x - floor(x ...</td>\n",
       "      <td>CC-BY-NC-SA-3.0</td>\n",
       "      <td>[1, 1, 22, 22, 71]</td>\n",
       "      <td>[[1, 1, 22, 22, 71], [73, 73, 94, 94, 143], [1...</td>\n",
       "      <td></td>\n",
       "      <td>vec3 mod289(vec3 x) {</td>\n",
       "      <td></td>\n",
       "      <td>\\n  return x - floor(x * (1.0 / 289.0)) * 289....</td>\n",
       "      <td>vec3</td>\n",
       "      <td>[vec3]</td>\n",
       "    </tr>\n",
       "    <tr>\n",
       "      <th>1</th>\n",
       "      <td>4dB3DV</td>\n",
       "      <td>steverock</td>\n",
       "      <td>1393353675</td>\n",
       "      <td>\\nvec3 mod289(vec3 x) {\\n  return x - floor(x ...</td>\n",
       "      <td>CC-BY-NC-SA-3.0</td>\n",
       "      <td>[73, 73, 94, 94, 143]</td>\n",
       "      <td>[[1, 1, 22, 22, 71], [73, 73, 94, 94, 143], [1...</td>\n",
       "      <td></td>\n",
       "      <td>vec2 mod289(vec2 x) {</td>\n",
       "      <td></td>\n",
       "      <td>\\n  return x - floor(x * (1.0 / 289.0)) * 289....</td>\n",
       "      <td>vec2</td>\n",
       "      <td>[vec2]</td>\n",
       "    </tr>\n",
       "    <tr>\n",
       "      <th>2</th>\n",
       "      <td>4dB3DV</td>\n",
       "      <td>steverock</td>\n",
       "      <td>1393353675</td>\n",
       "      <td>\\nvec3 mod289(vec3 x) {\\n  return x - floor(x ...</td>\n",
       "      <td>CC-BY-NC-SA-3.0</td>\n",
       "      <td>[145, 145, 166, 166, 215]</td>\n",
       "      <td>[[1, 1, 22, 22, 71], [73, 73, 94, 94, 143], [1...</td>\n",
       "      <td></td>\n",
       "      <td>vec4 mod289(vec4 x) {</td>\n",
       "      <td></td>\n",
       "      <td>\\n  return x - floor(x * (1.0 / 289.0)) * 289....</td>\n",
       "      <td>vec4</td>\n",
       "      <td>[vec4]</td>\n",
       "    </tr>\n",
       "    <tr>\n",
       "      <th>3</th>\n",
       "      <td>4dB3DV</td>\n",
       "      <td>steverock</td>\n",
       "      <td>1393353675</td>\n",
       "      <td>\\nvec3 mod289(vec3 x) {\\n  return x - floor(x ...</td>\n",
       "      <td>CC-BY-NC-SA-3.0</td>\n",
       "      <td>[217, 217, 239, 239, 279]</td>\n",
       "      <td>[[1, 1, 22, 22, 71], [73, 73, 94, 94, 143], [1...</td>\n",
       "      <td></td>\n",
       "      <td>vec4 permute(vec4 x) {</td>\n",
       "      <td></td>\n",
       "      <td>\\n     return mod289(((x*34.0)+1.0)*x);\\n}</td>\n",
       "      <td>vec4</td>\n",
       "      <td>[vec4]</td>\n",
       "    </tr>\n",
       "    <tr>\n",
       "      <th>4</th>\n",
       "      <td>4dB3DV</td>\n",
       "      <td>steverock</td>\n",
       "      <td>1393353675</td>\n",
       "      <td>\\nvec3 mod289(vec3 x) {\\n  return x - floor(x ...</td>\n",
       "      <td>CC-BY-NC-SA-3.0</td>\n",
       "      <td>[281, 281, 303, 303, 340]</td>\n",
       "      <td>[[1, 1, 22, 22, 71], [73, 73, 94, 94, 143], [1...</td>\n",
       "      <td></td>\n",
       "      <td>vec3 permute(vec3 x) {</td>\n",
       "      <td></td>\n",
       "      <td>\\n  return mod289(((x*34.0)+1.0)*x);\\n}</td>\n",
       "      <td>vec3</td>\n",
       "      <td>[vec3]</td>\n",
       "    </tr>\n",
       "    <tr>\n",
       "      <th>...</th>\n",
       "      <td>...</td>\n",
       "      <td>...</td>\n",
       "      <td>...</td>\n",
       "      <td>...</td>\n",
       "      <td>...</td>\n",
       "      <td>...</td>\n",
       "      <td>...</td>\n",
       "      <td>...</td>\n",
       "      <td>...</td>\n",
       "      <td>...</td>\n",
       "      <td>...</td>\n",
       "      <td>...</td>\n",
       "      <td>...</td>\n",
       "    </tr>\n",
       "    <tr>\n",
       "      <th>202747</th>\n",
       "      <td>mlcfR2</td>\n",
       "      <td>Sazanami</td>\n",
       "      <td>1701409456</td>\n",
       "      <td>void mainImage( out vec4 fragColor, in vec2 fr...</td>\n",
       "      <td>CC-BY-NC-SA-3.0</td>\n",
       "      <td>[0, 0, 57, 107, 312]</td>\n",
       "      <td>[[0, 0, 57, 107, 312]]</td>\n",
       "      <td></td>\n",
       "      <td>void mainImage( out vec4 fragColor, in vec2 fr...</td>\n",
       "      <td>\\n    // Normalized pixel coordinates (from 0 ...</td>\n",
       "      <td>\\n    vec2 uv = fragCoord/iResolution.xy;\\n   ...</td>\n",
       "      <td>void</td>\n",
       "      <td>[vec4, vec2]</td>\n",
       "    </tr>\n",
       "    <tr>\n",
       "      <th>202748</th>\n",
       "      <td>dltfzB</td>\n",
       "      <td>ArmandB</td>\n",
       "      <td>1701385547</td>\n",
       "      <td>//this is needed\\nfloat sdLine(vec2 a, vec2 b,...</td>\n",
       "      <td>CC-BY-NC-SA-3.0</td>\n",
       "      <td>[0, 17, 54, 54, 189]</td>\n",
       "      <td>[[0, 17, 54, 54, 189], [191, 208, 230, 230, 45...</td>\n",
       "      <td>//this is needed\\n</td>\n",
       "      <td>float sdLine(vec2 a, vec2 b, vec2 p){</td>\n",
       "      <td></td>\n",
       "      <td>\\n    vec2 ab = b - a;\\n    float t = dot(p - ...</td>\n",
       "      <td>float</td>\n",
       "      <td>[vec2, vec2, vec2]</td>\n",
       "    </tr>\n",
       "    <tr>\n",
       "      <th>202749</th>\n",
       "      <td>dltfzB</td>\n",
       "      <td>ArmandB</td>\n",
       "      <td>1701385547</td>\n",
       "      <td>//this is needed\\nfloat sdLine(vec2 a, vec2 b,...</td>\n",
       "      <td>CC-BY-NC-SA-3.0</td>\n",
       "      <td>[191, 208, 230, 230, 451]</td>\n",
       "      <td>[[0, 17, 54, 54, 189], [191, 208, 230, 230, 45...</td>\n",
       "      <td>//define the sdf\\n</td>\n",
       "      <td>float getDist(vec2 p){</td>\n",
       "      <td></td>\n",
       "      <td>\\n    float fp = 2.0*floor((p.x+1.0)/2.0); //g...</td>\n",
       "      <td>float</td>\n",
       "      <td>[vec2]</td>\n",
       "    </tr>\n",
       "    <tr>\n",
       "      <th>202750</th>\n",
       "      <td>dltfzB</td>\n",
       "      <td>ArmandB</td>\n",
       "      <td>1701385547</td>\n",
       "      <td>//this is needed\\nfloat sdLine(vec2 a, vec2 b,...</td>\n",
       "      <td>CC-BY-NC-SA-3.0</td>\n",
       "      <td>[453, 509, 533, 533, 878]</td>\n",
       "      <td>[[0, 17, 54, 54, 189], [191, 208, 230, 230, 45...</td>\n",
       "      <td>//binary search the sdf to find the value\\n//l...</td>\n",
       "      <td>float sawtooth(float x){</td>\n",
       "      <td></td>\n",
       "      <td>\\n    int maxsteps = 100;\\n    vec2 p = vec2(x...</td>\n",
       "      <td>float</td>\n",
       "      <td>[float]</td>\n",
       "    </tr>\n",
       "    <tr>\n",
       "      <th>202751</th>\n",
       "      <td>dltfzB</td>\n",
       "      <td>ArmandB</td>\n",
       "      <td>1701385547</td>\n",
       "      <td>//this is needed\\nfloat sdLine(vec2 a, vec2 b,...</td>\n",
       "      <td>CC-BY-NC-SA-3.0</td>\n",
       "      <td>[880, 880, 937, 937, 1112]</td>\n",
       "      <td>[[0, 17, 54, 54, 189], [191, 208, 230, 230, 45...</td>\n",
       "      <td></td>\n",
       "      <td>void mainImage( out vec4 fragColor, in vec2 fr...</td>\n",
       "      <td></td>\n",
       "      <td>\\n    vec2 uv = (fragCoord - vec2(iResolution....</td>\n",
       "      <td>void</td>\n",
       "      <td>[vec4, vec2]</td>\n",
       "    </tr>\n",
       "  </tbody>\n",
       "</table>\n",
       "<p>202752 rows × 13 columns</p>\n",
       "</div>"
      ],
      "text/plain": [
       "            id     author        date  \\\n",
       "0       4dB3DV  steverock  1393353675   \n",
       "1       4dB3DV  steverock  1393353675   \n",
       "2       4dB3DV  steverock  1393353675   \n",
       "3       4dB3DV  steverock  1393353675   \n",
       "4       4dB3DV  steverock  1393353675   \n",
       "...        ...        ...         ...   \n",
       "202747  mlcfR2   Sazanami  1701409456   \n",
       "202748  dltfzB    ArmandB  1701385547   \n",
       "202749  dltfzB    ArmandB  1701385547   \n",
       "202750  dltfzB    ArmandB  1701385547   \n",
       "202751  dltfzB    ArmandB  1701385547   \n",
       "\n",
       "                                               image_code          license  \\\n",
       "0       \\nvec3 mod289(vec3 x) {\\n  return x - floor(x ...  CC-BY-NC-SA-3.0   \n",
       "1       \\nvec3 mod289(vec3 x) {\\n  return x - floor(x ...  CC-BY-NC-SA-3.0   \n",
       "2       \\nvec3 mod289(vec3 x) {\\n  return x - floor(x ...  CC-BY-NC-SA-3.0   \n",
       "3       \\nvec3 mod289(vec3 x) {\\n  return x - floor(x ...  CC-BY-NC-SA-3.0   \n",
       "4       \\nvec3 mod289(vec3 x) {\\n  return x - floor(x ...  CC-BY-NC-SA-3.0   \n",
       "...                                                   ...              ...   \n",
       "202747  void mainImage( out vec4 fragColor, in vec2 fr...  CC-BY-NC-SA-3.0   \n",
       "202748  //this is needed\\nfloat sdLine(vec2 a, vec2 b,...  CC-BY-NC-SA-3.0   \n",
       "202749  //this is needed\\nfloat sdLine(vec2 a, vec2 b,...  CC-BY-NC-SA-3.0   \n",
       "202750  //this is needed\\nfloat sdLine(vec2 a, vec2 b,...  CC-BY-NC-SA-3.0   \n",
       "202751  //this is needed\\nfloat sdLine(vec2 a, vec2 b,...  CC-BY-NC-SA-3.0   \n",
       "\n",
       "                        func_bytes  \\\n",
       "0               [1, 1, 22, 22, 71]   \n",
       "1            [73, 73, 94, 94, 143]   \n",
       "2        [145, 145, 166, 166, 215]   \n",
       "3        [217, 217, 239, 239, 279]   \n",
       "4        [281, 281, 303, 303, 340]   \n",
       "...                            ...   \n",
       "202747        [0, 0, 57, 107, 312]   \n",
       "202748        [0, 17, 54, 54, 189]   \n",
       "202749   [191, 208, 230, 230, 451]   \n",
       "202750   [453, 509, 533, 533, 878]   \n",
       "202751  [880, 880, 937, 937, 1112]   \n",
       "\n",
       "                                                functions  \\\n",
       "0       [[1, 1, 22, 22, 71], [73, 73, 94, 94, 143], [1...   \n",
       "1       [[1, 1, 22, 22, 71], [73, 73, 94, 94, 143], [1...   \n",
       "2       [[1, 1, 22, 22, 71], [73, 73, 94, 94, 143], [1...   \n",
       "3       [[1, 1, 22, 22, 71], [73, 73, 94, 94, 143], [1...   \n",
       "4       [[1, 1, 22, 22, 71], [73, 73, 94, 94, 143], [1...   \n",
       "...                                                   ...   \n",
       "202747                             [[0, 0, 57, 107, 312]]   \n",
       "202748  [[0, 17, 54, 54, 189], [191, 208, 230, 230, 45...   \n",
       "202749  [[0, 17, 54, 54, 189], [191, 208, 230, 230, 45...   \n",
       "202750  [[0, 17, 54, 54, 189], [191, 208, 230, 230, 45...   \n",
       "202751  [[0, 17, 54, 54, 189], [191, 208, 230, 230, 45...   \n",
       "\n",
       "                                                  comment  \\\n",
       "0                                                           \n",
       "1                                                           \n",
       "2                                                           \n",
       "3                                                           \n",
       "4                                                           \n",
       "...                                                   ...   \n",
       "202747                                                      \n",
       "202748                                 //this is needed\\n   \n",
       "202749                                 //define the sdf\\n   \n",
       "202750  //binary search the sdf to find the value\\n//l...   \n",
       "202751                                                      \n",
       "\n",
       "                                                   header  \\\n",
       "0                                   vec3 mod289(vec3 x) {   \n",
       "1                                   vec2 mod289(vec2 x) {   \n",
       "2                                   vec4 mod289(vec4 x) {   \n",
       "3                                  vec4 permute(vec4 x) {   \n",
       "4                                  vec3 permute(vec3 x) {   \n",
       "...                                                   ...   \n",
       "202747  void mainImage( out vec4 fragColor, in vec2 fr...   \n",
       "202748              float sdLine(vec2 a, vec2 b, vec2 p){   \n",
       "202749                             float getDist(vec2 p){   \n",
       "202750                           float sawtooth(float x){   \n",
       "202751  void mainImage( out vec4 fragColor, in vec2 fr...   \n",
       "\n",
       "                                                docstring  \\\n",
       "0                                                           \n",
       "1                                                           \n",
       "2                                                           \n",
       "3                                                           \n",
       "4                                                           \n",
       "...                                                   ...   \n",
       "202747  \\n    // Normalized pixel coordinates (from 0 ...   \n",
       "202748                                                      \n",
       "202749                                                      \n",
       "202750                                                      \n",
       "202751                                                      \n",
       "\n",
       "                                                     body   type  \\\n",
       "0       \\n  return x - floor(x * (1.0 / 289.0)) * 289....   vec3   \n",
       "1       \\n  return x - floor(x * (1.0 / 289.0)) * 289....   vec2   \n",
       "2       \\n  return x - floor(x * (1.0 / 289.0)) * 289....   vec4   \n",
       "3              \\n     return mod289(((x*34.0)+1.0)*x);\\n}   vec4   \n",
       "4                 \\n  return mod289(((x*34.0)+1.0)*x);\\n}   vec3   \n",
       "...                                                   ...    ...   \n",
       "202747  \\n    vec2 uv = fragCoord/iResolution.xy;\\n   ...   void   \n",
       "202748  \\n    vec2 ab = b - a;\\n    float t = dot(p - ...  float   \n",
       "202749  \\n    float fp = 2.0*floor((p.x+1.0)/2.0); //g...  float   \n",
       "202750  \\n    int maxsteps = 100;\\n    vec2 p = vec2(x...  float   \n",
       "202751  \\n    vec2 uv = (fragCoord - vec2(iResolution....   void   \n",
       "\n",
       "                 arg_types  \n",
       "0                   [vec3]  \n",
       "1                   [vec2]  \n",
       "2                   [vec4]  \n",
       "3                   [vec4]  \n",
       "4                   [vec3]  \n",
       "...                    ...  \n",
       "202747        [vec4, vec2]  \n",
       "202748  [vec2, vec2, vec2]  \n",
       "202749              [vec2]  \n",
       "202750             [float]  \n",
       "202751        [vec4, vec2]  \n",
       "\n",
       "[202752 rows x 13 columns]"
      ]
     },
     "execution_count": 58,
     "metadata": {},
     "output_type": "execute_result"
    }
   ],
   "source": [
    "all_funcs"
   ]
  },
  {
   "cell_type": "code",
   "execution_count": 59,
   "metadata": {},
   "outputs": [],
   "source": [
    "# export_funcs = all_funcs[[\"id\", \"type\", \"arg_types\"]]\n",
    "# export_funcs.to_csv(\"200k_functions.csv\", index=False)"
   ]
  },
  {
   "cell_type": "code",
   "execution_count": null,
   "metadata": {},
   "outputs": [
    {
     "data": {
      "text/plain": [
       "author\n",
       "ollj           124\n",
       "skye_adaire      3\n",
       "elenzil          1\n",
       "Name: count, dtype: int64"
      ]
     },
     "execution_count": 155,
     "metadata": {},
     "output_type": "execute_result"
    }
   ],
   "source": [
    "# check for type args\n",
    "all_funcs[all_funcs[\"arg_types\"].apply(lambda x: \"vec1\" in x)].value_counts(\"author\")"
   ]
  },
  {
   "cell_type": "code",
   "execution_count": 61,
   "metadata": {},
   "outputs": [
    {
     "data": {
      "text/html": [
       "<div>\n",
       "<style scoped>\n",
       "    .dataframe tbody tr th:only-of-type {\n",
       "        vertical-align: middle;\n",
       "    }\n",
       "\n",
       "    .dataframe tbody tr th {\n",
       "        vertical-align: top;\n",
       "    }\n",
       "\n",
       "    .dataframe thead th {\n",
       "        text-align: right;\n",
       "    }\n",
       "</style>\n",
       "<table border=\"1\" class=\"dataframe\">\n",
       "  <thead>\n",
       "    <tr style=\"text-align: right;\">\n",
       "      <th></th>\n",
       "      <th>return_count</th>\n",
       "      <th>arg_count</th>\n",
       "    </tr>\n",
       "  </thead>\n",
       "  <tbody>\n",
       "    <tr>\n",
       "      <th>float</th>\n",
       "      <td>86230</td>\n",
       "      <td>112759</td>\n",
       "    </tr>\n",
       "    <tr>\n",
       "      <th>vec3</th>\n",
       "      <td>39447</td>\n",
       "      <td>134933</td>\n",
       "    </tr>\n",
       "    <tr>\n",
       "      <th>void</th>\n",
       "      <td>33637</td>\n",
       "      <td>104</td>\n",
       "    </tr>\n",
       "    <tr>\n",
       "      <th>vec2</th>\n",
       "      <td>17962</td>\n",
       "      <td>100042</td>\n",
       "    </tr>\n",
       "    <tr>\n",
       "      <th>vec4</th>\n",
       "      <td>8605</td>\n",
       "      <td>33330</td>\n",
       "    </tr>\n",
       "    <tr>\n",
       "      <th>mat2</th>\n",
       "      <td>3486</td>\n",
       "      <td>120</td>\n",
       "    </tr>\n",
       "    <tr>\n",
       "      <th>mat3</th>\n",
       "      <td>3338</td>\n",
       "      <td>551</td>\n",
       "    </tr>\n",
       "    <tr>\n",
       "      <th>bool</th>\n",
       "      <td>2402</td>\n",
       "      <td>1051</td>\n",
       "    </tr>\n",
       "    <tr>\n",
       "      <th>mat4</th>\n",
       "      <td>1119</td>\n",
       "      <td>423</td>\n",
       "    </tr>\n",
       "    <tr>\n",
       "      <th>int</th>\n",
       "      <td>791</td>\n",
       "      <td>5943</td>\n",
       "    </tr>\n",
       "  </tbody>\n",
       "</table>\n",
       "</div>"
      ],
      "text/plain": [
       "       return_count  arg_count\n",
       "float         86230     112759\n",
       "vec3          39447     134933\n",
       "void          33637        104\n",
       "vec2          17962     100042\n",
       "vec4           8605      33330\n",
       "mat2           3486        120\n",
       "mat3           3338        551\n",
       "bool           2402       1051\n",
       "mat4           1119        423\n",
       "int             791       5943"
      ]
     },
     "execution_count": 61,
     "metadata": {},
     "output_type": "execute_result"
    }
   ],
   "source": [
    "return_counts = all_funcs[\"type\"].value_counts()\n",
    "arg_counts = all_funcs[\"arg_types\"].explode().value_counts()\n",
    "\n",
    "all_types = set(return_counts.index).union(set(arg_counts.index))\n",
    "\n",
    "counts = pd.DataFrame({\n",
    "    \"return_count\": return_counts,\n",
    "    \"arg_count\": arg_counts\n",
    "}).fillna(0).astype(int).sort_values(\"return_count\", ascending=False)\n",
    "counts.head(10)"
   ]
  },
  {
   "cell_type": "code",
   "execution_count": 64,
   "metadata": {},
   "outputs": [
    {
     "data": {
      "text/plain": [
       "<Axes: title={'center': 'top 50 return and argument types from ~200k functions'}>"
      ]
     },
     "execution_count": 64,
     "metadata": {},
     "output_type": "execute_result"
    },
    {
     "data": {
      "image/png": "[encoded data removed]",
      "text/plain": [
       "<Figure size 1800x700 with 1 Axes>"
      ]
     },
     "metadata": {},
     "output_type": "display_data"
    }
   ],
   "source": [
    "# resort by the sum of return and arg counts\n",
    "order = counts.sum(axis=1).sort_values(ascending=False)\n",
    "counts = counts.reindex(order.index)\n",
    "counts.head(50).plot(kind=\"bar\", logy=True, figsize=(18,7), title=\"top 50 return and argument types from ~200k functions\", width=.9)"
   ]
  },
  {
   "cell_type": "code",
   "execution_count": null,
   "metadata": {},
   "outputs": [],
   "source": [
    "# counts.to_csv(\"type_freqs.csv\")"
   ]
  },
  {
   "cell_type": "code",
   "execution_count": 159,
   "metadata": {},
   "outputs": [
    {
     "data": {
      "text/plain": [
       "type\n",
       "seg      13\n",
       "vec3     12\n",
       "void     12\n",
       "vec2     10\n",
       "mat4      4\n",
       "float     4\n",
       "Name: count, dtype: int64"
      ]
     },
     "execution_count": 159,
     "metadata": {},
     "output_type": "execute_result"
    }
   ],
   "source": [
    "all_funcs[all_funcs[\"author\"] == \"ttg\"].value_counts(\"type\")"
   ]
  },
  {
   "cell_type": "code",
   "execution_count": 154,
   "metadata": {},
   "outputs": [
    {
     "data": {
      "text/plain": [
       "<Axes: title={'center': 'function return types per year'}, xlabel='year'>"
      ]
     },
     "execution_count": 154,
     "metadata": {},
     "output_type": "execute_result"
    },
    {
     "data": {
      "image/png": "[encoded data removed]",
      "text/plain": [
       "<Figure size 1500x700 with 1 Axes>"
      ]
     },
     "metadata": {},
     "output_type": "display_data"
    }
   ],
   "source": [
    "# func types per year\n",
    "all_funcs[\"year\"] = all_funcs[\"date\"].dt.year\n",
    "\n",
    "funcs_per_year = all_funcs[[\"year\", \"type\"]].groupby([\"year\"]).value_counts()\n",
    "# (funcs_per_year.groupby(\"year\").head(8)/funcs_per_year.groupby(\"year\").sum()).unstack().plot(kind=\"bar\", stacked=True, figsize=(15,7), title=\"function types per year, stretched\", width=.9)\n",
    "(funcs_per_year.groupby(\"year\").head(10)).unstack().plot(kind=\"bar\", stacked=True, figsize=(15,7), title=\"function return types per year\", width=.9)"
   ]
  },
  {
   "cell_type": "code",
   "execution_count": 10,
   "metadata": {},
   "outputs": [
    {
     "data": {
      "text/plain": [
       "<Axes: xlabel='date'>"
      ]
     },
     "execution_count": 10,
     "metadata": {},
     "output_type": "execute_result"
    },
    {
     "data": {
      "image/png": "[encoded data removed]",
      "text/plain": [
       "<Figure size 640x480 with 1 Axes>"
      ]
     },
     "metadata": {},
     "output_type": "display_data"
    }
   ],
   "source": [
    "func_df[\"date\"] = pd.to_datetime(func_df[\"date\"], unit=\"s\")\n",
    "func_df[\"date\"].dt.year.value_counts().sort_index().plot(kind=\"bar\")"
   ]
  },
  {
   "cell_type": "code",
   "execution_count": null,
   "metadata": {},
   "outputs": [],
   "source": [
    "# inspection for length\n",
    "# show the ids for the longest image_codes\n",
    "func_df.sort_values(\"image_code\", key=lambda x: x.str.len(), ascending=False).head(10)[\"id\"]\n",
    "# Stack v2 filters: 100k rows, https://github.com/go-enry/go-enry (is_generated), less than 25% of alphabetic characters, encoded, \n",
    "# https://www.shadertoy.com/view/NstGDM (contains a neural network in the code, don't want that)\n",
    "\n",
    "\n",
    "# func_df[\"comment\"].apply(len).describe(percentiles=[.5, .75, .9, .95, .99])"
   ]
  },
  {
   "cell_type": "code",
   "execution_count": null,
   "metadata": {},
   "outputs": [],
   "source": [
    "combined_df.sort_values(by=\"date\", ascending=True).drop_duplicates(\"author\")[\"date\"].dt.year.value_counts().sort_index()#.plot.bar(alpha=0.3, color=\"red\")\n",
    "# combined_df.sort_values(by=\"date\", ascending=False).drop_duplicates(\"author\")[\"date\"].dt.year.value_counts().sort_index()#.plot.bar(alpha=0.3, color=\"blue\")"
   ]
  },
  {
   "cell_type": "code",
   "execution_count": null,
   "metadata": {},
   "outputs": [],
   "source": [
    "# Shaders per year, in the combined verison... will get published to API instead.\n",
    "# all_combined_df[\"date\"] = pd.to_datetime(all_combined_df[\"date\"].astype(int), unit=\"s\") # this should only be run once.\n",
    "all_combined_df[\"date\"].dt.year.value_counts().sort_index()#.plot(kind=\"bar\", title=\"shaders per year\")"
   ]
  },
  {
   "cell_type": "code",
   "execution_count": null,
   "metadata": {},
   "outputs": [],
   "source": [
    "all_combined_df[\"license\"].value_counts()/len(all_combined_df)"
   ]
  },
  {
   "cell_type": "code",
   "execution_count": null,
   "metadata": {},
   "outputs": [],
   "source": [
    "# check for the percentage of alphabetic characters in the whole code.\n",
    "api_df[api_df[\"image_code\"].apply(lambda x: sum(c.isalpha() for c in x) / len(x)) < .25][[\"id\"]]#, \"comment\", \"header\"]]"
   ]
  },
  {
   "cell_type": "code",
   "execution_count": null,
   "metadata": {},
   "outputs": [],
   "source": [
    "# extract the shader_ids that are left in the end to run tests just on them.\n",
    "# with open(\"data/ids/v0-3.txt\", \"w\", encoding=\"utf-8\") as f:\n",
    "    # f.write(\"\\n\".join(func_df[\"id\"].unique().tolist()))"
   ]
  },
  {
   "cell_type": "code",
   "execution_count": null,
   "metadata": {},
   "outputs": [],
   "source": [
    "print(func_df[\"id\"].nunique()) # our 719 functions are just from 290 programs?\n",
    "func_df[\"header\"].str.split(\" \").apply(lambda x: x[0]).value_counts()\n",
    "# func_df[\"header\"].str.startswith(\"void\").sum()"
   ]
  },
  {
   "cell_type": "code",
   "execution_count": null,
   "metadata": {},
   "outputs": [],
   "source": [
    "# some temporary columns\n",
    "all_funcs[\"function\"] = all_funcs[\"header\"] + all_funcs[\"body\"]\n",
    "func_df[\"function\"] = func_df[\"header\"] + func_df[\"body\"]\n",
    "func_df[\"function_frequency\"] = all_funcs[\"function\"].value_counts()[func_df[\"function\"]].values\n",
    "func_df[\"header_frequency\"] = all_funcs[\"header\"].value_counts()[func_df[\"header\"]].values\n",
    "func_df"
   ]
  },
  {
   "cell_type": "code",
   "execution_count": null,
   "metadata": {},
   "outputs": [],
   "source": [
    "# drop some columns we don't need in the dataset\n",
    "clean_func_df = func_df.drop(columns=[\"function\", \"docstring\", \"needed\"])\n",
    "clean_func_df"
   ]
  },
  {
   "cell_type": "code",
   "execution_count": null,
   "metadata": {},
   "outputs": [],
   "source": [
    "# maybe something to show which kind of shaders are easy/simple?\n",
    "# the common tags in our dataset are 2d (73 out of 394), sdf (61), 3d (47), distance (39) etc?\n",
    "# according to the full dataset, our filters have blindspots in \"fractal\", \"raymarching\", \"noise\", \"procedural\"\n",
    "from collections import Counter\n",
    "print(\"all:\", end=\"\")\n",
    "all_tags = []\n",
    "for t in all_combined_df[\"tags\"]:\n",
    "    all_tags.extend(t)\n",
    "print(len(all_tags))\n",
    "tag_counts = Counter(all_tags)\n",
    "print(tag_counts.most_common(10))\n",
    "print(\"eval:\", end=\"\")\n",
    "eval_ids = func_df[\"id\"].tolist()\n",
    "all_tags = []\n",
    "for t in all_combined_df[all_combined_df[\"id\"].isin(eval_ids)][\"tags\"]:\n",
    "    all_tags.extend(t)\n",
    "print(len(all_tags))\n",
    "tag_counts = Counter(all_tags)\n",
    "print(tag_counts.most_common(10))"
   ]
  },
  {
   "cell_type": "code",
   "execution_count": null,
   "metadata": {},
   "outputs": [],
   "source": [
    "# publishing the v0.3 version with context=\"comment\" and all the filters.\n",
    "from datasets import Dataset\n",
    "func_ds = Dataset.from_pandas(clean_func_df)\n",
    "func_ds = func_ds.remove_columns(['__index_level_0__'])\n",
    "func_ds\n",
    "# func_ds.push_to_hub(\"Vipitis/Shadereval-experiments-dev\", commit_message=\"initial v0.4 with 467\", private=False, split=\"test\") # don't easily uncomment again..."
   ]
  },
  {
   "cell_type": "code",
   "execution_count": null,
   "metadata": {},
   "outputs": [],
   "source": [
    "print(func_df[\"author\"].nunique())\n",
    "func_df[\"license\"].value_counts()"
   ]
  },
  {
   "cell_type": "code",
   "execution_count": null,
   "metadata": {},
   "outputs": [],
   "source": [
    "plot_per_month(\"license\", stretched=False, data=combined_df, legend=True)"
   ]
  },
  {
   "cell_type": "code",
   "execution_count": null,
   "metadata": {},
   "outputs": [],
   "source": [
    "# this is skewed due to duplicates -.-\n",
    "plot_per_year(\"id\", stretched=False, data=func_df, legend=False)"
   ]
  },
  {
   "cell_type": "code",
   "execution_count": null,
   "metadata": {},
   "outputs": [],
   "source": [
    "# this is recent perfer\n",
    "plot_per_year(\"id\", stretched=False, data=func_df, legend=False)"
   ]
  },
  {
   "cell_type": "code",
   "execution_count": null,
   "metadata": {},
   "outputs": [],
   "source": [
    "from datasets import load_dataset, disable_caching\n",
    "# disable_caching()\n",
    "ref_ds = load_dataset(\"Vipitis/Shadereval-experiments-dev\", revision=\"main\", split=\"test\")# , download_mode=\"force_redownload\") #might be revision=\"0.3\" eventually.\n",
    "ref_ds"
   ]
  },
  {
   "cell_type": "code",
   "execution_count": null,
   "metadata": {},
   "outputs": [],
   "source": [
    "# some functions appear multiple times but at most thirce, and a few twice...\n",
    "# comments appear up to 15 times which is odd, but all this SDF references I think.\n",
    "import pandas as pd\n",
    "ref_df = ref_ds.to_pandas()\n",
    "ref_df[\"header\"].value_counts().head(20)"
   ]
  },
  {
   "cell_type": "code",
   "execution_count": null,
   "metadata": {},
   "outputs": [],
   "source": [
    "for row in ref_ds:\n",
    "    print(row)\n",
    "    break"
   ]
  },
  {
   "cell_type": "code",
   "execution_count": null,
   "metadata": {},
   "outputs": [],
   "source": [
    "# all_funcs[\"id\"].nunique() # 27428 shaders/programs\n",
    "# all_funcs[\"header\"].nunique() # 78256 unique headers\n",
    "# all_funcs[\"body\"].nunique() # 130948 unique bodies\n",
    "all_funcs[\"function\"] = all_funcs[\"header\"] + all_funcs[\"body\"]\n",
    "all_funcs[\"function\"].nunique() # 137308 unique functions\n",
    "\n",
    "all_funcs[\"function\"].value_counts().head(20)"
   ]
  },
  {
   "cell_type": "code",
   "execution_count": null,
   "metadata": {},
   "outputs": [],
   "source": [
    "# function/header frequency in the eval set.\n",
    "all_funcs[\"header\"].value_counts()[func_df[\"header\"]].sort_values(ascending=False).plot(ylim=(0,200), xticks=[]) \n",
    "all_funcs[\"body\"].value_counts()[func_df[\"body\"]].sort_values(ascending=False).plot(xticks=[])\n",
    "all_funcs[\"function\"].value_counts()[func_df[\"function\"]].sort_values(ascending=False).plot(xticks=[])"
   ]
  },
  {
   "cell_type": "code",
   "execution_count": null,
   "metadata": {},
   "outputs": [],
   "source": [
    "# unique timestamps per year\n",
    "\n",
    "df_dates = pd.DataFrame(func_df[\"date\"].unique(), columns=[\"date\"])\n",
    "df_dates[\"date\"].dt.year.value_counts().sort_index()#.plot(kind=\"bar\")"
   ]
  },
  {
   "cell_type": "code",
   "execution_count": null,
   "metadata": {},
   "outputs": [],
   "source": [
    "# collect all panics\n",
    "import tempfile\n",
    "import subprocess\n",
    "import os\n",
    "from tqdm.auto import tqdm\n",
    "\n",
    "_file_template = \"\"\"\n",
    "from wgpu_shadertoy import Shadertoy\n",
    "\n",
    "shader_code = '''{}'''\n",
    "\n",
    "shader = Shadertoy(shader_code, shader_type=\"glsl\", offscreen=True)\n",
    "\n",
    "if __name__ == \"__main__\":\n",
    "    shader.show()\n",
    "    shader.snapshot(123.45)\n",
    "\"\"\"\n",
    "\n",
    "def _run_shader_in_subprocess(shader_code:str, timeout:float=10) -> str:\n",
    "    \"\"\"\n",
    "    writes the shadercode into a temporary file, and tries to run the shader with a snapshot. This will catch any kind of errors or panics. Even the really bad ones.\n",
    "    a timeout can be specified. But the enumerate adapter is rather slow, so it can take over 5 seconds just to do that on a slow computer. Therefore a timeout in the range of 10 seconds is needed to avoid false detections.\n",
    "    returns either \"ok\", \"timeout\" or \"error\"\n",
    "    #TODO: not tested on unix systems, might required a change in the python command to call.\n",
    "    \"\"\"\n",
    "    status = \"ok\" # default case\n",
    "    with tempfile.NamedTemporaryFile(mode=\"w\", suffix=\".py\", delete=False, encoding=\"utf-8\") as f:\n",
    "        f.write(_file_template.format(shader_code))\n",
    "        f.flush()\n",
    "        try:\n",
    "            p = subprocess.run([\"python\", f.name], capture_output=True, timeout=timeout) # this might not work as expect on Linux ...\n",
    "            \n",
    "        except Exception as e:\n",
    "            if isinstance(e, subprocess.TimeoutExpired):\n",
    "                status = \"timeout\"\n",
    "            else:\n",
    "                status = \"other validation error\"\n",
    "    \n",
    "    # cleanup temp file, delete_on_close was only added in Python 3.12?\n",
    "    os.remove(f.name)\n",
    "        \n",
    "    if status == \"ok\":\n",
    "        if p.returncode != 0:\n",
    "            msg = p.stderr.decode(\"utf-8\")\n",
    "            if \"panic\" in msg:\n",
    "                status = \"panic\"\n",
    "                print(msg)\n",
    "            else:\n",
    "                status = \"error\"\n",
    "    return status\n",
    "\n",
    "# load the full thing?\n",
    "api_df = load_data(\"./data/annotated/api\")"
   ]
  },
  {
   "cell_type": "code",
   "execution_count": null,
   "metadata": {},
   "outputs": [],
   "source": [
    "# 7 in the first 1578\n",
    "for row in tqdm(api_df.itertuples()):\n",
    "    res = _run_shader_in_subprocess(row.image_code)\n",
    "    if res == \"panic\":\n",
    "        print(\"\\n from:\", row.id)\n",
    "        print(res)\n",
    "        # break"
   ]
  },
  {
   "cell_type": "code",
   "execution_count": null,
   "metadata": {},
   "outputs": [],
   "source": [
    "new_code = \"\"\"\n",
    "void mainImage( out vec4 fragColor, in vec2 fragCoord )\n",
    "{\n",
    "    // Normalized pixel coordinates (from 0 to 1)\n",
    "    vec2 uv = fragCoord/iResolution.xy;\n",
    "\n",
    "    // Time varying pixel color\n",
    "    vec3 col = 0.5 + 0.5*cos(iTime+uv.xyx+vec3(0,2,4));\n",
    "\n",
    "    // Output to screen\n",
    "    fragColor = vec4(col,1.0);\n",
    "}\n",
    "\"\"\"\n",
    "\n",
    "new_codes = [new_code] * len(ref_ds)\n",
    "\n",
    "print(len(new_codes))"
   ]
  },
  {
   "cell_type": "code",
   "execution_count": null,
   "metadata": {},
   "outputs": [],
   "source": [
    "# testing against the new code to make sure it works. expected 1.0 variation and also might take 30 minutes...\n",
    "import evaluate\n",
    "\n",
    "shadermatch = evaluate.load(\"Vipitis/shadermatch\") # public\n",
    "\n",
    "# res = shadermatch.compute(references=ref_ds[\"image_code\"], predictions=new_codes)"
   ]
  },
  {
   "cell_type": "code",
   "execution_count": null,
   "metadata": {},
   "outputs": [],
   "source": [
    "import datasets\n",
    "\n",
    "loaded_ds = datasets.load_from_disk(\"./data/prepared/\")\n",
    "loaded_df = loaded_ds.to_pandas()\n",
    "# loaded_df.drop(columns=[\"function\", \"docstring\", \"needed\"], inplace=True)\n",
    "\n",
    "ref_ds = datasets.load_dataset(\"Vipitis/Shadereval-experiments-dev\", revision=\"main\", split=\"test\")\n",
    "ref_df = ref_ds.to_pandas()"
   ]
  },
  {
   "cell_type": "code",
   "execution_count": null,
   "metadata": {},
   "outputs": [],
   "source": [
    "# order is still the same\n",
    "loaded_ds[\"model_inp\"] == ref_ds[\"model_inp\"]"
   ]
  },
  {
   "cell_type": "code",
   "execution_count": null,
   "metadata": {},
   "outputs": [],
   "source": [
    "loaded_df.sort_values(\"header_frequency\", ascending=False).head(10)"
   ]
  },
  {
   "cell_type": "code",
   "execution_count": null,
   "metadata": {},
   "outputs": [],
   "source": [
    "loaded_df.sort_values(by=\"header_frequency\").reset_index(drop=True)[[\"header_frequency\", \"function_frequency\"]].plot(ylim=(0,200), xticks=[])"
   ]
  },
  {
   "cell_type": "code",
   "execution_count": null,
   "metadata": {},
   "outputs": [],
   "source": [
    "loaded_df[[\"header_frequency\", \"function_frequency\"]].plot.box(ylim=(0,50))"
   ]
  },
  {
   "cell_type": "code",
   "execution_count": null,
   "metadata": {},
   "outputs": [],
   "source": [
    "loaded_df[loaded_df[\"header\"].duplicated()].sort_values(\"header\").head(10)"
   ]
  },
  {
   "cell_type": "code",
   "execution_count": null,
   "metadata": {},
   "outputs": [],
   "source": [
    "print(loaded_df[\"model_inp\"][320])\n",
    "print(loaded_df[\"model_inp\"][386])"
   ]
  },
  {
   "cell_type": "code",
   "execution_count": null,
   "metadata": {},
   "outputs": [],
   "source": [
    "import datasets\n",
    "loaded_df\n",
    "func_ds = datasets.Dataset.from_pandas(loaded_df)\n",
    "# func_ds = func_ds.remove_columns(['__index_level_0__'])\n",
    "func_ds\n",
    "# func_ds.push_to_hub(\"Vipitis/Shadereval-experiments-dev\", commit_message=\"adding header_frequency\", private=False, split=\"test\") # don't easily uncomment again..."
   ]
  },
  {
   "cell_type": "code",
   "execution_count": null,
   "metadata": {},
   "outputs": [],
   "source": [
    "# make a plot of shaders per year. compare s20k, api and plot the overlap too!\n",
    "import os\n",
    "import jsonlines\n",
    "import pandas as pd\n",
    "import matplotlib.pyplot as plt\n",
    "\n",
    "def load_data(data_dir: os.PathLike) -> pd.DataFrame:\n",
    "    lines = []\n",
    "    for file in os.listdir(data_dir):\n",
    "        if file.endswith(\".jsonl\"):\n",
    "            with jsonlines.open(os.path.join(data_dir, file)) as reader:\n",
    "                for obj in reader:\n",
    "                    lines.append(obj)\n",
    "\n",
    "    out_df = pd.DataFrame(lines)\n",
    "    out_df[\"date\"] = pd.to_datetime(out_df[\"date\"].astype(int), unit=\"s\")\n",
    "    return out_df\n",
    "\n",
    "all_shaders20k = load_data(\"./data/annotated\")\n",
    "# all_api = load_data(\"./data/annotated/api\")\n",
    "print(len(all_shaders20k))\n",
    "# print(len(all_api))\n",
    "\n",
    "s20k_ids = {k:v for k,v in all_shaders20k.groupby(all_shaders20k[\"date\"].dt.year)[\"id\"].unique().items()}\n",
    "print(len(s20k_ids[2021]))\n"
   ]
  },
  {
   "cell_type": "code",
   "execution_count": null,
   "metadata": {},
   "outputs": [],
   "source": [
    "ids_path = \"./data/ids/\"\n",
    "api_ids = {}\n",
    "for file in os.listdir(ids_path):\n",
    "    if file.endswith(\".txt\") and file.startswith(\"api_\"):\n",
    "        year = int(file.split(\"_\")[1].removesuffix(\".txt\"))\n",
    "        with open(os.path.join(ids_path, file), \"r\", encoding=\"utf-8\") as f:\n",
    "            api_ids[year] = list(f.read().splitlines())\n",
    "\n",
    "len(api_ids[2021])"
   ]
  },
  {
   "cell_type": "code",
   "execution_count": null,
   "metadata": {},
   "outputs": [],
   "source": [
    "overlap = {k: len(set(v).intersection(api_ids[k])) for k,v in s20k_ids.items()}\n",
    "overlap"
   ]
  },
  {
   "cell_type": "code",
   "execution_count": null,
   "metadata": {},
   "outputs": [],
   "source": [
    "plt.figure(figsize=(8,5))\n",
    "plt.bar(api_ids.keys(), [len(api_ids[k]) for k in api_ids.keys()], label=\"API\", alpha=0.7)\n",
    "plt.bar(s20k_ids.keys(), [len(s20k_ids[k]) for k in s20k_ids.keys()], label=\"shaders20k\", alpha=0.7, bottom=[-len(s20k_ids[k])+overlap[k] for k in s20k_ids.keys()])\n",
    "plt.legend()\n",
    "plt.xticks(list(api_ids.keys()))\n",
    "# plt.yticks(list(range(-3000, 5000, 1000)))\n",
    "plt.savefig(\"../Thesis/report/texs/charts/shaders_per_year.png\")\n",
    "plt.show()"
   ]
  }
 ],
 "metadata": {
  "kernelspec": {
   "display_name": "Python 3",
   "language": "python",
   "name": "python3"
  },
  "language_info": {
   "codemirror_mode": {
    "name": "ipython",
    "version": 3
   },
   "file_extension": ".py",
   "mimetype": "text/x-python",
   "name": "python",
   "nbconvert_exporter": "python",
   "pygments_lexer": "ipython3",
   "version": "3.12.9"
  }
 },
 "nbformat": 4,
 "nbformat_minor": 2
}
