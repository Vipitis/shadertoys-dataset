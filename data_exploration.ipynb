{
 "cells": [
  {
   "cell_type": "markdown",
   "metadata": {},
   "source": [
    "### Exploring the annotated data.\n"
   ]
  },
  {
   "cell_type": "code",
   "execution_count": 2,
   "metadata": {},
   "outputs": [
    {
     "data": {
      "application/vnd.jupyter.widget-view+json": {
       "model_id": "17d51c32c7a446a2a6548421457477b6",
       "version_major": 2,
       "version_minor": 0
      },
      "text/plain": [
       "Resolving data files:   0%|          | 0/95 [00:00<?, ?it/s]"
      ]
     },
     "metadata": {},
     "output_type": "display_data"
    },
    {
     "data": {
      "text/plain": [
       "DatasetDict({\n",
       "    train: Dataset({\n",
       "        features: ['id', 'name', 'author', 'description', 'tags', 'likes', 'viewed', 'date', 'time_retrieved', 'image_code', 'image_inputs', 'common_code', 'sound_code', 'sound_inputs', 'buffer_a_code', 'buffer_a_inputs', 'buffer_b_code', 'buffer_b_inputs', 'buffer_c_code', 'buffer_c_inputs', 'buffer_d_code', 'buffer_d_inputs', 'cube_a_code', 'cube_a_inputs', 'license', 'thumbnail', 'access', 'wgpu-test'],\n",
       "        num_rows: 19622\n",
       "    })\n",
       "})"
      ]
     },
     "execution_count": 2,
     "metadata": {},
     "output_type": "execute_result"
    }
   ],
   "source": [
    "from datasets import load_dataset\n",
    "import pandas as pd\n",
    "\n",
    "# can infer the generic loader script this easily\n",
    "ds = load_dataset(\"./data/annotated/\")\n",
    "ds"
   ]
  },
  {
   "cell_type": "code",
   "execution_count": 3,
   "metadata": {},
   "outputs": [
    {
     "data": {
      "application/vnd.jupyter.widget-view+json": {
       "model_id": "8bd3f61bf5704d9daa3305fa84c507ee",
       "version_major": 2,
       "version_minor": 0
      },
      "text/plain": [
       "Resolving data files:   0%|          | 0/95 [00:00<?, ?it/s]"
      ]
     },
     "metadata": {},
     "output_type": "display_data"
    },
    {
     "data": {
      "application/vnd.jupyter.widget-view+json": {
       "model_id": "4ecc3ba04c05414eadead0631b5c6ac2",
       "version_major": 2,
       "version_minor": 0
      },
      "text/plain": [
       "Downloading data:   0%|          | 0/95 [00:00<?, ?files/s]"
      ]
     },
     "metadata": {},
     "output_type": "display_data"
    },
    {
     "data": {
      "application/vnd.jupyter.widget-view+json": {
       "model_id": "d80793e8362c42379d868f4f712a2a01",
       "version_major": 2,
       "version_minor": 0
      },
      "text/plain": [
       "Generating train split: 0 examples [00:00, ? examples/s]"
      ]
     },
     "metadata": {},
     "output_type": "display_data"
    },
    {
     "data": {
      "application/vnd.jupyter.widget-view+json": {
       "model_id": "93bf225c68c24fd28e079ba72a69391f",
       "version_major": 2,
       "version_minor": 0
      },
      "text/plain": [
       "Map:   0%|          | 0/19622 [00:00<?, ? examples/s]"
      ]
     },
     "metadata": {},
     "output_type": "display_data"
    },
    {
     "data": {
      "text/plain": [
       "DatasetDict({\n",
       "    train: Dataset({\n",
       "        features: ['id', 'name', 'author', 'description', 'tags', 'likes', 'viewed', 'date', 'time_retrieved', 'image_code', 'image_inputs', 'common_code', 'sound_code', 'sound_inputs', 'buffer_a_code', 'buffer_a_inputs', 'buffer_b_code', 'buffer_b_inputs', 'buffer_c_code', 'buffer_c_inputs', 'buffer_d_code', 'buffer_d_inputs', 'cube_a_code', 'cube_a_inputs', 'license', 'thumbnail', 'access', 'wgpu-test', 'published'],\n",
       "        num_rows: 19622\n",
       "    })\n",
       "})"
      ]
     },
     "execution_count": 3,
     "metadata": {},
     "output_type": "execute_result"
    }
   ],
   "source": [
    "# how much faster would datasets be...\n",
    "\n",
    "from annotate import annotate_shader, try_shader\n",
    "import os\n",
    "\n",
    "# all .jsonl files in ./data/raw/\n",
    "raw_files = os.listdir(\"./data/raw/\")\n",
    "raw_files = [f for f in raw_files if f.endswith(\".jsonl\")]\n",
    "raw_ds = load_dataset(\"json\", data_files=[\"./data/raw/\" + f for f in raw_files])\n",
    "raw_ds\n",
    "info_ds = raw_ds.map(lambda x: x[\"Shader\"][\"info\"])\n",
    "info_ds\n",
    "# annotated_ds = raw_ds.map(annotate, fn_kwargs={\"test\": False, \"access\": \"shaders20k\"}, batched=False, num_proc=4)\n",
    "\n",
    "# merge the \"published\" column from info_ds into ds, and align by \"id\"ArithmeticError\n",
    "ds[\"train\"] = ds[\"train\"].add_column(\"published\", info_ds[\"train\"][\"published\"])\n",
    "\n",
    "ds"
   ]
  },
  {
   "cell_type": "code",
   "execution_count": 4,
   "metadata": {},
   "outputs": [],
   "source": [
    "from annotate import parse_functions\n",
    "\n",
    "def add_functions(row):\n",
    "    funcs = parse_functions(row[\"image_code\"])\n",
    "    return {\"functions\": funcs}\n",
    "\n",
    "ds = ds.map(add_functions)\n"
   ]
  },
  {
   "cell_type": "code",
   "execution_count": 5,
   "metadata": {},
   "outputs": [
    {
     "data": {
      "text/plain": [
       "DatasetDict({\n",
       "    train: Dataset({\n",
       "        features: ['id', 'name', 'author', 'description', 'tags', 'likes', 'viewed', 'date', 'time_retrieved', 'image_code', 'image_inputs', 'common_code', 'sound_code', 'sound_inputs', 'buffer_a_code', 'buffer_a_inputs', 'buffer_b_code', 'buffer_b_inputs', 'buffer_c_code', 'buffer_c_inputs', 'buffer_d_code', 'buffer_d_inputs', 'cube_a_code', 'cube_a_inputs', 'license', 'thumbnail', 'access', 'wgpu-test', 'published', 'functions', 'license2'],\n",
       "        num_rows: 19622\n",
       "    })\n",
       "})"
      ]
     },
     "execution_count": 5,
     "metadata": {},
     "output_type": "execute_result"
    }
   ],
   "source": [
    "from annotate import check_license\n",
    "\n",
    "def add_licenses(row):\n",
    "    license_tag = check_license(row[\"image_code\"])\n",
    "    return {\"license2\": license_tag}\n",
    "\n",
    "ds = ds.map(add_licenses)\n",
    "ds"
   ]
  },
  {
   "cell_type": "code",
   "execution_count": 6,
   "metadata": {},
   "outputs": [
    {
     "data": {
      "text/plain": [
       "'CC-BY-NC-SA-3.0'"
      ]
     },
     "execution_count": 6,
     "metadata": {},
     "output_type": "execute_result"
    }
   ],
   "source": [
    "check_license(ds[\"train\"][100][\"image_code\"])"
   ]
  },
  {
   "cell_type": "code",
   "execution_count": 7,
   "metadata": {},
   "outputs": [],
   "source": [
    "from annotate import try_shader\n",
    "# TODO: make async for multithreading?\n",
    "def run_test(ex):\n",
    "    # print(ex)\n",
    "    for rp in ex[\"Shader\"][\"renderpass\"]:\n",
    "        if rp[\"type\"] == \"image\":\n",
    "            image_code = rp[\"code\"]\n",
    "    if not image_code:\n",
    "        return {\"wgpu-test\": \"untested\"}\n",
    "\n",
    "    res = try_shader(shader_data=ex, image_code=image_code)\n",
    "    return {\"wgpu-test\" :res}\n",
    "# hangs on 344\n",
    "# raw_ds = raw_ds.map(run_test, num_proc=1, batched=False)"
   ]
  },
  {
   "cell_type": "code",
   "execution_count": 8,
   "metadata": {},
   "outputs": [
    {
     "name": "stdout",
     "output_type": "stream",
     "text": [
      "['CC-BY-NC-SA-3.0', 'cc-by-nc-sa-3.0', 'bsd-new', 'mit', 'cc-by-4.0', 'cc-by-nc-nd-3.0', 'bsd-simplified', 'cc0-1.0', 'unknown-license-reference', 'public-domain', 'apache-2.0', 'cc-by-nc-sa-4.0', 'agpl-3.0', 'cc-by-sa-4.0', 'cc-by-sa-4.0 WITH generic-exception', 'cc-by-3.0 AND mit', 'cc-by-nc-sa-2.0', 'cc-by-sa-3.0', 'cc-by-nc-sa-3.0 AND proprietary-license', 'wtfpl-2.0', 'beerware', 'gpl-3.0-plus OR cc-by-sa-3.0', 'cc-by-nc-nd-4.0', 'unlicense', 'x11', 'proprietary-license', 'cc-by-3.0', 'cc-by-4.0 OR cc-by-3.0', 'gpl-3.0-plus', 'cc-by-nc-4.0', 'cc-by-nc-3.0', 'cc-by-2.5', 'cc0-1.0 OR openssl-ssleay OR apache-2.0', 'gpl-3.0', 'warranty-disclaimer', 'gpl-1.0-plus', 'cc-sampling-plus-1.0']\n"
     ]
    },
    {
     "data": {
      "text/plain": [
       "Dataset({\n",
       "    features: ['id', 'name', 'author', 'description', 'tags', 'likes', 'viewed', 'date', 'time_retrieved', 'image_code', 'image_inputs', 'common_code', 'sound_code', 'sound_inputs', 'buffer_a_code', 'buffer_a_inputs', 'buffer_b_code', 'buffer_b_inputs', 'buffer_c_code', 'buffer_c_inputs', 'buffer_d_code', 'buffer_d_inputs', 'cube_a_code', 'cube_a_inputs', 'license', 'thumbnail', 'access', 'wgpu-test', 'published', 'functions', 'license2'],\n",
       "    num_rows: 299\n",
       "})"
      ]
     },
     "execution_count": 8,
     "metadata": {},
     "output_type": "execute_result"
    }
   ],
   "source": [
    "# list of permissive licenses like: https://huggingface.co/datasets/bigcode/the-stack-v2/blob/main/license_stats.csv\n",
    "print(ds[\"train\"].unique(\"license\"))\n",
    "# filter permissive licenses\n",
    "ds[\"train\"].filter(lambda x: x[\"license2\"] in \"mit apache-2.0\")"
   ]
  },
  {
   "cell_type": "code",
   "execution_count": 9,
   "metadata": {},
   "outputs": [
    {
     "data": {
      "text/plain": [
       "Dataset({\n",
       "    features: ['id', 'name', 'author', 'description', 'tags', 'likes', 'viewed', 'date', 'time_retrieved', 'image_code', 'image_inputs', 'common_code', 'sound_code', 'sound_inputs', 'buffer_a_code', 'buffer_a_inputs', 'buffer_b_code', 'buffer_b_inputs', 'buffer_c_code', 'buffer_c_inputs', 'buffer_d_code', 'buffer_d_inputs', 'cube_a_code', 'cube_a_inputs', 'license', 'thumbnail', 'access', 'wgpu-test', 'published', 'functions', 'license2'],\n",
       "    num_rows: 0\n",
       "})"
      ]
     },
     "execution_count": 9,
     "metadata": {},
     "output_type": "execute_result"
    }
   ],
   "source": [
    "# see how many shaders contain buffer passes (seemingly none?)\n",
    "ds[\"train\"].filter(lambda x: x[\"buffer_a_code\"] + x[\"buffer_b_code\"] + x[\"buffer_c_code\"] + x[\"buffer_d_code\"] != \"\")"
   ]
  },
  {
   "cell_type": "code",
   "execution_count": 10,
   "metadata": {},
   "outputs": [
    {
     "data": {
      "text/plain": [
       "<Axes: xlabel='date'>"
      ]
     },
     "execution_count": 10,
     "metadata": {},
     "output_type": "execute_result"
    },
    {
     "data": {
      "image/png": "[encoded data removed]",
      "text/plain": [
       "<Figure size 1400x600 with 1 Axes>"
      ]
     },
     "metadata": {},
     "output_type": "display_data"
    }
   ],
   "source": [
    "import pandas as pd\n",
    "df = ds[\"train\"].to_pandas()\n",
    "# read \"date\" column as unix timestamp\n",
    "df[\"date\"] = pd.to_datetime(df[\"date\"].astype(int), unit=\"s\")\n",
    "# plot entried per month as bars\n",
    "df[\"date\"].groupby(df[\"date\"].dt.to_period(\"M\")).count().plot(kind=\"bar\", figsize=(14,6))"
   ]
  },
  {
   "cell_type": "code",
   "execution_count": 11,
   "metadata": {},
   "outputs": [
    {
     "data": {
      "text/plain": [
       "<Axes: xlabel='date'>"
      ]
     },
     "execution_count": 11,
     "metadata": {},
     "output_type": "execute_result"
    },
    {
     "data": {
      "image/png": "[encoded data removed]",
      "text/plain": [
       "<Figure size 1400x600 with 1 Axes>"
      ]
     },
     "metadata": {},
     "output_type": "display_data"
    }
   ],
   "source": [
    "# plot stacked and streched bars of licenses per month\n",
    "licenses = df[\"date\"].groupby([df[\"date\"].dt.to_period(\"M\"), df[\"license\"]]).count().unstack()\n",
    "licenses = licenses.div(licenses.sum(axis=1), axis=0)\n",
    "licenses.plot(kind=\"bar\", stacked=True, figsize=(14,6), mark_right=True, legend=False)"
   ]
  },
  {
   "cell_type": "code",
   "execution_count": 12,
   "metadata": {},
   "outputs": [
    {
     "data": {
      "text/plain": [
       "<Axes: xlabel='date'>"
      ]
     },
     "execution_count": 12,
     "metadata": {},
     "output_type": "execute_result"
    },
    {
     "data": {
      "image/png": "[encoded data removed]",
      "text/plain": [
       "<Figure size 1400x600 with 1 Axes>"
      ]
     },
     "metadata": {},
     "output_type": "display_data"
    }
   ],
   "source": [
    "# variant where I check on the first comment (now includes multiline comments)\n",
    "# plot stacked and streched bars of licenses per month\n",
    "licenses = df[\"date\"].groupby([df[\"date\"].dt.to_period(\"M\"), df[\"license2\"]]).count().unstack()\n",
    "licenses = licenses.div(licenses.sum(axis=1), axis=0)\n",
    "licenses.plot(kind=\"bar\", stacked=True, figsize=(14,6), mark_right=True, legend=False)"
   ]
  },
  {
   "cell_type": "code",
   "execution_count": 13,
   "metadata": {},
   "outputs": [
    {
     "data": {
      "text/plain": [
       "<Axes: xlabel='date'>"
      ]
     },
     "execution_count": 13,
     "metadata": {},
     "output_type": "execute_result"
    },
    {
     "data": {
      "image/png": "[encoded data removed]",
      "text/plain": [
       "<Figure size 1400x600 with 1 Axes>"
      ]
     },
     "metadata": {},
     "output_type": "display_data"
    }
   ],
   "source": [
    "# plot stacked and streched bars of publishing privacy setting per month\n",
    "privacies = df[\"date\"].groupby([df[\"date\"].dt.to_period(\"M\"), df[\"published\"]]).count().unstack()\n",
    "privacies = privacies.div(privacies.sum(axis=1), axis=0)\n",
    "privacies.plot(kind=\"bar\", stacked=True, figsize=(14,6), mark_right=True, legend=True)"
   ]
  },
  {
   "cell_type": "code",
   "execution_count": 14,
   "metadata": {},
   "outputs": [
    {
     "data": {
      "text/plain": [
       "count    19622.000000\n",
       "mean         8.108450\n",
       "std         10.439794\n",
       "min          0.000000\n",
       "25%          2.000000\n",
       "50%          5.000000\n",
       "75%         10.000000\n",
       "max        358.000000\n",
       "Name: num_functions, dtype: float64"
      ]
     },
     "execution_count": 14,
     "metadata": {},
     "output_type": "execute_result"
    }
   ],
   "source": [
    "df[\"num_functions\"] = df[\"functions\"].apply(len)\n",
    "df[\"num_functions\"].describe()"
   ]
  },
  {
   "cell_type": "code",
   "execution_count": 15,
   "metadata": {},
   "outputs": [
    {
     "data": {
      "text/plain": [
       "0    [[1, 1, 22, 22, 71], [73, 73, 94, 94, 143], [1...\n",
       "1    [[517, 517, 598, 598, 673], [675, 675, 766, 76...\n",
       "2    [[594, 1189, 1217, 1217, 1310], [1312, 1312, 1...\n",
       "3        [[0, 0, 30, 30, 86], [88, 88, 145, 145, 816]]\n",
       "4    [[262, 282, 303, 303, 717], [719, 719, 758, 75...\n",
       "Name: functions, dtype: object"
      ]
     },
     "execution_count": 15,
     "metadata": {},
     "output_type": "execute_result"
    }
   ],
   "source": [
    "df[\"functions\"].head()"
   ]
  },
  {
   "cell_type": "code",
   "execution_count": 16,
   "metadata": {},
   "outputs": [
    {
     "data": {
      "text/plain": [
       "Dataset({\n",
       "    features: ['id', 'name', 'author', 'description', 'tags', 'likes', 'viewed', 'date', 'time_retrieved', 'image_code', 'image_inputs', 'common_code', 'sound_code', 'sound_inputs', 'buffer_a_code', 'buffer_a_inputs', 'buffer_b_code', 'buffer_b_inputs', 'buffer_c_code', 'buffer_c_inputs', 'buffer_d_code', 'buffer_d_inputs', 'cube_a_code', 'cube_a_inputs', 'license', 'thumbnail', 'access', 'wgpu-test', 'published', 'functions', 'license2'],\n",
       "    num_rows: 19622\n",
       "})"
      ]
     },
     "execution_count": 16,
     "metadata": {},
     "output_type": "execute_result"
    }
   ],
   "source": [
    "ds[\"train\"]"
   ]
  },
  {
   "cell_type": "code",
   "execution_count": 41,
   "metadata": {},
   "outputs": [
    {
     "data": {
      "application/vnd.jupyter.widget-view+json": {
       "model_id": "604ff3ff96b34e21819e994b8d488798",
       "version_major": 2,
       "version_minor": 0
      },
      "text/plain": [
       "Map:   0%|          | 0/19622 [00:00<?, ? examples/s]"
      ]
     },
     "metadata": {},
     "output_type": "display_data"
    },
    {
     "data": {
      "text/plain": [
       "DatasetDict({\n",
       "    train: Dataset({\n",
       "        features: ['comment', 'header', 'docstring', 'body', 'full_code', 'func_bytes'],\n",
       "        num_rows: 159104\n",
       "    })\n",
       "})"
      ]
     },
     "execution_count": 41,
     "metadata": {},
     "output_type": "execute_result"
    }
   ],
   "source": [
    "def split_functions(batch):\n",
    "    comments, headers, docstrings, bodies = [],[],[],[]\n",
    "    full_code, ids, func_ids, funcs = [],[],[],[]\n",
    "    for code, func_bytes in zip(batch[\"image_code\"], batch[\"functions\"]):\n",
    "        row_code = code.encode(encoding=\"utf-8\")\n",
    "        for start_comment, start_header, end_header, end_docstring, end_function in func_bytes:\n",
    "            comments.append(row_code[start_comment:start_header].decode(encoding=\"utf-8\")),\n",
    "            headers.append(row_code[start_header:end_header].decode(encoding=\"utf-8\")),\n",
    "            docstrings.append(row_code[end_header:end_docstring].decode(encoding=\"utf-8\")),\n",
    "            bodies.append(row_code[end_docstring:end_function].decode(encoding=\"utf-8\")),\n",
    "            full_code.append(row_code.decode(encoding=\"utf-8\")),\n",
    "            funcs.append((start_comment, start_header, end_header, end_docstring, end_function))\n",
    "    return {\n",
    "            \"comment\": comments,\n",
    "            \"header\": headers,\n",
    "            \"docstring\": docstrings,\n",
    "            \"body\": bodies,\n",
    "            \"full_code\": full_code,\n",
    "            \"func_bytes\": funcs\n",
    "            }\n",
    "\n",
    "func_ds = ds.map(split_functions, batched=True, remove_columns=ds[\"train\"].column_names)\n",
    "func_ds"
   ]
  },
  {
   "cell_type": "code",
   "execution_count": 42,
   "metadata": {},
   "outputs": [
    {
     "name": "stdout",
     "output_type": "stream",
     "text": [
      "num non zero headers: 159104\n"
     ]
    },
    {
     "data": {
      "text/plain": [
       "[('void mainImage( out vec4 fragColor, in vec2 fragCoord )\\n{', 12740),\n",
       " ('void mainImage( out vec4 fragColor, in vec2 fragCoord ) {', 1304),\n",
       " ('void mainImage(out vec4 fragColor, in vec2 fragCoord) {', 981),\n",
       " ('void mainImage(out vec4 fragColor, in vec2 fragCoord)\\n{', 658),\n",
       " ('void mainImage( out vec4 fragColor, in vec2 fragCoord ){', 548),\n",
       " ('float sdBox( vec3 p, vec3 b )\\n{', 515),\n",
       " ('float smin( float a, float b, float k )\\n{', 352),\n",
       " ('vec3 ShowScene (vec3 ro, vec3 rd)\\n{', 340),\n",
       " ('void mainImage (out vec4 fragColor, in vec2 fragCoord)\\n{', 338),\n",
       " ('float ObjRay (vec3 ro, vec3 rd)\\n{', 321)]"
      ]
     },
     "execution_count": 42,
     "metadata": {},
     "output_type": "execute_result"
    }
   ],
   "source": [
    "from typing import Counter\n",
    "# what are the features?\n",
    "def top_features(feature, k=10):\n",
    "    feature_counter = Counter(func_ds[\"train\"][feature])\n",
    "    print(f\"num non zero {feature}s: {len(func_ds['train']) - feature_counter['']}\")\n",
    "    return feature_counter.most_common(k)\n",
    "\n",
    "top_features(\"header\")"
   ]
  },
  {
   "cell_type": "code",
   "execution_count": 43,
   "metadata": {},
   "outputs": [
    {
     "data": {
      "text/html": [
       "<div>\n",
       "<style scoped>\n",
       "    .dataframe tbody tr th:only-of-type {\n",
       "        vertical-align: middle;\n",
       "    }\n",
       "\n",
       "    .dataframe tbody tr th {\n",
       "        vertical-align: top;\n",
       "    }\n",
       "\n",
       "    .dataframe thead th {\n",
       "        text-align: right;\n",
       "    }\n",
       "</style>\n",
       "<table border=\"1\" class=\"dataframe\">\n",
       "  <thead>\n",
       "    <tr style=\"text-align: right;\">\n",
       "      <th></th>\n",
       "      <th>comment</th>\n",
       "      <th>header</th>\n",
       "      <th>docstring</th>\n",
       "      <th>body</th>\n",
       "      <th>full_code</th>\n",
       "      <th>func_bytes</th>\n",
       "    </tr>\n",
       "  </thead>\n",
       "  <tbody>\n",
       "    <tr>\n",
       "      <th>0</th>\n",
       "      <td></td>\n",
       "      <td>vec3 mod289(vec3 x) {</td>\n",
       "      <td></td>\n",
       "      <td>\\n  return x - floor(x * (1.0 / 289.0)) * 289....</td>\n",
       "      <td>\\nvec3 mod289(vec3 x) {\\n  return x - floor(x ...</td>\n",
       "      <td>[1, 1, 22, 22, 71]</td>\n",
       "    </tr>\n",
       "    <tr>\n",
       "      <th>1</th>\n",
       "      <td></td>\n",
       "      <td>vec2 mod289(vec2 x) {</td>\n",
       "      <td></td>\n",
       "      <td>\\n  return x - floor(x * (1.0 / 289.0)) * 289....</td>\n",
       "      <td>\\nvec3 mod289(vec3 x) {\\n  return x - floor(x ...</td>\n",
       "      <td>[73, 73, 94, 94, 143]</td>\n",
       "    </tr>\n",
       "    <tr>\n",
       "      <th>2</th>\n",
       "      <td></td>\n",
       "      <td>vec4 mod289(vec4 x) {</td>\n",
       "      <td></td>\n",
       "      <td>\\n  return x - floor(x * (1.0 / 289.0)) * 289....</td>\n",
       "      <td>\\nvec3 mod289(vec3 x) {\\n  return x - floor(x ...</td>\n",
       "      <td>[145, 145, 166, 166, 215]</td>\n",
       "    </tr>\n",
       "    <tr>\n",
       "      <th>3</th>\n",
       "      <td></td>\n",
       "      <td>vec4 permute(vec4 x) {</td>\n",
       "      <td></td>\n",
       "      <td>\\n     return mod289(((x*34.0)+1.0)*x);\\n}</td>\n",
       "      <td>\\nvec3 mod289(vec3 x) {\\n  return x - floor(x ...</td>\n",
       "      <td>[217, 217, 239, 239, 279]</td>\n",
       "    </tr>\n",
       "    <tr>\n",
       "      <th>4</th>\n",
       "      <td></td>\n",
       "      <td>vec3 permute(vec3 x) {</td>\n",
       "      <td></td>\n",
       "      <td>\\n  return mod289(((x*34.0)+1.0)*x);\\n}</td>\n",
       "      <td>\\nvec3 mod289(vec3 x) {\\n  return x - floor(x ...</td>\n",
       "      <td>[281, 281, 303, 303, 340]</td>\n",
       "    </tr>\n",
       "  </tbody>\n",
       "</table>\n",
       "</div>"
      ],
      "text/plain": [
       "  comment                  header docstring  \\\n",
       "0           vec3 mod289(vec3 x) {             \n",
       "1           vec2 mod289(vec2 x) {             \n",
       "2           vec4 mod289(vec4 x) {             \n",
       "3          vec4 permute(vec4 x) {             \n",
       "4          vec3 permute(vec3 x) {             \n",
       "\n",
       "                                                body  \\\n",
       "0  \\n  return x - floor(x * (1.0 / 289.0)) * 289....   \n",
       "1  \\n  return x - floor(x * (1.0 / 289.0)) * 289....   \n",
       "2  \\n  return x - floor(x * (1.0 / 289.0)) * 289....   \n",
       "3         \\n     return mod289(((x*34.0)+1.0)*x);\\n}   \n",
       "4            \\n  return mod289(((x*34.0)+1.0)*x);\\n}   \n",
       "\n",
       "                                           full_code  \\\n",
       "0  \\nvec3 mod289(vec3 x) {\\n  return x - floor(x ...   \n",
       "1  \\nvec3 mod289(vec3 x) {\\n  return x - floor(x ...   \n",
       "2  \\nvec3 mod289(vec3 x) {\\n  return x - floor(x ...   \n",
       "3  \\nvec3 mod289(vec3 x) {\\n  return x - floor(x ...   \n",
       "4  \\nvec3 mod289(vec3 x) {\\n  return x - floor(x ...   \n",
       "\n",
       "                  func_bytes  \n",
       "0         [1, 1, 22, 22, 71]  \n",
       "1      [73, 73, 94, 94, 143]  \n",
       "2  [145, 145, 166, 166, 215]  \n",
       "3  [217, 217, 239, 239, 279]  \n",
       "4  [281, 281, 303, 303, 340]  "
      ]
     },
     "execution_count": 43,
     "metadata": {},
     "output_type": "execute_result"
    }
   ],
   "source": [
    "func_df = func_ds[\"train\"].to_pandas()\n",
    "func_df.head()"
   ]
  },
  {
   "cell_type": "code",
   "execution_count": 51,
   "metadata": {},
   "outputs": [
    {
     "name": "stdout",
     "output_type": "stream",
     "text": [
      "functions with context = 44551\n"
     ]
    },
    {
     "data": {
      "text/html": [
       "<div>\n",
       "<style scoped>\n",
       "    .dataframe tbody tr th:only-of-type {\n",
       "        vertical-align: middle;\n",
       "    }\n",
       "\n",
       "    .dataframe tbody tr th {\n",
       "        vertical-align: top;\n",
       "    }\n",
       "\n",
       "    .dataframe thead th {\n",
       "        text-align: right;\n",
       "    }\n",
       "</style>\n",
       "<table border=\"1\" class=\"dataframe\">\n",
       "  <thead>\n",
       "    <tr style=\"text-align: right;\">\n",
       "      <th>has_docstring</th>\n",
       "      <th>False</th>\n",
       "      <th>True</th>\n",
       "      <th>All</th>\n",
       "    </tr>\n",
       "    <tr>\n",
       "      <th>has_comment</th>\n",
       "      <th></th>\n",
       "      <th></th>\n",
       "      <th></th>\n",
       "    </tr>\n",
       "  </thead>\n",
       "  <tbody>\n",
       "    <tr>\n",
       "      <th>False</th>\n",
       "      <td>114553</td>\n",
       "      <td>8405</td>\n",
       "      <td>122958</td>\n",
       "    </tr>\n",
       "    <tr>\n",
       "      <th>True</th>\n",
       "      <td>32081</td>\n",
       "      <td>4065</td>\n",
       "      <td>36146</td>\n",
       "    </tr>\n",
       "    <tr>\n",
       "      <th>All</th>\n",
       "      <td>146634</td>\n",
       "      <td>12470</td>\n",
       "      <td>159104</td>\n",
       "    </tr>\n",
       "  </tbody>\n",
       "</table>\n",
       "</div>"
      ],
      "text/plain": [
       "has_docstring   False   True     All\n",
       "has_comment                         \n",
       "False          114553   8405  122958\n",
       "True            32081   4065   36146\n",
       "All            146634  12470  159104"
      ]
     },
     "execution_count": 51,
     "metadata": {},
     "output_type": "execute_result"
    }
   ],
   "source": [
    "func_df[\"has_comment\"] = func_df[\"comment\"] != \"\"\n",
    "func_df[\"has_docstring\"] = func_df[\"docstring\"] != \"\"\n",
    "func_df[\"model_ctx\"] = func_df[\"comment\"] + func_df[\"header\"] + func_df[\"comment\"]\n",
    "# how many functions are there, and what is the share of comments, \n",
    "\n",
    "xtab = pd.crosstab(func_df[\"has_comment\"], func_df[\"has_docstring\"], margins=True)\n",
    "print(f\"functions with context = {xtab.iloc[-1,-1] - xtab.iloc[0,0]}\")\n",
    "xtab"
   ]
  },
  {
   "cell_type": "code",
   "execution_count": 45,
   "metadata": {},
   "outputs": [
    {
     "name": "stdout",
     "output_type": "stream",
     "text": [
      "19278\n"
     ]
    },
    {
     "data": {
      "text/plain": [
       "comment\n",
       "                                                                                        122958\n",
       "//---------------------------------------------------------\\n                              130\n",
       "//--------------------------------------------------------------------------\\n             126\n",
       "//\\n                                                                                       114\n",
       "//\\n\\n                                                                                     110\n",
       "//------------------------------------------------------------------\\n\\n                   110\n",
       "//////////////////////////////////////////////////////////\\n\\n                             105\n",
       "/////////////////////////////////////////////////////////////////////////////\\n            100\n",
       "// http://iquilezles.org/www/articles/normalsSDF/normalsSDF.htm\\n                           91\n",
       "//------------------------------------------------------------------------------\\n\\n        91\n",
       "Name: count, dtype: int64"
      ]
     },
     "execution_count": 45,
     "metadata": {},
     "output_type": "execute_result"
    }
   ],
   "source": [
    "# FINDING: only about half the comments are unique.\n",
    "# the most common ones look like padding (potential issue with multiline comments?)\n",
    "print(func_df[\"comment\"].nunique())\n",
    "func_df[\"comment\"].value_counts(sort=True, ascending=False).head(10)"
   ]
  },
  {
   "cell_type": "code",
   "execution_count": 48,
   "metadata": {},
   "outputs": [
    {
     "name": "stdout",
     "output_type": "stream",
     "text": [
      "64002\n"
     ]
    },
    {
     "data": {
      "text/plain": [
       "header\n",
       "void mainImage( out vec4 fragColor, in vec2 fragCoord )\\n{    12740\n",
       "void mainImage( out vec4 fragColor, in vec2 fragCoord ) {      1304\n",
       "void mainImage(out vec4 fragColor, in vec2 fragCoord) {         981\n",
       "void mainImage(out vec4 fragColor, in vec2 fragCoord)\\n{        658\n",
       "void mainImage( out vec4 fragColor, in vec2 fragCoord ){        548\n",
       "float sdBox( vec3 p, vec3 b )\\n{                                515\n",
       "float smin( float a, float b, float k )\\n{                      352\n",
       "vec3 ShowScene (vec3 ro, vec3 rd)\\n{                            340\n",
       "void mainImage (out vec4 fragColor, in vec2 fragCoord)\\n{       338\n",
       "float ObjRay (vec3 ro, vec3 rd)\\n{                              321\n",
       "Name: count, dtype: int64"
      ]
     },
     "execution_count": 48,
     "metadata": {},
     "output_type": "execute_result"
    }
   ],
   "source": [
    "# FINDING = only about a third of function-headers are unique?\n",
    "print(func_df[\"header\"].nunique())\n",
    "func_df[\"header\"].value_counts(sort=True, ascending=False).head(10)"
   ]
  },
  {
   "cell_type": "code",
   "execution_count": 50,
   "metadata": {},
   "outputs": [
    {
     "name": "stdout",
     "output_type": "stream",
     "text": [
      "6461\n"
     ]
    },
    {
     "data": {
      "text/plain": [
       "docstring\n",
       "                                                        146634\n",
       "\\n    // Normalized pixel coordinates (from 0 to 1)       1893\n",
       "\\n  // n must be normalized                                117\n",
       "\\n    // Based on gluLookAt man page                       112\n",
       "\\n    // c must be normalized                               95\n",
       "\\n    // Normalized pixel coordinates (from -1 to 1)        62\n",
       "\\n    // filter kernel                                      38\n",
       "\\n    // Add scaled noises                                  37\n",
       "\\n     // camera movement\\t                                 35\n",
       "\\n    // preserve shape                                     33\n",
       "Name: count, dtype: int64"
      ]
     },
     "execution_count": 50,
     "metadata": {},
     "output_type": "execute_result"
    }
   ],
   "source": [
    "# half the docstrings aren't unique?\n",
    "# most common one is the shadertoy.com/new default for the main function\n",
    "print(func_df[\"docstring\"].nunique())\n",
    "func_df[\"docstring\"].value_counts(sort=True, ascending=False).head(10)"
   ]
  },
  {
   "cell_type": "code",
   "execution_count": 54,
   "metadata": {},
   "outputs": [
    {
     "name": "stdout",
     "output_type": "stream",
     "text": [
      "73599\n"
     ]
    },
    {
     "data": {
      "text/plain": [
       "model_ctx\n",
       "void mainImage( out vec4 fragColor, in vec2 fragCoord )\\n{    11874\n",
       "void mainImage( out vec4 fragColor, in vec2 fragCoord ) {      1122\n",
       "void mainImage(out vec4 fragColor, in vec2 fragCoord) {         911\n",
       "void mainImage(out vec4 fragColor, in vec2 fragCoord)\\n{        585\n",
       "void mainImage( out vec4 fragColor, in vec2 fragCoord ){        506\n",
       "float sdBox( vec3 p, vec3 b )\\n{                                369\n",
       "vec3 ShowScene (vec3 ro, vec3 rd)\\n{                            338\n",
       "void mainImage (out vec4 fragColor, in vec2 fragCoord)\\n{       335\n",
       "float ObjRay (vec3 ro, vec3 rd)\\n{                              320\n",
       "vec3 ObjNf (vec3 p)\\n{                                          318\n",
       "Name: count, dtype: int64"
      ]
     },
     "execution_count": 54,
     "metadata": {},
     "output_type": "execute_result"
    }
   ],
   "source": [
    "# proposed model_ctx takes all of them in normal order (doens't filter out the naked functions)\n",
    "print(func_df[\"model_ctx\"].nunique())\n",
    "func_df[\"model_ctx\"].value_counts(sort=True, ascending=False).head(10)"
   ]
  }
 ],
 "metadata": {
  "kernelspec": {
   "display_name": "Python 3",
   "language": "python",
   "name": "python3"
  },
  "language_info": {
   "codemirror_mode": {
    "name": "ipython",
    "version": 3
   },
   "file_extension": ".py",
   "mimetype": "text/x-python",
   "name": "python",
   "nbconvert_exporter": "python",
   "pygments_lexer": "ipython3",
   "version": "3.9.4"
  }
 },
 "nbformat": 4,
 "nbformat_minor": 2
}
