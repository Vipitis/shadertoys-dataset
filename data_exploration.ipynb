{
 "cells": [
  {
   "cell_type": "markdown",
   "metadata": {},
   "source": [
    "### Exploring the annotated data."
   ]
  },
  {
   "cell_type": "code",
   "execution_count": 1,
   "metadata": {},
   "outputs": [
    {
     "data": {
      "application/vnd.jupyter.widget-view+json": {
       "model_id": "d79b573786ec49138d024dac34681d31",
       "version_major": 2,
       "version_minor": 0
      },
      "text/plain": [
       "Resolving data files:   0%|          | 0/95 [00:00<?, ?it/s]"
      ]
     },
     "metadata": {},
     "output_type": "display_data"
    },
    {
     "data": {
      "application/vnd.jupyter.widget-view+json": {
       "model_id": "f355cd00dd404965a6c462aaf1f6b6a2",
       "version_major": 2,
       "version_minor": 0
      },
      "text/plain": [
       "Downloading data:   0%|          | 0/95 [00:00<?, ?files/s]"
      ]
     },
     "metadata": {},
     "output_type": "display_data"
    },
    {
     "data": {
      "application/vnd.jupyter.widget-view+json": {
       "model_id": "dd9fd3ff246e42839880547e9d6115da",
       "version_major": 2,
       "version_minor": 0
      },
      "text/plain": [
       "Generating train split: 0 examples [00:00, ? examples/s]"
      ]
     },
     "metadata": {},
     "output_type": "display_data"
    },
    {
     "data": {
      "text/plain": [
       "DatasetDict({\n",
       "    train: Dataset({\n",
       "        features: ['id', 'name', 'author', 'description', 'tags', 'likes', 'viewed', 'published', 'date', 'time_retrieved', 'image_code', 'image_inputs', 'common_code', 'sound_code', 'sound_inputs', 'buffer_a_code', 'buffer_a_inputs', 'buffer_b_code', 'buffer_b_inputs', 'buffer_c_code', 'buffer_c_inputs', 'buffer_d_code', 'buffer_d_inputs', 'cube_a_code', 'cube_a_inputs', 'thumbnail', 'access', 'license', 'functions', 'test'],\n",
       "        num_rows: 19622\n",
       "    })\n",
       "})"
      ]
     },
     "execution_count": 1,
     "metadata": {},
     "output_type": "execute_result"
    }
   ],
   "source": [
    "from datasets import load_dataset, disable_caching\n",
    "import pandas as pd\n",
    "\n",
    "# can infer the generic loader script this easily\n",
    "disable_caching()\n",
    "# cache location [click](%userprofile%/.cache/huggingface/datasets)\n",
    "# needs force_redownload to avoid loading incorrect cached stuff\n",
    "ds = load_dataset(\"json\", data_dir=\"./data/annotated/\", download_mode=\"force_redownload\", cache_dir=None)\n",
    "df = ds[\"train\"].to_pandas()\n",
    "# read \"date\" column as unix timestamp\n",
    "df[\"date\"] = pd.to_datetime(df[\"date\"].astype(int), unit=\"s\")\n",
    "ds"
   ]
  },
  {
   "cell_type": "code",
   "execution_count": 2,
   "metadata": {},
   "outputs": [],
   "source": [
    "# #344 seems to crash/hang up and ruin the kernel. (works isolated?)\n",
    "# run_shader(ds[\"train\"][344])"
   ]
  },
  {
   "cell_type": "code",
   "execution_count": 2,
   "metadata": {},
   "outputs": [],
   "source": [
    "#redo the df\n",
    "\n",
    "df = ds[\"train\"].to_pandas()\n",
    "# read \"date\" column as unix timestamp\n",
    "df[\"date\"] = pd.to_datetime(df[\"date\"].astype(int), unit=\"s\")\n",
    "#"
   ]
  },
  {
   "cell_type": "code",
   "execution_count": 4,
   "metadata": {},
   "outputs": [
    {
     "data": {
      "text/plain": [
       "test\n",
       "valid       14592\n",
       "error        5006\n",
       "timedout       24\n",
       "Name: count, dtype: int64"
      ]
     },
     "execution_count": 4,
     "metadata": {},
     "output_type": "execute_result"
    }
   ],
   "source": [
    "df[\"test\"].value_counts().head(10)"
   ]
  },
  {
   "cell_type": "code",
   "execution_count": 5,
   "metadata": {},
   "outputs": [
    {
     "name": "stdout",
     "output_type": "stream",
     "text": [
      "824\n"
     ]
    }
   ],
   "source": [
    "# list of permissive licenses like: https://huggingface.co/datasets/bigcode/the-stack-v2/blob/main/license_stats.csv (gated?)\n",
    "# maybe this instead: https://huggingface.co/datasets/bigcode/the-stack/blob/main/licenses.json\n",
    "# seems to be the one they actually use: https://huggingface.co/datasets/bigcode-data/license_list/resolve/main/permissive_licenses.txt \n",
    "\n",
    "import requests\n",
    "permissive_list = requests.get(\"https://huggingface.co/datasets/bigcode-data/license_list/resolve/main/permissive_licenses.txt\").content.decode(\"utf-8\").split()\n",
    "permissive_list = [l.lower() for l in permissive_list]\n",
    "\n",
    "print(len(permissive_list))\n"
   ]
  },
  {
   "cell_type": "code",
   "execution_count": 20,
   "metadata": {},
   "outputs": [
    {
     "name": "stdout",
     "output_type": "stream",
     "text": [
      "['CC-BY-NC-SA-3.0', 'cc-by-nc-sa-3.0', 'bsd-new', 'mit', 'cc-by-4.0', 'proprietary-license', 'cc-by-nc-nd-3.0', 'bsd-simplified', 'cc0-1.0', 'unknown-license-reference', 'public-domain', 'apache-2.0', 'cc-by-nc-sa-4.0', 'agpl-3.0', 'cc-by-sa-3.0', 'cc-by-3.0', 'cc-by-sa-2.5', 'cc-by-sa-4.0', 'cc-by-sa-4.0 WITH generic-exception', 'cc-by-3.0 AND mit', 'cc-by-nc-sa-2.0', 'cc-by-nc-sa-3.0 AND proprietary-license', 'wtfpl-2.0', 'gpl-3.0', 'cc-by-4.0 OR cc-by-3.0', 'beerware', 'gpl-3.0-plus OR cc-by-sa-3.0', 'unlicense', 'cc-by-nc-nd-4.0', 'warranty-disclaimer', 'x11', 'gpl-3.0-plus', 'cc-by-nc-4.0', 'cc-by-2.5', 'cc0-1.0 OR openssl-ssleay OR apache-2.0', 'gpl-2.0', 'gpl-2.0-plus', 'cc-by-nc-3.0', 'gpl-1.0-plus', 'artistic-2.0', 'cc-sampling-plus-1.0']\n"
     ]
    },
    {
     "data": {
      "application/vnd.jupyter.widget-view+json": {
       "model_id": "4baa53a6bedc414d8f1128a12419b1fe",
       "version_major": 2,
       "version_minor": 0
      },
      "text/plain": [
       "Filter:   0%|          | 0/19622 [00:00<?, ? examples/s]"
      ]
     },
     "metadata": {},
     "output_type": "display_data"
    },
    {
     "data": {
      "application/vnd.jupyter.widget-view+json": {
       "model_id": "52a5ab5a8bf84a9a9603073486abb05e",
       "version_major": 2,
       "version_minor": 0
      },
      "text/plain": [
       "Filter:   0%|          | 0/660 [00:00<?, ? examples/s]"
      ]
     },
     "metadata": {},
     "output_type": "display_data"
    },
    {
     "data": {
      "text/plain": [
       "Dataset({\n",
       "    features: ['id', 'name', 'author', 'description', 'tags', 'likes', 'viewed', 'published', 'date', 'time_retrieved', 'image_code', 'image_inputs', 'common_code', 'sound_code', 'sound_inputs', 'buffer_a_code', 'buffer_a_inputs', 'buffer_b_code', 'buffer_b_inputs', 'buffer_c_code', 'buffer_c_inputs', 'buffer_d_code', 'buffer_d_inputs', 'cube_a_code', 'cube_a_inputs', 'thumbnail', 'access', 'license', 'functions', 'test'],\n",
       "    num_rows: 486\n",
       "})"
      ]
     },
     "execution_count": 20,
     "metadata": {},
     "output_type": "execute_result"
    }
   ],
   "source": [
    "\n",
    "print(ds[\"train\"].unique(\"license\"))\n",
    "# filter permissive licenses\n",
    "filtered_ds = ds[\"train\"].filter(lambda x: x[\"license\"].lower() in permissive_list) #what about those AND and OR classifications?\n",
    "filtered_ds = filtered_ds.filter(lambda x: x[\"test\"] == \"valid\")\n",
    "filtered_ds"
   ]
  },
  {
   "cell_type": "code",
   "execution_count": 8,
   "metadata": {},
   "outputs": [
    {
     "name": "stdout",
     "output_type": "stream",
     "text": [
      "['']\n"
     ]
    },
    {
     "data": {
      "application/vnd.jupyter.widget-view+json": {
       "model_id": "f20ad9e781ad46c48d1788c8340a7dd8",
       "version_major": 2,
       "version_minor": 0
      },
      "text/plain": [
       "Filter:   0%|          | 0/19622 [00:00<?, ? examples/s]"
      ]
     },
     "metadata": {},
     "output_type": "display_data"
    },
    {
     "data": {
      "text/plain": [
       "Dataset({\n",
       "    features: ['id', 'name', 'author', 'description', 'tags', 'likes', 'viewed', 'published', 'date', 'time_retrieved', 'image_code', 'image_inputs', 'common_code', 'sound_code', 'sound_inputs', 'buffer_a_code', 'buffer_a_inputs', 'buffer_b_code', 'buffer_b_inputs', 'buffer_c_code', 'buffer_c_inputs', 'buffer_d_code', 'buffer_d_inputs', 'cube_a_code', 'cube_a_inputs', 'thumbnail', 'access', 'license', 'functions', 'test'],\n",
       "    num_rows: 0\n",
       "})"
      ]
     },
     "execution_count": 8,
     "metadata": {},
     "output_type": "execute_result"
    }
   ],
   "source": [
    "# seems to never contain any common pass? or my preprocessing is wrong.\n",
    "print(df[\"common_code\"].unique()) \n",
    "\n",
    "# see how many shaders contain buffer passes (seemingly none?)\n",
    "ds[\"train\"].filter(lambda x: x[\"buffer_a_code\"] + x[\"buffer_b_code\"] + x[\"buffer_c_code\"] + x[\"buffer_d_code\"] != \"\")"
   ]
  },
  {
   "cell_type": "code",
   "execution_count": 10,
   "metadata": {},
   "outputs": [
    {
     "data": {
      "text/plain": [
       "<Axes: title={'center': 'license'}, xlabel='date'>"
      ]
     },
     "execution_count": 10,
     "metadata": {},
     "output_type": "execute_result"
    },
    {
     "data": {
      "image/png": "[encoded data removed]",
      "text/plain": [
       "<Figure size 1500x700 with 1 Axes>"
      ]
     },
     "metadata": {},
     "output_type": "display_data"
    }
   ],
   "source": [
    "def plot_per_month(column, stretched=False, **kwargs):\n",
    "    feature_df = df[\"date\"].groupby([df[\"date\"].dt.to_period(\"M\"), df[column]]).count().unstack()\n",
    "    if stretched:\n",
    "        feature_df = feature_df.div(feature_df.sum(axis=1), axis=0)\n",
    "    return feature_df.plot(kind=\"bar\", stacked=True, figsize=(15,7), title=column, width=.9, **kwargs)\n",
    "    \n",
    "plot_per_month(\"license\", True, legend=False)"
   ]
  },
  {
   "cell_type": "code",
   "execution_count": 11,
   "metadata": {},
   "outputs": [
    {
     "data": {
      "text/plain": [
       "<Axes: title={'center': 'published'}, xlabel='date'>"
      ]
     },
     "execution_count": 11,
     "metadata": {},
     "output_type": "execute_result"
    },
    {
     "data": {
      "image/png": "[encoded data removed]",
      "text/plain": [
       "<Figure size 1500x700 with 1 Axes>"
      ]
     },
     "metadata": {},
     "output_type": "display_data"
    }
   ],
   "source": [
    "plot_per_month(\"published\", False)"
   ]
  },
  {
   "cell_type": "code",
   "execution_count": 12,
   "metadata": {},
   "outputs": [
    {
     "data": {
      "text/plain": [
       "<Axes: title={'center': 'test'}, xlabel='date'>"
      ]
     },
     "execution_count": 12,
     "metadata": {},
     "output_type": "execute_result"
    },
    {
     "data": {
      "image/png": "[encoded data removed]",
      "text/plain": [
       "<Figure size 1500x700 with 1 Axes>"
      ]
     },
     "metadata": {},
     "output_type": "display_data"
    }
   ],
   "source": [
    "# currently in development, another filtering step.\n",
    "plot_per_month(\"test\", stretched=True, legend=True)"
   ]
  },
  {
   "cell_type": "code",
   "execution_count": 13,
   "metadata": {},
   "outputs": [
    {
     "data": {
      "text/plain": [
       "count    19622.000000\n",
       "mean         8.108450\n",
       "std         10.439794\n",
       "min          0.000000\n",
       "25%          2.000000\n",
       "50%          5.000000\n",
       "75%         10.000000\n",
       "max        358.000000\n",
       "Name: num_functions, dtype: float64"
      ]
     },
     "execution_count": 13,
     "metadata": {},
     "output_type": "execute_result"
    }
   ],
   "source": [
    "df[\"num_functions\"] = df[\"functions\"].apply(len)\n",
    "df[\"num_functions\"].describe()"
   ]
  },
  {
   "cell_type": "code",
   "execution_count": 16,
   "metadata": {},
   "outputs": [
    {
     "data": {
      "text/plain": [
       "<Axes: title={'center': 'num_inputs'}, xlabel='date'>"
      ]
     },
     "execution_count": 16,
     "metadata": {},
     "output_type": "execute_result"
    },
    {
     "data": {
      "image/png": "[encoded data removed]",
      "text/plain": [
       "<Figure size 1500x700 with 1 Axes>"
      ]
     },
     "metadata": {},
     "output_type": "display_data"
    }
   ],
   "source": [
    "df[\"num_inputs\"] = df[\"image_inputs\"].apply(len)\n",
    "plot_per_month(\"num_inputs\", stretched=False, legend=True)"
   ]
  },
  {
   "cell_type": "code",
   "execution_count": 18,
   "metadata": {},
   "outputs": [
    {
     "name": "stdout",
     "output_type": "stream",
     "text": [
      "True\n"
     ]
    },
    {
     "data": {
      "text/html": [
       "<div>\n",
       "<style scoped>\n",
       "    .dataframe tbody tr th:only-of-type {\n",
       "        vertical-align: middle;\n",
       "    }\n",
       "\n",
       "    .dataframe tbody tr th {\n",
       "        vertical-align: top;\n",
       "    }\n",
       "\n",
       "    .dataframe thead th {\n",
       "        text-align: right;\n",
       "    }\n",
       "</style>\n",
       "<table border=\"1\" class=\"dataframe\">\n",
       "  <thead>\n",
       "    <tr style=\"text-align: right;\">\n",
       "      <th></th>\n",
       "      <th>id</th>\n",
       "      <th>name</th>\n",
       "      <th>author</th>\n",
       "      <th>description</th>\n",
       "      <th>tags</th>\n",
       "      <th>likes</th>\n",
       "      <th>viewed</th>\n",
       "      <th>published</th>\n",
       "      <th>date</th>\n",
       "      <th>time_retrieved</th>\n",
       "      <th>...</th>\n",
       "      <th>buffer_d_inputs</th>\n",
       "      <th>cube_a_code</th>\n",
       "      <th>cube_a_inputs</th>\n",
       "      <th>thumbnail</th>\n",
       "      <th>access</th>\n",
       "      <th>license</th>\n",
       "      <th>functions</th>\n",
       "      <th>test</th>\n",
       "      <th>num_functions</th>\n",
       "      <th>num_inputs</th>\n",
       "    </tr>\n",
       "  </thead>\n",
       "  <tbody>\n",
       "    <tr>\n",
       "      <th>62</th>\n",
       "      <td>Md23DV</td>\n",
       "      <td>GLSL 2D Tutorials</td>\n",
       "      <td>vug</td>\n",
       "      <td>28 tutorials on writing pixel shaders at Shade...</td>\n",
       "      <td>[tutorial]</td>\n",
       "      <td>581</td>\n",
       "      <td>48910</td>\n",
       "      <td>Public</td>\n",
       "      <td>2014-03-08 20:58:49</td>\n",
       "      <td>2021-10-01</td>\n",
       "      <td>...</td>\n",
       "      <td>[]</td>\n",
       "      <td></td>\n",
       "      <td>[]</td>\n",
       "      <td>https://www.shadertoy.com/media/shaders/Md23DV...</td>\n",
       "      <td>shaders20k</td>\n",
       "      <td>CC-BY-NC-SA-3.0</td>\n",
       "      <td>[]</td>\n",
       "      <td>error</td>\n",
       "      <td>0</td>\n",
       "      <td>3</td>\n",
       "    </tr>\n",
       "    <tr>\n",
       "      <th>4809</th>\n",
       "      <td>MsSyzW</td>\n",
       "      <td>2D Worley and Cell Noise</td>\n",
       "      <td>TinyTexel</td>\n",
       "      <td>left: 1 - worley\\nmiddle: f2^2 - f1^2\\nright: ...</td>\n",
       "      <td>[voronoi, noise, worley]</td>\n",
       "      <td>12</td>\n",
       "      <td>348</td>\n",
       "      <td>Public</td>\n",
       "      <td>2017-04-01 18:38:57</td>\n",
       "      <td>2021-10-01</td>\n",
       "      <td>...</td>\n",
       "      <td>[]</td>\n",
       "      <td></td>\n",
       "      <td>[]</td>\n",
       "      <td>https://www.shadertoy.com/media/shaders/MsSyzW...</td>\n",
       "      <td>shaders20k</td>\n",
       "      <td>CC-BY-NC-SA-3.0</td>\n",
       "      <td>[]</td>\n",
       "      <td>valid</td>\n",
       "      <td>0</td>\n",
       "      <td>0</td>\n",
       "    </tr>\n",
       "    <tr>\n",
       "      <th>5090</th>\n",
       "      <td>XtySDz</td>\n",
       "      <td>Shadertoy 튜토리얼 한글번역</td>\n",
       "      <td>ho4040</td>\n",
       "      <td>Korean version of https://www.shadertoy.com/vi...</td>\n",
       "      <td>[tutorial, korean]</td>\n",
       "      <td>7</td>\n",
       "      <td>1040</td>\n",
       "      <td>Public API</td>\n",
       "      <td>2017-05-26 03:06:13</td>\n",
       "      <td>2021-10-01</td>\n",
       "      <td>...</td>\n",
       "      <td>[]</td>\n",
       "      <td></td>\n",
       "      <td>[]</td>\n",
       "      <td>https://www.shadertoy.com/media/shaders/XtySDz...</td>\n",
       "      <td>shaders20k</td>\n",
       "      <td>CC-BY-NC-SA-3.0</td>\n",
       "      <td>[]</td>\n",
       "      <td>error</td>\n",
       "      <td>0</td>\n",
       "      <td>0</td>\n",
       "    </tr>\n",
       "    <tr>\n",
       "      <th>5626</th>\n",
       "      <td>4lfczB</td>\n",
       "      <td>Sphere over lake</td>\n",
       "      <td>Nowado</td>\n",
       "      <td>Any description</td>\n",
       "      <td>[sphere]</td>\n",
       "      <td>6</td>\n",
       "      <td>444</td>\n",
       "      <td>Public API</td>\n",
       "      <td>2017-09-14 10:06:26</td>\n",
       "      <td>2021-10-01</td>\n",
       "      <td>...</td>\n",
       "      <td>[]</td>\n",
       "      <td></td>\n",
       "      <td>[]</td>\n",
       "      <td>https://www.shadertoy.com/media/shaders/4lfczB...</td>\n",
       "      <td>shaders20k</td>\n",
       "      <td>CC-BY-NC-SA-3.0</td>\n",
       "      <td>[]</td>\n",
       "      <td>valid</td>\n",
       "      <td>0</td>\n",
       "      <td>0</td>\n",
       "    </tr>\n",
       "    <tr>\n",
       "      <th>5743</th>\n",
       "      <td>XlfcD4</td>\n",
       "      <td>dizzy</td>\n",
       "      <td>sgoal</td>\n",
       "      <td>dizzy</td>\n",
       "      <td>[dizzy]</td>\n",
       "      <td>0</td>\n",
       "      <td>66</td>\n",
       "      <td>Public</td>\n",
       "      <td>2017-09-07 04:35:57</td>\n",
       "      <td>2021-10-01</td>\n",
       "      <td>...</td>\n",
       "      <td>[]</td>\n",
       "      <td></td>\n",
       "      <td>[]</td>\n",
       "      <td>https://www.shadertoy.com/media/shaders/XlfcD4...</td>\n",
       "      <td>shaders20k</td>\n",
       "      <td>CC-BY-NC-SA-3.0</td>\n",
       "      <td>[]</td>\n",
       "      <td>valid</td>\n",
       "      <td>0</td>\n",
       "      <td>0</td>\n",
       "    </tr>\n",
       "    <tr>\n",
       "      <th>5746</th>\n",
       "      <td>XlfyRj</td>\n",
       "      <td>Dancing Star</td>\n",
       "      <td>SunLuke</td>\n",
       "      <td>dance</td>\n",
       "      <td>[huehe]</td>\n",
       "      <td>2</td>\n",
       "      <td>116</td>\n",
       "      <td>Public</td>\n",
       "      <td>2017-09-14 12:56:59</td>\n",
       "      <td>2021-10-01</td>\n",
       "      <td>...</td>\n",
       "      <td>[]</td>\n",
       "      <td></td>\n",
       "      <td>[]</td>\n",
       "      <td>https://www.shadertoy.com/media/shaders/XlfyRj...</td>\n",
       "      <td>shaders20k</td>\n",
       "      <td>CC-BY-NC-SA-3.0</td>\n",
       "      <td>[]</td>\n",
       "      <td>valid</td>\n",
       "      <td>0</td>\n",
       "      <td>0</td>\n",
       "    </tr>\n",
       "    <tr>\n",
       "      <th>8489</th>\n",
       "      <td>llGfW3</td>\n",
       "      <td>rolling triangle tiling (310 ch)</td>\n",
       "      <td>FabriceNeyret2</td>\n",
       "      <td>Funnily, drawing all triangles makes [url]http...</td>\n",
       "      <td>[2d, geometry, gif, short, reproductions]</td>\n",
       "      <td>9</td>\n",
       "      <td>493</td>\n",
       "      <td>Public API</td>\n",
       "      <td>2018-12-07 21:29:36</td>\n",
       "      <td>2021-10-01</td>\n",
       "      <td>...</td>\n",
       "      <td>[]</td>\n",
       "      <td></td>\n",
       "      <td>[]</td>\n",
       "      <td>https://www.shadertoy.com/media/shaders/llGfW3...</td>\n",
       "      <td>shaders20k</td>\n",
       "      <td>CC-BY-NC-SA-3.0</td>\n",
       "      <td>[]</td>\n",
       "      <td>valid</td>\n",
       "      <td>0</td>\n",
       "      <td>0</td>\n",
       "    </tr>\n",
       "    <tr>\n",
       "      <th>9948</th>\n",
       "      <td>wtX3zB</td>\n",
       "      <td>Almost My First Shader</td>\n",
       "      <td>dr2</td>\n",
       "      <td>See the source...</td>\n",
       "      <td>[raymarch, landscape, flight, car]</td>\n",
       "      <td>10</td>\n",
       "      <td>602</td>\n",
       "      <td>Public API</td>\n",
       "      <td>2019-05-01 09:54:07</td>\n",
       "      <td>2021-10-01</td>\n",
       "      <td>...</td>\n",
       "      <td>[]</td>\n",
       "      <td></td>\n",
       "      <td>[]</td>\n",
       "      <td>https://www.shadertoy.com/media/shaders/wtX3zB...</td>\n",
       "      <td>shaders20k</td>\n",
       "      <td>cc-by-nc-sa-3.0</td>\n",
       "      <td>[]</td>\n",
       "      <td>error</td>\n",
       "      <td>0</td>\n",
       "      <td>0</td>\n",
       "    </tr>\n",
       "    <tr>\n",
       "      <th>11273</th>\n",
       "      <td>WsGGWy</td>\n",
       "      <td>Move in circle ( tutorial )</td>\n",
       "      <td>Kiltun</td>\n",
       "      <td>A simple shader of a circle moving on a ring.\\...</td>\n",
       "      <td>[tutorial, circle, ring, move, moveincircle]</td>\n",
       "      <td>1</td>\n",
       "      <td>172</td>\n",
       "      <td>Public</td>\n",
       "      <td>2019-10-11 16:30:36</td>\n",
       "      <td>2021-10-01</td>\n",
       "      <td>...</td>\n",
       "      <td>[]</td>\n",
       "      <td></td>\n",
       "      <td>[]</td>\n",
       "      <td>https://www.shadertoy.com/media/shaders/WsGGWy...</td>\n",
       "      <td>shaders20k</td>\n",
       "      <td>CC-BY-NC-SA-3.0</td>\n",
       "      <td>[]</td>\n",
       "      <td>valid</td>\n",
       "      <td>0</td>\n",
       "      <td>0</td>\n",
       "    </tr>\n",
       "    <tr>\n",
       "      <th>15144</th>\n",
       "      <td>WdyyDR</td>\n",
       "      <td>Great Ideas in Graphics Demo</td>\n",
       "      <td>sjobalia</td>\n",
       "      <td>Demo for Great Ideas in Graphics</td>\n",
       "      <td>[demo]</td>\n",
       "      <td>1</td>\n",
       "      <td>98</td>\n",
       "      <td>Public</td>\n",
       "      <td>2020-10-12 22:55:41</td>\n",
       "      <td>2021-10-01</td>\n",
       "      <td>...</td>\n",
       "      <td>[]</td>\n",
       "      <td></td>\n",
       "      <td>[]</td>\n",
       "      <td>https://www.shadertoy.com/media/shaders/WdyyDR...</td>\n",
       "      <td>shaders20k</td>\n",
       "      <td>CC-BY-NC-SA-3.0</td>\n",
       "      <td>[]</td>\n",
       "      <td>error</td>\n",
       "      <td>0</td>\n",
       "      <td>0</td>\n",
       "    </tr>\n",
       "    <tr>\n",
       "      <th>15526</th>\n",
       "      <td>3tccRn</td>\n",
       "      <td>GLSLLangSpec4607 snippets</td>\n",
       "      <td>gwiazdorrr</td>\n",
       "      <td>A collection of \"The OpenGL Shading Language, ...</td>\n",
       "      <td>[cxxswizzle]</td>\n",
       "      <td>1</td>\n",
       "      <td>168</td>\n",
       "      <td>Public API</td>\n",
       "      <td>2020-12-22 08:18:00</td>\n",
       "      <td>2021-10-01</td>\n",
       "      <td>...</td>\n",
       "      <td>[]</td>\n",
       "      <td></td>\n",
       "      <td>[]</td>\n",
       "      <td>https://www.shadertoy.com/media/shaders/3tccRn...</td>\n",
       "      <td>shaders20k</td>\n",
       "      <td>CC-BY-NC-SA-3.0</td>\n",
       "      <td>[]</td>\n",
       "      <td>error</td>\n",
       "      <td>0</td>\n",
       "      <td>0</td>\n",
       "    </tr>\n",
       "    <tr>\n",
       "      <th>17420</th>\n",
       "      <td>NdjXWm</td>\n",
       "      <td>Rotating Meander</td>\n",
       "      <td>nowhales</td>\n",
       "      <td>A circular rotating Greek meander pattern.\\n\\n...</td>\n",
       "      <td>[circular, greek, meander]</td>\n",
       "      <td>10</td>\n",
       "      <td>80</td>\n",
       "      <td>Public</td>\n",
       "      <td>2021-05-07 09:32:13</td>\n",
       "      <td>2021-10-01</td>\n",
       "      <td>...</td>\n",
       "      <td>[]</td>\n",
       "      <td></td>\n",
       "      <td>[]</td>\n",
       "      <td>https://www.shadertoy.com/media/shaders/NdjXWm...</td>\n",
       "      <td>shaders20k</td>\n",
       "      <td>CC-BY-NC-SA-3.0</td>\n",
       "      <td>[]</td>\n",
       "      <td>valid</td>\n",
       "      <td>0</td>\n",
       "      <td>0</td>\n",
       "    </tr>\n",
       "  </tbody>\n",
       "</table>\n",
       "<p>12 rows × 32 columns</p>\n",
       "</div>"
      ],
      "text/plain": [
       "           id                              name          author  \\\n",
       "62     Md23DV                 GLSL 2D Tutorials             vug   \n",
       "4809   MsSyzW          2D Worley and Cell Noise       TinyTexel   \n",
       "5090   XtySDz               Shadertoy 튜토리얼 한글번역          ho4040   \n",
       "5626   4lfczB                  Sphere over lake          Nowado   \n",
       "5743   XlfcD4                             dizzy           sgoal   \n",
       "5746   XlfyRj                      Dancing Star         SunLuke   \n",
       "8489   llGfW3  rolling triangle tiling (310 ch)  FabriceNeyret2   \n",
       "9948   wtX3zB            Almost My First Shader             dr2   \n",
       "11273  WsGGWy       Move in circle ( tutorial )          Kiltun   \n",
       "15144  WdyyDR      Great Ideas in Graphics Demo        sjobalia   \n",
       "15526  3tccRn         GLSLLangSpec4607 snippets      gwiazdorrr   \n",
       "17420  NdjXWm                  Rotating Meander        nowhales   \n",
       "\n",
       "                                             description  \\\n",
       "62     28 tutorials on writing pixel shaders at Shade...   \n",
       "4809   left: 1 - worley\\nmiddle: f2^2 - f1^2\\nright: ...   \n",
       "5090   Korean version of https://www.shadertoy.com/vi...   \n",
       "5626                                     Any description   \n",
       "5743                                               dizzy   \n",
       "5746                                               dance   \n",
       "8489   Funnily, drawing all triangles makes [url]http...   \n",
       "9948                                   See the source...   \n",
       "11273  A simple shader of a circle moving on a ring.\\...   \n",
       "15144                   Demo for Great Ideas in Graphics   \n",
       "15526  A collection of \"The OpenGL Shading Language, ...   \n",
       "17420  A circular rotating Greek meander pattern.\\n\\n...   \n",
       "\n",
       "                                               tags  likes  viewed  \\\n",
       "62                                       [tutorial]    581   48910   \n",
       "4809                       [voronoi, noise, worley]     12     348   \n",
       "5090                             [tutorial, korean]      7    1040   \n",
       "5626                                       [sphere]      6     444   \n",
       "5743                                        [dizzy]      0      66   \n",
       "5746                                        [huehe]      2     116   \n",
       "8489      [2d, geometry, gif, short, reproductions]      9     493   \n",
       "9948             [raymarch, landscape, flight, car]     10     602   \n",
       "11273  [tutorial, circle, ring, move, moveincircle]      1     172   \n",
       "15144                                        [demo]      1      98   \n",
       "15526                                  [cxxswizzle]      1     168   \n",
       "17420                    [circular, greek, meander]     10      80   \n",
       "\n",
       "        published                date time_retrieved  ... buffer_d_inputs  \\\n",
       "62         Public 2014-03-08 20:58:49     2021-10-01  ...              []   \n",
       "4809       Public 2017-04-01 18:38:57     2021-10-01  ...              []   \n",
       "5090   Public API 2017-05-26 03:06:13     2021-10-01  ...              []   \n",
       "5626   Public API 2017-09-14 10:06:26     2021-10-01  ...              []   \n",
       "5743       Public 2017-09-07 04:35:57     2021-10-01  ...              []   \n",
       "5746       Public 2017-09-14 12:56:59     2021-10-01  ...              []   \n",
       "8489   Public API 2018-12-07 21:29:36     2021-10-01  ...              []   \n",
       "9948   Public API 2019-05-01 09:54:07     2021-10-01  ...              []   \n",
       "11273      Public 2019-10-11 16:30:36     2021-10-01  ...              []   \n",
       "15144      Public 2020-10-12 22:55:41     2021-10-01  ...              []   \n",
       "15526  Public API 2020-12-22 08:18:00     2021-10-01  ...              []   \n",
       "17420      Public 2021-05-07 09:32:13     2021-10-01  ...              []   \n",
       "\n",
       "      cube_a_code cube_a_inputs  \\\n",
       "62                           []   \n",
       "4809                         []   \n",
       "5090                         []   \n",
       "5626                         []   \n",
       "5743                         []   \n",
       "5746                         []   \n",
       "8489                         []   \n",
       "9948                         []   \n",
       "11273                        []   \n",
       "15144                        []   \n",
       "15526                        []   \n",
       "17420                        []   \n",
       "\n",
       "                                               thumbnail      access  \\\n",
       "62     https://www.shadertoy.com/media/shaders/Md23DV...  shaders20k   \n",
       "4809   https://www.shadertoy.com/media/shaders/MsSyzW...  shaders20k   \n",
       "5090   https://www.shadertoy.com/media/shaders/XtySDz...  shaders20k   \n",
       "5626   https://www.shadertoy.com/media/shaders/4lfczB...  shaders20k   \n",
       "5743   https://www.shadertoy.com/media/shaders/XlfcD4...  shaders20k   \n",
       "5746   https://www.shadertoy.com/media/shaders/XlfyRj...  shaders20k   \n",
       "8489   https://www.shadertoy.com/media/shaders/llGfW3...  shaders20k   \n",
       "9948   https://www.shadertoy.com/media/shaders/wtX3zB...  shaders20k   \n",
       "11273  https://www.shadertoy.com/media/shaders/WsGGWy...  shaders20k   \n",
       "15144  https://www.shadertoy.com/media/shaders/WdyyDR...  shaders20k   \n",
       "15526  https://www.shadertoy.com/media/shaders/3tccRn...  shaders20k   \n",
       "17420  https://www.shadertoy.com/media/shaders/NdjXWm...  shaders20k   \n",
       "\n",
       "               license functions   test num_functions num_inputs  \n",
       "62     CC-BY-NC-SA-3.0        []  error             0          3  \n",
       "4809   CC-BY-NC-SA-3.0        []  valid             0          0  \n",
       "5090   CC-BY-NC-SA-3.0        []  error             0          0  \n",
       "5626   CC-BY-NC-SA-3.0        []  valid             0          0  \n",
       "5743   CC-BY-NC-SA-3.0        []  valid             0          0  \n",
       "5746   CC-BY-NC-SA-3.0        []  valid             0          0  \n",
       "8489   CC-BY-NC-SA-3.0        []  valid             0          0  \n",
       "9948   cc-by-nc-sa-3.0        []  error             0          0  \n",
       "11273  CC-BY-NC-SA-3.0        []  valid             0          0  \n",
       "15144  CC-BY-NC-SA-3.0        []  error             0          0  \n",
       "15526  CC-BY-NC-SA-3.0        []  error             0          0  \n",
       "17420  CC-BY-NC-SA-3.0        []  valid             0          0  \n",
       "\n",
       "[12 rows x 32 columns]"
      ]
     },
     "execution_count": 18,
     "metadata": {},
     "output_type": "execute_result"
    }
   ],
   "source": [
    "# these cases might be parsing failures? seem to always use macros inside functions or something.\n",
    "# some use no functions but Main(){...} which seems to work in glsl but not viable for our dataset\n",
    "from annotate import PARSER\n",
    "print(PARSER.parse(bytes(df[\"image_code\"][5746],encoding=\"utf-8\")).root_node.has_error)\n",
    "df.loc[df[\"num_functions\"] == 0]"
   ]
  },
  {
   "cell_type": "code",
   "execution_count": 21,
   "metadata": {},
   "outputs": [
    {
     "data": {
      "application/vnd.jupyter.widget-view+json": {
       "model_id": "52fd4541d0934131bf4e82b2213eacd3",
       "version_major": 2,
       "version_minor": 0
      },
      "text/plain": [
       "Map:   0%|          | 0/486 [00:00<?, ? examples/s]"
      ]
     },
     "metadata": {},
     "output_type": "display_data"
    },
    {
     "data": {
      "text/plain": [
       "Dataset({\n",
       "    features: ['id', 'comment', 'header', 'docstring', 'body', 'full_code', 'func_bytes'],\n",
       "    num_rows: 3923\n",
       "})"
      ]
     },
     "execution_count": 21,
     "metadata": {},
     "output_type": "execute_result"
    }
   ],
   "source": [
    "# TODO: refactor into a generator because I dislike the current shape. but figure out how batching and threadding works then?\n",
    "# part of the filter.py or prepare.py script that will be done soon.\n",
    "def split_functions(batch):\n",
    "    # per function fields\n",
    "    comments, headers, docstrings, bodies = [],[],[],[]\n",
    "    # per document fields\n",
    "    full_code, funcs, ids = [],[],[]\n",
    "    for code, func_bytes, shader_id in zip(batch[\"image_code\"], batch[\"functions\"], batch[\"id\"]):\n",
    "        row_code = bytes(code,encoding=\"utf-8\")\n",
    "        for start_comment, start_header, end_header, end_docstring, end_function in func_bytes:\n",
    "            comments.append(row_code[start_comment:start_header].decode(encoding=\"utf-8\")),\n",
    "            headers.append(row_code[start_header:end_header].decode(encoding=\"utf-8\")),\n",
    "            docstrings.append(row_code[end_header:end_docstring].decode(encoding=\"utf-8\")),\n",
    "            bodies.append(row_code[end_docstring:end_function].decode(encoding=\"utf-8\")),\n",
    "            full_code.append(row_code.decode(encoding=\"utf-8\")),\n",
    "            funcs.append((start_comment, start_header, end_header, end_docstring, end_function))\n",
    "            ids.append(shader_id)\n",
    "    return {\n",
    "            \"comment\": comments,\n",
    "            \"header\": headers,\n",
    "            \"docstring\": docstrings,\n",
    "            \"body\": bodies,\n",
    "            \"full_code\": full_code,\n",
    "            \"func_bytes\": funcs,\n",
    "            \"id\": ids,\n",
    "            }\n",
    "\n",
    "\n",
    "# func_ds = ds.map(split_functions, batched=True, remove_columns=ds[\"train\"].column_names) # full dataset to functions\n",
    "func_ds = filtered_ds.map(split_functions, batched=True, remove_columns=filtered_ds.column_names) # only permissive shaders (the whole 20k set is single pass without common...)\n",
    "if \"train\" in func_ds:\n",
    "    func_ds = func_ds[\"train\"]\n",
    "func_ds"
   ]
  },
  {
   "cell_type": "code",
   "execution_count": 22,
   "metadata": {},
   "outputs": [
    {
     "data": {
      "text/html": [
       "<div>\n",
       "<style scoped>\n",
       "    .dataframe tbody tr th:only-of-type {\n",
       "        vertical-align: middle;\n",
       "    }\n",
       "\n",
       "    .dataframe tbody tr th {\n",
       "        vertical-align: top;\n",
       "    }\n",
       "\n",
       "    .dataframe thead th {\n",
       "        text-align: right;\n",
       "    }\n",
       "</style>\n",
       "<table border=\"1\" class=\"dataframe\">\n",
       "  <thead>\n",
       "    <tr style=\"text-align: right;\">\n",
       "      <th></th>\n",
       "      <th>id</th>\n",
       "      <th>comment</th>\n",
       "      <th>header</th>\n",
       "      <th>docstring</th>\n",
       "      <th>body</th>\n",
       "      <th>full_code</th>\n",
       "      <th>func_bytes</th>\n",
       "    </tr>\n",
       "  </thead>\n",
       "  <tbody>\n",
       "    <tr>\n",
       "      <th>0</th>\n",
       "      <td>lsS3Wc</td>\n",
       "      <td>//============================================...</td>\n",
       "      <td>vec3 hsv2rgb( in vec3 c )\\n{</td>\n",
       "      <td></td>\n",
       "      <td>\\n    vec3 rgb = clamp( abs(mod(c.x*6.0+vec3(0...</td>\n",
       "      <td>// The MIT License\\n// Copyright © 2014 Inigo ...</td>\n",
       "      <td>[1143, 1250, 1277, 1277, 1406]</td>\n",
       "    </tr>\n",
       "    <tr>\n",
       "      <th>1</th>\n",
       "      <td>lsS3Wc</td>\n",
       "      <td></td>\n",
       "      <td>vec3 hsl2rgb( in vec3 c )\\n{</td>\n",
       "      <td></td>\n",
       "      <td>\\n    vec3 rgb = clamp( abs(mod(c.x*6.0+vec3(0...</td>\n",
       "      <td>// The MIT License\\n// Copyright © 2014 Inigo ...</td>\n",
       "      <td>[1408, 1408, 1435, 1435, 1577]</td>\n",
       "    </tr>\n",
       "    <tr>\n",
       "      <th>2</th>\n",
       "      <td>lsS3Wc</td>\n",
       "      <td></td>\n",
       "      <td>vec3 rgb2hsv( in vec3 c)\\n{</td>\n",
       "      <td></td>\n",
       "      <td>\\n    vec4 k = vec4(0.0, -1.0/3.0, 2.0/3.0, -1...</td>\n",
       "      <td>// The MIT License\\n// Copyright © 2014 Inigo ...</td>\n",
       "      <td>[1579, 1579, 1605, 1605, 1920]</td>\n",
       "    </tr>\n",
       "    <tr>\n",
       "      <th>3</th>\n",
       "      <td>lsS3Wc</td>\n",
       "      <td></td>\n",
       "      <td>vec3 rgb2hsl( vec3 col )\\n{</td>\n",
       "      <td></td>\n",
       "      <td>\\n    float minc = min( col.r, min(col.g, col....</td>\n",
       "      <td>// The MIT License\\n// Copyright © 2014 Inigo ...</td>\n",
       "      <td>[1922, 1922, 1948, 1948, 2400]</td>\n",
       "    </tr>\n",
       "    <tr>\n",
       "      <th>4</th>\n",
       "      <td>lsS3Wc</td>\n",
       "      <td>//============================================...</td>\n",
       "      <td>void mainImage( out vec4 fragColor, in vec2 fr...</td>\n",
       "      <td></td>\n",
       "      <td>\\n\\tvec2 uv = fragCoord.xy / iResolution.xy;\\n...</td>\n",
       "      <td>// The MIT License\\n// Copyright © 2014 Inigo ...</td>\n",
       "      <td>[2402, 2478, 2535, 2535, 2722]</td>\n",
       "    </tr>\n",
       "  </tbody>\n",
       "</table>\n",
       "</div>"
      ],
      "text/plain": [
       "       id                                            comment  \\\n",
       "0  lsS3Wc  //============================================...   \n",
       "1  lsS3Wc                                                      \n",
       "2  lsS3Wc                                                      \n",
       "3  lsS3Wc                                                      \n",
       "4  lsS3Wc  //============================================...   \n",
       "\n",
       "                                              header docstring  \\\n",
       "0                       vec3 hsv2rgb( in vec3 c )\\n{             \n",
       "1                       vec3 hsl2rgb( in vec3 c )\\n{             \n",
       "2                        vec3 rgb2hsv( in vec3 c)\\n{             \n",
       "3                        vec3 rgb2hsl( vec3 col )\\n{             \n",
       "4  void mainImage( out vec4 fragColor, in vec2 fr...             \n",
       "\n",
       "                                                body  \\\n",
       "0  \\n    vec3 rgb = clamp( abs(mod(c.x*6.0+vec3(0...   \n",
       "1  \\n    vec3 rgb = clamp( abs(mod(c.x*6.0+vec3(0...   \n",
       "2  \\n    vec4 k = vec4(0.0, -1.0/3.0, 2.0/3.0, -1...   \n",
       "3  \\n    float minc = min( col.r, min(col.g, col....   \n",
       "4  \\n\\tvec2 uv = fragCoord.xy / iResolution.xy;\\n...   \n",
       "\n",
       "                                           full_code  \\\n",
       "0  // The MIT License\\n// Copyright © 2014 Inigo ...   \n",
       "1  // The MIT License\\n// Copyright © 2014 Inigo ...   \n",
       "2  // The MIT License\\n// Copyright © 2014 Inigo ...   \n",
       "3  // The MIT License\\n// Copyright © 2014 Inigo ...   \n",
       "4  // The MIT License\\n// Copyright © 2014 Inigo ...   \n",
       "\n",
       "                       func_bytes  \n",
       "0  [1143, 1250, 1277, 1277, 1406]  \n",
       "1  [1408, 1408, 1435, 1435, 1577]  \n",
       "2  [1579, 1579, 1605, 1605, 1920]  \n",
       "3  [1922, 1922, 1948, 1948, 2400]  \n",
       "4  [2402, 2478, 2535, 2535, 2722]  "
      ]
     },
     "execution_count": 22,
     "metadata": {},
     "output_type": "execute_result"
    }
   ],
   "source": [
    "func_df = func_ds.to_pandas()\n",
    "func_df.head() "
   ]
  },
  {
   "cell_type": "code",
   "execution_count": 24,
   "metadata": {},
   "outputs": [
    {
     "name": "stdout",
     "output_type": "stream",
     "text": [
      "functions with context = 1551\n"
     ]
    },
    {
     "data": {
      "text/html": [
       "<div>\n",
       "<style scoped>\n",
       "    .dataframe tbody tr th:only-of-type {\n",
       "        vertical-align: middle;\n",
       "    }\n",
       "\n",
       "    .dataframe tbody tr th {\n",
       "        vertical-align: top;\n",
       "    }\n",
       "\n",
       "    .dataframe thead th {\n",
       "        text-align: right;\n",
       "    }\n",
       "</style>\n",
       "<table border=\"1\" class=\"dataframe\">\n",
       "  <thead>\n",
       "    <tr style=\"text-align: right;\">\n",
       "      <th>has_docstring</th>\n",
       "      <th>False</th>\n",
       "      <th>True</th>\n",
       "      <th>All</th>\n",
       "    </tr>\n",
       "    <tr>\n",
       "      <th>has_comment</th>\n",
       "      <th></th>\n",
       "      <th></th>\n",
       "      <th></th>\n",
       "    </tr>\n",
       "  </thead>\n",
       "  <tbody>\n",
       "    <tr>\n",
       "      <th>False</th>\n",
       "      <td>2372</td>\n",
       "      <td>198</td>\n",
       "      <td>2570</td>\n",
       "    </tr>\n",
       "    <tr>\n",
       "      <th>True</th>\n",
       "      <td>1203</td>\n",
       "      <td>150</td>\n",
       "      <td>1353</td>\n",
       "    </tr>\n",
       "    <tr>\n",
       "      <th>All</th>\n",
       "      <td>3575</td>\n",
       "      <td>348</td>\n",
       "      <td>3923</td>\n",
       "    </tr>\n",
       "  </tbody>\n",
       "</table>\n",
       "</div>"
      ],
      "text/plain": [
       "has_docstring  False  True   All\n",
       "has_comment                     \n",
       "False           2372   198  2570\n",
       "True            1203   150  1353\n",
       "All             3575   348  3923"
      ]
     },
     "execution_count": 24,
     "metadata": {},
     "output_type": "execute_result"
    }
   ],
   "source": [
    "func_df[\"has_comment\"] = func_df[\"comment\"] != \"\"\n",
    "func_df[\"has_docstring\"] = func_df[\"docstring\"] != \"\"\n",
    "func_df[\"model_ctx\"] = func_df[\"comment\"] + func_df[\"header\"] + func_df[\"comment\"]\n",
    "# how many functions are there, and what is the share of comments, \n",
    "\n",
    "xtab = pd.crosstab(func_df[\"has_comment\"], func_df[\"has_docstring\"], margins=True)\n",
    "print(f\"functions with context = {xtab.iloc[-1,-1] - xtab.iloc[0,0]}\")\n",
    "xtab\n",
    "\n",
    "# for the permissive subset of shaders 21k the number goes down to like 253 for both... and 150 for valid shaders only."
   ]
  },
  {
   "cell_type": "code",
   "execution_count": 25,
   "metadata": {},
   "outputs": [
    {
     "name": "stdout",
     "output_type": "stream",
     "text": [
      "885\n"
     ]
    },
    {
     "data": {
      "text/plain": [
       "comment\n",
       "                                                                                                                                                                                                                                                         2570\n",
       "//------------------------------------------------------------------\\n\\n                                                                                                                                                                                   43\n",
       "// http://iquilezles.org/www/articles/normalsSDF/normalsSDF.htm\\n                                                                                                                                                                                          29\n",
       "// http://iquilezles.org/www/articles/rmshadows/rmshadows.htm\\n                                                                                                                                                                                            20\n",
       "//CC0 1.0 Universal https://creativecommons.org/publicdomain/zero/1.0/\\n//To the extent possible under law, Blackle Mori has waived all copyright and related or neighboring rights to this work.\\n\\n                                                      16\n",
       "// http://iquilezles.org/www/articles/checkerfiltering/checkerfiltering.htm\\n                                                                                                                                                                              15\n",
       "// vertical\\n                                                                                                                                                                                                                                              11\n",
       "//=====================================================\\n\\n                                                                                                                                                                                                11\n",
       "// http://iquilezles.org/www/articles/boxfunctions/boxfunctions.htm\\n                                                                                                                                                                                      11\n",
       "//like the last few shaders I've published, this is a neural network experiment.\\n//this time, the neural network reproduces an SDF given the x,y,z coordinates\\n//using siren networks with skip connections: https://vsitzmann.github.io/siren/\\n\\n      11\n",
       "Name: count, dtype: int64"
      ]
     },
     "execution_count": 25,
     "metadata": {},
     "output_type": "execute_result"
    }
   ],
   "source": [
    "# FINDING: only about half the comments are unique.\n",
    "# some frequent comment looks like a template maybe? should investigate\n",
    "print(func_df[\"comment\"].nunique())\n",
    "func_df[\"comment\"].value_counts(sort=True, ascending=False).head(10)"
   ]
  },
  {
   "cell_type": "code",
   "execution_count": 26,
   "metadata": {},
   "outputs": [
    {
     "name": "stdout",
     "output_type": "stream",
     "text": [
      "1983\n"
     ]
    },
    {
     "data": {
      "text/plain": [
       "header\n",
       "void mainImage( out vec4 fragColor, in vec2 fragCoord )\\n{    384\n",
       "float scene(vec3 p) {                                          48\n",
       "vec3 erot(vec3 p, vec3 ax, float ro) {                         44\n",
       "vec3 norm(vec3 p) {                                            43\n",
       "void mainImage(out vec4 fragColor, in vec2 fragCoord) {        39\n",
       "vec3 calcNormal( in vec3 pos )\\n{                              37\n",
       "float dot2( in vec2 v ) {                                      20\n",
       "float calcAO( in vec3 pos, in vec3 nor )\\n{                    20\n",
       "vec3 mod289(vec3 x) {                                          20\n",
       "vec4 permute(vec4 x) {                                         18\n",
       "Name: count, dtype: int64"
      ]
     },
     "execution_count": 26,
     "metadata": {},
     "output_type": "execute_result"
    }
   ],
   "source": [
    "# FINDING = only about a third of function-headers are unique?\n",
    "# it's expect to have one mainImage function per renderpass... but they are just whitesapce variable here - maybe we skip them in general\n",
    "print(func_df[\"header\"].nunique())\n",
    "func_df[\"header\"].value_counts(sort=True, ascending=False).head(10)"
   ]
  },
  {
   "cell_type": "code",
   "execution_count": 27,
   "metadata": {},
   "outputs": [
    {
     "data": {
      "text/plain": [
       "486"
      ]
     },
     "execution_count": 27,
     "metadata": {},
     "output_type": "execute_result"
    }
   ],
   "source": [
    "# looks like some are not exact or might even use the common pass to bypass this\n",
    "func_df[\"header\"].str.startswith(\"void mainImage\").sum()"
   ]
  },
  {
   "cell_type": "code",
   "execution_count": 28,
   "metadata": {},
   "outputs": [
    {
     "name": "stdout",
     "output_type": "stream",
     "text": [
      "182\n"
     ]
    },
    {
     "data": {
      "text/plain": [
       "docstring\n",
       "                                                                                           3575\n",
       "\\n    // Normalized pixel coordinates (from 0 to 1)                                          23\n",
       "\\n     // camera movement\\t                                                                  17\n",
       "\\n    // filter kernel                                                                       16\n",
       "\\n//  return tanh(x);                                                                        13\n",
       "\\n    //sdf is undefined outside the unit sphere, uncomment to witness the abominations      12\n",
       "\\n    // normalized pixel coordinates                                                        10\n",
       "\\n    // bounding volume                                                                      9\n",
       "\\n\\t//get coords and direction                                                                8\n",
       " \\n    // background                                                                          6\n",
       "Name: count, dtype: int64"
      ]
     },
     "execution_count": 28,
     "metadata": {},
     "output_type": "execute_result"
    }
   ],
   "source": [
    "# half the docstrings aren't unique?\n",
    "# most common one is the shadertoy.com/new default for the main function\n",
    "print(func_df[\"docstring\"].nunique())\n",
    "func_df[\"docstring\"].value_counts(sort=True, ascending=False).head(10)"
   ]
  },
  {
   "cell_type": "code",
   "execution_count": 29,
   "metadata": {},
   "outputs": [
    {
     "name": "stdout",
     "output_type": "stream",
     "text": [
      "2248\n"
     ]
    },
    {
     "data": {
      "text/plain": [
       "model_ctx\n",
       "void mainImage( out vec4 fragColor, in vec2 fragCoord )\\n{                                                                                                             342\n",
       "float scene(vec3 p) {                                                                                                                                                   47\n",
       "vec3 norm(vec3 p) {                                                                                                                                                     43\n",
       "void mainImage(out vec4 fragColor, in vec2 fragCoord) {                                                                                                                 37\n",
       "// http://iquilezles.org/www/articles/normalsSDF/normalsSDF.htm\\nvec3 calcNormal( in vec3 pos )\\n{// http://iquilezles.org/www/articles/normalsSDF/normalsSDF.htm\\n     25\n",
       "float calcAO( in vec3 pos, in vec3 nor )\\n{                                                                                                                             20\n",
       "vec3 erot(vec3 p, vec3 ax, float ro) {                                                                                                                                  19\n",
       "mat3 setCamera( in vec3 ro, in vec3 ta, float cr )\\n{                                                                                                                   17\n",
       "vec4 permute(vec4 x) {                                                                                                                                                  17\n",
       "vec4 taylorInvSqrt(vec4 r)\\n{                                                                                                                                           16\n",
       "Name: count, dtype: int64"
      ]
     },
     "execution_count": 29,
     "metadata": {},
     "output_type": "execute_result"
    }
   ],
   "source": [
    "# proposed model_ctx takes all of them in normal order (doens't filter out the naked functions)\n",
    "print(func_df[\"model_ctx\"].nunique())\n",
    "func_df[\"model_ctx\"].value_counts(sort=True, ascending=False).head(10)"
   ]
  },
  {
   "cell_type": "code",
   "execution_count": 30,
   "metadata": {},
   "outputs": [
    {
     "data": {
      "text/plain": [
       "header\n",
       "float tanh_approx(float x) {                                                                        12\n",
       "void mainImage( out vec4 fragColor, in vec2 fragCoord )\\n{                                          10\n",
       "float calcSoftshadow( in vec3 ro, in vec3 rd, in float mint, in float tmax )\\n{                      9\n",
       "float checkersGradBox( in vec2 p, in vec2 dpdx, in vec2 dpdy )\\n{                                    7\n",
       "float checkersGradBox( in vec2 p )\\n{                                                                7\n",
       "float map( in vec3 p )\\n{                                                                            3\n",
       "vec2 map( in vec3 p, int id )\\n{                                                                     3\n",
       "vec2 iBox( in vec3 ro, in vec3 rd, in vec3 cen, in vec3 rad ) \\n{                                    3\n",
       "float intersect( vec3 ro, vec3 rd, out vec3 pos, out vec3 nor, out float occ, out int matid )\\n{     2\n",
       "vec2 heightmap(vec2 p) {                                                                             2\n",
       "Name: count, dtype: int64"
      ]
     },
     "execution_count": 30,
     "metadata": {},
     "output_type": "execute_result"
    }
   ],
   "source": [
    "# figure out if a function is needed, by removing if from body and check if the code still runs (you should have filtered for only working shaders before)\n",
    "\n",
    "# step 1. subset the dataframe to only those rows that have comment and docstring\n",
    "both_df = func_df[func_df[\"has_comment\"] & func_df[\"has_docstring\"]]\n",
    "# 253 functions form 168 shaders, only 179 of which are unique combinations...\n",
    "both_df[\"header\"].value_counts(sort=True, ascending=False).head(10)"
   ]
  },
  {
   "cell_type": "code",
   "execution_count": 31,
   "metadata": {},
   "outputs": [
    {
     "name": "stderr",
     "output_type": "stream",
     "text": [
      "C:\\Users\\Jan\\AppData\\Local\\Temp\\ipykernel_7400\\3626809373.py:12: SettingWithCopyWarning: \n",
      "A value is trying to be set on a copy of a slice from a DataFrame.\n",
      "Try using .loc[row_indexer,col_indexer] = value instead\n",
      "\n",
      "See the caveats in the documentation: https://pandas.pydata.org/pandas-docs/stable/user_guide/indexing.html#returning-a-view-versus-a-copy\n",
      "  both_df[\"needed\"] = both_df.apply(check_function_needed, axis=1)\n"
     ]
    },
    {
     "data": {
      "text/plain": [
       "needed\n",
       "True    150\n",
       "Name: count, dtype: int64"
      ]
     },
     "execution_count": 31,
     "metadata": {},
     "output_type": "execute_result"
    }
   ],
   "source": [
    "# step 2. if code runs without the function.\n",
    "from annotate import run_shader\n",
    "\n",
    "def check_function_needed(row):\n",
    "    code = row[\"full_code\"]\n",
    "    start_comment, start_header, end_header, end_docstring, end_function = row[\"func_bytes\"]\n",
    "    test_code = code[:start_comment] + code[end_function:]\n",
    "    status = run_shader(test_code)\n",
    "    return status == \"error\"\n",
    "\n",
    "\n",
    "both_df[\"needed\"] = both_df.apply(check_function_needed, axis=1)\n",
    "both_df[\"needed\"].value_counts()"
   ]
  },
  {
   "cell_type": "code",
   "execution_count": 32,
   "metadata": {},
   "outputs": [
    {
     "name": "stderr",
     "output_type": "stream",
     "text": [
      "C:\\Users\\Jan\\AppData\\Local\\Temp\\ipykernel_7400\\2047191097.py:8: SettingWithCopyWarning: \n",
      "A value is trying to be set on a copy of a slice from a DataFrame.\n",
      "Try using .loc[row_indexer,col_indexer] = value instead\n",
      "\n",
      "See the caveats in the documentation: https://pandas.pydata.org/pandas-docs/stable/user_guide/indexing.html#returning-a-view-versus-a-copy\n",
      "  both_df[\"status\"] = both_df.apply(check_code, axis=1)\n"
     ]
    }
   ],
   "source": [
    "# step 3. check if the whole code works originally (we filtered for valid only)\n",
    "\n",
    "def check_code(row):\n",
    "    code = row[\"full_code\"]\n",
    "    status = run_shader(code)\n",
    "    return status\n",
    "\n",
    "both_df[\"status\"] = both_df.apply(check_code, axis=1)"
   ]
  },
  {
   "cell_type": "code",
   "execution_count": 38,
   "metadata": {},
   "outputs": [
    {
     "data": {
      "text/plain": [
       "Dataset({\n",
       "    features: ['id', 'comment', 'header', 'docstring', 'body', 'full_code', 'func_bytes', 'has_comment', 'has_docstring', 'model_ctx', 'needed', 'status', 'input_both', 'input_comment', 'input_docstring', 'input_none', '__index_level_0__'],\n",
       "    num_rows: 150\n",
       "})"
      ]
     },
     "execution_count": 38,
     "metadata": {},
     "output_type": "execute_result"
    }
   ],
   "source": [
    "from datasets import Dataset\n",
    "\n",
    "\n",
    "both_df.loc[:,\"input_both\"] = both_df[\"comment\"] + both_df[\"header\"] + both_df[\"docstring\"]\n",
    "both_df.loc[:,\"input_comment\"] = both_df[\"comment\"] + both_df[\"header\"]\n",
    "both_df.loc[:,\"input_docstring\"] = both_df[\"header\"] + both_df[\"docstring\"]\n",
    "both_df.loc[:,\"input_none\"] = both_df[\"header\"]\n",
    "experiment_ds = Dataset.from_pandas(both_df)\n",
    "experiment_ds"
   ]
  },
  {
   "cell_type": "code",
   "execution_count": 41,
   "metadata": {},
   "outputs": [
    {
     "data": {
      "application/vnd.jupyter.widget-view+json": {
       "model_id": "0cf40d169c324152beb6f9ce600ee965",
       "version_major": 2,
       "version_minor": 0
      },
      "text/plain": [
       "Uploading the dataset shards:   0%|          | 0/1 [00:00<?, ?it/s]"
      ]
     },
     "metadata": {},
     "output_type": "display_data"
    },
    {
     "data": {
      "application/vnd.jupyter.widget-view+json": {
       "model_id": "1ddb2085d94549ea9877f54459c09b62",
       "version_major": 2,
       "version_minor": 0
      },
      "text/plain": [
       "Creating parquet from Arrow format:   0%|          | 0/1 [00:00<?, ?ba/s]"
      ]
     },
     "metadata": {},
     "output_type": "display_data"
    },
    {
     "data": {
      "text/plain": [
       "CommitInfo(commit_url='https://huggingface.co/datasets/Vipitis/Shadereval-experiments-dev/commit/eb3a9244eba3f25411c7a465f22160a557b6fd0f', commit_message='Upload dataset', commit_description='', oid='eb3a9244eba3f25411c7a465f22160a557b6fd0f', pr_url=None, pr_revision=None, pr_num=None)"
      ]
     },
     "execution_count": 41,
     "metadata": {},
     "output_type": "execute_result"
    }
   ],
   "source": [
    "# this pushes the dataset to the hub, uncomment with care!\n",
    "# experiment_ds.push_to_hub(\"Vipitis/Shadereval-experiments-dev\", private=True)"
   ]
  }
 ],
 "metadata": {
  "kernelspec": {
   "display_name": "Python 3",
   "language": "python",
   "name": "python3"
  },
  "language_info": {
   "codemirror_mode": {
    "name": "ipython",
    "version": 3
   },
   "file_extension": ".py",
   "mimetype": "text/x-python",
   "name": "python",
   "nbconvert_exporter": "python",
   "pygments_lexer": "ipython3",
   "version": "3.9.4"
  }
 },
 "nbformat": 4,
 "nbformat_minor": 2
}
