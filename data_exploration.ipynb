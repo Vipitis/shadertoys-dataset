{
 "cells": [
  {
   "cell_type": "markdown",
   "metadata": {},
   "source": [
    "### Exploring the annotated data."
   ]
  },
  {
   "cell_type": "code",
   "execution_count": 1,
   "metadata": {},
   "outputs": [
    {
     "data": {
      "application/vnd.jupyter.widget-view+json": {
       "model_id": "68fc21ae3a424d0ca897e75e8a4dd105",
       "version_major": 2,
       "version_minor": 0
      },
      "text/plain": [
       "Resolving data files:   0%|          | 0/95 [00:00<?, ?it/s]"
      ]
     },
     "metadata": {},
     "output_type": "display_data"
    },
    {
     "data": {
      "application/vnd.jupyter.widget-view+json": {
       "model_id": "f2515e4b5ae6422ea49118b2d9580227",
       "version_major": 2,
       "version_minor": 0
      },
      "text/plain": [
       "Downloading data:   0%|          | 0/95 [00:00<?, ?files/s]"
      ]
     },
     "metadata": {},
     "output_type": "display_data"
    },
    {
     "data": {
      "application/vnd.jupyter.widget-view+json": {
       "model_id": "3eb4ddf842f34055833652c2dad4e4e7",
       "version_major": 2,
       "version_minor": 0
      },
      "text/plain": [
       "Generating train split: 0 examples [00:00, ? examples/s]"
      ]
     },
     "metadata": {},
     "output_type": "display_data"
    },
    {
     "data": {
      "text/plain": [
       "DatasetDict({\n",
       "    train: Dataset({\n",
       "        features: ['id', 'name', 'author', 'description', 'tags', 'likes', 'viewed', 'published', 'date', 'time_retrieved', 'image_code', 'image_inputs', 'common_code', 'sound_code', 'sound_inputs', 'buffer_a_code', 'buffer_a_inputs', 'buffer_b_code', 'buffer_b_inputs', 'buffer_c_code', 'buffer_c_inputs', 'buffer_d_code', 'buffer_d_inputs', 'cube_a_code', 'cube_a_inputs', 'thumbnail', 'access', 'license', 'functions', 'test'],\n",
       "        num_rows: 19622\n",
       "    })\n",
       "})"
      ]
     },
     "execution_count": 1,
     "metadata": {},
     "output_type": "execute_result"
    }
   ],
   "source": [
    "from datasets import load_dataset, disable_caching\n",
    "import pandas as pd\n",
    "\n",
    "# can infer the generic loader script this easily\n",
    "disable_caching()\n",
    "# cache location [click](%userprofile%/.cache/huggingface/datasets)\n",
    "# needs force_redownload to avoid loading incorrect cached stuff\n",
    "ds = load_dataset(\"json\", data_dir=\"./data/annotated/\", download_mode=\"force_redownload\", cache_dir=None)\n",
    "# ds = load_dataset(\"json\", data_dir=\"./data/annotated_test/\", download_mode=\"force_redownload\", cache_dir=None)\n",
    "df = ds[\"train\"].to_pandas()\n",
    "# read \"date\" column as unix timestamp\n",
    "df[\"date\"] = pd.to_datetime(df[\"date\"].astype(int), unit=\"s\")\n",
    "ds"
   ]
  },
  {
   "cell_type": "code",
   "execution_count": 2,
   "metadata": {},
   "outputs": [
    {
     "data": {
      "text/plain": [
       "5924"
      ]
     },
     "execution_count": 2,
     "metadata": {},
     "output_type": "execute_result"
    }
   ],
   "source": [
    "# fewer than 6k unique authors in shaders20k\n",
    "df[\"author\"].nunique()"
   ]
  },
  {
   "cell_type": "code",
   "execution_count": 3,
   "metadata": {},
   "outputs": [],
   "source": [
    "#redo the df\n",
    "\n",
    "df = ds[\"train\"].to_pandas()\n",
    "# read \"date\" column as unix timestamp\n",
    "df[\"date\"] = pd.to_datetime(df[\"date\"].astype(int), unit=\"s\")\n",
    "#"
   ]
  },
  {
   "cell_type": "code",
   "execution_count": 4,
   "metadata": {},
   "outputs": [
    {
     "data": {
      "text/plain": [
       "test\n",
       "ok          8550\n",
       "error       5011\n",
       "valid       4347\n",
       "timeout     1690\n",
       "timedout      24\n",
       "Name: count, dtype: int64"
      ]
     },
     "execution_count": 4,
     "metadata": {},
     "output_type": "execute_result"
    }
   ],
   "source": [
    "df[\"test\"].value_counts().head(10)"
   ]
  },
  {
   "cell_type": "code",
   "execution_count": 5,
   "metadata": {},
   "outputs": [
    {
     "name": "stdout",
     "output_type": "stream",
     "text": [
      "824\n"
     ]
    }
   ],
   "source": [
    "# list of permissive licenses like: https://huggingface.co/datasets/bigcode/the-stack-v2/blob/main/license_stats.csv (gated?)\n",
    "# maybe this instead: https://huggingface.co/datasets/bigcode/the-stack/blob/main/licenses.json\n",
    "# seems to be the one they actually use: https://huggingface.co/datasets/bigcode-data/license_list/resolve/main/permissive_licenses.txt \n",
    "\n",
    "import requests\n",
    "permissive_list = requests.get(\"https://huggingface.co/datasets/bigcode-data/license_list/resolve/main/permissive_licenses.txt\").content.decode(\"utf-8\").split()\n",
    "permissive_list = [l.lower() for l in permissive_list]\n",
    "\n",
    "print(len(permissive_list))"
   ]
  },
  {
   "cell_type": "code",
   "execution_count": 19,
   "metadata": {},
   "outputs": [
    {
     "name": "stdout",
     "output_type": "stream",
     "text": [
      "['CC-BY-NC-SA-3.0', 'warranty-disclaimer', 'apache-2.0', 'cc0-1.0', 'cc-by-nc-sa-3.0', 'wtfpl-2.0', 'mit', 'cc-by-4.0', 'cc-by-nc-4.0', 'cc-by-sa-4.0', 'cc-by-nc-sa-3.0 AND proprietary-license', 'cc-by-3.0', 'cc-by-sa-3.0', 'gpl-2.0-plus', 'gpl-3.0', 'cc-by-nc-sa-4.0', 'proprietary-license', 'bsd-simplified', 'public-domain', 'unknown-license-reference', 'gpl-3.0-plus', 'cc-by-nc-3.0', 'gpl-1.0-plus', 'artistic-2.0', 'cc-sampling-plus-1.0', 'bsd-new', 'cc-by-nc-nd-3.0', 'agpl-3.0', 'cc-by-sa-2.5', 'cc-by-sa-4.0 WITH generic-exception', 'cc-by-3.0 AND mit', 'cc-by-nc-sa-2.0', 'cc-by-4.0 OR cc-by-3.0', 'beerware', 'gpl-3.0-plus OR cc-by-sa-3.0', 'unlicense', 'cc-by-nc-nd-4.0', 'x11', 'cc-by-2.5', 'cc0-1.0 OR openssl-ssleay OR apache-2.0', 'gpl-2.0']\n"
     ]
    },
    {
     "data": {
      "application/vnd.jupyter.widget-view+json": {
       "model_id": "4900cbd6c24f46b7818c3d52479dbec9",
       "version_major": 2,
       "version_minor": 0
      },
      "text/plain": [
       "Filter:   0%|          | 0/19622 [00:00<?, ? examples/s]"
      ]
     },
     "metadata": {},
     "output_type": "display_data"
    },
    {
     "data": {
      "application/vnd.jupyter.widget-view+json": {
       "model_id": "5300c9f5762b4d8b8267ce829baea1aa",
       "version_major": 2,
       "version_minor": 0
      },
      "text/plain": [
       "Filter:   0%|          | 0/17806 [00:00<?, ? examples/s]"
      ]
     },
     "metadata": {},
     "output_type": "display_data"
    },
    {
     "data": {
      "application/vnd.jupyter.widget-view+json": {
       "model_id": "649af6f847b5438595ad3c9ea7898108",
       "version_major": 2,
       "version_minor": 0
      },
      "text/plain": [
       "Filter:   0%|          | 0/7910 [00:00<?, ? examples/s]"
      ]
     },
     "metadata": {},
     "output_type": "display_data"
    },
    {
     "data": {
      "text/plain": [
       "Dataset({\n",
       "    features: ['id', 'name', 'author', 'description', 'tags', 'likes', 'viewed', 'published', 'date', 'time_retrieved', 'image_code', 'image_inputs', 'common_code', 'sound_code', 'sound_inputs', 'buffer_a_code', 'buffer_a_inputs', 'buffer_b_code', 'buffer_b_inputs', 'buffer_c_code', 'buffer_c_inputs', 'buffer_d_code', 'buffer_d_inputs', 'cube_a_code', 'cube_a_inputs', 'thumbnail', 'access', 'license', 'functions', 'test'],\n",
       "    num_rows: 2523\n",
       "})"
      ]
     },
     "execution_count": 19,
     "metadata": {},
     "output_type": "execute_result"
    }
   ],
   "source": [
    "\n",
    "print(ds[\"train\"].unique(\"license\"))\n",
    "# filter permissive licenses\n",
    "filtered_ds = ds[\"train\"].filter(lambda x: x[\"license\"] in permissive_list + [\"CC-BY-NC-SA-3.0\"]) # permissive or base case(not actually permissive...) what about those AND and OR classifications?\n",
    "filtered_ds = filtered_ds.filter(lambda x: x[\"test\"] == \"ok\") # ok means it actually runs, valid was just that naga didn't error... but this also has issues\n",
    "filtered_ds = filtered_ds.filter(lambda x: x[\"published\"] == \"Public API\") # naga is the author of the test cases\n",
    "filtered_ds"
   ]
  },
  {
   "cell_type": "code",
   "execution_count": 20,
   "metadata": {},
   "outputs": [
    {
     "name": "stdout",
     "output_type": "stream",
     "text": [
      "['']\n"
     ]
    },
    {
     "data": {
      "application/vnd.jupyter.widget-view+json": {
       "model_id": "97168c14f2ac4022a4845949fbfac4d6",
       "version_major": 2,
       "version_minor": 0
      },
      "text/plain": [
       "Filter:   0%|          | 0/19622 [00:00<?, ? examples/s]"
      ]
     },
     "metadata": {},
     "output_type": "display_data"
    },
    {
     "data": {
      "text/plain": [
       "Dataset({\n",
       "    features: ['id', 'name', 'author', 'description', 'tags', 'likes', 'viewed', 'published', 'date', 'time_retrieved', 'image_code', 'image_inputs', 'common_code', 'sound_code', 'sound_inputs', 'buffer_a_code', 'buffer_a_inputs', 'buffer_b_code', 'buffer_b_inputs', 'buffer_c_code', 'buffer_c_inputs', 'buffer_d_code', 'buffer_d_inputs', 'cube_a_code', 'cube_a_inputs', 'thumbnail', 'access', 'license', 'functions', 'test'],\n",
       "    num_rows: 0\n",
       "})"
      ]
     },
     "execution_count": 20,
     "metadata": {},
     "output_type": "execute_result"
    }
   ],
   "source": [
    "# seems to never contain any common pass? or my preprocessing is wrong.\n",
    "print(df[\"common_code\"].unique()) \n",
    "\n",
    "# see how many shaders contain buffer passes (seemingly none?)\n",
    "ds[\"train\"].filter(lambda x: x[\"buffer_a_code\"] + x[\"buffer_b_code\"] + x[\"buffer_c_code\"] + x[\"buffer_d_code\"] != \"\")"
   ]
  },
  {
   "cell_type": "code",
   "execution_count": 21,
   "metadata": {},
   "outputs": [
    {
     "data": {
      "text/plain": [
       "<Axes: title={'center': 'license'}, xlabel='date'>"
      ]
     },
     "execution_count": 21,
     "metadata": {},
     "output_type": "execute_result"
    },
    {
     "data": {
      "image/png": "[encoded data removed]",
      "text/plain": [
       "<Figure size 1500x700 with 1 Axes>"
      ]
     },
     "metadata": {},
     "output_type": "display_data"
    }
   ],
   "source": [
    "def plot_per_month(column, stretched=False, **kwargs):\n",
    "    feature_df = df[\"date\"].groupby([df[\"date\"].dt.to_period(\"M\"), df[column]]).count().unstack()\n",
    "    if stretched:\n",
    "        feature_df = feature_df.div(feature_df.sum(axis=1), axis=0)\n",
    "    return feature_df.plot(kind=\"bar\", stacked=True, figsize=(15,7), title=column, width=.9, **kwargs)\n",
    "    \n",
    "plot_per_month(\"license\", True, legend=False)"
   ]
  },
  {
   "cell_type": "code",
   "execution_count": 22,
   "metadata": {},
   "outputs": [
    {
     "data": {
      "text/plain": [
       "<Axes: title={'center': 'published'}, xlabel='date'>"
      ]
     },
     "execution_count": 22,
     "metadata": {},
     "output_type": "execute_result"
    },
    {
     "data": {
      "image/png": "[encoded data removed]",
      "text/plain": [
       "<Figure size 1500x700 with 1 Axes>"
      ]
     },
     "metadata": {},
     "output_type": "display_data"
    }
   ],
   "source": [
    "plot_per_month(\"published\", False)"
   ]
  },
  {
   "cell_type": "code",
   "execution_count": 23,
   "metadata": {},
   "outputs": [
    {
     "data": {
      "text/plain": [
       "<Axes: title={'center': 'test'}, xlabel='date'>"
      ]
     },
     "execution_count": 23,
     "metadata": {},
     "output_type": "execute_result"
    },
    {
     "data": {
      "image/png": "[encoded data removed]",
      "text/plain": [
       "<Figure size 1500x700 with 1 Axes>"
      ]
     },
     "metadata": {},
     "output_type": "display_data"
    }
   ],
   "source": [
    "# currently in development, another filtering step.\n",
    "plot_per_month(\"test\", stretched=True, legend=True)"
   ]
  },
  {
   "cell_type": "code",
   "execution_count": 24,
   "metadata": {},
   "outputs": [
    {
     "data": {
      "text/plain": [
       "count    19622.000000\n",
       "mean         7.946234\n",
       "std         10.261134\n",
       "min          0.000000\n",
       "25%          2.000000\n",
       "50%          5.000000\n",
       "75%         10.000000\n",
       "max        344.000000\n",
       "Name: num_functions, dtype: float64"
      ]
     },
     "execution_count": 24,
     "metadata": {},
     "output_type": "execute_result"
    }
   ],
   "source": [
    "df[\"num_functions\"] = df[\"functions\"].apply(len)\n",
    "df[\"num_functions\"].describe()"
   ]
  },
  {
   "cell_type": "code",
   "execution_count": 25,
   "metadata": {},
   "outputs": [
    {
     "data": {
      "text/plain": [
       "<Axes: title={'center': 'num_inputs'}, xlabel='date'>"
      ]
     },
     "execution_count": 25,
     "metadata": {},
     "output_type": "execute_result"
    },
    {
     "data": {
      "image/png": "[encoded data removed]",
      "text/plain": [
       "<Figure size 1500x700 with 1 Axes>"
      ]
     },
     "metadata": {},
     "output_type": "display_data"
    }
   ],
   "source": [
    "df[\"num_inputs\"] = df[\"image_inputs\"].apply(len)\n",
    "plot_per_month(\"num_inputs\", stretched=False, legend=True)"
   ]
  },
  {
   "cell_type": "code",
   "execution_count": 26,
   "metadata": {},
   "outputs": [
    {
     "name": "stdout",
     "output_type": "stream",
     "text": [
      "False\n"
     ]
    },
    {
     "data": {
      "text/html": [
       "<div>\n",
       "<style scoped>\n",
       "    .dataframe tbody tr th:only-of-type {\n",
       "        vertical-align: middle;\n",
       "    }\n",
       "\n",
       "    .dataframe tbody tr th {\n",
       "        vertical-align: top;\n",
       "    }\n",
       "\n",
       "    .dataframe thead th {\n",
       "        text-align: right;\n",
       "    }\n",
       "</style>\n",
       "<table border=\"1\" class=\"dataframe\">\n",
       "  <thead>\n",
       "    <tr style=\"text-align: right;\">\n",
       "      <th></th>\n",
       "      <th>id</th>\n",
       "      <th>name</th>\n",
       "      <th>author</th>\n",
       "      <th>description</th>\n",
       "      <th>tags</th>\n",
       "      <th>likes</th>\n",
       "      <th>viewed</th>\n",
       "      <th>published</th>\n",
       "      <th>date</th>\n",
       "      <th>time_retrieved</th>\n",
       "      <th>...</th>\n",
       "      <th>buffer_d_inputs</th>\n",
       "      <th>cube_a_code</th>\n",
       "      <th>cube_a_inputs</th>\n",
       "      <th>thumbnail</th>\n",
       "      <th>access</th>\n",
       "      <th>license</th>\n",
       "      <th>functions</th>\n",
       "      <th>test</th>\n",
       "      <th>num_functions</th>\n",
       "      <th>num_inputs</th>\n",
       "    </tr>\n",
       "  </thead>\n",
       "  <tbody>\n",
       "    <tr>\n",
       "      <th>62</th>\n",
       "      <td>3tBczh</td>\n",
       "      <td>Mellifera I</td>\n",
       "      <td>sl2c</td>\n",
       "      <td>Apparently this construction on a right-angled...</td>\n",
       "      <td>[circles, hyperbolic, horosphere]</td>\n",
       "      <td>9</td>\n",
       "      <td>133</td>\n",
       "      <td>Public</td>\n",
       "      <td>2020-07-06 22:09:24</td>\n",
       "      <td>2021-10-01</td>\n",
       "      <td>...</td>\n",
       "      <td>[]</td>\n",
       "      <td></td>\n",
       "      <td>[]</td>\n",
       "      <td>https://www.shadertoy.com/media/shaders/3tBczh...</td>\n",
       "      <td>shaders20k</td>\n",
       "      <td>apache-2.0</td>\n",
       "      <td>[]</td>\n",
       "      <td>error</td>\n",
       "      <td>0</td>\n",
       "      <td>0</td>\n",
       "    </tr>\n",
       "    <tr>\n",
       "      <th>75</th>\n",
       "      <td>3tjyDR</td>\n",
       "      <td>circle vs spiral illusion (203)</td>\n",
       "      <td>FabriceNeyret2</td>\n",
       "      <td>reference:\\n[img]https://i.redd.it/7zm03eo01ma...</td>\n",
       "      <td>[illusion, 2tweets, perception, short, golf]</td>\n",
       "      <td>13</td>\n",
       "      <td>240</td>\n",
       "      <td>Public API</td>\n",
       "      <td>2020-07-07 13:15:08</td>\n",
       "      <td>2021-10-01</td>\n",
       "      <td>...</td>\n",
       "      <td>[]</td>\n",
       "      <td></td>\n",
       "      <td>[]</td>\n",
       "      <td>https://www.shadertoy.com/media/shaders/3tjyDR...</td>\n",
       "      <td>shaders20k</td>\n",
       "      <td>CC-BY-NC-SA-3.0</td>\n",
       "      <td>[]</td>\n",
       "      <td>valid</td>\n",
       "      <td>0</td>\n",
       "      <td>0</td>\n",
       "    </tr>\n",
       "    <tr>\n",
       "      <th>169</th>\n",
       "      <td>WdXfD4</td>\n",
       "      <td>Tutorial from progur</td>\n",
       "      <td>landicefu</td>\n",
       "      <td>https://progur.com/2017/03/how-to-create-anima...</td>\n",
       "      <td>[tutorial]</td>\n",
       "      <td>1</td>\n",
       "      <td>158</td>\n",
       "      <td>Public API</td>\n",
       "      <td>2020-07-03 04:11:21</td>\n",
       "      <td>2021-10-01</td>\n",
       "      <td>...</td>\n",
       "      <td>[]</td>\n",
       "      <td></td>\n",
       "      <td>[]</td>\n",
       "      <td>https://www.shadertoy.com/media/shaders/WdXfD4...</td>\n",
       "      <td>shaders20k</td>\n",
       "      <td>CC-BY-NC-SA-3.0</td>\n",
       "      <td>[]</td>\n",
       "      <td>valid</td>\n",
       "      <td>0</td>\n",
       "      <td>0</td>\n",
       "    </tr>\n",
       "    <tr>\n",
       "      <th>328</th>\n",
       "      <td>3l2fzw</td>\n",
       "      <td>Polar Weave Pattern - simple 2</td>\n",
       "      <td>FabriceNeyret2</td>\n",
       "      <td>golfed variant of [url]https://shadertoy.com/v...</td>\n",
       "      <td>[2d, repetition, pattern, polar, 2tweets, shor...</td>\n",
       "      <td>7</td>\n",
       "      <td>156</td>\n",
       "      <td>Public API</td>\n",
       "      <td>2020-08-27 17:47:41</td>\n",
       "      <td>2021-10-01</td>\n",
       "      <td>...</td>\n",
       "      <td>[]</td>\n",
       "      <td></td>\n",
       "      <td>[]</td>\n",
       "      <td>https://www.shadertoy.com/media/shaders/3l2fzw...</td>\n",
       "      <td>shaders20k</td>\n",
       "      <td>CC-BY-NC-SA-3.0</td>\n",
       "      <td>[]</td>\n",
       "      <td>valid</td>\n",
       "      <td>0</td>\n",
       "      <td>0</td>\n",
       "    </tr>\n",
       "    <tr>\n",
       "      <th>640</th>\n",
       "      <td>wtSfDR</td>\n",
       "      <td>Polar Weave Pattern - simple 3</td>\n",
       "      <td>FabriceNeyret2</td>\n",
       "      <td>asymmetrical variant\\ngolfed variant of [url]h...</td>\n",
       "      <td>[2d, repetition, pattern, polar, short, weave]</td>\n",
       "      <td>6</td>\n",
       "      <td>207</td>\n",
       "      <td>Public API</td>\n",
       "      <td>2020-08-28 19:16:51</td>\n",
       "      <td>2021-10-01</td>\n",
       "      <td>...</td>\n",
       "      <td>[]</td>\n",
       "      <td></td>\n",
       "      <td>[]</td>\n",
       "      <td>https://www.shadertoy.com/media/shaders/wtSfDR...</td>\n",
       "      <td>shaders20k</td>\n",
       "      <td>CC-BY-NC-SA-3.0</td>\n",
       "      <td>[]</td>\n",
       "      <td>valid</td>\n",
       "      <td>0</td>\n",
       "      <td>0</td>\n",
       "    </tr>\n",
       "    <tr>\n",
       "      <th>...</th>\n",
       "      <td>...</td>\n",
       "      <td>...</td>\n",
       "      <td>...</td>\n",
       "      <td>...</td>\n",
       "      <td>...</td>\n",
       "      <td>...</td>\n",
       "      <td>...</td>\n",
       "      <td>...</td>\n",
       "      <td>...</td>\n",
       "      <td>...</td>\n",
       "      <td>...</td>\n",
       "      <td>...</td>\n",
       "      <td>...</td>\n",
       "      <td>...</td>\n",
       "      <td>...</td>\n",
       "      <td>...</td>\n",
       "      <td>...</td>\n",
       "      <td>...</td>\n",
       "      <td>...</td>\n",
       "      <td>...</td>\n",
       "      <td>...</td>\n",
       "    </tr>\n",
       "    <tr>\n",
       "      <th>19110</th>\n",
       "      <td>tsXfWS</td>\n",
       "      <td>Dodecahedralis II</td>\n",
       "      <td>sl2c</td>\n",
       "      <td>A hyperbolic 3-manifold sliced along a horosph...</td>\n",
       "      <td>[circles, tiling, hyperbolic, horosphere]</td>\n",
       "      <td>20</td>\n",
       "      <td>172</td>\n",
       "      <td>Public</td>\n",
       "      <td>2020-05-11 16:05:45</td>\n",
       "      <td>2021-10-01</td>\n",
       "      <td>...</td>\n",
       "      <td>[]</td>\n",
       "      <td></td>\n",
       "      <td>[]</td>\n",
       "      <td>https://www.shadertoy.com/media/shaders/tsXfWS...</td>\n",
       "      <td>shaders20k</td>\n",
       "      <td>apache-2.0</td>\n",
       "      <td>[]</td>\n",
       "      <td>error</td>\n",
       "      <td>0</td>\n",
       "      <td>0</td>\n",
       "    </tr>\n",
       "    <tr>\n",
       "      <th>19115</th>\n",
       "      <td>wd2fRW</td>\n",
       "      <td>Bap</td>\n",
       "      <td>Bjorn</td>\n",
       "      <td>I'm stuck on oldschool 2D effects.\\nI think th...</td>\n",
       "      <td>[chessboard]</td>\n",
       "      <td>5</td>\n",
       "      <td>112</td>\n",
       "      <td>Public</td>\n",
       "      <td>2020-05-23 13:59:33</td>\n",
       "      <td>2021-10-01</td>\n",
       "      <td>...</td>\n",
       "      <td>[]</td>\n",
       "      <td></td>\n",
       "      <td>[]</td>\n",
       "      <td>https://www.shadertoy.com/media/shaders/wd2fRW...</td>\n",
       "      <td>shaders20k</td>\n",
       "      <td>CC-BY-NC-SA-3.0</td>\n",
       "      <td>[]</td>\n",
       "      <td>timeout</td>\n",
       "      <td>0</td>\n",
       "      <td>0</td>\n",
       "    </tr>\n",
       "    <tr>\n",
       "      <th>19173</th>\n",
       "      <td>wdlfD2</td>\n",
       "      <td>Hyperbolic bloom</td>\n",
       "      <td>sl2c</td>\n",
       "      <td>A horospherical slice a la Bulatov as in [url=...</td>\n",
       "      <td>[hyperbolic, horosphere]</td>\n",
       "      <td>12</td>\n",
       "      <td>157</td>\n",
       "      <td>Public</td>\n",
       "      <td>2020-05-13 16:32:20</td>\n",
       "      <td>2021-10-01</td>\n",
       "      <td>...</td>\n",
       "      <td>[]</td>\n",
       "      <td></td>\n",
       "      <td>[]</td>\n",
       "      <td>https://www.shadertoy.com/media/shaders/wdlfD2...</td>\n",
       "      <td>shaders20k</td>\n",
       "      <td>apache-2.0</td>\n",
       "      <td>[]</td>\n",
       "      <td>timeout</td>\n",
       "      <td>0</td>\n",
       "      <td>0</td>\n",
       "    </tr>\n",
       "    <tr>\n",
       "      <th>19519</th>\n",
       "      <td>wllyzN</td>\n",
       "      <td>fork, strange</td>\n",
       "      <td>Carandiru</td>\n",
       "      <td>had to try it out, don't know why I ended up h...</td>\n",
       "      <td>[forkntsutaescircuitdiagram2v1]</td>\n",
       "      <td>1</td>\n",
       "      <td>227</td>\n",
       "      <td>Public API</td>\n",
       "      <td>2020-06-08 10:13:05</td>\n",
       "      <td>2021-10-01</td>\n",
       "      <td>...</td>\n",
       "      <td>[]</td>\n",
       "      <td></td>\n",
       "      <td>[]</td>\n",
       "      <td>https://www.shadertoy.com/media/shaders/wllyzN...</td>\n",
       "      <td>shaders20k</td>\n",
       "      <td>CC-BY-NC-SA-3.0</td>\n",
       "      <td>[]</td>\n",
       "      <td>error</td>\n",
       "      <td>0</td>\n",
       "      <td>1</td>\n",
       "    </tr>\n",
       "    <tr>\n",
       "      <th>19552</th>\n",
       "      <td>Ws2fDV</td>\n",
       "      <td>Eisenstein Gasket</td>\n",
       "      <td>sl2c</td>\n",
       "      <td>Based on a conversation [url=https://www.shade...</td>\n",
       "      <td>[fractal, circles, gasket]</td>\n",
       "      <td>11</td>\n",
       "      <td>154</td>\n",
       "      <td>Public</td>\n",
       "      <td>2020-06-01 16:18:58</td>\n",
       "      <td>2021-10-01</td>\n",
       "      <td>...</td>\n",
       "      <td>[]</td>\n",
       "      <td></td>\n",
       "      <td>[]</td>\n",
       "      <td>https://www.shadertoy.com/media/shaders/Ws2fDV...</td>\n",
       "      <td>shaders20k</td>\n",
       "      <td>apache-2.0</td>\n",
       "      <td>[]</td>\n",
       "      <td>timeout</td>\n",
       "      <td>0</td>\n",
       "      <td>0</td>\n",
       "    </tr>\n",
       "  </tbody>\n",
       "</table>\n",
       "<p>173 rows × 32 columns</p>\n",
       "</div>"
      ],
      "text/plain": [
       "           id                             name          author  \\\n",
       "62     3tBczh                      Mellifera I            sl2c   \n",
       "75     3tjyDR  circle vs spiral illusion (203)  FabriceNeyret2   \n",
       "169    WdXfD4             Tutorial from progur       landicefu   \n",
       "328    3l2fzw   Polar Weave Pattern - simple 2  FabriceNeyret2   \n",
       "640    wtSfDR   Polar Weave Pattern - simple 3  FabriceNeyret2   \n",
       "...       ...                              ...             ...   \n",
       "19110  tsXfWS                Dodecahedralis II            sl2c   \n",
       "19115  wd2fRW                              Bap           Bjorn   \n",
       "19173  wdlfD2                 Hyperbolic bloom            sl2c   \n",
       "19519  wllyzN                    fork, strange       Carandiru   \n",
       "19552  Ws2fDV                Eisenstein Gasket            sl2c   \n",
       "\n",
       "                                             description  \\\n",
       "62     Apparently this construction on a right-angled...   \n",
       "75     reference:\\n[img]https://i.redd.it/7zm03eo01ma...   \n",
       "169    https://progur.com/2017/03/how-to-create-anima...   \n",
       "328    golfed variant of [url]https://shadertoy.com/v...   \n",
       "640    asymmetrical variant\\ngolfed variant of [url]h...   \n",
       "...                                                  ...   \n",
       "19110  A hyperbolic 3-manifold sliced along a horosph...   \n",
       "19115  I'm stuck on oldschool 2D effects.\\nI think th...   \n",
       "19173  A horospherical slice a la Bulatov as in [url=...   \n",
       "19519  had to try it out, don't know why I ended up h...   \n",
       "19552  Based on a conversation [url=https://www.shade...   \n",
       "\n",
       "                                                    tags  likes  viewed  \\\n",
       "62                     [circles, hyperbolic, horosphere]      9     133   \n",
       "75          [illusion, 2tweets, perception, short, golf]     13     240   \n",
       "169                                           [tutorial]      1     158   \n",
       "328    [2d, repetition, pattern, polar, 2tweets, shor...      7     156   \n",
       "640       [2d, repetition, pattern, polar, short, weave]      6     207   \n",
       "...                                                  ...    ...     ...   \n",
       "19110          [circles, tiling, hyperbolic, horosphere]     20     172   \n",
       "19115                                       [chessboard]      5     112   \n",
       "19173                           [hyperbolic, horosphere]     12     157   \n",
       "19519                    [forkntsutaescircuitdiagram2v1]      1     227   \n",
       "19552                         [fractal, circles, gasket]     11     154   \n",
       "\n",
       "        published                date time_retrieved  ... buffer_d_inputs  \\\n",
       "62         Public 2020-07-06 22:09:24     2021-10-01  ...              []   \n",
       "75     Public API 2020-07-07 13:15:08     2021-10-01  ...              []   \n",
       "169    Public API 2020-07-03 04:11:21     2021-10-01  ...              []   \n",
       "328    Public API 2020-08-27 17:47:41     2021-10-01  ...              []   \n",
       "640    Public API 2020-08-28 19:16:51     2021-10-01  ...              []   \n",
       "...           ...                 ...            ...  ...             ...   \n",
       "19110      Public 2020-05-11 16:05:45     2021-10-01  ...              []   \n",
       "19115      Public 2020-05-23 13:59:33     2021-10-01  ...              []   \n",
       "19173      Public 2020-05-13 16:32:20     2021-10-01  ...              []   \n",
       "19519  Public API 2020-06-08 10:13:05     2021-10-01  ...              []   \n",
       "19552      Public 2020-06-01 16:18:58     2021-10-01  ...              []   \n",
       "\n",
       "      cube_a_code cube_a_inputs  \\\n",
       "62                           []   \n",
       "75                           []   \n",
       "169                          []   \n",
       "328                          []   \n",
       "640                          []   \n",
       "...           ...           ...   \n",
       "19110                        []   \n",
       "19115                        []   \n",
       "19173                        []   \n",
       "19519                        []   \n",
       "19552                        []   \n",
       "\n",
       "                                               thumbnail      access  \\\n",
       "62     https://www.shadertoy.com/media/shaders/3tBczh...  shaders20k   \n",
       "75     https://www.shadertoy.com/media/shaders/3tjyDR...  shaders20k   \n",
       "169    https://www.shadertoy.com/media/shaders/WdXfD4...  shaders20k   \n",
       "328    https://www.shadertoy.com/media/shaders/3l2fzw...  shaders20k   \n",
       "640    https://www.shadertoy.com/media/shaders/wtSfDR...  shaders20k   \n",
       "...                                                  ...         ...   \n",
       "19110  https://www.shadertoy.com/media/shaders/tsXfWS...  shaders20k   \n",
       "19115  https://www.shadertoy.com/media/shaders/wd2fRW...  shaders20k   \n",
       "19173  https://www.shadertoy.com/media/shaders/wdlfD2...  shaders20k   \n",
       "19519  https://www.shadertoy.com/media/shaders/wllyzN...  shaders20k   \n",
       "19552  https://www.shadertoy.com/media/shaders/Ws2fDV...  shaders20k   \n",
       "\n",
       "               license functions     test num_functions num_inputs  \n",
       "62          apache-2.0        []    error             0          0  \n",
       "75     CC-BY-NC-SA-3.0        []    valid             0          0  \n",
       "169    CC-BY-NC-SA-3.0        []    valid             0          0  \n",
       "328    CC-BY-NC-SA-3.0        []    valid             0          0  \n",
       "640    CC-BY-NC-SA-3.0        []    valid             0          0  \n",
       "...                ...       ...      ...           ...        ...  \n",
       "19110       apache-2.0        []    error             0          0  \n",
       "19115  CC-BY-NC-SA-3.0        []  timeout             0          0  \n",
       "19173       apache-2.0        []  timeout             0          0  \n",
       "19519  CC-BY-NC-SA-3.0        []    error             0          1  \n",
       "19552       apache-2.0        []  timeout             0          0  \n",
       "\n",
       "[173 rows x 32 columns]"
      ]
     },
     "execution_count": 26,
     "metadata": {},
     "output_type": "execute_result"
    }
   ],
   "source": [
    "# these cases might be parsing failures? seem to always use macros inside functions or something.\n",
    "# some use no functions but Main(){...} which seems to work in glsl but not viable for our dataset\n",
    "from annotate import PARSER\n",
    "print(PARSER.parse(bytes(df[\"image_code\"][19616],encoding=\"utf-8\")).root_node.has_error)\n",
    "df.loc[df[\"num_functions\"] == 0]"
   ]
  },
  {
   "cell_type": "code",
   "execution_count": 27,
   "metadata": {},
   "outputs": [
    {
     "data": {
      "application/vnd.jupyter.widget-view+json": {
       "model_id": "f43f8b72a73b46fe9864dbdee73ebe4d",
       "version_major": 2,
       "version_minor": 0
      },
      "text/plain": [
       "Map:   0%|          | 0/2523 [00:00<?, ? examples/s]"
      ]
     },
     "metadata": {},
     "output_type": "display_data"
    },
    {
     "data": {
      "text/plain": [
       "Dataset({\n",
       "    features: ['id', 'comment', 'header', 'docstring', 'body', 'full_code', 'func_bytes'],\n",
       "    num_rows: 13036\n",
       "})"
      ]
     },
     "execution_count": 27,
     "metadata": {},
     "output_type": "execute_result"
    }
   ],
   "source": [
    "# TODO: refactor into a generator because I dislike the current shape. but figure out how batching and threadding works then?\n",
    "# part of the filter.py or prepare.py script that will be done soon.\n",
    "def split_functions(batch):\n",
    "    # per function fields\n",
    "    comments, headers, docstrings, bodies = [],[],[],[]\n",
    "    # per document fields\n",
    "    full_code, funcs, ids = [],[],[]\n",
    "    for code, func_bytes, shader_id in zip(batch[\"image_code\"], batch[\"functions\"], batch[\"id\"]):\n",
    "        row_code = bytes(code,encoding=\"utf-8\")\n",
    "        for start_comment, start_header, end_header, end_docstring, end_function in func_bytes:\n",
    "            comments.append(row_code[start_comment:start_header].decode(encoding=\"utf-8\")),\n",
    "            headers.append(row_code[start_header:end_header].decode(encoding=\"utf-8\")),\n",
    "            docstrings.append(row_code[end_header:end_docstring].decode(encoding=\"utf-8\")),\n",
    "            bodies.append(row_code[end_docstring:end_function].decode(encoding=\"utf-8\")),\n",
    "            full_code.append(row_code.decode(encoding=\"utf-8\")),\n",
    "            funcs.append((start_comment, start_header, end_header, end_docstring, end_function))\n",
    "            ids.append(shader_id)\n",
    "    return {\n",
    "            \"comment\": comments,\n",
    "            \"header\": headers,\n",
    "            \"docstring\": docstrings,\n",
    "            \"body\": bodies,\n",
    "            \"full_code\": full_code,\n",
    "            \"func_bytes\": funcs,\n",
    "            \"id\": ids,\n",
    "            }\n",
    "\n",
    "\n",
    "# func_ds = ds.map(split_functions, batched=True, remove_columns=ds[\"train\"].column_names) # full dataset to functions\n",
    "func_ds = filtered_ds.map(split_functions, batched=True, remove_columns=filtered_ds.column_names) # only permissive shaders (the whole 20k set is single pass without common...)\n",
    "if \"train\" in func_ds:\n",
    "    func_ds = func_ds[\"train\"]\n",
    "func_ds"
   ]
  },
  {
   "cell_type": "code",
   "execution_count": 28,
   "metadata": {},
   "outputs": [
    {
     "data": {
      "text/html": [
       "<div>\n",
       "<style scoped>\n",
       "    .dataframe tbody tr th:only-of-type {\n",
       "        vertical-align: middle;\n",
       "    }\n",
       "\n",
       "    .dataframe tbody tr th {\n",
       "        vertical-align: top;\n",
       "    }\n",
       "\n",
       "    .dataframe thead th {\n",
       "        text-align: right;\n",
       "    }\n",
       "</style>\n",
       "<table border=\"1\" class=\"dataframe\">\n",
       "  <thead>\n",
       "    <tr style=\"text-align: right;\">\n",
       "      <th></th>\n",
       "      <th>id</th>\n",
       "      <th>comment</th>\n",
       "      <th>header</th>\n",
       "      <th>docstring</th>\n",
       "      <th>body</th>\n",
       "      <th>full_code</th>\n",
       "      <th>func_bytes</th>\n",
       "    </tr>\n",
       "  </thead>\n",
       "  <tbody>\n",
       "    <tr>\n",
       "      <th>0</th>\n",
       "      <td>XsS3DV</td>\n",
       "      <td></td>\n",
       "      <td>vec2 center ( vec2 border , vec2 offset , vec2...</td>\n",
       "      <td></td>\n",
       "      <td>\\n\\tvec2 c;\\n\\tif ( vel.x == 0.0 &amp;&amp; vel.y == 0...</td>\n",
       "      <td>\\nfloat k = 20.0;\\nfloat field = 0.0;\\nvec2 co...</td>\n",
       "      <td>[49, 49, 103, 103, 506]</td>\n",
       "    </tr>\n",
       "    <tr>\n",
       "      <th>1</th>\n",
       "      <td>XsS3DV</td>\n",
       "      <td></td>\n",
       "      <td>void circle ( float r , vec3 col , vec2 offset...</td>\n",
       "      <td></td>\n",
       "      <td>\\n\\tvec2 pos = coord.xy / iResolution.y;\\n\\tfl...</td>\n",
       "      <td>\\nfloat k = 20.0;\\nfloat field = 0.0;\\nvec2 co...</td>\n",
       "      <td>[508, 508, 569, 569, 797]</td>\n",
       "    </tr>\n",
       "    <tr>\n",
       "      <th>2</th>\n",
       "      <td>XsS3DV</td>\n",
       "      <td></td>\n",
       "      <td>vec3 band ( float shade, float low, float high...</td>\n",
       "      <td></td>\n",
       "      <td>\\n\\n\\tif ( (shade &gt;= low) &amp;&amp; (shade &lt;= high) )...</td>\n",
       "      <td>\\nfloat k = 20.0;\\nfloat field = 0.0;\\nvec2 co...</td>\n",
       "      <td>[800, 800, 872, 872, 1067]</td>\n",
       "    </tr>\n",
       "    <tr>\n",
       "      <th>3</th>\n",
       "      <td>XsS3DV</td>\n",
       "      <td></td>\n",
       "      <td>vec3 gradient ( float shade ) {</td>\n",
       "      <td></td>\n",
       "      <td>\\n\\tvec3 colour = vec3( (sin(iTime/2.0)*0.25)+...</td>\n",
       "      <td>\\nfloat k = 20.0;\\nfloat field = 0.0;\\nvec2 co...</td>\n",
       "      <td>[1069, 1069, 1100, 1100, 1876]</td>\n",
       "    </tr>\n",
       "    <tr>\n",
       "      <th>4</th>\n",
       "      <td>XsS3DV</td>\n",
       "      <td></td>\n",
       "      <td>void mainImage( out vec4 fragColor, in vec2 fr...</td>\n",
       "      <td></td>\n",
       "      <td>\\n\\n    coord = fragCoord;\\n    \\n\\tcircle ( ....</td>\n",
       "      <td>\\nfloat k = 20.0;\\nfloat field = 0.0;\\nvec2 co...</td>\n",
       "      <td>[1878, 1878, 1935, 1935, 2619]</td>\n",
       "    </tr>\n",
       "  </tbody>\n",
       "</table>\n",
       "</div>"
      ],
      "text/plain": [
       "       id comment                                             header  \\\n",
       "0  XsS3DV          vec2 center ( vec2 border , vec2 offset , vec2...   \n",
       "1  XsS3DV          void circle ( float r , vec3 col , vec2 offset...   \n",
       "2  XsS3DV          vec3 band ( float shade, float low, float high...   \n",
       "3  XsS3DV                            vec3 gradient ( float shade ) {   \n",
       "4  XsS3DV          void mainImage( out vec4 fragColor, in vec2 fr...   \n",
       "\n",
       "  docstring                                               body  \\\n",
       "0            \\n\\tvec2 c;\\n\\tif ( vel.x == 0.0 && vel.y == 0...   \n",
       "1            \\n\\tvec2 pos = coord.xy / iResolution.y;\\n\\tfl...   \n",
       "2            \\n\\n\\tif ( (shade >= low) && (shade <= high) )...   \n",
       "3            \\n\\tvec3 colour = vec3( (sin(iTime/2.0)*0.25)+...   \n",
       "4            \\n\\n    coord = fragCoord;\\n    \\n\\tcircle ( ....   \n",
       "\n",
       "                                           full_code  \\\n",
       "0  \\nfloat k = 20.0;\\nfloat field = 0.0;\\nvec2 co...   \n",
       "1  \\nfloat k = 20.0;\\nfloat field = 0.0;\\nvec2 co...   \n",
       "2  \\nfloat k = 20.0;\\nfloat field = 0.0;\\nvec2 co...   \n",
       "3  \\nfloat k = 20.0;\\nfloat field = 0.0;\\nvec2 co...   \n",
       "4  \\nfloat k = 20.0;\\nfloat field = 0.0;\\nvec2 co...   \n",
       "\n",
       "                       func_bytes  \n",
       "0         [49, 49, 103, 103, 506]  \n",
       "1       [508, 508, 569, 569, 797]  \n",
       "2      [800, 800, 872, 872, 1067]  \n",
       "3  [1069, 1069, 1100, 1100, 1876]  \n",
       "4  [1878, 1878, 1935, 1935, 2619]  "
      ]
     },
     "execution_count": 28,
     "metadata": {},
     "output_type": "execute_result"
    }
   ],
   "source": [
    "func_df = func_ds.to_pandas()\n",
    "func_df.head() "
   ]
  },
  {
   "cell_type": "code",
   "execution_count": 29,
   "metadata": {},
   "outputs": [
    {
     "name": "stdout",
     "output_type": "stream",
     "text": [
      "functions with context = 2915\n"
     ]
    },
    {
     "data": {
      "text/html": [
       "<div>\n",
       "<style scoped>\n",
       "    .dataframe tbody tr th:only-of-type {\n",
       "        vertical-align: middle;\n",
       "    }\n",
       "\n",
       "    .dataframe tbody tr th {\n",
       "        vertical-align: top;\n",
       "    }\n",
       "\n",
       "    .dataframe thead th {\n",
       "        text-align: right;\n",
       "    }\n",
       "</style>\n",
       "<table border=\"1\" class=\"dataframe\">\n",
       "  <thead>\n",
       "    <tr style=\"text-align: right;\">\n",
       "      <th>has_docstring</th>\n",
       "      <th>False</th>\n",
       "      <th>True</th>\n",
       "      <th>All</th>\n",
       "    </tr>\n",
       "    <tr>\n",
       "      <th>has_comment</th>\n",
       "      <th></th>\n",
       "      <th></th>\n",
       "      <th></th>\n",
       "    </tr>\n",
       "  </thead>\n",
       "  <tbody>\n",
       "    <tr>\n",
       "      <th>False</th>\n",
       "      <td>10121</td>\n",
       "      <td>847</td>\n",
       "      <td>10968</td>\n",
       "    </tr>\n",
       "    <tr>\n",
       "      <th>True</th>\n",
       "      <td>1835</td>\n",
       "      <td>233</td>\n",
       "      <td>2068</td>\n",
       "    </tr>\n",
       "    <tr>\n",
       "      <th>All</th>\n",
       "      <td>11956</td>\n",
       "      <td>1080</td>\n",
       "      <td>13036</td>\n",
       "    </tr>\n",
       "  </tbody>\n",
       "</table>\n",
       "</div>"
      ],
      "text/plain": [
       "has_docstring  False  True    All\n",
       "has_comment                      \n",
       "False          10121   847  10968\n",
       "True            1835   233   2068\n",
       "All            11956  1080  13036"
      ]
     },
     "execution_count": 29,
     "metadata": {},
     "output_type": "execute_result"
    }
   ],
   "source": [
    "func_df[\"has_comment\"] = func_df[\"comment\"] != \"\"\n",
    "func_df[\"has_docstring\"] = func_df[\"docstring\"] != \"\"\n",
    "func_df[\"model_ctx\"] = func_df[\"comment\"] + func_df[\"header\"] + func_df[\"comment\"]\n",
    "# how many functions are there, and what is the share of comments, \n",
    "\n",
    "xtab = pd.crosstab(func_df[\"has_comment\"], func_df[\"has_docstring\"], margins=True)\n",
    "print(f\"functions with context = {xtab.iloc[-1,-1] - xtab.iloc[0,0]}\")\n",
    "xtab\n",
    "\n",
    "# for the permissive subset of shaders 21k the number goes down to like 253 for both... and 150 for valid shaders only."
   ]
  },
  {
   "cell_type": "code",
   "execution_count": 30,
   "metadata": {},
   "outputs": [
    {
     "name": "stdout",
     "output_type": "stream",
     "text": [
      "1604\n"
     ]
    },
    {
     "data": {
      "text/plain": [
       "comment\n",
       "                                                                           10968\n",
       "// http://iquilezles.org/www/articles/normalsSDF/normalsSDF.htm\\n              9\n",
       "// polynomial smooth min (k = 0.1);\\n                                          8\n",
       "// Scene setup\\n                                                               7\n",
       "//hash function by Dave_Hoskins https://www.shadertoy.com/view/4djSRW\\n        7\n",
       "// vec2 to vec2 hash.\\n                                                        7\n",
       "// Standard 2D rotation formula.\\n                                             7\n",
       "// 1 / z\\n                                                                     6\n",
       "// Inspired by @cabbibo\\n// https://www.shadertoy.com/view/Xl2XWt\\n            6\n",
       "//original code from : http://www.chilliant.com/rgb2hsv.html\\n                 6\n",
       "Name: count, dtype: int64"
      ]
     },
     "execution_count": 30,
     "metadata": {},
     "output_type": "execute_result"
    }
   ],
   "source": [
    "# FINDING: only about half the comments are unique.\n",
    "# some frequent comment looks like a template maybe? should investigate\n",
    "print(func_df[\"comment\"].nunique())\n",
    "func_df[\"comment\"].value_counts(sort=True, ascending=False).head(10)"
   ]
  },
  {
   "cell_type": "code",
   "execution_count": 31,
   "metadata": {},
   "outputs": [
    {
     "name": "stdout",
     "output_type": "stream",
     "text": [
      "7457\n"
     ]
    },
    {
     "data": {
      "text/plain": [
       "header\n",
       "void mainImage( out vec4 fragColor, in vec2 fragCoord )\\n{    1454\n",
       "void mainImage( out vec4 fragColor, in vec2 fragCoord ) {      142\n",
       "void mainImage(out vec4 fragColor, in vec2 fragCoord)\\n{       108\n",
       "void mainImage(out vec4 fragColor, in vec2 fragCoord) {         83\n",
       "void mainImage( out vec4 fragColor, in vec2 fragCoord ){        74\n",
       "float sdBox( vec3 p, vec3 b )\\n{                                54\n",
       "vec3 calcNormal( in vec3 pos )\\n{                               43\n",
       "void mainImage( out vec4 O, vec2 U )\\n{                         37\n",
       "float map(vec3 p)\\n{                                            35\n",
       "float map(vec3 p) {                                             33\n",
       "Name: count, dtype: int64"
      ]
     },
     "execution_count": 31,
     "metadata": {},
     "output_type": "execute_result"
    }
   ],
   "source": [
    "# FINDING = only about a third of function-headers are unique?\n",
    "# it's expect to have one mainImage function per renderpass... but they are just whitesapce variable here - maybe we skip them in general\n",
    "print(func_df[\"header\"].nunique())\n",
    "func_df[\"header\"].value_counts(sort=True, ascending=False).head(10)"
   ]
  },
  {
   "cell_type": "code",
   "execution_count": 32,
   "metadata": {},
   "outputs": [
    {
     "data": {
      "text/plain": [
       "2379"
      ]
     },
     "execution_count": 32,
     "metadata": {},
     "output_type": "execute_result"
    }
   ],
   "source": [
    "# looks like some are not exact or might even use the common pass to bypass this\n",
    "func_df[\"header\"].str.startswith(\"void mainImage\").sum()"
   ]
  },
  {
   "cell_type": "code",
   "execution_count": 33,
   "metadata": {},
   "outputs": [
    {
     "name": "stdout",
     "output_type": "stream",
     "text": [
      "734\n"
     ]
    },
    {
     "data": {
      "text/plain": [
       "docstring\n",
       "                                                                                  11956\n",
       "\\n    // Normalized pixel coordinates (from 0 to 1)                                 165\n",
       "\\n\\n    // Precompute values for skewed triangular grid                              10\n",
       "\\n    \\n    //numerator /= (abs(denominator)+1.0);                                    8\n",
       "\\n    // normalized pixel coordinates                                                 8\n",
       "\\n\\n    // Screen coordinates.                                                        6\n",
       "\\n    // filter kernel                                                                6\n",
       "\\n    \\n    // Normalized pixel coordinates (from 0 to 1)                             6\n",
       " // in [0,1]                                                                          6\n",
       "\\n    /////////////////////////////////\\n    // TASK: WRITE YOUR CODE HERE. //        4\n",
       "Name: count, dtype: int64"
      ]
     },
     "execution_count": 33,
     "metadata": {},
     "output_type": "execute_result"
    }
   ],
   "source": [
    "# half the docstrings aren't unique?\n",
    "# most common one is the shadertoy.com/new default for the main function\n",
    "print(func_df[\"docstring\"].nunique())\n",
    "func_df[\"docstring\"].value_counts(sort=True, ascending=False).head(10)"
   ]
  },
  {
   "cell_type": "code",
   "execution_count": 34,
   "metadata": {},
   "outputs": [
    {
     "data": {
      "text/plain": [
       "111"
      ]
     },
     "execution_count": 34,
     "metadata": {},
     "output_type": "execute_result"
    }
   ],
   "source": [
    "# indicator where the docstring is just something commented out - not helpful instructions.\n",
    "func_df[\"docstring\"].str.endswith(\";\").sum()"
   ]
  },
  {
   "cell_type": "code",
   "execution_count": 35,
   "metadata": {},
   "outputs": [
    {
     "name": "stdout",
     "output_type": "stream",
     "text": [
      "222\n",
      "270\n"
     ]
    }
   ],
   "source": [
    "# the comment is just a link to some website/reference? although sometimes it's a bunch of natural langauge too?\n",
    "print(func_df[\"comment\"].str.contains(\"https://\").sum())\n",
    "print(func_df[\"comment\"].str.contains(\"www.\").sum())"
   ]
  },
  {
   "cell_type": "code",
   "execution_count": 36,
   "metadata": {},
   "outputs": [
    {
     "name": "stdout",
     "output_type": "stream",
     "text": [
      "7846\n"
     ]
    },
    {
     "data": {
      "text/plain": [
       "model_ctx\n",
       "void mainImage( out vec4 fragColor, in vec2 fragCoord )\\n{    1423\n",
       "void mainImage( out vec4 fragColor, in vec2 fragCoord ) {      139\n",
       "void mainImage(out vec4 fragColor, in vec2 fragCoord)\\n{       107\n",
       "void mainImage(out vec4 fragColor, in vec2 fragCoord) {         80\n",
       "void mainImage( out vec4 fragColor, in vec2 fragCoord ){        72\n",
       "float sdBox( vec3 p, vec3 b )\\n{                                52\n",
       "void mainImage( out vec4 O, vec2 U )\\n{                         37\n",
       "vec3 calcNormal( in vec3 pos )\\n{                               35\n",
       "float map(vec3 p)\\n{                                            33\n",
       "float map(vec3 p) {                                             31\n",
       "Name: count, dtype: int64"
      ]
     },
     "execution_count": 36,
     "metadata": {},
     "output_type": "execute_result"
    }
   ],
   "source": [
    "# proposed model_ctx takes all of them in normal order (doens't filter out the naked functions)\n",
    "print(func_df[\"model_ctx\"].nunique())\n",
    "func_df[\"model_ctx\"].value_counts(sort=True, ascending=False).head(10)"
   ]
  },
  {
   "cell_type": "code",
   "execution_count": 37,
   "metadata": {},
   "outputs": [
    {
     "data": {
      "text/plain": [
       "header\n",
       "void mainImage( out vec4 fragColor, in vec2 fragCoord )\\n{                                                                                                          9\n",
       "vec2 hash22(vec2 p) {                                                                                                                                               8\n",
       "float noise3D(vec3 p){                                                                                                                                              5\n",
       "float checkersGradBox( in vec2 p )\\n{                                                                                                                               4\n",
       "float F ( in vec2 coords )\\n{                                                                                                                                       3\n",
       "float snoise(vec2 v) {                                                                                                                                              3\n",
       "vec2 map(vec3 p)\\n{                                                                                                                                                 3\n",
       "vec3 CastRay( in Ray_t ray, \\n              out bool hasHit, out vec3 hitPos, out vec3 hitNormal, out vec3 k_rg ) \\n{                                               3\n",
       "bool IntersectSphere( in Sphere_t sph, in Ray_t ray, in float tmin, in float tmax,\\n                      out float t, out vec3 hitPos, out vec3 hitNormal ) \\n{    3\n",
       "vec2 zmul(vec2 a, vec2 b)\\n{                                                                                                                                        3\n",
       "Name: count, dtype: int64"
      ]
     },
     "execution_count": 37,
     "metadata": {},
     "output_type": "execute_result"
    }
   ],
   "source": [
    "# figure out if a function is needed, by removing if from body and check if the code still runs (you should have filtered for only working shaders before)\n",
    "\n",
    "# step 1. subset the dataframe to only those rows that have comment and docstring\n",
    "both_df = func_df[func_df[\"has_comment\"] & func_df[\"has_docstring\"]]\n",
    "# 253 functions form 168 shaders, only 179 of which are unique combinations...\n",
    "both_df[\"header\"].value_counts(sort=True, ascending=False).head(10)"
   ]
  },
  {
   "cell_type": "code",
   "execution_count": 38,
   "metadata": {},
   "outputs": [
    {
     "data": {
      "text/plain": [
       "233"
      ]
     },
     "execution_count": 38,
     "metadata": {},
     "output_type": "execute_result"
    }
   ],
   "source": [
    "len(both_df)"
   ]
  },
  {
   "cell_type": "code",
   "execution_count": 39,
   "metadata": {},
   "outputs": [
    {
     "name": "stderr",
     "output_type": "stream",
     "text": [
      "C:\\Users\\Jan\\AppData\\Local\\Temp\\ipykernel_10516\\4005513836.py:13: SettingWithCopyWarning: \n",
      "A value is trying to be set on a copy of a slice from a DataFrame.\n",
      "Try using .loc[row_indexer,col_indexer] = value instead\n",
      "\n",
      "See the caveats in the documentation: https://pandas.pydata.org/pandas-docs/stable/user_guide/indexing.html#returning-a-view-versus-a-copy\n",
      "  both_df[\"needed\"] = both_df.apply(check_function_needed, axis=1)\n"
     ]
    },
    {
     "data": {
      "text/plain": [
       "needed\n",
       "True     227\n",
       "False      6\n",
       "Name: count, dtype: int64"
      ]
     },
     "execution_count": 39,
     "metadata": {},
     "output_type": "execute_result"
    }
   ],
   "source": [
    "# this step can timeout/hang -.-\n",
    "# step 2. if code runs without the function.\n",
    "from annotate import run_shader\n",
    "\n",
    "def check_function_needed(row):\n",
    "    code = row[\"full_code\"]\n",
    "    start_comment, start_header, end_header, end_docstring, end_function = row[\"func_bytes\"]\n",
    "    test_code = code[:start_comment] + code[end_function:] #TODO: this needs to be done in bytes -.-\n",
    "    status = run_shader(test_code)\n",
    "    return status == \"error\"\n",
    "\n",
    "\n",
    "both_df[\"needed\"] = both_df.apply(check_function_needed, axis=1)\n",
    "both_df[\"needed\"].value_counts()"
   ]
  },
  {
   "cell_type": "code",
   "execution_count": 28,
   "metadata": {},
   "outputs": [
    {
     "name": "stderr",
     "output_type": "stream",
     "text": [
      "C:\\Users\\Jan\\AppData\\Local\\Temp\\ipykernel_11244\\902904704.py:8: SettingWithCopyWarning: \n",
      "A value is trying to be set on a copy of a slice from a DataFrame.\n",
      "Try using .loc[row_indexer,col_indexer] = value instead\n",
      "\n",
      "See the caveats in the documentation: https://pandas.pydata.org/pandas-docs/stable/user_guide/indexing.html#returning-a-view-versus-a-copy\n",
      "  both_df[\"status\"] = both_df.apply(check_code, axis=1)\n"
     ]
    }
   ],
   "source": [
    "# step 3. check if the whole code works originally (we filtered for valid only) (this is redundant)\n",
    "\n",
    "def check_code(row):\n",
    "    code = row[\"full_code\"]\n",
    "    status = run_shader(code)\n",
    "    return status\n",
    "\n",
    "both_df[\"status\"] = both_df.apply(check_code, axis=1)"
   ]
  },
  {
   "cell_type": "code",
   "execution_count": 40,
   "metadata": {},
   "outputs": [
    {
     "name": "stdout",
     "output_type": "stream",
     "text": [
      "233\n"
     ]
    },
    {
     "data": {
      "text/plain": [
       "227"
      ]
     },
     "execution_count": 40,
     "metadata": {},
     "output_type": "execute_result"
    }
   ],
   "source": [
    "# down select the only the needed and working examples.\n",
    "print(len(both_df))\n",
    "both_df = both_df.loc[both_df[\"needed\"]]\n",
    "len(both_df)"
   ]
  },
  {
   "cell_type": "code",
   "execution_count": 41,
   "metadata": {},
   "outputs": [
    {
     "name": "stdout",
     "output_type": "stream",
     "text": [
      "(227, 15)\n",
      "203\n"
     ]
    },
    {
     "data": {
      "text/plain": [
       "Dataset({\n",
       "    features: ['id', 'comment', 'header', 'docstring', 'body', 'full_code', 'func_bytes', 'has_comment', 'has_docstring', 'model_ctx', 'needed', 'input_both', 'input_comment', 'input_docstring', 'input_none', '__index_level_0__'],\n",
       "    num_rows: 203\n",
       "})"
      ]
     },
     "execution_count": 41,
     "metadata": {},
     "output_type": "execute_result"
    }
   ],
   "source": [
    "from datasets import Dataset\n",
    "\n",
    "both_df.loc[:,\"input_both\"] = both_df[\"comment\"] + both_df[\"header\"] + both_df[\"docstring\"]\n",
    "both_df.loc[:,\"input_comment\"] = both_df[\"comment\"] + both_df[\"header\"]\n",
    "both_df.loc[:,\"input_docstring\"] = both_df[\"header\"] + both_df[\"docstring\"]\n",
    "both_df.loc[:,\"input_none\"] = both_df[\"header\"]\n",
    "print(both_df.shape)\n",
    "print(both_df[\"input_both\"].nunique())\n",
    "# remove the duplicates\n",
    "both_df.drop_duplicates(\"input_both\", inplace=True)\n",
    "experiment_ds = Dataset.from_pandas(both_df)\n",
    "experiment_ds"
   ]
  },
  {
   "cell_type": "code",
   "execution_count": 31,
   "metadata": {},
   "outputs": [
    {
     "data": {
      "application/vnd.jupyter.widget-view+json": {
       "model_id": "2fc4b859068c45b496627beceedb039d",
       "version_major": 2,
       "version_minor": 0
      },
      "text/plain": [
       "Uploading the dataset shards:   0%|          | 0/1 [00:00<?, ?it/s]"
      ]
     },
     "metadata": {},
     "output_type": "display_data"
    },
    {
     "data": {
      "application/vnd.jupyter.widget-view+json": {
       "model_id": "5a02cf773c784678876be28aa157f8a1",
       "version_major": 2,
       "version_minor": 0
      },
      "text/plain": [
       "Creating parquet from Arrow format:   0%|          | 0/1 [00:00<?, ?ba/s]"
      ]
     },
     "metadata": {},
     "output_type": "display_data"
    },
    {
     "data": {
      "text/plain": [
       "CommitInfo(commit_url='https://huggingface.co/datasets/Vipitis/Shadereval-experiments-dev/commit/3a915c11eb6445642f2d043624ae579489a0534d', commit_message='v0.2 has 986 rows, includes base license', commit_description='', oid='3a915c11eb6445642f2d043624ae579489a0534d', pr_url=None, pr_revision=None, pr_num=None)"
      ]
     },
     "execution_count": 31,
     "metadata": {},
     "output_type": "execute_result"
    }
   ],
   "source": [
    "# this pushes the dataset to the hub, uncomment with care!\n",
    "# experiment_ds.push_to_hub(\"Vipitis/Shadereval-experiments-dev\", private=False, commit_message=\"v0.2 has 986 rows, includes base license\")"
   ]
  }
 ],
 "metadata": {
  "kernelspec": {
   "display_name": "Python 3",
   "language": "python",
   "name": "python3"
  },
  "language_info": {
   "codemirror_mode": {
    "name": "ipython",
    "version": 3
   },
   "file_extension": ".py",
   "mimetype": "text/x-python",
   "name": "python",
   "nbconvert_exporter": "python",
   "pygments_lexer": "ipython3",
   "version": "3.9.4"
  }
 },
 "nbformat": 4,
 "nbformat_minor": 2
}
