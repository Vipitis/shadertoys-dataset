{
 "cells": [
  {
   "cell_type": "markdown",
   "metadata": {},
   "source": [
    "### Exploring the annotated data."
   ]
  },
  {
   "cell_type": "code",
   "execution_count": 2,
   "metadata": {},
   "outputs": [
    {
     "data": {
      "application/vnd.jupyter.widget-view+json": {
       "model_id": "10dc420a3cb64d5f99ff7347db721496",
       "version_major": 2,
       "version_minor": 0
      },
      "text/plain": [
       "Resolving data files:   0%|          | 0/95 [00:00<?, ?it/s]"
      ]
     },
     "metadata": {},
     "output_type": "display_data"
    },
    {
     "data": {
      "application/vnd.jupyter.widget-view+json": {
       "model_id": "14792b75df5641618107fed75f7f6bb1",
       "version_major": 2,
       "version_minor": 0
      },
      "text/plain": [
       "Downloading data:   0%|          | 0/95 [00:00<?, ?files/s]"
      ]
     },
     "metadata": {},
     "output_type": "display_data"
    },
    {
     "data": {
      "application/vnd.jupyter.widget-view+json": {
       "model_id": "b055e092723a4c5d96a0926741f886a1",
       "version_major": 2,
       "version_minor": 0
      },
      "text/plain": [
       "Generating train split:   0%|          | 0/19622 [00:00<?, ? examples/s]"
      ]
     },
     "metadata": {},
     "output_type": "display_data"
    },
    {
     "data": {
      "text/plain": [
       "DatasetDict({\n",
       "    train: Dataset({\n",
       "        features: ['id', 'name', 'author', 'description', 'tags', 'likes', 'viewed', 'published', 'date', 'time_retrieved', 'image_code', 'image_inputs', 'common_code', 'sound_code', 'sound_inputs', 'buffer_a_code', 'buffer_a_inputs', 'buffer_b_code', 'buffer_b_inputs', 'buffer_c_code', 'buffer_c_inputs', 'buffer_d_code', 'buffer_d_inputs', 'cube_a_code', 'cube_a_inputs', 'thumbnail', 'access', 'license', 'functions'],\n",
       "        num_rows: 19622\n",
       "    })\n",
       "})"
      ]
     },
     "execution_count": 2,
     "metadata": {},
     "output_type": "execute_result"
    }
   ],
   "source": [
    "from datasets import load_dataset, disable_caching\n",
    "import pandas as pd\n",
    "\n",
    "# can infer the generic loader script this easily\n",
    "disable_caching()\n",
    "# cache location [click](%userprofile%/.cache/huggingface/datasets)\n",
    "# needs force_redownload to avoid loading incorrect cached stuff\n",
    "ds = load_dataset(\"json\", data_dir=\"./data/annotated/\", download_mode=\"force_redownload\", cache_dir=None)\n",
    "df = ds[\"train\"].to_pandas()\n",
    "# read \"date\" column as unix timestamp\n",
    "df[\"date\"] = pd.to_datetime(df[\"date\"].astype(int), unit=\"s\")\n",
    "ds"
   ]
  },
  {
   "cell_type": "code",
   "execution_count": 3,
   "metadata": {},
   "outputs": [],
   "source": [
    "# developing our testing function.\n",
    "\n",
    "from wgpu_shadertoy.api import shader_args_from_json, _download_media_channels\n",
    "from wgpu_shadertoy import Shadertoy, BufferRenderPass\n",
    "from collections.abc import Mapping # instead of dict directly\n",
    "\n",
    "def run_shader(shader_or_code):\n",
    "    if isinstance(shader_or_code, str):\n",
    "        # case 1 we only get the only a string of code\n",
    "        shader_args = {\"shader_code\": shader_or_code}\n",
    "\n",
    "    elif isinstance(shader_or_code, Mapping):\n",
    "        # case 2 we get a dict, always unpack this \"Shader\" level\n",
    "        if \"Shader\" in shader_or_code:\n",
    "            shader_data = shader_or_code[\"Shader\"]\n",
    "        else:\n",
    "            shader_data = shader_or_code\n",
    "        # case 2.a if we get a default \"raw\" return?\n",
    "        if \"renderpass\" in shader_data:\n",
    "            shader_args = shader_args_from_json(shader_data)\n",
    "        # case 2.b we get a flattened json\n",
    "        elif \"image_code\" in shader_data: #really lazy check.\n",
    "            \n",
    "            buffers = {}\n",
    "            for buf in \"abcd\":\n",
    "                if shader_data[f\"buffer_{buf}_code\"]:\n",
    "                    buffers[buf] = BufferRenderPass(buf, code=shader_data[f\"buffer_{buf}_code\"], inputs=_download_media_channels(shader_data[f\"buffer_{buf}_inputs\"])[0])\n",
    "                else:\n",
    "                    # because we don't handle empty code for Buffers internally.\n",
    "                    buffers[buf] = \"\"\n",
    "\n",
    "            shader_args = {\n",
    "                \"shader_code\": shader_data[\"image_code\"],\n",
    "                \"inputs\": _download_media_channels(shader_data[\"image_inputs\"])[0],\n",
    "                \"common\": shader_data[\"common_code\"],\n",
    "                \"buffers\": buffers,\n",
    "            }\n",
    "        \n",
    "        \n",
    "    shader_args[\"shader_type\"] = \"glsl\"\n",
    "    # print(f\"{shader_args}\")\n",
    "    # return shader_args\n",
    "    try:\n",
    "        shader = Shadertoy(**shader_args, offscreen=True)\n",
    "        if not shader.complete:\n",
    "            return \"incomplete\"\n",
    "        else:\n",
    "            return \"ok\"\n",
    "    except Exception as e:\n",
    "        return \"error\"\n",
    "\n",
    "        if hasattr(e, \"message\"):\n",
    "\n",
    "            # print(e.message)\n",
    "            if \"timeout\" in e.message:\n",
    "                return \"timeout\"\n",
    "        else:\n",
    "            print(e)\n",
    "        raise e\n"
   ]
  },
  {
   "cell_type": "code",
   "execution_count": 4,
   "metadata": {},
   "outputs": [],
   "source": [
    "# #344 seems to crash/hang up and ruin the kernel. (works isolated?)\n",
    "# run_shader(ds[\"train\"][344])"
   ]
  },
  {
   "cell_type": "code",
   "execution_count": 5,
   "metadata": {},
   "outputs": [
    {
     "name": "stdout",
     "output_type": "stream",
     "text": [
      "  3%|▎         | 553/19622 [00:27<15:43, 20.22it/s] \n"
     ]
    }
   ],
   "source": [
    "import tqdm\n",
    "import os\n",
    "import sys\n",
    "\n",
    "# redirect the output of stderr to not ruin the tqdm progress bar.\n",
    "real_stderror = sys.stderr\n",
    "null = open(os.devnull, \"w\")\n",
    "sys.stderr = null # silence errors, causes pop ups!\n",
    "\n",
    "# this one gets stack on 551 - maybe we got an issue with wgpu-py?\n",
    "shader_test = []\n",
    "\n",
    "for row in tqdm.tqdm(ds[\"train\"], total=len(ds[\"train\"]), file=sys.stdout):\n",
    "    \n",
    "    shader_test.append(run_shader(row))\n",
    "\n",
    "\n",
    "sys.stderr = real_stderror # restore stderr"
   ]
  },
  {
   "cell_type": "code",
   "execution_count": 13,
   "metadata": {},
   "outputs": [
    {
     "data": {
      "application/vnd.jupyter.widget-view+json": {
       "model_id": "dbfd6e1e82e4463f81301aa674bb5be6",
       "version_major": 2,
       "version_minor": 0
      },
      "text/plain": [
       "Map:   0%|          | 0/19622 [00:00<?, ? examples/s]"
      ]
     },
     "metadata": {},
     "output_type": "display_data"
    },
    {
     "name": "stderr",
     "output_type": "stream",
     "text": [
      "Device::create_shader_module error: \n",
      "Shader validation error: \n",
      "\n",
      "\n",
      "Device::create_shader_module error: \n",
      "Shader validation error: \n",
      "\n",
      "\n",
      "Returning None where Some(Scalar(Scalar { kind: Float, width: 4 })) is expected\n",
      "Device::create_shader_module error: \n",
      "Shader validation error: \n",
      "  ┌─ triangle_frag:1:1\n",
      "  │\n",
      "1 │ \n",
      "  │   naga::Function [12]\n",
      "\n",
      "\n",
      "Device::create_shader_module error: \n",
      "Shader validation error: \n",
      "\n",
      "\n",
      "Device::create_shader_module error: \n",
      "Shader validation error: \n",
      "\n",
      "\n",
      "Device::create_shader_module error: \n",
      "Shader validation error: \n",
      "\n",
      "\n"
     ]
    }
   ],
   "source": [
    "from annotate import run_shader as run_shader_imported\n",
    "\n",
    "# gets to n=344 and than seemingly crashes/hangs...\n",
    "def test_row(row) -> dict:\n",
    "    \"\"\"\n",
    "    run the shader in a separate thread, and return the result.\n",
    "    if nothing is returned within 5 seconds, return \"timeout\"\n",
    "    return value is a dictionary with the key {\"test\": result}\n",
    "    \"\"\"\n",
    "    result = run_shader_imported(row)\n",
    "    return {\"test\": result}\n",
    "\n",
    "ds[\"train\"] = ds[\"train\"].map(test_row)"
   ]
  },
  {
   "cell_type": "code",
   "execution_count": 2,
   "metadata": {},
   "outputs": [
    {
     "name": "stdout",
     "output_type": "stream",
     "text": [
      "824\n"
     ]
    }
   ],
   "source": [
    "# list of permissive licenses like: https://huggingface.co/datasets/bigcode/the-stack-v2/blob/main/license_stats.csv (gated?)\n",
    "# maybe this instead: https://huggingface.co/datasets/bigcode/the-stack/blob/main/licenses.json\n",
    "# seems to be the one they actually use: https://huggingface.co/datasets/bigcode-data/license_list/resolve/main/permissive_licenses.txt \n",
    "\n",
    "import requests\n",
    "permissive_list = requests.get(\"https://huggingface.co/datasets/bigcode-data/license_list/resolve/main/permissive_licenses.txt\").content.decode(\"utf-8\").split()\n",
    "permissive_list = [l.lower() for l in permissive_list]\n",
    "\n",
    "print(len(permissive_list))\n"
   ]
  },
  {
   "cell_type": "code",
   "execution_count": 3,
   "metadata": {},
   "outputs": [
    {
     "name": "stdout",
     "output_type": "stream",
     "text": [
      "['CC-BY-NC-SA-3.0', 'cc-by-nc-sa-3.0', 'bsd-new', 'mit', 'cc-by-4.0', 'proprietary-license', 'cc-by-nc-nd-3.0', 'bsd-simplified', 'cc0-1.0', 'unknown-license-reference', 'public-domain', 'apache-2.0', 'cc-by-nc-sa-4.0', 'agpl-3.0', 'cc-by-sa-3.0', 'cc-by-3.0', 'cc-by-sa-2.5', 'cc-by-sa-4.0', 'cc-by-sa-4.0 WITH generic-exception', 'cc-by-3.0 AND mit', 'cc-by-nc-sa-2.0', 'cc-by-nc-sa-3.0 AND proprietary-license', 'wtfpl-2.0', 'gpl-3.0', 'cc-by-4.0 OR cc-by-3.0', 'beerware', 'gpl-3.0-plus OR cc-by-sa-3.0', 'unlicense', 'cc-by-nc-nd-4.0', 'warranty-disclaimer', 'x11', 'gpl-3.0-plus', 'cc-by-nc-4.0', 'cc-by-2.5', 'cc0-1.0 OR openssl-ssleay OR apache-2.0', 'gpl-2.0', 'gpl-2.0-plus', 'cc-by-nc-3.0', 'gpl-1.0-plus', 'artistic-2.0', 'cc-sampling-plus-1.0']\n"
     ]
    },
    {
     "data": {
      "application/vnd.jupyter.widget-view+json": {
       "model_id": "b1e7d442cfa94edc9b657ca255434a8c",
       "version_major": 2,
       "version_minor": 0
      },
      "text/plain": [
       "Filter:   0%|          | 0/19622 [00:00<?, ? examples/s]"
      ]
     },
     "metadata": {},
     "output_type": "display_data"
    },
    {
     "data": {
      "text/plain": [
       "Dataset({\n",
       "    features: ['id', 'name', 'author', 'description', 'tags', 'likes', 'viewed', 'published', 'date', 'time_retrieved', 'image_code', 'image_inputs', 'common_code', 'sound_code', 'sound_inputs', 'buffer_a_code', 'buffer_a_inputs', 'buffer_b_code', 'buffer_b_inputs', 'buffer_c_code', 'buffer_c_inputs', 'buffer_d_code', 'buffer_d_inputs', 'cube_a_code', 'cube_a_inputs', 'thumbnail', 'access', 'license', 'functions'],\n",
       "    num_rows: 660\n",
       "})"
      ]
     },
     "execution_count": 3,
     "metadata": {},
     "output_type": "execute_result"
    }
   ],
   "source": [
    "\n",
    "print(ds[\"train\"].unique(\"license\"))\n",
    "# filter permissive licenses\n",
    "ds[\"train\"].filter(lambda x: x[\"license\"].lower() in permissive_list) #what about those AND and OR classifications?"
   ]
  },
  {
   "cell_type": "code",
   "execution_count": 4,
   "metadata": {},
   "outputs": [
    {
     "data": {
      "application/vnd.jupyter.widget-view+json": {
       "model_id": "b5c92ad7beeb4864b9c304931ae4ac93",
       "version_major": 2,
       "version_minor": 0
      },
      "text/plain": [
       "Filter:   0%|          | 0/19622 [00:00<?, ? examples/s]"
      ]
     },
     "metadata": {},
     "output_type": "display_data"
    },
    {
     "data": {
      "text/plain": [
       "Dataset({\n",
       "    features: ['id', 'name', 'author', 'description', 'tags', 'likes', 'viewed', 'published', 'date', 'time_retrieved', 'image_code', 'image_inputs', 'common_code', 'sound_code', 'sound_inputs', 'buffer_a_code', 'buffer_a_inputs', 'buffer_b_code', 'buffer_b_inputs', 'buffer_c_code', 'buffer_c_inputs', 'buffer_d_code', 'buffer_d_inputs', 'cube_a_code', 'cube_a_inputs', 'thumbnail', 'access', 'license', 'functions'],\n",
       "    num_rows: 0\n",
       "})"
      ]
     },
     "execution_count": 4,
     "metadata": {},
     "output_type": "execute_result"
    }
   ],
   "source": [
    "# see how many shaders contain buffer passes (seemingly none?)\n",
    "ds[\"train\"].filter(lambda x: x[\"buffer_a_code\"] + x[\"buffer_b_code\"] + x[\"buffer_c_code\"] + x[\"buffer_d_code\"] != \"\")"
   ]
  },
  {
   "cell_type": "code",
   "execution_count": 15,
   "metadata": {},
   "outputs": [
    {
     "data": {
      "text/plain": [
       "<Axes: title={'center': 'license'}, xlabel='date'>"
      ]
     },
     "execution_count": 15,
     "metadata": {},
     "output_type": "execute_result"
    },
    {
     "data": {
      "image/png": "[encoded data removed]",
      "text/plain": [
       "<Figure size 1500x700 with 1 Axes>"
      ]
     },
     "metadata": {},
     "output_type": "display_data"
    }
   ],
   "source": [
    "def plot_per_month(column, streched=False, **kwargs):\n",
    "    feature_df = df[\"date\"].groupby([df[\"date\"].dt.to_period(\"M\"), df[column]]).count().unstack()\n",
    "    if streched:\n",
    "        feature_df = feature_df.div(feature_df.sum(axis=1), axis=0)\n",
    "    return feature_df.plot(kind=\"bar\", stacked=True, figsize=(15,7), title=column, width=.9, **kwargs)\n",
    "    \n",
    "plot_per_month(\"license\", True, legend=False)"
   ]
  },
  {
   "cell_type": "code",
   "execution_count": 17,
   "metadata": {},
   "outputs": [
    {
     "data": {
      "text/plain": [
       "<Axes: title={'center': 'published'}, xlabel='date'>"
      ]
     },
     "execution_count": 17,
     "metadata": {},
     "output_type": "execute_result"
    },
    {
     "data": {
      "image/png": "[encoded data removed]",
      "text/plain": [
       "<Figure size 1500x700 with 1 Axes>"
      ]
     },
     "metadata": {},
     "output_type": "display_data"
    }
   ],
   "source": [
    "plot_per_month(\"published\", True)"
   ]
  },
  {
   "cell_type": "code",
   "execution_count": 20,
   "metadata": {},
   "outputs": [
    {
     "data": {
      "text/plain": [
       "count    19622.000000\n",
       "mean         8.108450\n",
       "std         10.439794\n",
       "min          0.000000\n",
       "25%          2.000000\n",
       "50%          5.000000\n",
       "75%         10.000000\n",
       "max        358.000000\n",
       "Name: num_functions, dtype: float64"
      ]
     },
     "execution_count": 20,
     "metadata": {},
     "output_type": "execute_result"
    }
   ],
   "source": [
    "df[\"num_functions\"] = df[\"functions\"].apply(len)\n",
    "df[\"num_functions\"].describe()"
   ]
  },
  {
   "cell_type": "code",
   "execution_count": 21,
   "metadata": {},
   "outputs": [
    {
     "name": "stdout",
     "output_type": "stream",
     "text": [
      "False\n"
     ]
    },
    {
     "data": {
      "text/html": [
       "<div>\n",
       "<style scoped>\n",
       "    .dataframe tbody tr th:only-of-type {\n",
       "        vertical-align: middle;\n",
       "    }\n",
       "\n",
       "    .dataframe tbody tr th {\n",
       "        vertical-align: top;\n",
       "    }\n",
       "\n",
       "    .dataframe thead th {\n",
       "        text-align: right;\n",
       "    }\n",
       "</style>\n",
       "<table border=\"1\" class=\"dataframe\">\n",
       "  <thead>\n",
       "    <tr style=\"text-align: right;\">\n",
       "      <th></th>\n",
       "      <th>id</th>\n",
       "      <th>name</th>\n",
       "      <th>author</th>\n",
       "      <th>description</th>\n",
       "      <th>tags</th>\n",
       "      <th>likes</th>\n",
       "      <th>viewed</th>\n",
       "      <th>published</th>\n",
       "      <th>date</th>\n",
       "      <th>time_retrieved</th>\n",
       "      <th>...</th>\n",
       "      <th>buffer_c_inputs</th>\n",
       "      <th>buffer_d_code</th>\n",
       "      <th>buffer_d_inputs</th>\n",
       "      <th>cube_a_code</th>\n",
       "      <th>cube_a_inputs</th>\n",
       "      <th>thumbnail</th>\n",
       "      <th>access</th>\n",
       "      <th>license</th>\n",
       "      <th>functions</th>\n",
       "      <th>num_functions</th>\n",
       "    </tr>\n",
       "  </thead>\n",
       "  <tbody>\n",
       "    <tr>\n",
       "      <th>62</th>\n",
       "      <td>Md23DV</td>\n",
       "      <td>GLSL 2D Tutorials</td>\n",
       "      <td>vug</td>\n",
       "      <td>28 tutorials on writing pixel shaders at Shade...</td>\n",
       "      <td>[tutorial]</td>\n",
       "      <td>581</td>\n",
       "      <td>48910</td>\n",
       "      <td>Public</td>\n",
       "      <td>2014-03-08 20:58:49</td>\n",
       "      <td>2021-10-01</td>\n",
       "      <td>...</td>\n",
       "      <td>[]</td>\n",
       "      <td></td>\n",
       "      <td>[]</td>\n",
       "      <td></td>\n",
       "      <td>[]</td>\n",
       "      <td>https://www.shadertoy.com/media/shaders/Md23DV...</td>\n",
       "      <td>shaders20k</td>\n",
       "      <td>CC-BY-NC-SA-3.0</td>\n",
       "      <td>[]</td>\n",
       "      <td>0</td>\n",
       "    </tr>\n",
       "    <tr>\n",
       "      <th>4809</th>\n",
       "      <td>MsSyzW</td>\n",
       "      <td>2D Worley and Cell Noise</td>\n",
       "      <td>TinyTexel</td>\n",
       "      <td>left: 1 - worley\\nmiddle: f2^2 - f1^2\\nright: ...</td>\n",
       "      <td>[voronoi, noise, worley]</td>\n",
       "      <td>12</td>\n",
       "      <td>348</td>\n",
       "      <td>Public</td>\n",
       "      <td>2017-04-01 18:38:57</td>\n",
       "      <td>2021-10-01</td>\n",
       "      <td>...</td>\n",
       "      <td>[]</td>\n",
       "      <td></td>\n",
       "      <td>[]</td>\n",
       "      <td></td>\n",
       "      <td>[]</td>\n",
       "      <td>https://www.shadertoy.com/media/shaders/MsSyzW...</td>\n",
       "      <td>shaders20k</td>\n",
       "      <td>CC-BY-NC-SA-3.0</td>\n",
       "      <td>[]</td>\n",
       "      <td>0</td>\n",
       "    </tr>\n",
       "    <tr>\n",
       "      <th>5090</th>\n",
       "      <td>XtySDz</td>\n",
       "      <td>Shadertoy 튜토리얼 한글번역</td>\n",
       "      <td>ho4040</td>\n",
       "      <td>Korean version of https://www.shadertoy.com/vi...</td>\n",
       "      <td>[tutorial, korean]</td>\n",
       "      <td>7</td>\n",
       "      <td>1040</td>\n",
       "      <td>Public API</td>\n",
       "      <td>2017-05-26 03:06:13</td>\n",
       "      <td>2021-10-01</td>\n",
       "      <td>...</td>\n",
       "      <td>[]</td>\n",
       "      <td></td>\n",
       "      <td>[]</td>\n",
       "      <td></td>\n",
       "      <td>[]</td>\n",
       "      <td>https://www.shadertoy.com/media/shaders/XtySDz...</td>\n",
       "      <td>shaders20k</td>\n",
       "      <td>CC-BY-NC-SA-3.0</td>\n",
       "      <td>[]</td>\n",
       "      <td>0</td>\n",
       "    </tr>\n",
       "    <tr>\n",
       "      <th>5626</th>\n",
       "      <td>4lfczB</td>\n",
       "      <td>Sphere over lake</td>\n",
       "      <td>Nowado</td>\n",
       "      <td>Any description</td>\n",
       "      <td>[sphere]</td>\n",
       "      <td>6</td>\n",
       "      <td>444</td>\n",
       "      <td>Public API</td>\n",
       "      <td>2017-09-14 10:06:26</td>\n",
       "      <td>2021-10-01</td>\n",
       "      <td>...</td>\n",
       "      <td>[]</td>\n",
       "      <td></td>\n",
       "      <td>[]</td>\n",
       "      <td></td>\n",
       "      <td>[]</td>\n",
       "      <td>https://www.shadertoy.com/media/shaders/4lfczB...</td>\n",
       "      <td>shaders20k</td>\n",
       "      <td>CC-BY-NC-SA-3.0</td>\n",
       "      <td>[]</td>\n",
       "      <td>0</td>\n",
       "    </tr>\n",
       "    <tr>\n",
       "      <th>5743</th>\n",
       "      <td>XlfcD4</td>\n",
       "      <td>dizzy</td>\n",
       "      <td>sgoal</td>\n",
       "      <td>dizzy</td>\n",
       "      <td>[dizzy]</td>\n",
       "      <td>0</td>\n",
       "      <td>66</td>\n",
       "      <td>Public</td>\n",
       "      <td>2017-09-07 04:35:57</td>\n",
       "      <td>2021-10-01</td>\n",
       "      <td>...</td>\n",
       "      <td>[]</td>\n",
       "      <td></td>\n",
       "      <td>[]</td>\n",
       "      <td></td>\n",
       "      <td>[]</td>\n",
       "      <td>https://www.shadertoy.com/media/shaders/XlfcD4...</td>\n",
       "      <td>shaders20k</td>\n",
       "      <td>CC-BY-NC-SA-3.0</td>\n",
       "      <td>[]</td>\n",
       "      <td>0</td>\n",
       "    </tr>\n",
       "    <tr>\n",
       "      <th>5746</th>\n",
       "      <td>XlfyRj</td>\n",
       "      <td>Dancing Star</td>\n",
       "      <td>SunLuke</td>\n",
       "      <td>dance</td>\n",
       "      <td>[huehe]</td>\n",
       "      <td>2</td>\n",
       "      <td>116</td>\n",
       "      <td>Public</td>\n",
       "      <td>2017-09-14 12:56:59</td>\n",
       "      <td>2021-10-01</td>\n",
       "      <td>...</td>\n",
       "      <td>[]</td>\n",
       "      <td></td>\n",
       "      <td>[]</td>\n",
       "      <td></td>\n",
       "      <td>[]</td>\n",
       "      <td>https://www.shadertoy.com/media/shaders/XlfyRj...</td>\n",
       "      <td>shaders20k</td>\n",
       "      <td>CC-BY-NC-SA-3.0</td>\n",
       "      <td>[]</td>\n",
       "      <td>0</td>\n",
       "    </tr>\n",
       "    <tr>\n",
       "      <th>8489</th>\n",
       "      <td>llGfW3</td>\n",
       "      <td>rolling triangle tiling (310 ch)</td>\n",
       "      <td>FabriceNeyret2</td>\n",
       "      <td>Funnily, drawing all triangles makes [url]http...</td>\n",
       "      <td>[2d, geometry, gif, short, reproductions]</td>\n",
       "      <td>9</td>\n",
       "      <td>493</td>\n",
       "      <td>Public API</td>\n",
       "      <td>2018-12-07 21:29:36</td>\n",
       "      <td>2021-10-01</td>\n",
       "      <td>...</td>\n",
       "      <td>[]</td>\n",
       "      <td></td>\n",
       "      <td>[]</td>\n",
       "      <td></td>\n",
       "      <td>[]</td>\n",
       "      <td>https://www.shadertoy.com/media/shaders/llGfW3...</td>\n",
       "      <td>shaders20k</td>\n",
       "      <td>CC-BY-NC-SA-3.0</td>\n",
       "      <td>[]</td>\n",
       "      <td>0</td>\n",
       "    </tr>\n",
       "    <tr>\n",
       "      <th>9948</th>\n",
       "      <td>wtX3zB</td>\n",
       "      <td>Almost My First Shader</td>\n",
       "      <td>dr2</td>\n",
       "      <td>See the source...</td>\n",
       "      <td>[raymarch, landscape, flight, car]</td>\n",
       "      <td>10</td>\n",
       "      <td>602</td>\n",
       "      <td>Public API</td>\n",
       "      <td>2019-05-01 09:54:07</td>\n",
       "      <td>2021-10-01</td>\n",
       "      <td>...</td>\n",
       "      <td>[]</td>\n",
       "      <td></td>\n",
       "      <td>[]</td>\n",
       "      <td></td>\n",
       "      <td>[]</td>\n",
       "      <td>https://www.shadertoy.com/media/shaders/wtX3zB...</td>\n",
       "      <td>shaders20k</td>\n",
       "      <td>cc-by-nc-sa-3.0</td>\n",
       "      <td>[]</td>\n",
       "      <td>0</td>\n",
       "    </tr>\n",
       "    <tr>\n",
       "      <th>11273</th>\n",
       "      <td>WsGGWy</td>\n",
       "      <td>Move in circle ( tutorial )</td>\n",
       "      <td>Kiltun</td>\n",
       "      <td>A simple shader of a circle moving on a ring.\\...</td>\n",
       "      <td>[tutorial, circle, ring, move, moveincircle]</td>\n",
       "      <td>1</td>\n",
       "      <td>172</td>\n",
       "      <td>Public</td>\n",
       "      <td>2019-10-11 16:30:36</td>\n",
       "      <td>2021-10-01</td>\n",
       "      <td>...</td>\n",
       "      <td>[]</td>\n",
       "      <td></td>\n",
       "      <td>[]</td>\n",
       "      <td></td>\n",
       "      <td>[]</td>\n",
       "      <td>https://www.shadertoy.com/media/shaders/WsGGWy...</td>\n",
       "      <td>shaders20k</td>\n",
       "      <td>CC-BY-NC-SA-3.0</td>\n",
       "      <td>[]</td>\n",
       "      <td>0</td>\n",
       "    </tr>\n",
       "    <tr>\n",
       "      <th>15144</th>\n",
       "      <td>WdyyDR</td>\n",
       "      <td>Great Ideas in Graphics Demo</td>\n",
       "      <td>sjobalia</td>\n",
       "      <td>Demo for Great Ideas in Graphics</td>\n",
       "      <td>[demo]</td>\n",
       "      <td>1</td>\n",
       "      <td>98</td>\n",
       "      <td>Public</td>\n",
       "      <td>2020-10-12 22:55:41</td>\n",
       "      <td>2021-10-01</td>\n",
       "      <td>...</td>\n",
       "      <td>[]</td>\n",
       "      <td></td>\n",
       "      <td>[]</td>\n",
       "      <td></td>\n",
       "      <td>[]</td>\n",
       "      <td>https://www.shadertoy.com/media/shaders/WdyyDR...</td>\n",
       "      <td>shaders20k</td>\n",
       "      <td>CC-BY-NC-SA-3.0</td>\n",
       "      <td>[]</td>\n",
       "      <td>0</td>\n",
       "    </tr>\n",
       "    <tr>\n",
       "      <th>15526</th>\n",
       "      <td>3tccRn</td>\n",
       "      <td>GLSLLangSpec4607 snippets</td>\n",
       "      <td>gwiazdorrr</td>\n",
       "      <td>A collection of \"The OpenGL Shading Language, ...</td>\n",
       "      <td>[cxxswizzle]</td>\n",
       "      <td>1</td>\n",
       "      <td>168</td>\n",
       "      <td>Public API</td>\n",
       "      <td>2020-12-22 08:18:00</td>\n",
       "      <td>2021-10-01</td>\n",
       "      <td>...</td>\n",
       "      <td>[]</td>\n",
       "      <td></td>\n",
       "      <td>[]</td>\n",
       "      <td></td>\n",
       "      <td>[]</td>\n",
       "      <td>https://www.shadertoy.com/media/shaders/3tccRn...</td>\n",
       "      <td>shaders20k</td>\n",
       "      <td>CC-BY-NC-SA-3.0</td>\n",
       "      <td>[]</td>\n",
       "      <td>0</td>\n",
       "    </tr>\n",
       "    <tr>\n",
       "      <th>17420</th>\n",
       "      <td>NdjXWm</td>\n",
       "      <td>Rotating Meander</td>\n",
       "      <td>nowhales</td>\n",
       "      <td>A circular rotating Greek meander pattern.\\n\\n...</td>\n",
       "      <td>[circular, greek, meander]</td>\n",
       "      <td>10</td>\n",
       "      <td>80</td>\n",
       "      <td>Public</td>\n",
       "      <td>2021-05-07 09:32:13</td>\n",
       "      <td>2021-10-01</td>\n",
       "      <td>...</td>\n",
       "      <td>[]</td>\n",
       "      <td></td>\n",
       "      <td>[]</td>\n",
       "      <td></td>\n",
       "      <td>[]</td>\n",
       "      <td>https://www.shadertoy.com/media/shaders/NdjXWm...</td>\n",
       "      <td>shaders20k</td>\n",
       "      <td>CC-BY-NC-SA-3.0</td>\n",
       "      <td>[]</td>\n",
       "      <td>0</td>\n",
       "    </tr>\n",
       "  </tbody>\n",
       "</table>\n",
       "<p>12 rows × 30 columns</p>\n",
       "</div>"
      ],
      "text/plain": [
       "           id                              name          author  \\\n",
       "62     Md23DV                 GLSL 2D Tutorials             vug   \n",
       "4809   MsSyzW          2D Worley and Cell Noise       TinyTexel   \n",
       "5090   XtySDz               Shadertoy 튜토리얼 한글번역          ho4040   \n",
       "5626   4lfczB                  Sphere over lake          Nowado   \n",
       "5743   XlfcD4                             dizzy           sgoal   \n",
       "5746   XlfyRj                      Dancing Star         SunLuke   \n",
       "8489   llGfW3  rolling triangle tiling (310 ch)  FabriceNeyret2   \n",
       "9948   wtX3zB            Almost My First Shader             dr2   \n",
       "11273  WsGGWy       Move in circle ( tutorial )          Kiltun   \n",
       "15144  WdyyDR      Great Ideas in Graphics Demo        sjobalia   \n",
       "15526  3tccRn         GLSLLangSpec4607 snippets      gwiazdorrr   \n",
       "17420  NdjXWm                  Rotating Meander        nowhales   \n",
       "\n",
       "                                             description  \\\n",
       "62     28 tutorials on writing pixel shaders at Shade...   \n",
       "4809   left: 1 - worley\\nmiddle: f2^2 - f1^2\\nright: ...   \n",
       "5090   Korean version of https://www.shadertoy.com/vi...   \n",
       "5626                                     Any description   \n",
       "5743                                               dizzy   \n",
       "5746                                               dance   \n",
       "8489   Funnily, drawing all triangles makes [url]http...   \n",
       "9948                                   See the source...   \n",
       "11273  A simple shader of a circle moving on a ring.\\...   \n",
       "15144                   Demo for Great Ideas in Graphics   \n",
       "15526  A collection of \"The OpenGL Shading Language, ...   \n",
       "17420  A circular rotating Greek meander pattern.\\n\\n...   \n",
       "\n",
       "                                               tags  likes  viewed  \\\n",
       "62                                       [tutorial]    581   48910   \n",
       "4809                       [voronoi, noise, worley]     12     348   \n",
       "5090                             [tutorial, korean]      7    1040   \n",
       "5626                                       [sphere]      6     444   \n",
       "5743                                        [dizzy]      0      66   \n",
       "5746                                        [huehe]      2     116   \n",
       "8489      [2d, geometry, gif, short, reproductions]      9     493   \n",
       "9948             [raymarch, landscape, flight, car]     10     602   \n",
       "11273  [tutorial, circle, ring, move, moveincircle]      1     172   \n",
       "15144                                        [demo]      1      98   \n",
       "15526                                  [cxxswizzle]      1     168   \n",
       "17420                    [circular, greek, meander]     10      80   \n",
       "\n",
       "        published                date time_retrieved  ... buffer_c_inputs  \\\n",
       "62         Public 2014-03-08 20:58:49     2021-10-01  ...              []   \n",
       "4809       Public 2017-04-01 18:38:57     2021-10-01  ...              []   \n",
       "5090   Public API 2017-05-26 03:06:13     2021-10-01  ...              []   \n",
       "5626   Public API 2017-09-14 10:06:26     2021-10-01  ...              []   \n",
       "5743       Public 2017-09-07 04:35:57     2021-10-01  ...              []   \n",
       "5746       Public 2017-09-14 12:56:59     2021-10-01  ...              []   \n",
       "8489   Public API 2018-12-07 21:29:36     2021-10-01  ...              []   \n",
       "9948   Public API 2019-05-01 09:54:07     2021-10-01  ...              []   \n",
       "11273      Public 2019-10-11 16:30:36     2021-10-01  ...              []   \n",
       "15144      Public 2020-10-12 22:55:41     2021-10-01  ...              []   \n",
       "15526  Public API 2020-12-22 08:18:00     2021-10-01  ...              []   \n",
       "17420      Public 2021-05-07 09:32:13     2021-10-01  ...              []   \n",
       "\n",
       "      buffer_d_code buffer_d_inputs cube_a_code cube_a_inputs  \\\n",
       "62                               []                        []   \n",
       "4809                             []                        []   \n",
       "5090                             []                        []   \n",
       "5626                             []                        []   \n",
       "5743                             []                        []   \n",
       "5746                             []                        []   \n",
       "8489                             []                        []   \n",
       "9948                             []                        []   \n",
       "11273                            []                        []   \n",
       "15144                            []                        []   \n",
       "15526                            []                        []   \n",
       "17420                            []                        []   \n",
       "\n",
       "                                               thumbnail      access  \\\n",
       "62     https://www.shadertoy.com/media/shaders/Md23DV...  shaders20k   \n",
       "4809   https://www.shadertoy.com/media/shaders/MsSyzW...  shaders20k   \n",
       "5090   https://www.shadertoy.com/media/shaders/XtySDz...  shaders20k   \n",
       "5626   https://www.shadertoy.com/media/shaders/4lfczB...  shaders20k   \n",
       "5743   https://www.shadertoy.com/media/shaders/XlfcD4...  shaders20k   \n",
       "5746   https://www.shadertoy.com/media/shaders/XlfyRj...  shaders20k   \n",
       "8489   https://www.shadertoy.com/media/shaders/llGfW3...  shaders20k   \n",
       "9948   https://www.shadertoy.com/media/shaders/wtX3zB...  shaders20k   \n",
       "11273  https://www.shadertoy.com/media/shaders/WsGGWy...  shaders20k   \n",
       "15144  https://www.shadertoy.com/media/shaders/WdyyDR...  shaders20k   \n",
       "15526  https://www.shadertoy.com/media/shaders/3tccRn...  shaders20k   \n",
       "17420  https://www.shadertoy.com/media/shaders/NdjXWm...  shaders20k   \n",
       "\n",
       "               license functions num_functions  \n",
       "62     CC-BY-NC-SA-3.0        []             0  \n",
       "4809   CC-BY-NC-SA-3.0        []             0  \n",
       "5090   CC-BY-NC-SA-3.0        []             0  \n",
       "5626   CC-BY-NC-SA-3.0        []             0  \n",
       "5743   CC-BY-NC-SA-3.0        []             0  \n",
       "5746   CC-BY-NC-SA-3.0        []             0  \n",
       "8489   CC-BY-NC-SA-3.0        []             0  \n",
       "9948   cc-by-nc-sa-3.0        []             0  \n",
       "11273  CC-BY-NC-SA-3.0        []             0  \n",
       "15144  CC-BY-NC-SA-3.0        []             0  \n",
       "15526  CC-BY-NC-SA-3.0        []             0  \n",
       "17420  CC-BY-NC-SA-3.0        []             0  \n",
       "\n",
       "[12 rows x 30 columns]"
      ]
     },
     "execution_count": 21,
     "metadata": {},
     "output_type": "execute_result"
    }
   ],
   "source": [
    "# these cases might be parsing failures? seem to always use macros inside functions or something.\n",
    "# some use no functions but Main(){...} which seems to work in glsl but not viable for our dataset\n",
    "from annotate import PARSER\n",
    "print(PARSER.parse(bytes(df[\"image_code\"][5090],encoding=\"utf-8\")).root_node.has_error)\n",
    "df.loc[df[\"num_functions\"] == 0]"
   ]
  },
  {
   "cell_type": "code",
   "execution_count": 23,
   "metadata": {},
   "outputs": [
    {
     "data": {
      "application/vnd.jupyter.widget-view+json": {
       "model_id": "b73c0b1b27c64afeb8dc6e7dd5662fc9",
       "version_major": 2,
       "version_minor": 0
      },
      "text/plain": [
       "Map:   0%|          | 0/19622 [00:00<?, ? examples/s]"
      ]
     },
     "metadata": {},
     "output_type": "display_data"
    },
    {
     "data": {
      "text/plain": [
       "DatasetDict({\n",
       "    train: Dataset({\n",
       "        features: ['id', 'comment', 'header', 'docstring', 'body', 'full_code', 'func_bytes'],\n",
       "        num_rows: 159104\n",
       "    })\n",
       "})"
      ]
     },
     "execution_count": 23,
     "metadata": {},
     "output_type": "execute_result"
    }
   ],
   "source": [
    "# TODO: refactor into a generator because I dislike the current shape. but figure out how batching and threadding works then?\n",
    "# part of the filter.py or prepare.py script that will be done soon.\n",
    "def split_functions(batch):\n",
    "    # per function fields\n",
    "    comments, headers, docstrings, bodies = [],[],[],[]\n",
    "    # per document fields\n",
    "    full_code, funcs, ids = [],[],[]\n",
    "    for code, func_bytes, shader_id in zip(batch[\"image_code\"], batch[\"functions\"], batch[\"id\"]):\n",
    "        row_code = bytes(code,encoding=\"utf-8\")\n",
    "        for start_comment, start_header, end_header, end_docstring, end_function in func_bytes:\n",
    "            comments.append(row_code[start_comment:start_header].decode(encoding=\"utf-8\")),\n",
    "            headers.append(row_code[start_header:end_header].decode(encoding=\"utf-8\")),\n",
    "            docstrings.append(row_code[end_header:end_docstring].decode(encoding=\"utf-8\")),\n",
    "            bodies.append(row_code[end_docstring:end_function].decode(encoding=\"utf-8\")),\n",
    "            full_code.append(row_code.decode(encoding=\"utf-8\")),\n",
    "            funcs.append((start_comment, start_header, end_header, end_docstring, end_function))\n",
    "            ids.append(shader_id)\n",
    "    return {\n",
    "            \"comment\": comments,\n",
    "            \"header\": headers,\n",
    "            \"docstring\": docstrings,\n",
    "            \"body\": bodies,\n",
    "            \"full_code\": full_code,\n",
    "            \"func_bytes\": funcs,\n",
    "            \"id\": ids,\n",
    "            }\n",
    "\n",
    "func_ds = ds.map(split_functions, batched=True, remove_columns=ds[\"train\"].column_names)\n",
    "func_ds"
   ]
  },
  {
   "cell_type": "code",
   "execution_count": 24,
   "metadata": {},
   "outputs": [
    {
     "data": {
      "text/html": [
       "<div>\n",
       "<style scoped>\n",
       "    .dataframe tbody tr th:only-of-type {\n",
       "        vertical-align: middle;\n",
       "    }\n",
       "\n",
       "    .dataframe tbody tr th {\n",
       "        vertical-align: top;\n",
       "    }\n",
       "\n",
       "    .dataframe thead th {\n",
       "        text-align: right;\n",
       "    }\n",
       "</style>\n",
       "<table border=\"1\" class=\"dataframe\">\n",
       "  <thead>\n",
       "    <tr style=\"text-align: right;\">\n",
       "      <th></th>\n",
       "      <th>id</th>\n",
       "      <th>comment</th>\n",
       "      <th>header</th>\n",
       "      <th>docstring</th>\n",
       "      <th>body</th>\n",
       "      <th>full_code</th>\n",
       "      <th>func_bytes</th>\n",
       "    </tr>\n",
       "  </thead>\n",
       "  <tbody>\n",
       "    <tr>\n",
       "      <th>0</th>\n",
       "      <td>4dB3DV</td>\n",
       "      <td></td>\n",
       "      <td>vec3 mod289(vec3 x) {</td>\n",
       "      <td></td>\n",
       "      <td>\\n  return x - floor(x * (1.0 / 289.0)) * 289....</td>\n",
       "      <td>\\nvec3 mod289(vec3 x) {\\n  return x - floor(x ...</td>\n",
       "      <td>[1, 1, 22, 22, 71]</td>\n",
       "    </tr>\n",
       "    <tr>\n",
       "      <th>1</th>\n",
       "      <td>4dB3DV</td>\n",
       "      <td></td>\n",
       "      <td>vec2 mod289(vec2 x) {</td>\n",
       "      <td></td>\n",
       "      <td>\\n  return x - floor(x * (1.0 / 289.0)) * 289....</td>\n",
       "      <td>\\nvec3 mod289(vec3 x) {\\n  return x - floor(x ...</td>\n",
       "      <td>[73, 73, 94, 94, 143]</td>\n",
       "    </tr>\n",
       "    <tr>\n",
       "      <th>2</th>\n",
       "      <td>4dB3DV</td>\n",
       "      <td></td>\n",
       "      <td>vec4 mod289(vec4 x) {</td>\n",
       "      <td></td>\n",
       "      <td>\\n  return x - floor(x * (1.0 / 289.0)) * 289....</td>\n",
       "      <td>\\nvec3 mod289(vec3 x) {\\n  return x - floor(x ...</td>\n",
       "      <td>[145, 145, 166, 166, 215]</td>\n",
       "    </tr>\n",
       "    <tr>\n",
       "      <th>3</th>\n",
       "      <td>4dB3DV</td>\n",
       "      <td></td>\n",
       "      <td>vec4 permute(vec4 x) {</td>\n",
       "      <td></td>\n",
       "      <td>\\n     return mod289(((x*34.0)+1.0)*x);\\n}</td>\n",
       "      <td>\\nvec3 mod289(vec3 x) {\\n  return x - floor(x ...</td>\n",
       "      <td>[217, 217, 239, 239, 279]</td>\n",
       "    </tr>\n",
       "    <tr>\n",
       "      <th>4</th>\n",
       "      <td>4dB3DV</td>\n",
       "      <td></td>\n",
       "      <td>vec3 permute(vec3 x) {</td>\n",
       "      <td></td>\n",
       "      <td>\\n  return mod289(((x*34.0)+1.0)*x);\\n}</td>\n",
       "      <td>\\nvec3 mod289(vec3 x) {\\n  return x - floor(x ...</td>\n",
       "      <td>[281, 281, 303, 303, 340]</td>\n",
       "    </tr>\n",
       "  </tbody>\n",
       "</table>\n",
       "</div>"
      ],
      "text/plain": [
       "       id comment                  header docstring  \\\n",
       "0  4dB3DV           vec3 mod289(vec3 x) {             \n",
       "1  4dB3DV           vec2 mod289(vec2 x) {             \n",
       "2  4dB3DV           vec4 mod289(vec4 x) {             \n",
       "3  4dB3DV          vec4 permute(vec4 x) {             \n",
       "4  4dB3DV          vec3 permute(vec3 x) {             \n",
       "\n",
       "                                                body  \\\n",
       "0  \\n  return x - floor(x * (1.0 / 289.0)) * 289....   \n",
       "1  \\n  return x - floor(x * (1.0 / 289.0)) * 289....   \n",
       "2  \\n  return x - floor(x * (1.0 / 289.0)) * 289....   \n",
       "3         \\n     return mod289(((x*34.0)+1.0)*x);\\n}   \n",
       "4            \\n  return mod289(((x*34.0)+1.0)*x);\\n}   \n",
       "\n",
       "                                           full_code  \\\n",
       "0  \\nvec3 mod289(vec3 x) {\\n  return x - floor(x ...   \n",
       "1  \\nvec3 mod289(vec3 x) {\\n  return x - floor(x ...   \n",
       "2  \\nvec3 mod289(vec3 x) {\\n  return x - floor(x ...   \n",
       "3  \\nvec3 mod289(vec3 x) {\\n  return x - floor(x ...   \n",
       "4  \\nvec3 mod289(vec3 x) {\\n  return x - floor(x ...   \n",
       "\n",
       "                  func_bytes  \n",
       "0         [1, 1, 22, 22, 71]  \n",
       "1      [73, 73, 94, 94, 143]  \n",
       "2  [145, 145, 166, 166, 215]  \n",
       "3  [217, 217, 239, 239, 279]  \n",
       "4  [281, 281, 303, 303, 340]  "
      ]
     },
     "execution_count": 24,
     "metadata": {},
     "output_type": "execute_result"
    }
   ],
   "source": [
    "func_df = func_ds[\"train\"].to_pandas()\n",
    "func_df.head() "
   ]
  },
  {
   "cell_type": "code",
   "execution_count": 25,
   "metadata": {},
   "outputs": [
    {
     "name": "stdout",
     "output_type": "stream",
     "text": [
      "functions with context = 47102\n"
     ]
    },
    {
     "data": {
      "text/html": [
       "<div>\n",
       "<style scoped>\n",
       "    .dataframe tbody tr th:only-of-type {\n",
       "        vertical-align: middle;\n",
       "    }\n",
       "\n",
       "    .dataframe tbody tr th {\n",
       "        vertical-align: top;\n",
       "    }\n",
       "\n",
       "    .dataframe thead th {\n",
       "        text-align: right;\n",
       "    }\n",
       "</style>\n",
       "<table border=\"1\" class=\"dataframe\">\n",
       "  <thead>\n",
       "    <tr style=\"text-align: right;\">\n",
       "      <th>has_docstring</th>\n",
       "      <th>False</th>\n",
       "      <th>True</th>\n",
       "      <th>All</th>\n",
       "    </tr>\n",
       "    <tr>\n",
       "      <th>has_comment</th>\n",
       "      <th></th>\n",
       "      <th></th>\n",
       "      <th></th>\n",
       "    </tr>\n",
       "  </thead>\n",
       "  <tbody>\n",
       "    <tr>\n",
       "      <th>False</th>\n",
       "      <td>112002</td>\n",
       "      <td>8214</td>\n",
       "      <td>120216</td>\n",
       "    </tr>\n",
       "    <tr>\n",
       "      <th>True</th>\n",
       "      <td>34632</td>\n",
       "      <td>4256</td>\n",
       "      <td>38888</td>\n",
       "    </tr>\n",
       "    <tr>\n",
       "      <th>All</th>\n",
       "      <td>146634</td>\n",
       "      <td>12470</td>\n",
       "      <td>159104</td>\n",
       "    </tr>\n",
       "  </tbody>\n",
       "</table>\n",
       "</div>"
      ],
      "text/plain": [
       "has_docstring   False   True     All\n",
       "has_comment                         \n",
       "False          112002   8214  120216\n",
       "True            34632   4256   38888\n",
       "All            146634  12470  159104"
      ]
     },
     "execution_count": 25,
     "metadata": {},
     "output_type": "execute_result"
    }
   ],
   "source": [
    "func_df[\"has_comment\"] = func_df[\"comment\"] != \"\"\n",
    "func_df[\"has_docstring\"] = func_df[\"docstring\"] != \"\"\n",
    "func_df[\"model_ctx\"] = func_df[\"comment\"] + func_df[\"header\"] + func_df[\"comment\"]\n",
    "# how many functions are there, and what is the share of comments, \n",
    "\n",
    "xtab = pd.crosstab(func_df[\"has_comment\"], func_df[\"has_docstring\"], margins=True)\n",
    "print(f\"functions with context = {xtab.iloc[-1,-1] - xtab.iloc[0,0]}\")\n",
    "xtab"
   ]
  },
  {
   "cell_type": "code",
   "execution_count": 26,
   "metadata": {},
   "outputs": [
    {
     "name": "stdout",
     "output_type": "stream",
     "text": [
      "22552\n"
     ]
    },
    {
     "data": {
      "text/plain": [
       "comment\n",
       "                                                                                                                                                                                                                                                                                                                                                                                                                                                                                                                                120216\n",
       "//--------------------------------------------------------------------------\\n                                                                                                                                                                                                                                                                                                                                                                                                                                                     127\n",
       "//------------------------------------------------------------------\\n\\n                                                                                                                                                                                                                                                                                                                                                                                                                                                           109\n",
       "//////////////////////////////////////////////////////////\\n\\n                                                                                                                                                                                                                                                                                                                                                                                                                                                                     105\n",
       "// http://iquilezles.org/www/articles/normalsSDF/normalsSDF.htm\\n                                                                                                                                                                                                                                                                                                                                                                                                                                                                   88\n",
       "/**\\n * Using the gradient of the SDF, estimate the normal on the surface at point p.\\n */\\n                                                                                                                                                                                                                                                                                                                                                                                                                                        87\n",
       "//Box function\\n                                                                                                                                                                                                                                                                                                                                                                                                                                                                                                                    86\n",
       "/**\\n * Lighting contribution of a single point light source via Phong illumination.\\n * \\n * The vec3 returned is the RGB color of the light's contribution.\\n *\\n * k_a: Ambient color\\n * k_d: Diffuse color\\n * k_s: Specular color\\n * alpha: Shininess coefficient\\n * p: position of point being lit\\n * eye: the position of the camera\\n * lightPos: the position of the light\\n * lightIntensity: color/intensity of the light\\n *\\n * See https://en.wikipedia.org/wiki/Phong_reflection_model#Description\\n */\\n        86\n",
       "/**\\n * Lighting via Phong illumination.\\n * \\n * The vec3 returned is the RGB color of that point after lighting is applied.\\n * k_a: Ambient color\\n * k_d: Diffuse color\\n * k_s: Specular color\\n * alpha: Shininess coefficient\\n * p: position of point being lit\\n * eye: the position of the camera\\n *\\n * See https://en.wikipedia.org/wiki/Phong_reflection_model#Description\\n */\\n                                                                                                                                     85\n",
       "/**\\n * Return a transform matrix that will transform a ray from view space\\n * to world coordinates, given the eye point, the camera target, and an up vector.\\n *\\n * This assumes that the center of the camera is aligned with the negative z axis in\\n * view space when calculating the ray marching direction. See rayDirection.\\n */\\n                                                                                                                                                                                      85\n",
       "Name: count, dtype: int64"
      ]
     },
     "execution_count": 26,
     "metadata": {},
     "output_type": "execute_result"
    }
   ],
   "source": [
    "# FINDING: only about half the comments are unique.\n",
    "# some frequent comment looks like a template maybe? should investigate\n",
    "print(func_df[\"comment\"].nunique())\n",
    "func_df[\"comment\"].value_counts(sort=True, ascending=False).head(10)"
   ]
  },
  {
   "cell_type": "code",
   "execution_count": 27,
   "metadata": {},
   "outputs": [
    {
     "name": "stdout",
     "output_type": "stream",
     "text": [
      "64002\n"
     ]
    },
    {
     "data": {
      "text/plain": [
       "header\n",
       "void mainImage( out vec4 fragColor, in vec2 fragCoord )\\n{    12740\n",
       "void mainImage( out vec4 fragColor, in vec2 fragCoord ) {      1304\n",
       "void mainImage(out vec4 fragColor, in vec2 fragCoord) {         981\n",
       "void mainImage(out vec4 fragColor, in vec2 fragCoord)\\n{        658\n",
       "void mainImage( out vec4 fragColor, in vec2 fragCoord ){        548\n",
       "float sdBox( vec3 p, vec3 b )\\n{                                515\n",
       "float smin( float a, float b, float k )\\n{                      352\n",
       "vec3 ShowScene (vec3 ro, vec3 rd)\\n{                            340\n",
       "void mainImage (out vec4 fragColor, in vec2 fragCoord)\\n{       338\n",
       "float ObjRay (vec3 ro, vec3 rd)\\n{                              321\n",
       "Name: count, dtype: int64"
      ]
     },
     "execution_count": 27,
     "metadata": {},
     "output_type": "execute_result"
    }
   ],
   "source": [
    "# FINDING = only about a third of function-headers are unique?\n",
    "# it's expect to have one mainImage function per renderpass... but they are just whitesapce variable here - maybe we skip them in general\n",
    "print(func_df[\"header\"].nunique())\n",
    "func_df[\"header\"].value_counts(sort=True, ascending=False).head(10)"
   ]
  },
  {
   "cell_type": "code",
   "execution_count": 28,
   "metadata": {},
   "outputs": [
    {
     "data": {
      "text/plain": [
       "19507"
      ]
     },
     "execution_count": 28,
     "metadata": {},
     "output_type": "execute_result"
    }
   ],
   "source": [
    "# looks like some are not exact or might even use the common pass to bypass this\n",
    "func_df[\"header\"].str.startswith(\"void mainImage\").sum()"
   ]
  },
  {
   "cell_type": "code",
   "execution_count": 29,
   "metadata": {},
   "outputs": [
    {
     "name": "stdout",
     "output_type": "stream",
     "text": [
      "6461\n"
     ]
    },
    {
     "data": {
      "text/plain": [
       "docstring\n",
       "                                                        146634\n",
       "\\n    // Normalized pixel coordinates (from 0 to 1)       1893\n",
       "\\n  // n must be normalized                                117\n",
       "\\n    // Based on gluLookAt man page                       112\n",
       "\\n    // c must be normalized                               95\n",
       "\\n    // Normalized pixel coordinates (from -1 to 1)        62\n",
       "\\n    // filter kernel                                      38\n",
       "\\n    // Add scaled noises                                  37\n",
       "\\n     // camera movement\\t                                 35\n",
       "\\n    // preserve shape                                     33\n",
       "Name: count, dtype: int64"
      ]
     },
     "execution_count": 29,
     "metadata": {},
     "output_type": "execute_result"
    }
   ],
   "source": [
    "# half the docstrings aren't unique?\n",
    "# most common one is the shadertoy.com/new default for the main function\n",
    "print(func_df[\"docstring\"].nunique())\n",
    "func_df[\"docstring\"].value_counts(sort=True, ascending=False).head(10)"
   ]
  },
  {
   "cell_type": "code",
   "execution_count": 30,
   "metadata": {},
   "outputs": [
    {
     "name": "stdout",
     "output_type": "stream",
     "text": [
      "75357\n"
     ]
    },
    {
     "data": {
      "text/plain": [
       "model_ctx\n",
       "void mainImage( out vec4 fragColor, in vec2 fragCoord )\\n{    11708\n",
       "void mainImage( out vec4 fragColor, in vec2 fragCoord ) {      1110\n",
       "void mainImage(out vec4 fragColor, in vec2 fragCoord) {         908\n",
       "void mainImage(out vec4 fragColor, in vec2 fragCoord)\\n{        577\n",
       "void mainImage( out vec4 fragColor, in vec2 fragCoord ){        489\n",
       "float sdBox( vec3 p, vec3 b )\\n{                                363\n",
       "vec3 ShowScene (vec3 ro, vec3 rd)\\n{                            338\n",
       "void mainImage (out vec4 fragColor, in vec2 fragCoord)\\n{       335\n",
       "float ObjRay (vec3 ro, vec3 rd)\\n{                              320\n",
       "vec3 ObjNf (vec3 p)\\n{                                          318\n",
       "Name: count, dtype: int64"
      ]
     },
     "execution_count": 30,
     "metadata": {},
     "output_type": "execute_result"
    }
   ],
   "source": [
    "# proposed model_ctx takes all of them in normal order (doens't filter out the naked functions)\n",
    "print(func_df[\"model_ctx\"].nunique())\n",
    "func_df[\"model_ctx\"].value_counts(sort=True, ascending=False).head(10)"
   ]
  }
 ],
 "metadata": {
  "kernelspec": {
   "display_name": "Python 3",
   "language": "python",
   "name": "python3"
  },
  "language_info": {
   "codemirror_mode": {
    "name": "ipython",
    "version": 3
   },
   "file_extension": ".py",
   "mimetype": "text/x-python",
   "name": "python",
   "nbconvert_exporter": "python",
   "pygments_lexer": "ipython3",
   "version": "3.9.4"
  }
 },
 "nbformat": 4,
 "nbformat_minor": 2
}
