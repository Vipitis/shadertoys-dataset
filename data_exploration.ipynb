{
 "cells": [
  {
   "cell_type": "markdown",
   "metadata": {},
   "source": [
    "### Exploring the annotated data."
   ]
  },
  {
   "cell_type": "code",
   "execution_count": 3,
   "metadata": {},
   "outputs": [
    {
     "data": {
      "application/vnd.jupyter.widget-view+json": {
       "model_id": "8595ddf85c604b9fa73afc0408c7942e",
       "version_major": 2,
       "version_minor": 0
      },
      "text/plain": [
       "Generating train split: 0 examples [00:00, ? examples/s]"
      ]
     },
     "metadata": {},
     "output_type": "display_data"
    },
    {
     "ename": "DatasetGenerationError",
     "evalue": "An error occurred while generating the dataset",
     "output_type": "error",
     "traceback": [
      "\u001b[1;31m---------------------------------------------------------------------------\u001b[0m",
      "\u001b[1;31mTypeError\u001b[0m                                 Traceback (most recent call last)",
      "File \u001b[1;32mc:\\Users\\Jan\\AppData\\Local\\Programs\\Python\\Python39\\lib\\site-packages\\datasets\\builder.py:2013\u001b[0m, in \u001b[0;36mArrowBasedBuilder._prepare_split_single\u001b[1;34m(self, gen_kwargs, fpath, file_format, max_shard_size, job_id)\u001b[0m\n\u001b[0;32m   2012\u001b[0m \u001b[38;5;28;01mtry\u001b[39;00m:\n\u001b[1;32m-> 2013\u001b[0m     \u001b[43mwriter\u001b[49m\u001b[38;5;241;43m.\u001b[39;49m\u001b[43mwrite_table\u001b[49m\u001b[43m(\u001b[49m\u001b[43mtable\u001b[49m\u001b[43m)\u001b[49m\n\u001b[0;32m   2014\u001b[0m \u001b[38;5;28;01mexcept\u001b[39;00m CastError \u001b[38;5;28;01mas\u001b[39;00m cast_error:\n",
      "File \u001b[1;32mc:\\Users\\Jan\\AppData\\Local\\Programs\\Python\\Python39\\lib\\site-packages\\datasets\\arrow_writer.py:585\u001b[0m, in \u001b[0;36mArrowWriter.write_table\u001b[1;34m(self, pa_table, writer_batch_size)\u001b[0m\n\u001b[0;32m    584\u001b[0m pa_table \u001b[38;5;241m=\u001b[39m pa_table\u001b[38;5;241m.\u001b[39mcombine_chunks()\n\u001b[1;32m--> 585\u001b[0m pa_table \u001b[38;5;241m=\u001b[39m \u001b[43mtable_cast\u001b[49m\u001b[43m(\u001b[49m\u001b[43mpa_table\u001b[49m\u001b[43m,\u001b[49m\u001b[43m \u001b[49m\u001b[38;5;28;43mself\u001b[39;49m\u001b[38;5;241;43m.\u001b[39;49m\u001b[43m_schema\u001b[49m\u001b[43m)\u001b[49m\n\u001b[0;32m    586\u001b[0m \u001b[38;5;28;01mif\u001b[39;00m \u001b[38;5;28mself\u001b[39m\u001b[38;5;241m.\u001b[39membed_local_files:\n",
      "File \u001b[1;32mc:\\Users\\Jan\\AppData\\Local\\Programs\\Python\\Python39\\lib\\site-packages\\datasets\\table.py:2302\u001b[0m, in \u001b[0;36mtable_cast\u001b[1;34m(table, schema)\u001b[0m\n\u001b[0;32m   2301\u001b[0m \u001b[38;5;28;01mif\u001b[39;00m table\u001b[38;5;241m.\u001b[39mschema \u001b[38;5;241m!=\u001b[39m schema:\n\u001b[1;32m-> 2302\u001b[0m     \u001b[38;5;28;01mreturn\u001b[39;00m \u001b[43mcast_table_to_schema\u001b[49m\u001b[43m(\u001b[49m\u001b[43mtable\u001b[49m\u001b[43m,\u001b[49m\u001b[43m \u001b[49m\u001b[43mschema\u001b[49m\u001b[43m)\u001b[49m\n\u001b[0;32m   2303\u001b[0m \u001b[38;5;28;01melif\u001b[39;00m table\u001b[38;5;241m.\u001b[39mschema\u001b[38;5;241m.\u001b[39mmetadata \u001b[38;5;241m!=\u001b[39m schema\u001b[38;5;241m.\u001b[39mmetadata:\n",
      "File \u001b[1;32mc:\\Users\\Jan\\AppData\\Local\\Programs\\Python\\Python39\\lib\\site-packages\\datasets\\table.py:2261\u001b[0m, in \u001b[0;36mcast_table_to_schema\u001b[1;34m(table, schema)\u001b[0m\n\u001b[0;32m   2256\u001b[0m     \u001b[38;5;28;01mraise\u001b[39;00m CastError(\n\u001b[0;32m   2257\u001b[0m         \u001b[38;5;124mf\u001b[39m\u001b[38;5;124m\"\u001b[39m\u001b[38;5;124mCouldn\u001b[39m\u001b[38;5;124m'\u001b[39m\u001b[38;5;124mt cast\u001b[39m\u001b[38;5;130;01m\\n\u001b[39;00m\u001b[38;5;132;01m{\u001b[39;00m_short_str(table\u001b[38;5;241m.\u001b[39mschema)\u001b[38;5;132;01m}\u001b[39;00m\u001b[38;5;130;01m\\n\u001b[39;00m\u001b[38;5;124mto\u001b[39m\u001b[38;5;130;01m\\n\u001b[39;00m\u001b[38;5;132;01m{\u001b[39;00m_short_str(features)\u001b[38;5;132;01m}\u001b[39;00m\u001b[38;5;130;01m\\n\u001b[39;00m\u001b[38;5;124mbecause column names don\u001b[39m\u001b[38;5;124m'\u001b[39m\u001b[38;5;124mt match\u001b[39m\u001b[38;5;124m\"\u001b[39m,\n\u001b[0;32m   2258\u001b[0m         table_column_names\u001b[38;5;241m=\u001b[39mtable\u001b[38;5;241m.\u001b[39mcolumn_names,\n\u001b[0;32m   2259\u001b[0m         requested_column_names\u001b[38;5;241m=\u001b[39m\u001b[38;5;28mlist\u001b[39m(features),\n\u001b[0;32m   2260\u001b[0m     )\n\u001b[1;32m-> 2261\u001b[0m arrays \u001b[38;5;241m=\u001b[39m [cast_array_to_feature(table[name], feature) \u001b[38;5;28;01mfor\u001b[39;00m name, feature \u001b[38;5;129;01min\u001b[39;00m features\u001b[38;5;241m.\u001b[39mitems()]\n\u001b[0;32m   2262\u001b[0m \u001b[38;5;28;01mreturn\u001b[39;00m pa\u001b[38;5;241m.\u001b[39mTable\u001b[38;5;241m.\u001b[39mfrom_arrays(arrays, schema\u001b[38;5;241m=\u001b[39mschema)\n",
      "File \u001b[1;32mc:\\Users\\Jan\\AppData\\Local\\Programs\\Python\\Python39\\lib\\site-packages\\datasets\\table.py:2261\u001b[0m, in \u001b[0;36m<listcomp>\u001b[1;34m(.0)\u001b[0m\n\u001b[0;32m   2256\u001b[0m     \u001b[38;5;28;01mraise\u001b[39;00m CastError(\n\u001b[0;32m   2257\u001b[0m         \u001b[38;5;124mf\u001b[39m\u001b[38;5;124m\"\u001b[39m\u001b[38;5;124mCouldn\u001b[39m\u001b[38;5;124m'\u001b[39m\u001b[38;5;124mt cast\u001b[39m\u001b[38;5;130;01m\\n\u001b[39;00m\u001b[38;5;132;01m{\u001b[39;00m_short_str(table\u001b[38;5;241m.\u001b[39mschema)\u001b[38;5;132;01m}\u001b[39;00m\u001b[38;5;130;01m\\n\u001b[39;00m\u001b[38;5;124mto\u001b[39m\u001b[38;5;130;01m\\n\u001b[39;00m\u001b[38;5;132;01m{\u001b[39;00m_short_str(features)\u001b[38;5;132;01m}\u001b[39;00m\u001b[38;5;130;01m\\n\u001b[39;00m\u001b[38;5;124mbecause column names don\u001b[39m\u001b[38;5;124m'\u001b[39m\u001b[38;5;124mt match\u001b[39m\u001b[38;5;124m\"\u001b[39m,\n\u001b[0;32m   2258\u001b[0m         table_column_names\u001b[38;5;241m=\u001b[39mtable\u001b[38;5;241m.\u001b[39mcolumn_names,\n\u001b[0;32m   2259\u001b[0m         requested_column_names\u001b[38;5;241m=\u001b[39m\u001b[38;5;28mlist\u001b[39m(features),\n\u001b[0;32m   2260\u001b[0m     )\n\u001b[1;32m-> 2261\u001b[0m arrays \u001b[38;5;241m=\u001b[39m [\u001b[43mcast_array_to_feature\u001b[49m\u001b[43m(\u001b[49m\u001b[43mtable\u001b[49m\u001b[43m[\u001b[49m\u001b[43mname\u001b[49m\u001b[43m]\u001b[49m\u001b[43m,\u001b[49m\u001b[43m \u001b[49m\u001b[43mfeature\u001b[49m\u001b[43m)\u001b[49m \u001b[38;5;28;01mfor\u001b[39;00m name, feature \u001b[38;5;129;01min\u001b[39;00m features\u001b[38;5;241m.\u001b[39mitems()]\n\u001b[0;32m   2262\u001b[0m \u001b[38;5;28;01mreturn\u001b[39;00m pa\u001b[38;5;241m.\u001b[39mTable\u001b[38;5;241m.\u001b[39mfrom_arrays(arrays, schema\u001b[38;5;241m=\u001b[39mschema)\n",
      "File \u001b[1;32mc:\\Users\\Jan\\AppData\\Local\\Programs\\Python\\Python39\\lib\\site-packages\\datasets\\table.py:1802\u001b[0m, in \u001b[0;36m_wrap_for_chunked_arrays.<locals>.wrapper\u001b[1;34m(array, *args, **kwargs)\u001b[0m\n\u001b[0;32m   1801\u001b[0m \u001b[38;5;28;01mif\u001b[39;00m \u001b[38;5;28misinstance\u001b[39m(array, pa\u001b[38;5;241m.\u001b[39mChunkedArray):\n\u001b[1;32m-> 1802\u001b[0m     \u001b[38;5;28;01mreturn\u001b[39;00m pa\u001b[38;5;241m.\u001b[39mchunked_array([func(chunk, \u001b[38;5;241m*\u001b[39margs, \u001b[38;5;241m*\u001b[39m\u001b[38;5;241m*\u001b[39mkwargs) \u001b[38;5;28;01mfor\u001b[39;00m chunk \u001b[38;5;129;01min\u001b[39;00m array\u001b[38;5;241m.\u001b[39mchunks])\n\u001b[0;32m   1803\u001b[0m \u001b[38;5;28;01melse\u001b[39;00m:\n",
      "File \u001b[1;32mc:\\Users\\Jan\\AppData\\Local\\Programs\\Python\\Python39\\lib\\site-packages\\datasets\\table.py:1802\u001b[0m, in \u001b[0;36m<listcomp>\u001b[1;34m(.0)\u001b[0m\n\u001b[0;32m   1801\u001b[0m \u001b[38;5;28;01mif\u001b[39;00m \u001b[38;5;28misinstance\u001b[39m(array, pa\u001b[38;5;241m.\u001b[39mChunkedArray):\n\u001b[1;32m-> 1802\u001b[0m     \u001b[38;5;28;01mreturn\u001b[39;00m pa\u001b[38;5;241m.\u001b[39mchunked_array([func(chunk, \u001b[38;5;241m*\u001b[39margs, \u001b[38;5;241m*\u001b[39m\u001b[38;5;241m*\u001b[39mkwargs) \u001b[38;5;28;01mfor\u001b[39;00m chunk \u001b[38;5;129;01min\u001b[39;00m array\u001b[38;5;241m.\u001b[39mchunks])\n\u001b[0;32m   1803\u001b[0m \u001b[38;5;28;01melse\u001b[39;00m:\n",
      "File \u001b[1;32mc:\\Users\\Jan\\AppData\\Local\\Programs\\Python\\Python39\\lib\\site-packages\\datasets\\table.py:2075\u001b[0m, in \u001b[0;36mcast_array_to_feature\u001b[1;34m(array, feature, allow_primitive_to_str, allow_decimal_to_str)\u001b[0m\n\u001b[0;32m   2074\u001b[0m \u001b[38;5;28;01melse\u001b[39;00m:\n\u001b[1;32m-> 2075\u001b[0m     casted_array_values \u001b[38;5;241m=\u001b[39m \u001b[43m_c\u001b[49m\u001b[43m(\u001b[49m\u001b[43marray\u001b[49m\u001b[38;5;241;43m.\u001b[39;49m\u001b[43mvalues\u001b[49m\u001b[43m,\u001b[49m\u001b[43m \u001b[49m\u001b[43mfeature\u001b[49m\u001b[38;5;241;43m.\u001b[39;49m\u001b[43mfeature\u001b[49m\u001b[43m)\u001b[49m\n\u001b[0;32m   2076\u001b[0m     \u001b[38;5;28;01mif\u001b[39;00m casted_array_values\u001b[38;5;241m.\u001b[39mtype \u001b[38;5;241m==\u001b[39m array\u001b[38;5;241m.\u001b[39mvalues\u001b[38;5;241m.\u001b[39mtype:\n",
      "File \u001b[1;32mc:\\Users\\Jan\\AppData\\Local\\Programs\\Python\\Python39\\lib\\site-packages\\datasets\\table.py:1804\u001b[0m, in \u001b[0;36m_wrap_for_chunked_arrays.<locals>.wrapper\u001b[1;34m(array, *args, **kwargs)\u001b[0m\n\u001b[0;32m   1803\u001b[0m \u001b[38;5;28;01melse\u001b[39;00m:\n\u001b[1;32m-> 1804\u001b[0m     \u001b[38;5;28;01mreturn\u001b[39;00m func(array, \u001b[38;5;241m*\u001b[39margs, \u001b[38;5;241m*\u001b[39m\u001b[38;5;241m*\u001b[39mkwargs)\n",
      "File \u001b[1;32mc:\\Users\\Jan\\AppData\\Local\\Programs\\Python\\Python39\\lib\\site-packages\\datasets\\table.py:2116\u001b[0m, in \u001b[0;36mcast_array_to_feature\u001b[1;34m(array, feature, allow_primitive_to_str, allow_decimal_to_str)\u001b[0m\n\u001b[0;32m   2115\u001b[0m \u001b[38;5;28;01melif\u001b[39;00m \u001b[38;5;129;01mnot\u001b[39;00m \u001b[38;5;28misinstance\u001b[39m(feature, (Sequence, \u001b[38;5;28mdict\u001b[39m, \u001b[38;5;28mlist\u001b[39m, \u001b[38;5;28mtuple\u001b[39m)):\n\u001b[1;32m-> 2116\u001b[0m     \u001b[38;5;28;01mreturn\u001b[39;00m \u001b[43marray_cast\u001b[49m\u001b[43m(\u001b[49m\n\u001b[0;32m   2117\u001b[0m \u001b[43m        \u001b[49m\u001b[43marray\u001b[49m\u001b[43m,\u001b[49m\n\u001b[0;32m   2118\u001b[0m \u001b[43m        \u001b[49m\u001b[43mfeature\u001b[49m\u001b[43m(\u001b[49m\u001b[43m)\u001b[49m\u001b[43m,\u001b[49m\n\u001b[0;32m   2119\u001b[0m \u001b[43m        \u001b[49m\u001b[43mallow_primitive_to_str\u001b[49m\u001b[38;5;241;43m=\u001b[39;49m\u001b[43mallow_primitive_to_str\u001b[49m\u001b[43m,\u001b[49m\n\u001b[0;32m   2120\u001b[0m \u001b[43m        \u001b[49m\u001b[43mallow_decimal_to_str\u001b[49m\u001b[38;5;241;43m=\u001b[39;49m\u001b[43mallow_decimal_to_str\u001b[49m\u001b[43m,\u001b[49m\n\u001b[0;32m   2121\u001b[0m \u001b[43m    \u001b[49m\u001b[43m)\u001b[49m\n\u001b[0;32m   2122\u001b[0m \u001b[38;5;28;01mraise\u001b[39;00m \u001b[38;5;167;01mTypeError\u001b[39;00m(\u001b[38;5;124mf\u001b[39m\u001b[38;5;124m\"\u001b[39m\u001b[38;5;124mCouldn\u001b[39m\u001b[38;5;124m'\u001b[39m\u001b[38;5;124mt cast array of type\u001b[39m\u001b[38;5;130;01m\\n\u001b[39;00m\u001b[38;5;132;01m{\u001b[39;00m_short_str(array\u001b[38;5;241m.\u001b[39mtype)\u001b[38;5;132;01m}\u001b[39;00m\u001b[38;5;130;01m\\n\u001b[39;00m\u001b[38;5;124mto\u001b[39m\u001b[38;5;130;01m\\n\u001b[39;00m\u001b[38;5;132;01m{\u001b[39;00m_short_str(feature)\u001b[38;5;132;01m}\u001b[39;00m\u001b[38;5;124m\"\u001b[39m)\n",
      "File \u001b[1;32mc:\\Users\\Jan\\AppData\\Local\\Programs\\Python\\Python39\\lib\\site-packages\\datasets\\table.py:1804\u001b[0m, in \u001b[0;36m_wrap_for_chunked_arrays.<locals>.wrapper\u001b[1;34m(array, *args, **kwargs)\u001b[0m\n\u001b[0;32m   1803\u001b[0m \u001b[38;5;28;01melse\u001b[39;00m:\n\u001b[1;32m-> 1804\u001b[0m     \u001b[38;5;28;01mreturn\u001b[39;00m func(array, \u001b[38;5;241m*\u001b[39margs, \u001b[38;5;241m*\u001b[39m\u001b[38;5;241m*\u001b[39mkwargs)\n",
      "File \u001b[1;32mc:\\Users\\Jan\\AppData\\Local\\Programs\\Python\\Python39\\lib\\site-packages\\datasets\\table.py:1964\u001b[0m, in \u001b[0;36marray_cast\u001b[1;34m(array, pa_type, allow_primitive_to_str, allow_decimal_to_str)\u001b[0m\n\u001b[0;32m   1963\u001b[0m     \u001b[38;5;28;01mreturn\u001b[39;00m array\u001b[38;5;241m.\u001b[39mcast(pa_type)\n\u001b[1;32m-> 1964\u001b[0m \u001b[38;5;28;01mraise\u001b[39;00m \u001b[38;5;167;01mTypeError\u001b[39;00m(\u001b[38;5;124mf\u001b[39m\u001b[38;5;124m\"\u001b[39m\u001b[38;5;124mCouldn\u001b[39m\u001b[38;5;124m'\u001b[39m\u001b[38;5;124mt cast array of type \u001b[39m\u001b[38;5;132;01m{\u001b[39;00m_short_str(array\u001b[38;5;241m.\u001b[39mtype)\u001b[38;5;132;01m}\u001b[39;00m\u001b[38;5;124m to \u001b[39m\u001b[38;5;132;01m{\u001b[39;00m_short_str(pa_type)\u001b[38;5;132;01m}\u001b[39;00m\u001b[38;5;124m\"\u001b[39m)\n",
      "\u001b[1;31mTypeError\u001b[0m: Couldn't cast array of type struct<id: int64, src: string, ctype: string, channel: int64, sampler: struct<filter: string, wrap: string, vflip: string, srgb: string, internal: string>, published: int64> to null",
      "\nThe above exception was the direct cause of the following exception:\n",
      "\u001b[1;31mDatasetGenerationError\u001b[0m                    Traceback (most recent call last)",
      "Cell \u001b[1;32mIn[3], line 9\u001b[0m\n\u001b[0;32m      5\u001b[0m disable_caching()\n\u001b[0;32m      6\u001b[0m \u001b[38;5;66;03m# cache location [click](%userprofile%/.cache/huggingface/datasets)\u001b[39;00m\n\u001b[0;32m      7\u001b[0m \u001b[38;5;66;03m# needs force_redownload to avoid loading incorrect cached stuff\u001b[39;00m\n\u001b[0;32m      8\u001b[0m \u001b[38;5;66;03m# ds = load_dataset(\"json\", data_dir=\"./data/annotated/\", download_mode=\"force_redownload\", cache_dir=None)\u001b[39;00m\n\u001b[1;32m----> 9\u001b[0m ds \u001b[38;5;241m=\u001b[39m \u001b[43mload_dataset\u001b[49m\u001b[43m(\u001b[49m\u001b[38;5;124;43m\"\u001b[39;49m\u001b[38;5;124;43mjson\u001b[39;49m\u001b[38;5;124;43m\"\u001b[39;49m\u001b[43m,\u001b[49m\u001b[43m \u001b[49m\u001b[43mdata_dir\u001b[49m\u001b[38;5;241;43m=\u001b[39;49m\u001b[38;5;124;43m\"\u001b[39;49m\u001b[38;5;124;43m./data/annotated_test/\u001b[39;49m\u001b[38;5;124;43m\"\u001b[39;49m\u001b[43m,\u001b[49m\u001b[43m \u001b[49m\u001b[43mdownload_mode\u001b[49m\u001b[38;5;241;43m=\u001b[39;49m\u001b[38;5;124;43m\"\u001b[39;49m\u001b[38;5;124;43mforce_redownload\u001b[39;49m\u001b[38;5;124;43m\"\u001b[39;49m\u001b[43m,\u001b[49m\u001b[43m \u001b[49m\u001b[43mcache_dir\u001b[49m\u001b[38;5;241;43m=\u001b[39;49m\u001b[38;5;28;43;01mNone\u001b[39;49;00m\u001b[43m)\u001b[49m\n\u001b[0;32m     10\u001b[0m df \u001b[38;5;241m=\u001b[39m ds[\u001b[38;5;124m\"\u001b[39m\u001b[38;5;124mtrain\u001b[39m\u001b[38;5;124m\"\u001b[39m]\u001b[38;5;241m.\u001b[39mto_pandas()\n\u001b[0;32m     11\u001b[0m \u001b[38;5;66;03m# read \"date\" column as unix timestamp\u001b[39;00m\n",
      "File \u001b[1;32mc:\\Users\\Jan\\AppData\\Local\\Programs\\Python\\Python39\\lib\\site-packages\\datasets\\load.py:2616\u001b[0m, in \u001b[0;36mload_dataset\u001b[1;34m(path, name, data_dir, data_files, split, cache_dir, features, download_config, download_mode, verification_mode, ignore_verifications, keep_in_memory, save_infos, revision, token, use_auth_token, task, streaming, num_proc, storage_options, trust_remote_code, **config_kwargs)\u001b[0m\n\u001b[0;32m   2613\u001b[0m     \u001b[38;5;28;01mreturn\u001b[39;00m builder_instance\u001b[38;5;241m.\u001b[39mas_streaming_dataset(split\u001b[38;5;241m=\u001b[39msplit)\n\u001b[0;32m   2615\u001b[0m \u001b[38;5;66;03m# Download and prepare data\u001b[39;00m\n\u001b[1;32m-> 2616\u001b[0m \u001b[43mbuilder_instance\u001b[49m\u001b[38;5;241;43m.\u001b[39;49m\u001b[43mdownload_and_prepare\u001b[49m\u001b[43m(\u001b[49m\n\u001b[0;32m   2617\u001b[0m \u001b[43m    \u001b[49m\u001b[43mdownload_config\u001b[49m\u001b[38;5;241;43m=\u001b[39;49m\u001b[43mdownload_config\u001b[49m\u001b[43m,\u001b[49m\n\u001b[0;32m   2618\u001b[0m \u001b[43m    \u001b[49m\u001b[43mdownload_mode\u001b[49m\u001b[38;5;241;43m=\u001b[39;49m\u001b[43mdownload_mode\u001b[49m\u001b[43m,\u001b[49m\n\u001b[0;32m   2619\u001b[0m \u001b[43m    \u001b[49m\u001b[43mverification_mode\u001b[49m\u001b[38;5;241;43m=\u001b[39;49m\u001b[43mverification_mode\u001b[49m\u001b[43m,\u001b[49m\n\u001b[0;32m   2620\u001b[0m \u001b[43m    \u001b[49m\u001b[43mnum_proc\u001b[49m\u001b[38;5;241;43m=\u001b[39;49m\u001b[43mnum_proc\u001b[49m\u001b[43m,\u001b[49m\n\u001b[0;32m   2621\u001b[0m \u001b[43m    \u001b[49m\u001b[43mstorage_options\u001b[49m\u001b[38;5;241;43m=\u001b[39;49m\u001b[43mstorage_options\u001b[49m\u001b[43m,\u001b[49m\n\u001b[0;32m   2622\u001b[0m \u001b[43m\u001b[49m\u001b[43m)\u001b[49m\n\u001b[0;32m   2624\u001b[0m \u001b[38;5;66;03m# Build dataset for splits\u001b[39;00m\n\u001b[0;32m   2625\u001b[0m keep_in_memory \u001b[38;5;241m=\u001b[39m (\n\u001b[0;32m   2626\u001b[0m     keep_in_memory \u001b[38;5;28;01mif\u001b[39;00m keep_in_memory \u001b[38;5;129;01mis\u001b[39;00m \u001b[38;5;129;01mnot\u001b[39;00m \u001b[38;5;28;01mNone\u001b[39;00m \u001b[38;5;28;01melse\u001b[39;00m is_small_dataset(builder_instance\u001b[38;5;241m.\u001b[39minfo\u001b[38;5;241m.\u001b[39mdataset_size)\n\u001b[0;32m   2627\u001b[0m )\n",
      "File \u001b[1;32mc:\\Users\\Jan\\AppData\\Local\\Programs\\Python\\Python39\\lib\\site-packages\\datasets\\builder.py:1029\u001b[0m, in \u001b[0;36mDatasetBuilder.download_and_prepare\u001b[1;34m(self, output_dir, download_config, download_mode, verification_mode, ignore_verifications, try_from_hf_gcs, dl_manager, base_path, use_auth_token, file_format, max_shard_size, num_proc, storage_options, **download_and_prepare_kwargs)\u001b[0m\n\u001b[0;32m   1027\u001b[0m     \u001b[38;5;28;01mif\u001b[39;00m num_proc \u001b[38;5;129;01mis\u001b[39;00m \u001b[38;5;129;01mnot\u001b[39;00m \u001b[38;5;28;01mNone\u001b[39;00m:\n\u001b[0;32m   1028\u001b[0m         prepare_split_kwargs[\u001b[38;5;124m\"\u001b[39m\u001b[38;5;124mnum_proc\u001b[39m\u001b[38;5;124m\"\u001b[39m] \u001b[38;5;241m=\u001b[39m num_proc\n\u001b[1;32m-> 1029\u001b[0m     \u001b[38;5;28mself\u001b[39m\u001b[38;5;241m.\u001b[39m_download_and_prepare(\n\u001b[0;32m   1030\u001b[0m         dl_manager\u001b[38;5;241m=\u001b[39mdl_manager,\n\u001b[0;32m   1031\u001b[0m         verification_mode\u001b[38;5;241m=\u001b[39mverification_mode,\n\u001b[0;32m   1032\u001b[0m         \u001b[38;5;241m*\u001b[39m\u001b[38;5;241m*\u001b[39mprepare_split_kwargs,\n\u001b[0;32m   1033\u001b[0m         \u001b[38;5;241m*\u001b[39m\u001b[38;5;241m*\u001b[39mdownload_and_prepare_kwargs,\n\u001b[0;32m   1034\u001b[0m     )\n\u001b[0;32m   1035\u001b[0m \u001b[38;5;66;03m# Sync info\u001b[39;00m\n\u001b[0;32m   1036\u001b[0m \u001b[38;5;28mself\u001b[39m\u001b[38;5;241m.\u001b[39minfo\u001b[38;5;241m.\u001b[39mdataset_size \u001b[38;5;241m=\u001b[39m \u001b[38;5;28msum\u001b[39m(split\u001b[38;5;241m.\u001b[39mnum_bytes \u001b[38;5;28;01mfor\u001b[39;00m split \u001b[38;5;129;01min\u001b[39;00m \u001b[38;5;28mself\u001b[39m\u001b[38;5;241m.\u001b[39minfo\u001b[38;5;241m.\u001b[39msplits\u001b[38;5;241m.\u001b[39mvalues())\n",
      "File \u001b[1;32mc:\\Users\\Jan\\AppData\\Local\\Programs\\Python\\Python39\\lib\\site-packages\\datasets\\builder.py:1124\u001b[0m, in \u001b[0;36mDatasetBuilder._download_and_prepare\u001b[1;34m(self, dl_manager, verification_mode, **prepare_split_kwargs)\u001b[0m\n\u001b[0;32m   1120\u001b[0m split_dict\u001b[38;5;241m.\u001b[39madd(split_generator\u001b[38;5;241m.\u001b[39msplit_info)\n\u001b[0;32m   1122\u001b[0m \u001b[38;5;28;01mtry\u001b[39;00m:\n\u001b[0;32m   1123\u001b[0m     \u001b[38;5;66;03m# Prepare split will record examples associated to the split\u001b[39;00m\n\u001b[1;32m-> 1124\u001b[0m     \u001b[38;5;28mself\u001b[39m\u001b[38;5;241m.\u001b[39m_prepare_split(split_generator, \u001b[38;5;241m*\u001b[39m\u001b[38;5;241m*\u001b[39mprepare_split_kwargs)\n\u001b[0;32m   1125\u001b[0m \u001b[38;5;28;01mexcept\u001b[39;00m \u001b[38;5;167;01mOSError\u001b[39;00m \u001b[38;5;28;01mas\u001b[39;00m e:\n\u001b[0;32m   1126\u001b[0m     \u001b[38;5;28;01mraise\u001b[39;00m \u001b[38;5;167;01mOSError\u001b[39;00m(\n\u001b[0;32m   1127\u001b[0m         \u001b[38;5;124m\"\u001b[39m\u001b[38;5;124mCannot find data file. \u001b[39m\u001b[38;5;124m\"\u001b[39m\n\u001b[0;32m   1128\u001b[0m         \u001b[38;5;241m+\u001b[39m (\u001b[38;5;28mself\u001b[39m\u001b[38;5;241m.\u001b[39mmanual_download_instructions \u001b[38;5;129;01mor\u001b[39;00m \u001b[38;5;124m\"\u001b[39m\u001b[38;5;124m\"\u001b[39m)\n\u001b[0;32m   1129\u001b[0m         \u001b[38;5;241m+\u001b[39m \u001b[38;5;124m\"\u001b[39m\u001b[38;5;130;01m\\n\u001b[39;00m\u001b[38;5;124mOriginal error:\u001b[39m\u001b[38;5;130;01m\\n\u001b[39;00m\u001b[38;5;124m\"\u001b[39m\n\u001b[0;32m   1130\u001b[0m         \u001b[38;5;241m+\u001b[39m \u001b[38;5;28mstr\u001b[39m(e)\n\u001b[0;32m   1131\u001b[0m     ) \u001b[38;5;28;01mfrom\u001b[39;00m \u001b[38;5;28;01mNone\u001b[39;00m\n",
      "File \u001b[1;32mc:\\Users\\Jan\\AppData\\Local\\Programs\\Python\\Python39\\lib\\site-packages\\datasets\\builder.py:1884\u001b[0m, in \u001b[0;36mArrowBasedBuilder._prepare_split\u001b[1;34m(self, split_generator, file_format, num_proc, max_shard_size)\u001b[0m\n\u001b[0;32m   1882\u001b[0m job_id \u001b[38;5;241m=\u001b[39m \u001b[38;5;241m0\u001b[39m\n\u001b[0;32m   1883\u001b[0m \u001b[38;5;28;01mwith\u001b[39;00m pbar:\n\u001b[1;32m-> 1884\u001b[0m     \u001b[38;5;28;01mfor\u001b[39;00m job_id, done, content \u001b[38;5;129;01min\u001b[39;00m \u001b[38;5;28mself\u001b[39m\u001b[38;5;241m.\u001b[39m_prepare_split_single(\n\u001b[0;32m   1885\u001b[0m         gen_kwargs\u001b[38;5;241m=\u001b[39mgen_kwargs, job_id\u001b[38;5;241m=\u001b[39mjob_id, \u001b[38;5;241m*\u001b[39m\u001b[38;5;241m*\u001b[39m_prepare_split_args\n\u001b[0;32m   1886\u001b[0m     ):\n\u001b[0;32m   1887\u001b[0m         \u001b[38;5;28;01mif\u001b[39;00m done:\n\u001b[0;32m   1888\u001b[0m             result \u001b[38;5;241m=\u001b[39m content\n",
      "File \u001b[1;32mc:\\Users\\Jan\\AppData\\Local\\Programs\\Python\\Python39\\lib\\site-packages\\datasets\\builder.py:2040\u001b[0m, in \u001b[0;36mArrowBasedBuilder._prepare_split_single\u001b[1;34m(self, gen_kwargs, fpath, file_format, max_shard_size, job_id)\u001b[0m\n\u001b[0;32m   2038\u001b[0m     \u001b[38;5;28;01mif\u001b[39;00m \u001b[38;5;28misinstance\u001b[39m(e, DatasetGenerationError):\n\u001b[0;32m   2039\u001b[0m         \u001b[38;5;28;01mraise\u001b[39;00m\n\u001b[1;32m-> 2040\u001b[0m     \u001b[38;5;28;01mraise\u001b[39;00m DatasetGenerationError(\u001b[38;5;124m\"\u001b[39m\u001b[38;5;124mAn error occurred while generating the dataset\u001b[39m\u001b[38;5;124m\"\u001b[39m) \u001b[38;5;28;01mfrom\u001b[39;00m \u001b[38;5;21;01me\u001b[39;00m\n\u001b[0;32m   2042\u001b[0m \u001b[38;5;28;01myield\u001b[39;00m job_id, \u001b[38;5;28;01mTrue\u001b[39;00m, (total_num_examples, total_num_bytes, writer\u001b[38;5;241m.\u001b[39m_features, num_shards, shard_lengths)\n",
      "\u001b[1;31mDatasetGenerationError\u001b[0m: An error occurred while generating the dataset"
     ]
    }
   ],
   "source": [
    "from datasets import load_dataset, disable_caching\n",
    "import pandas as pd\n",
    "\n",
    "# can infer the generic loader script this easily\n",
    "disable_caching()\n",
    "# cache location [click](%userprofile%/.cache/huggingface/datasets)\n",
    "# needs force_redownload to avoid loading incorrect cached stuff\n",
    "# ds = load_dataset(\"json\", data_dir=\"./data/annotated/\", download_mode=\"force_redownload\", cache_dir=None)\n",
    "ds = load_dataset(\"json\", data_dir=\"./data/annotated_test/\", download_mode=\"force_redownload\", cache_dir=None)\n",
    "df = ds[\"train\"].to_pandas()\n",
    "# read \"date\" column as unix timestamp\n",
    "df[\"date\"] = pd.to_datetime(df[\"date\"].astype(int), unit=\"s\")\n",
    "ds"
   ]
  },
  {
   "cell_type": "code",
   "execution_count": 2,
   "metadata": {},
   "outputs": [],
   "source": [
    "# #344 seems to crash/hang up and ruin the kernel. (works isolated?)\n",
    "# run_shader(ds[\"train\"][344])"
   ]
  },
  {
   "cell_type": "code",
   "execution_count": 13,
   "metadata": {},
   "outputs": [
    {
     "data": {
      "text/plain": [
       "50"
      ]
     },
     "execution_count": 13,
     "metadata": {},
     "output_type": "execute_result"
    }
   ],
   "source": [
    "df[\"author\"].nunique()"
   ]
  },
  {
   "cell_type": "code",
   "execution_count": 14,
   "metadata": {},
   "outputs": [],
   "source": [
    "#redo the df\n",
    "\n",
    "df = ds[\"train\"].to_pandas()\n",
    "# read \"date\" column as unix timestamp\n",
    "df[\"date\"] = pd.to_datetime(df[\"date\"].astype(int), unit=\"s\")\n",
    "#"
   ]
  },
  {
   "cell_type": "code",
   "execution_count": 15,
   "metadata": {},
   "outputs": [
    {
     "data": {
      "text/plain": [
       "test\n",
       "ok         51\n",
       "error      48\n",
       "timeout     1\n",
       "Name: count, dtype: int64"
      ]
     },
     "execution_count": 15,
     "metadata": {},
     "output_type": "execute_result"
    }
   ],
   "source": [
    "df[\"test\"].value_counts().head(10)"
   ]
  },
  {
   "cell_type": "code",
   "execution_count": 16,
   "metadata": {},
   "outputs": [
    {
     "name": "stdout",
     "output_type": "stream",
     "text": [
      "824\n"
     ]
    }
   ],
   "source": [
    "# list of permissive licenses like: https://huggingface.co/datasets/bigcode/the-stack-v2/blob/main/license_stats.csv (gated?)\n",
    "# maybe this instead: https://huggingface.co/datasets/bigcode/the-stack/blob/main/licenses.json\n",
    "# seems to be the one they actually use: https://huggingface.co/datasets/bigcode-data/license_list/resolve/main/permissive_licenses.txt \n",
    "\n",
    "import requests\n",
    "permissive_list = requests.get(\"https://huggingface.co/datasets/bigcode-data/license_list/resolve/main/permissive_licenses.txt\").content.decode(\"utf-8\").split()\n",
    "permissive_list = [l.lower() for l in permissive_list]\n",
    "\n",
    "print(len(permissive_list))"
   ]
  },
  {
   "cell_type": "code",
   "execution_count": 17,
   "metadata": {},
   "outputs": [
    {
     "name": "stdout",
     "output_type": "stream",
     "text": [
      "['CC-BY-NC-SA-3.0', 'public-domain', 'mit']\n"
     ]
    },
    {
     "data": {
      "application/vnd.jupyter.widget-view+json": {
       "model_id": "9613ad9d80cb4c86af410956a2c31372",
       "version_major": 2,
       "version_minor": 0
      },
      "text/plain": [
       "Filter:   0%|          | 0/100 [00:00<?, ? examples/s]"
      ]
     },
     "metadata": {},
     "output_type": "display_data"
    },
    {
     "data": {
      "application/vnd.jupyter.widget-view+json": {
       "model_id": "5baa939aeab246cb956fb4b2089aab09",
       "version_major": 2,
       "version_minor": 0
      },
      "text/plain": [
       "Filter:   0%|          | 0/99 [00:00<?, ? examples/s]"
      ]
     },
     "metadata": {},
     "output_type": "display_data"
    },
    {
     "data": {
      "text/plain": [
       "Dataset({\n",
       "    features: ['id', 'name', 'author', 'description', 'tags', 'likes', 'viewed', 'published', 'date', 'time_retrieved', 'image_code', 'image_inputs', 'common_code', 'sound_code', 'sound_inputs', 'buffer_a_code', 'buffer_a_inputs', 'buffer_b_code', 'buffer_b_inputs', 'buffer_c_code', 'buffer_c_inputs', 'buffer_d_code', 'buffer_d_inputs', 'cube_a_code', 'cube_a_inputs', 'thumbnail', 'access', 'license', 'functions', 'test'],\n",
       "    num_rows: 0\n",
       "})"
      ]
     },
     "execution_count": 17,
     "metadata": {},
     "output_type": "execute_result"
    }
   ],
   "source": [
    "\n",
    "print(ds[\"train\"].unique(\"license\"))\n",
    "# filter permissive licenses\n",
    "filtered_ds = ds[\"train\"].filter(lambda x: x[\"license\"] in permissive_list + [\"CC-BY-NC-SA-3.0\"]) # permissive or base case(not actually permissive...) what about those AND and OR classifications?\n",
    "filtered_ds = filtered_ds.filter(lambda x: x[\"test\"] == \"valid\")\n",
    "filtered_ds"
   ]
  },
  {
   "cell_type": "code",
   "execution_count": 18,
   "metadata": {},
   "outputs": [
    {
     "name": "stdout",
     "output_type": "stream",
     "text": [
      "[''\n",
      " '#define Main void mainImage(out vec4 Q, in vec2 U)\\n#define R iResolution.xy\\n#define A(U) texture(iChannel0,(U)/R)\\n#define B(U) texture(iChannel1,(U)/R)\\n#define C(U) texture(iChannel2,(U)/R)'\n",
      " '#define PI 3.14159265358979\\n#define TAU (2.0 * PI)\\n\\n// ------------------------------------------------------------------------------------------------\\nfloat m_stretch(float point, float stretch){\\n    return .5 * (sign(point) * stretch - point) * (sign(abs(point) - stretch) + 1.);\\n}\\n\\n#define m_stretch_neg(p, st) (.5 * m_stretch(2. * p + st, st))  /* Stretch-negative: positive values are fixed */\\n#define m_stretch_pos(p, st) (.5 * m_stretch(2. * p, st))  /* Stretch-positive: negative values are fixed */\\n\\n// A fast \"manual\" lossy rotate function by ollj.\\n// Control the angle of rotation by specifying the ROTATE_PARAM constants.\\n// https://en.wikipedia.org/wiki/Trigonometric_constants_expressed_in_real_radicals\\nfloat ollj_rotate(vec2 uv){\\n    const float ROTATE_PARAM0 = sqrt(1.);  // Try changing these!\\n    const float ROTATE_PARAM1 = sqrt(.0);\\n    return dot(uv, vec2(ROTATE_PARAM0 + ROTATE_PARAM1, ROTATE_PARAM0 - ROTATE_PARAM1));\\n}\\n\\n// NOTE: Very slightly modified - Mytino.\\n// Optimized arrow SDF, by ollj\\n// @head_len isn\\'t actual uv units, but the unit size depends on ROTATE_PARAMs\\nfloat sdf_arrow(vec2 uv, float norm, vec2 dir, float head_height, float stem_width){\\n    uv = vec2(dir.x * uv.x + dir.y * uv.y, -dir.y * uv.x + dir.x * uv.y);\\n\\n    norm -= head_height;  // Make sure the norm INCLUDES the arrow head\\n    uv.x -= norm;  // Place the arrow\\'s origin at the stem\\'s base!\\n\\n    uv.y = abs(uv.y);\\n    float head = max(ollj_rotate(uv) - head_height, -uv.x);\\n\\n    uv.x = m_stretch_neg(uv.x, norm);\\n    uv.y = m_stretch_pos(uv.y, stem_width);\\n    float stem = length(uv);\\n\\n    return min(head, stem);  // Join head and stem!\\n}\\n// ------------------------------------------------------------------------------------------------'\n",
      " '#define FLT_MAX 3.402823466e+38\\n#define PI 3.14159\\n#define PI2 6.28318530718\\n#define UINT_MAX 4294967295.0\\n\\n// https://www.pcg-random.org/\\n// http://www.jcgt.org/published/0009/03/02/\\nuint pcg1d(in uint v)\\n{\\n    uint state = v * 747796405u + 2891336453u;\\n    uint word = ((state >> ((state >> 28u) + 4u)) ^ state) * 277803737u;\\n    return (word >> 22u) ^ word;\\n}\\n\\n// https://iquilezles.org/articles/palettes\\nvec3 pal( in float t, in vec3 a, in vec3 b, in vec3 c, in vec3 d ) {\\n    return a + b*cos( 6.28318*(c*t+d) );\\n}\\n'\n",
      " '#define GRIDX  250  // terrain size\\n#define GRIDY  140\\n#define WALL   10.\\n\\n#define qFeedRate       q[0].x\\n#define qKillRate       q[0].y\\n#define qDiffusionRateA q[0].z\\n#define qDiffusionRateB q[1].x\\n#define qScale          q[1].y\\n#define qFrame          q[1].z  // frame# when edits were made\\nconst int ADDR_COUNT =    2;\\n\\nvec3[ADDR_COUNT] q;\\n\\nconst ivec2 Q0 = ivec2( 0,GRIDY+1);\\nconst ivec2 Q1 = ivec2( 1,GRIDY+1);\\nconst ivec2[ADDR_COUNT] addrList = ivec2[](Q0,Q1);\\n\\n#define fetchData(buf, addr) texelFetch(buf, addr, 0)\\n#define storeDataAddr(buf_pos, addr) ivec2(buf_pos) == addr\\n\\nvoid getSettings(sampler2D channel) { \\n    for(int i=0;i<ADDR_COUNT;++i) \\n        q[i] = texelFetch(channel, addrList[i],0).xyz;\\n}\\n\\n// ========================================================================\\n// https://www.shadertoy.com/view/MtfGWM\\n\\nfloat previousRnd = 0.;\\n\\nfloat rnd(vec2 c) { return fract(sin(dot(vec2(1.317,19.753),c))*413.7972); } // 0...1\\n\\nfloat rndStart(vec2 coord, float t) {  // 0...1\\n\\tpreviousRnd += rnd(coord.xy + vec2(t * 217.0));\\n    return previousRnd;\\n}\\n\\n// ========================================================================\\n// https://www.shadertoy.com/view/mdsSD7\\n\\nconst int maxStringLength = 24;\\nconst ivec2 cNl    = ivec2(-1, -1);\\nconst ivec2 cSp    = ivec2( 0, 13);\\nconst ivec2 cPlus  = ivec2(11, 13);\\nconst ivec2 cMinus = ivec2(13, 13);\\nconst ivec2 cDot   = ivec2(14, 13);\\n\\nconst ivec2[10] Digits = ivec2[10]\\n(\\n    ivec2(0, 12), ivec2(1, 12), ivec2(2, 12), ivec2(3, 12), ivec2(4, 12),\\n    ivec2(5, 12), ivec2(6, 12), ivec2(7, 12), ivec2(8, 12), ivec2(9, 12)\\n);\\n#define chd(name, index) const ivec2 name = Digits[index];\\nchd(c0,  0) chd(c1,  1) chd(c2,  2) chd(c3,  3) chd(c4,  4)\\nchd(c5,  5) chd(c6,  6) chd(c7,  7) chd(c8,  8) chd(c9,  9)\\n\\nconst ivec2[26] Uppercase = ivec2[26]\\n(\\n    ivec2( 1, 11), ivec2( 2, 11), ivec2( 3, 11), ivec2( 4, 11), ivec2( 5, 11),\\n    ivec2( 6, 11), ivec2( 7, 11), ivec2( 8, 11), ivec2( 9, 11), ivec2(10, 11),\\n    ivec2(11, 11), ivec2(12, 11), ivec2(13, 11), ivec2(14, 11), ivec2(15, 11),\\n    ivec2( 0, 10), ivec2( 1, 10), ivec2( 2, 10), ivec2( 3, 10), ivec2( 4, 10),\\n    ivec2( 5, 10), ivec2( 6, 10), ivec2( 7, 10), ivec2( 8, 10), ivec2( 9, 10),\\n    ivec2(10, 10)\\n);\\n#define chu(name, index) const ivec2 name = Uppercase[index];\\nchu(cA,  0) chu(cB,  1) chu(cC,  2) chu(cD,  3) chu(cE,  4)\\nchu(cF,  5) chu(cG,  6) chu(cH,  7) chu(cI,  8) chu(cJ,  9)\\nchu(cK, 10) chu(cL, 11) chu(cM, 12) chu(cN, 13) chu(cO, 14)\\nchu(cP, 15) chu(cQ, 16) chu(cR, 17) chu(cS, 18) chu(cT, 19)\\nchu(cU, 20) chu(cV, 21) chu(cW, 22) chu(cX, 23) chu(cY, 24)\\nchu(cZ, 25)\\n\\nconst ivec2[26] Lowercase = ivec2[26]\\n(\\n    ivec2( 1,  9), ivec2( 2,  9), ivec2( 3,  9), ivec2( 4,  9), ivec2( 5,  9),\\n    ivec2( 6,  9), ivec2( 7,  9), ivec2( 8,  9), ivec2( 9,  9), ivec2(10,  9),\\n    ivec2(11,  9), ivec2(12,  9), ivec2(13,  9), ivec2(14,  9), ivec2(15,  9),\\n    ivec2( 0,  8), ivec2( 1,  8), ivec2( 2,  8), ivec2( 3,  8), ivec2( 4,  8),\\n    ivec2( 5,  8), ivec2( 6,  8), ivec2( 7,  8), ivec2( 8,  8), ivec2( 9,  8),\\n    ivec2(10,  8)\\n);\\n#define chl(name, index) const ivec2 name = Lowercase[index];\\nchl(ca,  0) chl(cb,  1) chl(cc,  2) chl(cd,  3) chl(ce,  4)\\nchl(cf,  5) chl(cg,  6) chl(ch,  7) chl(ci,  8) chl(cj,  9)\\nchl(ck, 10) chl(cl, 11) chl(cm, 12) chl(cn, 13) chl(co, 14)\\nchl(cp, 15) chl(cq, 16) chl(cr, 17) chl(cs, 18) chl(ct, 19)\\nchl(cu, 20) chl(cv, 21) chl(cw, 22) chl(cx, 23) chl(cy, 24)\\nchl(cz, 25)\\n\\nstruct String {\\n    int count;\\n    ivec2[maxStringLength] chars;\\n};\\n\\n#define setString(string, n, contents)\\\\\\n{\\\\\\n    ivec2[n] _s_ = ivec2[n] contents ;\\\\\\n    for(int _i_ = 0; _i_ < min(maxStringLength, n); _i_++)\\\\\\n    {\\\\\\n        string.chars[_i_] = _s_[_i_];\\\\\\n    }\\\\\\n    string.count = n;\\\\\\n}\\n#define declString(string, n, contents)\\\\\\nString string;\\\\\\n{\\\\\\n    ivec2[n] _s_ = ivec2[n] contents ;\\\\\\n    for(int _i_ = 0; _i_ < min(maxStringLength, n); _i_++)\\\\\\n    {\\\\\\n        string.chars[_i_] = _s_[_i_];\\\\\\n    }\\\\\\n    string.count = n;\\\\\\n}\\n\\nstruct Font {\\n    vec2 texSize;\\n    vec2 charSize;\\n    vec2 ct;\\n};\\n\\n#define setFont(ff,c,t) ff.charSize = c; ff.texSize = t; ff.ct = c/t;\\n\\nstruct TextCursor {\\n    vec2 startPos;\\n    ivec2 coord;\\n    Font font;\\n    vec4 color;\\n    vec2 charSize;\\n    vec2 charSpace;\\n    int pageWidth;\\n    vec2 fragCoord;\\n    vec2 outUV;\\n    vec4 outColor;\\n};\\n\\nvec4 getFontCharRect(in Font f, ivec2 char) {\\n    return vec4(char, char+ivec2(1)) * f.ct.xyxy;\\n}\\n\\nvec4 getCharScreenRect(in TextCursor t)\\n{\\n    vec2 leftTop = t.startPos + t.charSpace * vec2(t.coord.x, -t.coord.y);\\n    vec2 rightBottom = leftTop + t.charSize * vec2(1, -1);\\n    \\n    return vec4(leftTop.x, rightBottom.y, rightBottom.x, leftTop.y);\\n}\\n\\nvoid updateOutUV(ivec2 char, inout TextCursor t) {\\n    vec4 fontRect = getFontCharRect(t.font, char);\\n    vec4 screenRect = getCharScreenRect(t);\\n    vec2 screenRectUV = (t.fragCoord - screenRect.xy) / (screenRect.zw - screenRect.xy);\\n    \\n    if(clamp(screenRectUV, vec2(0), vec2(1)) != screenRectUV) return;\\n    \\n    t.outUV = screenRectUV * (fontRect.zw - fontRect.xy) + fontRect.xy;\\n    t.outColor = t.color;\\n}\\n\\nvoid incrementCursor(inout TextCursor t)\\n{\\n    t.coord.x += 1;\\n    if(t.coord.x >= t.pageWidth)\\n    {\\n        t.coord.x = 0;\\n        t.coord.y += 1;\\n    }\\n}\\n\\nvoid newlineCursor(inout TextCursor t)\\n{\\n    t.coord.x = 0;\\n    t.coord.y += 1;\\n}\\n\\nvoid printChar(ivec2 char, inout TextCursor t)\\n{\\n    if(char == cNl)\\n    {\\n        newlineCursor(t);\\n        return;\\n    }\\n    \\n    updateOutUV(char, t);\\n    incrementCursor(t);\\n}\\n\\nvoid printString(String s, inout TextCursor t)\\n{\\n    for(int i = 0; i < min(s.count, maxStringLength); i++)\\n    {\\n        printChar(s.chars[i], t);\\n    }\\n}\\n\\nvoid printInt(int val, inout TextCursor t) {\\n    if(val < 0) {\\n        printChar(cMinus, t);\\n        val = -val;\\n    }\\n    \\n    int[maxStringLength] digits;\\n    int count = 0;\\n    \\n    if(val < 100) printChar(cSp,t);\\n    if(val < 10) printChar(cSp,t);\\n    \\n    for(;;)  {\\n        digits[count++] = val % 10;\\n        \\n        if(count >= maxStringLength)\\n            break;\\n        \\n        val /= 10;\\n        \\n        if(val == 0)\\n            break;\\n    }\\n    \\n    for(int i = count-1; i >= 0; i--)\\n        printChar(Digits[digits[i]], t);\\n}\\n\\nvoid printFloat(float val, inout TextCursor t)\\n{\\n    if(val < 0.0)\\n    {\\n        printChar(cMinus, t);\\n        val = -val;\\n    }\\n    \\n    int[maxStringLength] digits;\\n    int count = 0;\\n    \\n    int iVal = int(val);\\n    val -= float(iVal);\\n    \\n    for(;;)\\n    {\\n        digits[count++] = iVal % 10;\\n        \\n        if(count >= maxStringLength)\\n            break;\\n        \\n        iVal /= 10;\\n        \\n        if(iVal == 0)\\n            break;\\n    }\\n    \\n    for(int i = count-1; i >= 0; i--)\\n    {  \\n        printChar(Digits[digits[i]], t);\\n    } \\n    \\n    printChar(cDot, t);\\n        \\n    const int maxDecimalCount = 4;\\n    for(int i = 0; i < maxDecimalCount; i++)\\n    {\\n        val *= 10.0;\\n        \\n        int digit = int(val);\\n        val -= float(digit);\\n        \\n        printChar(Digits[digit], t);\\n        \\n        if(val <= 0.0)\\n            break;\\n    }\\n}\\n\\nvoid drawText(TextCursor t, sampler2D fontTexture, inout vec4 fragColor) {\\n    if(texture(fontTexture, t.outUV).r > 0.2)\\n        fragColor = t.outColor;\\n}\\n'\n",
      " '#define R iResolution.xy\\n#define Main void mainImage(out vec4 Q, in vec2 U)\\n#define A(U) texture(iChannel0,(U)/R)\\n#define B(U) texture(iChannel1,(U)/R)\\n#define C(U) texture(iChannel2,(U)/R)\\n#define D(U) texture(iChannel3,(U)/R)'\n",
      " '//============================================================================\\n// PROJECT ID: 02\\n//\\n// GROUP NUMBER: 03\\n//\\n// STUDENT NAME: CHEN ZHIAN\\n// NUS User ID.: t0933479\\n//\\n// STUDENT NAME: LI YIXIN\\n// NUS User ID.: t0933820\\n//\\n// STUDENT NAME: OUYANG ANNAN\\n// NUS User ID.: t0933394\\n//\\n// COMMENTS TO GRADER: This is the common fragment shader which will be included\\n//                     in all the other fragment shaders by shadertoy.\\n//\\n//                     We use multiple passes and this is only a part of tasks2.\\n//                     There are 1 common file and 4 pass files in total.\\n//                     The complete project is in the following link:\\n//                     https://www.shadertoy.com/view/lflcWH\\n//\\n//============================================================================\\n\\n\\n// FRAGMENT SHADER FOR SHADERTOY\\n// Run this at https://www.shadertoy.com/new\\n// See documentation at https://www.shadertoy.com/howto\\n\\n// Your browser must support WebGL 2.0.\\n// Check your browser at https://webglreport.com/?v=2\\n\\n\\n//============================================================================\\n// Constants.\\n//============================================================================\\n\\n// Constants for the scene objects.\\n// BufferA layout:\\n//   lights\\n//   materials\\n//   planes\\n//   spheres\\n//   triangles (front, back, top, bottom, ring, foot)\\n//\\n// BufferB layout:\\n//   camera\\nconst int NUM_LIGHTS    = 3;\\nconst int NUM_MATERIALS = 13;\\nconst int NUM_PLANES    = 1;\\nconst int NUM_SPHERES   = 7;\\n\\nconst int NUM_VERTEX[] = int[](\\n    210, // front\\n    162, // back\\n    114, // top\\n    93,  // bottom\\n    96,  // ring\\n    159  // foot\\n);\\n\\nconst int LIGHTS_UNIT    = 3;\\nconst int MATERIALS_UNIT = 4;\\nconst int PLANES_UNIT    = 1;\\nconst int SPHERES_UNIT   = 1;\\n\\nconst vec3 AABB_MIN[] = vec3[](\\n    vec3(-0.46,  1.62, -0.04), // front\\n    vec3(-0.46,  1.47, -0.25), // back\\n    vec3(-0.24,  2.85, -0.06), // top\\n    vec3(-0.46,  0.89, -0.22), // bottom\\n    vec3(-0.71,  2.50, -0.27), // ring\\n    vec3(-0.59, -0.02, -0.77)  // foot\\n);\\n\\nconst vec3 AABB_MAX[] = vec3[](\\n    vec3(0.59, 3.13,  0.62), // front\\n    vec3(0.59, 3.39,  0.22), // back\\n    vec3(0.33, 3.45,  0.56), // top\\n    vec3(0.59, 2.17,  0.51), // bottom\\n    vec3(0.84, 3.81, -0.18), // ring\\n    vec3(0.71, 1.12,  0.45)  // foot\\n);\\n\\nconst int LIGHTS_OFFSET    = 0;\\nconst int MATERIALS_OFFSET = LIGHTS_OFFSET    + LIGHTS_UNIT    * NUM_LIGHTS;\\nconst int PLANES_OFFSET    = MATERIALS_OFFSET + MATERIALS_UNIT * NUM_MATERIALS;\\nconst int SPHERES_OFFSET   = PLANES_OFFSET    + PLANES_UNIT    * NUM_PLANES;\\nconst int TRIANGLES_OFFSET = SPHERES_OFFSET   + SPHERES_UNIT   * NUM_SPHERES;\\n'\n",
      " '\\n// Dave Hoskins\\n// https://www.shadertoy.com/view/4djSRW\\nvec3 hash33(vec3 p3)\\n{\\n\\tp3 = fract(p3 * vec3(.1031, .1030, .0973));\\n    p3 += dot(p3, p3.yxz+33.33);\\n    return fract((p3.xxy + p3.yxx)*p3.zyx);\\n}\\nvec3 hash31(float p)\\n{\\n   vec3 p3 = fract(vec3(p) * vec3(.1031, .1030, .0973));\\n   p3 += dot(p3, p3.yzx+33.33);\\n   return fract((p3.xxy+p3.yzz)*p3.zyx); \\n}\\n\\n// rotation matrix\\nmat2 rot(float a) { return mat2(cos(a),-sin(a),sin(a),cos(a)); }\\n\\nfloat gyroid (vec3 p) { return dot(cos(p),sin(p.yzx)); }\\n\\nfloat jump(float time, float curve)\\n{\\n    return pow(fract(time), curve) + floor(time);\\n}\\n\\n#define repeat(p,r) (mod(p,r)-r/2.)'\n",
      " '#define R iResolution.xy\\n#define Main void mainImage(out vec4 Q, in vec2 U) \\n#define ei(a) mat2(cos(a),sin(a),-sin(a),cos(a))'\n",
      " '// GENERAL FUNCTIONS _____________________________________________________\\n\\n// Simplified Smoothstep https://www.desmos.com/calculator/un0o21eokv\\nfloat smoothValue(float x) {\\n    x = clamp(x, 0.0, 1.0);\\n    return x * x * (3.0 - 2.0 * x);\\n}\\n\\nvec2 smoothValue(vec2 x) {\\n    x = clamp(x, 0.0, 1.0);\\n    return x * x * (3.0 - 2.0 * x);\\n}\\n\\n// slighly nicer texture filtering, useful when zooming in a lot\\nfloat bilinearFilter(sampler2D tex, vec2 uv) {\\n\\n    // find the texture resolution\\n    vec2 texSize = vec2(textureSize(tex, 0));\\n\\n    // generate texure coordinates\\n    vec2 coords = uv * texSize - 0.5;\\n    vec2 id = floor(coords); // cell id\\n    vec2 weights = coords - id; // technically also the grid\\n    \\n    weights = smoothValue(weights); // nicer transitions\\n\\n    // sample the 4 corners of the texture\\n    float a = texelFetch(tex, ivec2(mod(id, texSize)), 0).x;\\n    float b = texelFetch(tex, ivec2(mod(id +vec2(1,0), texSize)), 0).x;\\n    float c = texelFetch(tex, ivec2(mod(id +vec2(0,1), texSize)), 0).x;\\n    float d = texelFetch(tex, ivec2(mod(id +vec2(1,1), texSize)), 0).x;\\n\\n    // bilinear interpolation between the 4 corners\\n    return mix(mix(a, b, weights.x), mix(c, d, weights.x), weights.y);\\n}\\n\\n// Rotate UV in vector direction\\nvec2 rotateUV(vec2 uv, vec2 direction) {\\n    // Calculate the rotation matrix\\n    mat2 rotationMatrix = mat2( direction.y, direction.x,\\n                                -direction.x, direction.y );\\n\\n    // Rotate the UV coordinates\\n    return rotationMatrix * uv;\\n}\\n\\n// Offset weight with height bias by contrast\\n// See https://www.desmos.com/calculator/gxhnhzu1cs\\nfloat straightHeightWeight (float weight, vec2 heights, float contrast) {\\n\\n    // apply contrast with offset\\n    float heightWeight = weight + contrast * (weight * heights.y - (1.-weight) * heights.x);\\n\\n    // Ensure the final weight value is clamped to the range [0, 1]\\n    return clamp(heightWeight, 0.0, 1.0);\\n}\\n\\n// Converts an RGB color to an HSV color\\nvec3 RGBtoHSV(vec3 rgbColor) {\\n    // Constants for the conversion process\\n    vec4 K = vec4(0.0, -1.0 / 3.0, 2.0 / 3.0, -1.0);\\n    \\n    // Determine the minimum and maximum values between the colors\\n    vec4 p = mix(vec4(rgbColor.bg, K.wz), vec4(rgbColor.gb, K.xy), step(rgbColor.b, rgbColor.g));\\n    vec4 q = mix(vec4(p.xyw, rgbColor.r), vec4(rgbColor.r, p.yzx), step(p.x, rgbColor.r));\\n    float d = q.x - min(q.w, q.y);\\n    \\n    // Small constant to avoid division by zero\\n    float e = 1.0e-10;\\n    \\n    // Calculate the HSV values\\n    return vec3(abs(q.z + (q.w - q.y) / (6.0 * d + e)), d / (q.x + e), q.x);\\n}\\n\\n// NOISE FUNCTIONS _________________________________________________________\\n\\n// My customized hash which is faster than a texture lookup\\n// inspired by David Hoskins https://www.shadertoy.com/view/XdGfRR\\n#define FPRIME 2800852409U\\n#define VPRIME1 uvec2(3480082861U, 2420690917U)\\n#define VPRIME2 uvec2(1317666547U, 2149110343U)\\n#define SMALLESTFLOAT (1.0 / float(0xffffffffU))\\nvec2 hash22(vec2 p) {\\n\\tuvec2 q = uvec2(ivec2(p)) * VPRIME1;\\n\\tq = (q.x & q.y) * VPRIME2;\\n    return vec2(q) * SMALLESTFLOAT;\\n}\\n\\nfloat hash12(vec2 p) {\\n\\tuvec2 q = uvec2(ivec2(p)) * VPRIME1;\\n\\tuint n = (q.x & q.y) * FPRIME;\\n\\treturn float(n) * SMALLESTFLOAT;\\n}\\n\\nvec2 hash21(float p) {\\n\\tuvec2 n = uint(int(p)) * VPRIME1;\\n\\tn = (n.x ^ n.y) * VPRIME2;\\n\\treturn vec2(n) * SMALLESTFLOAT;\\n}\\n\\n// Sinus hill tiling mask, which is faster than a texture lookup\\nfloat sinHills(vec2 uv) {\\n    vec2 d = sin(uv * 6.283185); // Remove pi-sized grid\\n    return (d.x + d.y) * 0.25 + 0.5; // Add and rescale to 0-1\\n}\\n\\n// DEBUG FUNCTIONS __________________________________________________________\\n\\n// makes viridis colormap with polynimal 6 https://www.shadertoy.com/view/Nd3fR2\\nvec3 viridis(float t) {\\n    const vec3 c0 = vec3(0.274344,0.004462,0.331359);\\n    const vec3 c1 = vec3(0.108915,1.397291,1.388110);\\n    const vec3 c2 = vec3(-0.319631,0.243490,0.156419);\\n    const vec3 c3 = vec3(-4.629188,-5.882803,-19.646115);\\n    const vec3 c4 = vec3(6.181719,14.388598,57.442181);\\n    const vec3 c5 = vec3(4.876952,-13.955112,-66.125783);\\n    const vec3 c6 = vec3(-5.513165,4.709245,26.582180);\\n    return c0+t*(c1+t*(c2+t*(c3+t*(c4+t*(c5+t*c6)))));\\n}\\n\\n// makes rainbow colormap with polynimal 6\\nvec3 rainbow(float t) {\\n    const vec3 c0 = vec3(0.503560,-0.002932,1.000009);\\n    const vec3 c1 = vec3(-1.294985,3.144463,0.001872);\\n    const vec3 c2 = vec3(-16.971202,0.031355,-1.232219);\\n    const vec3 c3 = vec3(97.134102,-5.180126,-0.029721);\\n    const vec3 c4 = vec3(-172.585487,-0.338714,0.316782);\\n    const vec3 c5 = vec3(131.971426,3.514534,-0.061568);\\n    const vec3 c6 = vec3(-37.784412,-1.171512,0.003376);\\n    return c0+t*(c1+t*(c2+t*(c3+t*(c4+t*(c5+t*c6)))));\\n}\\n\\n// Function to calculate the highest mip level based on texture size\\nfloat getHighestMipLevel (vec2 texSize) {\\n    // Find the maximum dimension of the texture\\n    float maxDimension = max(texSize.x, texSize.y);\\n    \\n    // Calculate the highest mip level using the logarithm base 2\\n    float highestMipLevel = log2(maxDimension) + 1.;\\n\\n    // Return the highest mip level\\n    return highestMipLevel;\\n}\\n\\n// Function to calculate the mip level and the maximum mip level for a texture\\n// Based on Unreal Engines ComputeMipLevel Material Function \\nvec2 getMipLevel(sampler2D sam, vec2 uv, vec2 duvdx, vec2 duvdy) {\\n    // Adjust mip level based on your texture size\\n    vec2 texSize = vec2(textureSize(sam, 0));\\n\\n    // Scale the partial derivatives by the texture size\\n    vec2 scaledDDX = duvdx * texSize;\\n    vec2 scaledDDY = duvdy * texSize;\\n\\n    // Find the largest rate of change\\n    float maxDDLength = max(dot(scaledDDX, scaledDDX), dot(scaledDDY, scaledDDY));\\n\\n    // Calculate the mip level based on the rate of change\\n    float mipLevel = log2(sqrt(maxDDLength));\\n\\n    // Calculate the highest possible mip level for the texture\\n    float maxMipLevel = getHighestMipLevel(texSize);\\n\\n    // Clamp the mip level between 0 and the maximum mip level\\n    mipLevel = clamp(mipLevel, 0.0, maxMipLevel);\\n\\n    // Return both the mip level and the maximum mip level\\n    return vec2(mipLevel, maxMipLevel);\\n}\\n\\n// Function to calculate the mip level and the maximum mip level for a texture\\nvec2 getMipLevel(sampler2D sam, vec2 uv) {\\n    // Mip calculation for testing\\n    vec2 duvdx = dFdx(uv);\\n    vec2 duvdy = dFdy(uv);\\n    \\n    // Caculate Mip level\\n    return getMipLevel(sam, uv, duvdx, duvdy);\\n}\\n\\n// Visualizes Mip level based on UV coordinates and texture size\\nvec3 visualizeMips(sampler2D sam, vec2 uv) {\\n    // Caculate Mip level\\n    vec2 mipLevel = getMipLevel(sam, uv);\\n\\n    // colorize Mip level with colormap\\n    return rainbow(mipLevel.x / mipLevel.y);\\n}'\n",
      " '#define PI 3.14159265358979\\n#define TAU (2.0 * PI)\\n\\n// ------------------------------------------------------------------------------------------------\\nfloat m_stretch(float point, float stretch){\\n    return .5 * (sign(point) * stretch - point) * (sign(abs(point) - stretch) + 1.);\\n}\\n\\n#define m_stretch_neg(p, st) (.5 * m_stretch(2. * p + st, st))  /* Stretch-negative: positive values are fixed */\\n#define m_stretch_pos(p, st) (.5 * m_stretch(2. * p, st))  /* Stretch-positive: negative values are fixed */\\n\\n// A fast \"manual\" lossy rotate function by ollj.\\n// Control the angle of rotation by specifying the ROTATE_PARAM constants.\\n// https://en.wikipedia.org/wiki/Trigonometric_constants_expressed_in_real_radicals\\nfloat ollj_rotate(vec2 uv){\\n    const float ROTATE_PARAM0 = sqrt(1.);  // Try changing these!\\n    const float ROTATE_PARAM1 = sqrt(.0);\\n    return dot(uv, vec2(ROTATE_PARAM0 + ROTATE_PARAM1, ROTATE_PARAM0 - ROTATE_PARAM1));\\n}\\n\\n// NOTE: Very slightly modified - Mytino.\\n// Optimized arrow SDF, by ollj\\n// @head_len isn\\'t actual uv units, but the unit size depends on ROTATE_PARAMs\\nfloat sdf_arrow(vec2 uv, float norm, vec2 dir, float head_height, float stem_width){\\n    uv = vec2(dir.x * uv.x + dir.y * uv.y, -dir.y * uv.x + dir.x * uv.y);\\n\\n    norm -= head_height;  // Make sure the norm INCLUDES the arrow head\\n    uv.x -= norm;  // Place the arrow\\'s origin at the stem\\'s base!\\n\\n    uv.y = abs(uv.y);\\n    float head = max(ollj_rotate(uv) - head_height, -uv.x);\\n\\n    uv.x = m_stretch_neg(uv.x, norm);\\n    uv.y = m_stretch_pos(uv.y, stem_width);\\n    float stem = length(uv);\\n\\n    return min(head, stem);  // Join head and stem!\\n}\\n// ------------------------------------------------------------------------------------------------\\n\\nfloat LengthSq(vec2 v) { return dot(v, v); }\\nfloat Pow2(float v) { return v * v; }\\n\\nfloat intersectLight(vec2 rayStart, vec2 rayEnd, vec2 boxPosMin, vec2 boxPosMax) {\\n    vec2 dir = normalize(rayEnd - rayStart);\\n    vec2 t = (vec2(boxPosMin.x, boxPosMax.x) - rayStart.x) / dir.x; float tMin = min(t.x, t.y), tMax = max(t.x, t.y);\\n    t = (vec2(boxPosMin.y, boxPosMax.y) - rayStart.y) / dir.y; tMin = max(tMin, min(t.x, t.y)); tMax = min(tMax, max(t.x, t.y));\\n    if (tMax < tMin || (tMin < 0.0 && tMax < 0.0) || tMin > length(rayEnd - rayStart)) return 0.0;\\n\\treturn 1.0;\\n}\\n'\n",
      " 'const float PI = 3.1415926535;\\nconst float TAU = 2.*PI;\\nconst float BPM = 120.00;\\n\\n// Envelope parameters\\nconst float attack = .5;\\nconst float decay = 1.;\\nconst float sustain = .0;\\nconst float release = .1;\\n\\n// ADSR Envelope function\\nfloat adsr(float time, float attack, float decay, float sustain, float release) {\\n    \\n    float level;\\n    \\n    if (time < attack) {\\n        // Attack phase: Linear rise from 0 to 1\\n        level = time / attack;\\n        \\n    } else if (time < attack + decay) {\\n        // Decay phase: Linear fall from 1 to sustain level\\n        level = 1.0 + (sustain - 1.0) * (time - attack) / decay;\\n        \\n    } else if (time < attack + decay + sustain) {\\n        // Sustain phase: Maintain sustain level\\n        level = sustain;\\n        \\n    } else if (time < attack + decay + sustain + release) {\\n        // Release phase: Linear fall from sustain level to 0\\n        level = sustain * (1.0 - (time - attack - decay - sustain) / release);\\n        \\n    } else {\\n        // After release: Return to 0\\n        level = 0.0;\\n    }\\n    \\n    return level;\\n}'\n",
      " '\\nmat2 rot (float a) { float c=cos(a),s=sin(a);return mat2(c,-s,s,c); }\\n\\nmat3 look(vec3 z)\\n{\\n    vec3 x = normalize(cross(z, vec3(0,1,0)));\\n    vec3 y = normalize(cross(x, z));\\n    return mat3(x,y,z);\\n}\\n\\nfloat gyroid (vec3 p) { return dot(cos(p),sin(p.yzx)); }\\n\\n// Dave Hoskins https://www.shadertoy.com/view/4djSRW\\nvec4 hash41(float p)\\n{\\n\\tvec4 p4 = fract(vec4(p) * vec4(.1031, .1030, .0973, .1099));\\n    p4 += dot(p4, p4.wzxy+33.33);\\n    return fract((p4.xxyz+p4.yzzw)*p4.zywx);\\n}\\nvec3 hash33(vec3 p3)\\n{\\n\\tp3 = fract(p3 * vec3(.1031, .1030, .0973));\\n    p3 += dot(p3, p3.yxz+33.33);\\n    return fract((p3.xxy + p3.yxx)*p3.zyx);\\n}\\n\\n// Inigo Quilez https://iquilezles.org/articles/distfunctions/\\nfloat sdBox( vec3 p, vec3 b )\\n{\\n    vec3 q = abs(p) - b;\\n    return length(max(q,0.0)) + min(max(q.x,max(q.y,q.z)),0.0);\\n}\\n'\n",
      " '// Buffer:[A] the color[xyz] wall[w]\\n// Buffer:[B] the MinDistancePixel[xy] DistanceSquare[z] Distance[w]\\n// Buffer:[C] the Light[xyz]  \\n#define float2 vec2\\n#define float3 vec3\\n#define float4 vec4\\n\\n\\n\\n\\nconst float DrawingSize=12.;\\nconst float angleStep = 1.0 / 16.0;\\n#define ShowAllFrame 0\\n#define Sky (0)\\n\\nconst int Debugsteptime=1;//30;\\n\\n// use pow 2 or pow 3\\n//#define UsePow2\\nconst int lod = 7;//2^10=1024\\n\\n#define LightSmooth (16.0)\\n#define key(k) (texelFetch(iChannel3,ivec2(k,0),0).x>0.5)\\n float hash1(vec2 p)\\n{\\n    vec3 p3 = fract(vec3(p.xyx) * .1031);\\n    p3 += dot(p3, p3.yzx + 33.33);\\n    return fract((p3.x + p3.y) * p3.z);\\n}\\n float hash1(float p)\\n{\\n    return hash1(vec2(p, 0));\\n}\\n float hash1(vec4 p4)\\n{\\n    p4 = fract(p4 * vec4(.1031, .1030, .0973, .1099));\\n    p4 += dot(p4, p4.wzxy + 33.33);\\n    return fract((p4.x + p4.y) * (p4.z + p4.w));\\n}\\n#define R iResolution\\n\\nfloat sdfBox(vec2 p, vec2 b)\\n{\\n    vec2 d = abs(p) - b;\\n    return length(max(d, 0.0)) + min(max(d.x, d.y), 0.0);\\n}\\nfloat sdfLine(vec2 p, vec2 a, vec2 b)\\n{\\n    vec2 pa = p - a;\\n    vec2 ba = b - a;\\n    float h = clamp(dot(pa, ba) / dot(ba, ba), 0.0, 1.0);\\n    return length(pa - ba * h);\\n}\\nfloat sdCircleArcTriangle(vec2 p, vec2 v1, vec2 v2, float r)\\n{\\n    float len = length(p);\\n    float2 cp=(v1+v2)*0.5;\\n    float le=length(cp);\\n    return max(len-r, -dot(p,(cp)/le)+le );        \\n}\\nfloat sdCircleArcTriangle(vec2 p, vec2 a/*angle*/, float r)\\n{\\n    float2 v1 = float2(cos(a.x),sin(a.x))*r; \\n    float2 v2 = float2(cos(a.y),sin(a.y))*r; \\n    return sdCircleArcTriangle(p,v1,v2,r);        \\n}\\nfloat2 ComplexMul(const float2 z1, const float2 z2)\\n{\\n    return float2(\\n        z1.x * z2.x - z1.y * z2.y,\\n        z1.x * z2.y + z1.y * z2.x\\n    );\\n}\\n\\nfloat sdfSphere(float2 p, float r)\\n{          \\n    return length(p) - r;\\n}\\n#define PI2 2.0*3.141592653589793\\n#define add(d,s) d=min(d,s)\\n#define sub(d,s) d=max(d,-s)\\n//雷标 by https://www.bilibili.com/video/BV1kqhieGE3H\\nfloat sdfElectro(float2 p, float r) {\\n    float d = uintBitsToFloat(0x7f7fffffu);\\n    float d1 = uintBitsToFloat(0x7f7fffffu);\\n    d = sdfSphere(p, r * 0.46 / 2.0);\\n    for (float i = 0.0; i < PI2; i += PI2 / 3.0) {\\n        float2 v = float2(cos(i), sin(i)) * r;\\n        sub(d, sdfSphere(p - ComplexMul(v, float2(0.23, 0.398371685740842)), r * 0.388371685740842));\\n    }\\n    for (float i = 0.0; i < PI2; i += PI2 / 3.0) {\\n        float2 v = float2(cos(i), sin(i)) * r;\\n        add(d1, sdfSphere(p, r));\\n        sub(d1, sdfSphere(p - ComplexMul(v, float2(-0.46, 0.0)), r * 1.171049240405192));\\n        sub(d1, sdfSphere(p - ComplexMul(v, float2(0.193301270189222, -0.234807621135332)), r * 0.840177040641766));\\n        float d2 = uintBitsToFloat(0x7f7fffffu);\\n        add(d2, sdfSphere(p - ComplexMul(v, float2(0.236602540378444, 0.209807621135332)), r * 0.579721443061983));\\n        sub(d2, sdfSphere(p - ComplexMul(v, float2(0.186698729810778, 0.423371685740842)), r * 0.415580291234265));\\n        sub(d2, sdfSphere(p - ComplexMul(v, float2(0.193301270189222, -0.234807621135332)), r * 0.227658190923347));\\n        sub(d2, sdfSphere(p - ComplexMul(v, float2(-1.0, 0.0)), r * 1.23));\\n        add(d1, d2);\\n        d = min(d, d1);\\n    }\\n    return d;\\n}\\n'\n",
      " '\\n#define rad 10.\\n#define tolerance 0.1\\n\\nfloat luma(vec3 col) {\\n    return dot(col, vec3(0.2126729, 0.7151522, 0.0721750));\\n}\\n\\n\\n\\nvoid do_samp(vec2 u, sampler2D chan, inout float W, inout vec3 acc, float cent_lum){\\n    float w = 1.0;\\n    vec3 samp = texture(chan,u).rgb;\\n    float samp_lum = luma(samp);\\n    w *= 1.-smoothstep(0.,tolerance,abs(samp_lum - cent_lum));\\n    acc += samp * w;\\n    W += w;\\n}\\n\\nvec3 do_bilateral_pass(vec2 u, sampler2D chan, bool separable, vec2 res, int iter){\\n    vec3 C = vec3(0);\\n    C = texture(chan,u).rgb;\\n    float cent_lum = luma(C.rgb);\\n    \\n    vec2 st = 1./res.xy;\\n    vec3 acc = vec3(0);\\n    float W = 0.;\\n    if(separable){\\n        vec2 dir = vec2(0);\\n        dir[iter] = 1.;\\n        for(float x = -rad; x <= rad; x++){\\n            do_samp(u + x*dir*st, chan, W, acc, cent_lum);\\n\\n        }\\n    } else {\\n        for(float y = -rad; y <= rad; y++){\\n            for(float x = -rad; x <= rad; x++){\\n                do_samp(u + vec2(x,y)*st, chan, W, acc, cent_lum);\\n            \\n            }\\n        }\\n    }\\n    if(W > 0.0001){\\n        C.rgb = acc/W;\\n    }\\n    return C;\\n}'\n",
      " 'const float DrawingSize=12.;\\n\\n#define ShowAllFrame 0\\n\\nconst int Debugsteptime=1;//30;\\n\\n// use pow 2 or pow 3\\n// {{if want pow 3 just del it}}\\n#define UsePow2\\nconst int lod = 11;//2^10=1024\\n'\n",
      " '#define GRIDX 100  // terrain size\\n#define GRIDY  60\\n#define START      ivec2(1,GRIDY-2) // path start/end coordinates\\n#define END        ivec2(GRIDX-2 ,2)\\n#define UNASSIGNED -2.\\n#define WALL       -1.\\n\\n#define STATE_RESET          1.\\n#define STATE_ASSIGN_WEIGHTS 2.\\n#define STATE_MARK_PATH      3.\\n\\n#define qGravity  q[0].x\\n#define qTime     q[0].y\\n\\n#define qLength1  q[1].x \\n#define qMass1    q[1].y   \\n#define qAccel1   q[1].z\\n#define qSpeed1   q[2].x\\n#define qAngle1   q[2].y\\n#define qPos1     q[2].zw\\n\\n#define qLength2  q[3].x \\n#define qMass2    q[3].y   \\n#define qAccel2   q[3].z\\n#define qSpeed2   q[4].x\\n#define qAngle2   q[4].y\\n#define qPos2     q[4].zw\\n\\n#define qLength3  q[5].x \\n#define qMass3    q[5].y   \\n#define qAccel3   q[5].z\\n#define qSpeed3   q[6].x\\n#define qAngle3   q[6].y\\n#define qPos3     q[6].zw\\n\\n#define nAccel1   q[7].x\\n#define nSpeed1   q[7].y\\n#define nAngle1   q[7].z\\n#define nAccel2   q[8].x\\n#define nSpeed2   q[8].y\\n#define nAngle2   q[8].z\\n#define nAccel3   q[9].x\\n#define nSpeed3   q[9].y\\n#define nAngle3   q[9].z\\n\\n#define ADDR_COUNT  10\\nvec4[ADDR_COUNT] q;\\n\\nconst ivec2 Q0 = ivec2( 0,GRIDY+1);\\nconst ivec2 Q1 = ivec2( 1,GRIDY+1);\\nconst ivec2 Q2 = ivec2( 2,GRIDY+1);\\nconst ivec2 Q3 = ivec2( 3,GRIDY+1);\\nconst ivec2 Q4 = ivec2( 4,GRIDY+1);\\nconst ivec2 Q5 = ivec2( 5,GRIDY+1);\\nconst ivec2 Q6 = ivec2( 6,GRIDY+1);\\nconst ivec2 Q7 = ivec2( 7,GRIDY+1);\\nconst ivec2 Q8 = ivec2( 8,GRIDY+1);\\nconst ivec2 Q9 = ivec2( 9,GRIDY+1);\\nconst ivec2[ADDR_COUNT] addrList = ivec2[](Q0,Q1,Q2,Q3,Q4,Q5,Q6,Q7,Q8,Q9);\\n\\n#define fetchData(buf, addr) texelFetch(buf, addr, 0)\\n#define storeDataAddr(buf_pos, addr) ivec2(buf_pos) == addr\\n\\nvoid getSettings(sampler2D channel) { \\n    for(int i=0;i<ADDR_COUNT;++i) \\n        q[i] = texelFetch(channel, addrList[i],0);\\n}\\n\\n// ----------------------------------------------------------\\n\\nbool keyClick(int ascii,sampler2D channel) {\\n\\treturn (texture(channel,vec2((.5+float(ascii))/256.,0.25)).x > 0.);\\n}\\n\\nbool getKeyState(int keyCode,sampler2D channel) {\\n    return bool(texelFetch(channel, ivec2(keyCode,0), 0).x != 0.);\\n}\\n\\nbool getKeyClick(int keyCode,sampler2D channel) {\\n    return bool(texelFetch(channel, ivec2(keyCode,1), 0).x != 0.);\\n}\\n'\n",
      " '\\nmat2 rot (float a) { float c=cos(a),s=sin(a);return mat2(c,-s,s,c); }\\n\\n// Dave Hoskins https://www.shadertoy.com/view/4djSRW\\nvec4 hash41(float p)\\n{\\n\\tvec4 p4 = fract(vec4(p) * vec4(.1031, .1030, .0973, .1099));\\n    p4 += dot(p4, p4.wzxy+33.33);\\n    return fract((p4.xxyz+p4.yzzw)*p4.zywx);\\n}'\n",
      " '#define GRIDX 100  // terrain size\\n#define GRIDY  60\\n#define START      ivec2(1,GRIDY-2) // path start/end coordinates\\n#define END        ivec2(GRIDX-2 ,2)\\n#define UNASSIGNED -2.\\n#define WALL       -1.\\n\\n#define STATE_RESET          1.\\n#define STATE_ASSIGN_WEIGHTS 2.\\n#define STATE_MARK_PATH      3.\\n\\n#define qState      settings[0].x\\n#define qFrame      settings[0].y\\n#define qMouseIndex settings[0].z\\n#define qPosition settings[1].xy\\n#define qwall1    settings[2].xy\\n#define qwall2    settings[3].xy\\n#define qwall3    settings[4].xy\\n#define qwall4    settings[5].xy\\n#define qwall5    settings[6].xy\\n#define qwall6    settings[7].xy\\nconst int ADDR_COUNT =     8;\\n\\nvec3[ADDR_COUNT] settings;\\n\\nconst ivec2 Q0 =  ivec2( 0,GRIDY+1);\\nconst ivec2 Q1 =  ivec2( 1,GRIDY+1);\\nconst ivec2 Q2 =  ivec2( 2,GRIDY+1);\\nconst ivec2 Q3 =  ivec2( 3,GRIDY+1);\\nconst ivec2 Q4 =  ivec2( 4,GRIDY+1);\\nconst ivec2 Q5 =  ivec2( 5,GRIDY+1);\\nconst ivec2 Q6 =  ivec2( 6,GRIDY+1);\\nconst ivec2 Q7 =  ivec2( 7,GRIDY+1);\\nconst ivec2[ADDR_COUNT] addrList = ivec2[](Q0,Q1,Q2,Q3,Q4,Q5,Q6,Q7);\\n\\n#define fetchData(buf, addr) texelFetch(buf, addr, 0)\\n#define storeDataAddr(buf_pos, addr) ivec2(buf_pos) == addr\\n\\nvoid getSettings(sampler2D channel) { \\n    for(int i=0;i<ADDR_COUNT;++i) \\n        settings[i] = texelFetch(channel, addrList[i],0).xyz;\\n}\\n\\n// ----------------------------------------------------------\\n\\nbool keyClick(int ascii,sampler2D channel) {\\n\\treturn (texture(channel,vec2((.5+float(ascii))/256.,0.25)).x > 0.);\\n}\\n\\nbool getKeyState(int keyCode,sampler2D channel) {\\n    return bool(texelFetch(channel, ivec2(keyCode,0), 0).x != 0.);\\n}\\n\\nbool getKeyClick(int keyCode,sampler2D channel) {\\n    return bool(texelFetch(channel, ivec2(keyCode,1), 0).x != 0.);\\n}\\n'\n",
      " '\\nmat2 rot (float a) { float c=cos(a),s=sin(a);return mat2(c,-s,s,c); }\\n\\nfloat gyroid (vec3 seed) { return dot(sin(seed),cos(seed.yzx)); }\\nfloat noise (vec3 p)\\n{\\n    float result = 0., a = .5;\\n    for (int i = 0; i < 3; ++i, a/=2.)\\n    {\\n        result += gyroid(p/a)*a;\\n    }\\n    return result;\\n}\\n\\n// Dave Hoskins https://www.shadertoy.com/view/4djSRW\\nvec4 hash41(float p)\\n{\\n\\tvec4 p4 = fract(vec4(p) * vec4(.1031, .1030, .0973, .1099));\\n    p4 += dot(p4, p4.wzxy+33.33);\\n    return fract((p4.xxyz+p4.yzzw)*p4.zywx);\\n}']\n"
     ]
    },
    {
     "data": {
      "application/vnd.jupyter.widget-view+json": {
       "model_id": "bae84585f6684cd1b282647dc16fe98e",
       "version_major": 2,
       "version_minor": 0
      },
      "text/plain": [
       "Filter:   0%|          | 0/100 [00:00<?, ? examples/s]"
      ]
     },
     "metadata": {},
     "output_type": "display_data"
    },
    {
     "data": {
      "text/plain": [
       "Dataset({\n",
       "    features: ['id', 'name', 'author', 'description', 'tags', 'likes', 'viewed', 'published', 'date', 'time_retrieved', 'image_code', 'image_inputs', 'common_code', 'sound_code', 'sound_inputs', 'buffer_a_code', 'buffer_a_inputs', 'buffer_b_code', 'buffer_b_inputs', 'buffer_c_code', 'buffer_c_inputs', 'buffer_d_code', 'buffer_d_inputs', 'cube_a_code', 'cube_a_inputs', 'thumbnail', 'access', 'license', 'functions', 'test'],\n",
       "    num_rows: 21\n",
       "})"
      ]
     },
     "execution_count": 18,
     "metadata": {},
     "output_type": "execute_result"
    }
   ],
   "source": [
    "# seems to never contain any common pass? or my preprocessing is wrong.\n",
    "print(df[\"common_code\"].unique()) \n",
    "\n",
    "# see how many shaders contain buffer passes (seemingly none?)\n",
    "ds[\"train\"].filter(lambda x: x[\"buffer_a_code\"] + x[\"buffer_b_code\"] + x[\"buffer_c_code\"] + x[\"buffer_d_code\"] != \"\")"
   ]
  },
  {
   "cell_type": "code",
   "execution_count": 19,
   "metadata": {},
   "outputs": [
    {
     "data": {
      "text/plain": [
       "<Axes: title={'center': 'license'}, xlabel='date'>"
      ]
     },
     "execution_count": 19,
     "metadata": {},
     "output_type": "execute_result"
    },
    {
     "data": {
      "image/png": "[encoded data removed]",
      "text/plain": [
       "<Figure size 1500x700 with 1 Axes>"
      ]
     },
     "metadata": {},
     "output_type": "display_data"
    }
   ],
   "source": [
    "def plot_per_month(column, stretched=False, **kwargs):\n",
    "    feature_df = df[\"date\"].groupby([df[\"date\"].dt.to_period(\"M\"), df[column]]).count().unstack()\n",
    "    if stretched:\n",
    "        feature_df = feature_df.div(feature_df.sum(axis=1), axis=0)\n",
    "    return feature_df.plot(kind=\"bar\", stacked=True, figsize=(15,7), title=column, width=.9, **kwargs)\n",
    "    \n",
    "plot_per_month(\"license\", True, legend=False)"
   ]
  },
  {
   "cell_type": "code",
   "execution_count": 20,
   "metadata": {},
   "outputs": [
    {
     "data": {
      "text/plain": [
       "<Axes: title={'center': 'published'}, xlabel='date'>"
      ]
     },
     "execution_count": 20,
     "metadata": {},
     "output_type": "execute_result"
    },
    {
     "data": {
      "image/png": "[encoded data removed]",
      "text/plain": [
       "<Figure size 1500x700 with 1 Axes>"
      ]
     },
     "metadata": {},
     "output_type": "display_data"
    }
   ],
   "source": [
    "plot_per_month(\"published\", False)"
   ]
  },
  {
   "cell_type": "code",
   "execution_count": 21,
   "metadata": {},
   "outputs": [
    {
     "data": {
      "text/plain": [
       "<Axes: title={'center': 'test'}, xlabel='date'>"
      ]
     },
     "execution_count": 21,
     "metadata": {},
     "output_type": "execute_result"
    },
    {
     "data": {
      "image/png": "[encoded data removed]",
      "text/plain": [
       "<Figure size 1500x700 with 1 Axes>"
      ]
     },
     "metadata": {},
     "output_type": "display_data"
    }
   ],
   "source": [
    "# currently in development, another filtering step.\n",
    "plot_per_month(\"test\", stretched=True, legend=True)"
   ]
  },
  {
   "cell_type": "code",
   "execution_count": 22,
   "metadata": {},
   "outputs": [
    {
     "data": {
      "text/plain": [
       "count    100.000000\n",
       "mean       4.050000\n",
       "std        4.641436\n",
       "min        0.000000\n",
       "25%        1.000000\n",
       "50%        2.000000\n",
       "75%        5.000000\n",
       "max       22.000000\n",
       "Name: num_functions, dtype: float64"
      ]
     },
     "execution_count": 22,
     "metadata": {},
     "output_type": "execute_result"
    }
   ],
   "source": [
    "df[\"num_functions\"] = df[\"functions\"].apply(len)\n",
    "df[\"num_functions\"].describe()"
   ]
  },
  {
   "cell_type": "code",
   "execution_count": 23,
   "metadata": {},
   "outputs": [
    {
     "data": {
      "text/plain": [
       "<Axes: title={'center': 'num_inputs'}, xlabel='date'>"
      ]
     },
     "execution_count": 23,
     "metadata": {},
     "output_type": "execute_result"
    },
    {
     "data": {
      "image/png": "[encoded data removed]",
      "text/plain": [
       "<Figure size 1500x700 with 1 Axes>"
      ]
     },
     "metadata": {},
     "output_type": "display_data"
    }
   ],
   "source": [
    "df[\"num_inputs\"] = df[\"image_inputs\"].apply(len)\n",
    "plot_per_month(\"num_inputs\", stretched=False, legend=True)"
   ]
  },
  {
   "cell_type": "code",
   "execution_count": 14,
   "metadata": {},
   "outputs": [
    {
     "name": "stdout",
     "output_type": "stream",
     "text": [
      "True\n"
     ]
    },
    {
     "data": {
      "text/html": [
       "<div>\n",
       "<style scoped>\n",
       "    .dataframe tbody tr th:only-of-type {\n",
       "        vertical-align: middle;\n",
       "    }\n",
       "\n",
       "    .dataframe tbody tr th {\n",
       "        vertical-align: top;\n",
       "    }\n",
       "\n",
       "    .dataframe thead th {\n",
       "        text-align: right;\n",
       "    }\n",
       "</style>\n",
       "<table border=\"1\" class=\"dataframe\">\n",
       "  <thead>\n",
       "    <tr style=\"text-align: right;\">\n",
       "      <th></th>\n",
       "      <th>id</th>\n",
       "      <th>name</th>\n",
       "      <th>author</th>\n",
       "      <th>description</th>\n",
       "      <th>tags</th>\n",
       "      <th>likes</th>\n",
       "      <th>viewed</th>\n",
       "      <th>published</th>\n",
       "      <th>date</th>\n",
       "      <th>time_retrieved</th>\n",
       "      <th>...</th>\n",
       "      <th>buffer_d_inputs</th>\n",
       "      <th>cube_a_code</th>\n",
       "      <th>cube_a_inputs</th>\n",
       "      <th>thumbnail</th>\n",
       "      <th>access</th>\n",
       "      <th>license</th>\n",
       "      <th>functions</th>\n",
       "      <th>test</th>\n",
       "      <th>num_functions</th>\n",
       "      <th>num_inputs</th>\n",
       "    </tr>\n",
       "  </thead>\n",
       "  <tbody>\n",
       "    <tr>\n",
       "      <th>25</th>\n",
       "      <td>4s23Wc</td>\n",
       "      <td>pfhrector</td>\n",
       "      <td>pfhunk</td>\n",
       "      <td>80s vector graphics inspired kaliset</td>\n",
       "      <td>[2d, fractal, kaliset]</td>\n",
       "      <td>7</td>\n",
       "      <td>791</td>\n",
       "      <td>Public</td>\n",
       "      <td>2014-03-11 02:44:55</td>\n",
       "      <td>2021-10-01</td>\n",
       "      <td>...</td>\n",
       "      <td>[]</td>\n",
       "      <td></td>\n",
       "      <td>[]</td>\n",
       "      <td>https://www.shadertoy.com/media/shaders/4s23Wc...</td>\n",
       "      <td>shaders20k</td>\n",
       "      <td>CC-BY-NC-SA-3.0</td>\n",
       "      <td>[]</td>\n",
       "      <td>valid</td>\n",
       "      <td>0</td>\n",
       "      <td>0</td>\n",
       "    </tr>\n",
       "    <tr>\n",
       "      <th>62</th>\n",
       "      <td>Md23DV</td>\n",
       "      <td>GLSL 2D Tutorials</td>\n",
       "      <td>vug</td>\n",
       "      <td>28 tutorials on writing pixel shaders at Shade...</td>\n",
       "      <td>[tutorial]</td>\n",
       "      <td>581</td>\n",
       "      <td>48910</td>\n",
       "      <td>Public</td>\n",
       "      <td>2014-03-08 20:58:49</td>\n",
       "      <td>2021-10-01</td>\n",
       "      <td>...</td>\n",
       "      <td>[]</td>\n",
       "      <td></td>\n",
       "      <td>[]</td>\n",
       "      <td>https://www.shadertoy.com/media/shaders/Md23DV...</td>\n",
       "      <td>shaders20k</td>\n",
       "      <td>CC-BY-NC-SA-3.0</td>\n",
       "      <td>[]</td>\n",
       "      <td>error</td>\n",
       "      <td>0</td>\n",
       "      <td>3</td>\n",
       "    </tr>\n",
       "    <tr>\n",
       "      <th>424</th>\n",
       "      <td>XsSSRz</td>\n",
       "      <td>Tiny Ray Marcher 3.0</td>\n",
       "      <td>Aaro</td>\n",
       "      <td>Oh its on. I'm sure comment section will be fu...</td>\n",
       "      <td>[reflection, ray, shadow, marching, tiny]</td>\n",
       "      <td>4</td>\n",
       "      <td>267</td>\n",
       "      <td>Public</td>\n",
       "      <td>2014-08-15 14:12:07</td>\n",
       "      <td>2021-10-01</td>\n",
       "      <td>...</td>\n",
       "      <td>[]</td>\n",
       "      <td></td>\n",
       "      <td>[]</td>\n",
       "      <td>https://www.shadertoy.com/media/shaders/XsSSRz...</td>\n",
       "      <td>shaders20k</td>\n",
       "      <td>CC-BY-NC-SA-3.0</td>\n",
       "      <td>[]</td>\n",
       "      <td>valid</td>\n",
       "      <td>0</td>\n",
       "      <td>0</td>\n",
       "    </tr>\n",
       "    <tr>\n",
       "      <th>565</th>\n",
       "      <td>Ms2XWw</td>\n",
       "      <td>Twist Scroller</td>\n",
       "      <td>ac3t1ne</td>\n",
       "      <td>Greetz!</td>\n",
       "      <td>[2d, retro, amiga, ac3t1ne, scroller]</td>\n",
       "      <td>14</td>\n",
       "      <td>966</td>\n",
       "      <td>Public</td>\n",
       "      <td>2014-10-10 18:41:28</td>\n",
       "      <td>2021-10-01</td>\n",
       "      <td>...</td>\n",
       "      <td>[]</td>\n",
       "      <td></td>\n",
       "      <td>[]</td>\n",
       "      <td>https://www.shadertoy.com/media/shaders/Ms2XWw...</td>\n",
       "      <td>shaders20k</td>\n",
       "      <td>CC-BY-NC-SA-3.0</td>\n",
       "      <td>[]</td>\n",
       "      <td>valid</td>\n",
       "      <td>0</td>\n",
       "      <td>0</td>\n",
       "    </tr>\n",
       "    <tr>\n",
       "      <th>613</th>\n",
       "      <td>ld2SW3</td>\n",
       "      <td>A Pattern Emerges</td>\n",
       "      <td>okro</td>\n",
       "      <td>Takes a few seconds.</td>\n",
       "      <td>[dots]</td>\n",
       "      <td>1</td>\n",
       "      <td>141</td>\n",
       "      <td>Public</td>\n",
       "      <td>2014-11-23 05:04:25</td>\n",
       "      <td>2021-10-01</td>\n",
       "      <td>...</td>\n",
       "      <td>[]</td>\n",
       "      <td></td>\n",
       "      <td>[]</td>\n",
       "      <td>https://www.shadertoy.com/media/shaders/ld2SW3...</td>\n",
       "      <td>shaders20k</td>\n",
       "      <td>CC-BY-NC-SA-3.0</td>\n",
       "      <td>[]</td>\n",
       "      <td>valid</td>\n",
       "      <td>0</td>\n",
       "      <td>0</td>\n",
       "    </tr>\n",
       "    <tr>\n",
       "      <th>...</th>\n",
       "      <td>...</td>\n",
       "      <td>...</td>\n",
       "      <td>...</td>\n",
       "      <td>...</td>\n",
       "      <td>...</td>\n",
       "      <td>...</td>\n",
       "      <td>...</td>\n",
       "      <td>...</td>\n",
       "      <td>...</td>\n",
       "      <td>...</td>\n",
       "      <td>...</td>\n",
       "      <td>...</td>\n",
       "      <td>...</td>\n",
       "      <td>...</td>\n",
       "      <td>...</td>\n",
       "      <td>...</td>\n",
       "      <td>...</td>\n",
       "      <td>...</td>\n",
       "      <td>...</td>\n",
       "      <td>...</td>\n",
       "      <td>...</td>\n",
       "    </tr>\n",
       "    <tr>\n",
       "      <th>19362</th>\n",
       "      <td>Nty3Ry</td>\n",
       "      <td>Plotting by dmc3105</td>\n",
       "      <td>dmc3105</td>\n",
       "      <td>my first shader</td>\n",
       "      <td>[math]</td>\n",
       "      <td>1</td>\n",
       "      <td>94</td>\n",
       "      <td>Public API</td>\n",
       "      <td>2021-11-26 15:06:50</td>\n",
       "      <td>2021-10-01</td>\n",
       "      <td>...</td>\n",
       "      <td>[]</td>\n",
       "      <td></td>\n",
       "      <td>[]</td>\n",
       "      <td>https://www.shadertoy.com/media/shaders/Nty3Ry...</td>\n",
       "      <td>shaders20k</td>\n",
       "      <td>CC-BY-NC-SA-3.0</td>\n",
       "      <td>[]</td>\n",
       "      <td>valid</td>\n",
       "      <td>0</td>\n",
       "      <td>0</td>\n",
       "    </tr>\n",
       "    <tr>\n",
       "      <th>19422</th>\n",
       "      <td>std3zl</td>\n",
       "      <td>Lava Blob</td>\n",
       "      <td>Moustave</td>\n",
       "      <td>o</td>\n",
       "      <td>[yayyy]</td>\n",
       "      <td>2</td>\n",
       "      <td>25</td>\n",
       "      <td>Public</td>\n",
       "      <td>2021-11-10 18:04:19</td>\n",
       "      <td>2021-10-01</td>\n",
       "      <td>...</td>\n",
       "      <td>[]</td>\n",
       "      <td></td>\n",
       "      <td>[]</td>\n",
       "      <td>https://www.shadertoy.com/media/shaders/std3zl...</td>\n",
       "      <td>shaders20k</td>\n",
       "      <td>CC-BY-NC-SA-3.0</td>\n",
       "      <td>[]</td>\n",
       "      <td>error</td>\n",
       "      <td>0</td>\n",
       "      <td>0</td>\n",
       "    </tr>\n",
       "    <tr>\n",
       "      <th>19479</th>\n",
       "      <td>7t3SDM</td>\n",
       "      <td>Tetragrammaton</td>\n",
       "      <td>4eckme</td>\n",
       "      <td>https://ru.wikipedia.org/wiki/%D0%A2%D0%B5%D1%...</td>\n",
       "      <td>[tetragrammaton]</td>\n",
       "      <td>26</td>\n",
       "      <td>1891</td>\n",
       "      <td>Public</td>\n",
       "      <td>2021-12-11 07:59:44</td>\n",
       "      <td>2021-10-01</td>\n",
       "      <td>...</td>\n",
       "      <td>[]</td>\n",
       "      <td></td>\n",
       "      <td>[]</td>\n",
       "      <td>https://www.shadertoy.com/media/shaders/7t3SDM...</td>\n",
       "      <td>shaders20k</td>\n",
       "      <td>CC-BY-NC-SA-3.0</td>\n",
       "      <td>[]</td>\n",
       "      <td>valid</td>\n",
       "      <td>0</td>\n",
       "      <td>0</td>\n",
       "    </tr>\n",
       "    <tr>\n",
       "      <th>19606</th>\n",
       "      <td>stKGDc</td>\n",
       "      <td>tiny voxels</td>\n",
       "      <td>flockaroo</td>\n",
       "      <td>...originally done in twigl.app (266 chars the...</td>\n",
       "      <td>[voxel, golfing, tinycode]</td>\n",
       "      <td>21</td>\n",
       "      <td>305</td>\n",
       "      <td>Public API</td>\n",
       "      <td>2021-12-02 21:22:22</td>\n",
       "      <td>2021-10-01</td>\n",
       "      <td>...</td>\n",
       "      <td>[]</td>\n",
       "      <td></td>\n",
       "      <td>[]</td>\n",
       "      <td>https://www.shadertoy.com/media/shaders/stKGDc...</td>\n",
       "      <td>shaders20k</td>\n",
       "      <td>cc-by-nc-sa-3.0</td>\n",
       "      <td>[]</td>\n",
       "      <td>valid</td>\n",
       "      <td>0</td>\n",
       "      <td>0</td>\n",
       "    </tr>\n",
       "    <tr>\n",
       "      <th>19610</th>\n",
       "      <td>sttSz4</td>\n",
       "      <td>Chess Set in BW. 430 chars</td>\n",
       "      <td>Artleet</td>\n",
       "      <td>Chess set. The part of some inner jam, final v...</td>\n",
       "      <td>[raymarching, golf, golfing]</td>\n",
       "      <td>10</td>\n",
       "      <td>270</td>\n",
       "      <td>Public</td>\n",
       "      <td>2021-12-06 17:22:21</td>\n",
       "      <td>2021-10-01</td>\n",
       "      <td>...</td>\n",
       "      <td>[]</td>\n",
       "      <td></td>\n",
       "      <td>[]</td>\n",
       "      <td>https://www.shadertoy.com/media/shaders/sttSz4...</td>\n",
       "      <td>shaders20k</td>\n",
       "      <td>CC-BY-NC-SA-3.0</td>\n",
       "      <td>[]</td>\n",
       "      <td>error</td>\n",
       "      <td>0</td>\n",
       "      <td>0</td>\n",
       "    </tr>\n",
       "  </tbody>\n",
       "</table>\n",
       "<p>173 rows × 32 columns</p>\n",
       "</div>"
      ],
      "text/plain": [
       "           id                        name     author  \\\n",
       "25     4s23Wc                   pfhrector     pfhunk   \n",
       "62     Md23DV           GLSL 2D Tutorials        vug   \n",
       "424    XsSSRz        Tiny Ray Marcher 3.0       Aaro   \n",
       "565    Ms2XWw              Twist Scroller    ac3t1ne   \n",
       "613    ld2SW3           A Pattern Emerges       okro   \n",
       "...       ...                         ...        ...   \n",
       "19362  Nty3Ry         Plotting by dmc3105    dmc3105   \n",
       "19422  std3zl                   Lava Blob   Moustave   \n",
       "19479  7t3SDM              Tetragrammaton     4eckme   \n",
       "19606  stKGDc                 tiny voxels  flockaroo   \n",
       "19610  sttSz4  Chess Set in BW. 430 chars    Artleet   \n",
       "\n",
       "                                             description  \\\n",
       "25                  80s vector graphics inspired kaliset   \n",
       "62     28 tutorials on writing pixel shaders at Shade...   \n",
       "424    Oh its on. I'm sure comment section will be fu...   \n",
       "565                                              Greetz!   \n",
       "613                                 Takes a few seconds.   \n",
       "...                                                  ...   \n",
       "19362                                    my first shader   \n",
       "19422                                                  o   \n",
       "19479  https://ru.wikipedia.org/wiki/%D0%A2%D0%B5%D1%...   \n",
       "19606  ...originally done in twigl.app (266 chars the...   \n",
       "19610  Chess set. The part of some inner jam, final v...   \n",
       "\n",
       "                                            tags  likes  viewed   published  \\\n",
       "25                        [2d, fractal, kaliset]      7     791      Public   \n",
       "62                                    [tutorial]    581   48910      Public   \n",
       "424    [reflection, ray, shadow, marching, tiny]      4     267      Public   \n",
       "565        [2d, retro, amiga, ac3t1ne, scroller]     14     966      Public   \n",
       "613                                       [dots]      1     141      Public   \n",
       "...                                          ...    ...     ...         ...   \n",
       "19362                                     [math]      1      94  Public API   \n",
       "19422                                    [yayyy]      2      25      Public   \n",
       "19479                           [tetragrammaton]     26    1891      Public   \n",
       "19606                 [voxel, golfing, tinycode]     21     305  Public API   \n",
       "19610               [raymarching, golf, golfing]     10     270      Public   \n",
       "\n",
       "                     date time_retrieved  ... buffer_d_inputs cube_a_code  \\\n",
       "25    2014-03-11 02:44:55     2021-10-01  ...              []               \n",
       "62    2014-03-08 20:58:49     2021-10-01  ...              []               \n",
       "424   2014-08-15 14:12:07     2021-10-01  ...              []               \n",
       "565   2014-10-10 18:41:28     2021-10-01  ...              []               \n",
       "613   2014-11-23 05:04:25     2021-10-01  ...              []               \n",
       "...                   ...            ...  ...             ...         ...   \n",
       "19362 2021-11-26 15:06:50     2021-10-01  ...              []               \n",
       "19422 2021-11-10 18:04:19     2021-10-01  ...              []               \n",
       "19479 2021-12-11 07:59:44     2021-10-01  ...              []               \n",
       "19606 2021-12-02 21:22:22     2021-10-01  ...              []               \n",
       "19610 2021-12-06 17:22:21     2021-10-01  ...              []               \n",
       "\n",
       "      cube_a_inputs                                          thumbnail  \\\n",
       "25               []  https://www.shadertoy.com/media/shaders/4s23Wc...   \n",
       "62               []  https://www.shadertoy.com/media/shaders/Md23DV...   \n",
       "424              []  https://www.shadertoy.com/media/shaders/XsSSRz...   \n",
       "565              []  https://www.shadertoy.com/media/shaders/Ms2XWw...   \n",
       "613              []  https://www.shadertoy.com/media/shaders/ld2SW3...   \n",
       "...             ...                                                ...   \n",
       "19362            []  https://www.shadertoy.com/media/shaders/Nty3Ry...   \n",
       "19422            []  https://www.shadertoy.com/media/shaders/std3zl...   \n",
       "19479            []  https://www.shadertoy.com/media/shaders/7t3SDM...   \n",
       "19606            []  https://www.shadertoy.com/media/shaders/stKGDc...   \n",
       "19610            []  https://www.shadertoy.com/media/shaders/sttSz4...   \n",
       "\n",
       "           access          license functions   test num_functions num_inputs  \n",
       "25     shaders20k  CC-BY-NC-SA-3.0        []  valid             0          0  \n",
       "62     shaders20k  CC-BY-NC-SA-3.0        []  error             0          3  \n",
       "424    shaders20k  CC-BY-NC-SA-3.0        []  valid             0          0  \n",
       "565    shaders20k  CC-BY-NC-SA-3.0        []  valid             0          0  \n",
       "613    shaders20k  CC-BY-NC-SA-3.0        []  valid             0          0  \n",
       "...           ...              ...       ...    ...           ...        ...  \n",
       "19362  shaders20k  CC-BY-NC-SA-3.0        []  valid             0          0  \n",
       "19422  shaders20k  CC-BY-NC-SA-3.0        []  error             0          0  \n",
       "19479  shaders20k  CC-BY-NC-SA-3.0        []  valid             0          0  \n",
       "19606  shaders20k  cc-by-nc-sa-3.0        []  valid             0          0  \n",
       "19610  shaders20k  CC-BY-NC-SA-3.0        []  error             0          0  \n",
       "\n",
       "[173 rows x 32 columns]"
      ]
     },
     "execution_count": 14,
     "metadata": {},
     "output_type": "execute_result"
    }
   ],
   "source": [
    "# these cases might be parsing failures? seem to always use macros inside functions or something.\n",
    "# some use no functions but Main(){...} which seems to work in glsl but not viable for our dataset\n",
    "from annotate import PARSER\n",
    "print(PARSER.parse(bytes(df[\"image_code\"][5746],encoding=\"utf-8\")).root_node.has_error)\n",
    "df.loc[df[\"num_functions\"] == 0]"
   ]
  },
  {
   "cell_type": "code",
   "execution_count": 15,
   "metadata": {},
   "outputs": [
    {
     "data": {
      "application/vnd.jupyter.widget-view+json": {
       "model_id": "b13b3135ff2d4bb8ad419b7f3b24ffe6",
       "version_major": 2,
       "version_minor": 0
      },
      "text/plain": [
       "Map:   0%|          | 0/13612 [00:00<?, ? examples/s]"
      ]
     },
     "metadata": {},
     "output_type": "display_data"
    },
    {
     "data": {
      "text/plain": [
       "Dataset({\n",
       "    features: ['id', 'comment', 'header', 'docstring', 'body', 'full_code', 'func_bytes'],\n",
       "    num_rows: 83400\n",
       "})"
      ]
     },
     "execution_count": 15,
     "metadata": {},
     "output_type": "execute_result"
    }
   ],
   "source": [
    "# TODO: refactor into a generator because I dislike the current shape. but figure out how batching and threadding works then?\n",
    "# part of the filter.py or prepare.py script that will be done soon.\n",
    "def split_functions(batch):\n",
    "    # per function fields\n",
    "    comments, headers, docstrings, bodies = [],[],[],[]\n",
    "    # per document fields\n",
    "    full_code, funcs, ids = [],[],[]\n",
    "    for code, func_bytes, shader_id in zip(batch[\"image_code\"], batch[\"functions\"], batch[\"id\"]):\n",
    "        row_code = bytes(code,encoding=\"utf-8\")\n",
    "        for start_comment, start_header, end_header, end_docstring, end_function in func_bytes:\n",
    "            comments.append(row_code[start_comment:start_header].decode(encoding=\"utf-8\")),\n",
    "            headers.append(row_code[start_header:end_header].decode(encoding=\"utf-8\")),\n",
    "            docstrings.append(row_code[end_header:end_docstring].decode(encoding=\"utf-8\")),\n",
    "            bodies.append(row_code[end_docstring:end_function].decode(encoding=\"utf-8\")),\n",
    "            full_code.append(row_code.decode(encoding=\"utf-8\")),\n",
    "            funcs.append((start_comment, start_header, end_header, end_docstring, end_function))\n",
    "            ids.append(shader_id)\n",
    "    return {\n",
    "            \"comment\": comments,\n",
    "            \"header\": headers,\n",
    "            \"docstring\": docstrings,\n",
    "            \"body\": bodies,\n",
    "            \"full_code\": full_code,\n",
    "            \"func_bytes\": funcs,\n",
    "            \"id\": ids,\n",
    "            }\n",
    "\n",
    "\n",
    "# func_ds = ds.map(split_functions, batched=True, remove_columns=ds[\"train\"].column_names) # full dataset to functions\n",
    "func_ds = filtered_ds.map(split_functions, batched=True, remove_columns=filtered_ds.column_names) # only permissive shaders (the whole 20k set is single pass without common...)\n",
    "if \"train\" in func_ds:\n",
    "    func_ds = func_ds[\"train\"]\n",
    "func_ds"
   ]
  },
  {
   "cell_type": "code",
   "execution_count": 16,
   "metadata": {},
   "outputs": [
    {
     "data": {
      "text/html": [
       "<div>\n",
       "<style scoped>\n",
       "    .dataframe tbody tr th:only-of-type {\n",
       "        vertical-align: middle;\n",
       "    }\n",
       "\n",
       "    .dataframe tbody tr th {\n",
       "        vertical-align: top;\n",
       "    }\n",
       "\n",
       "    .dataframe thead th {\n",
       "        text-align: right;\n",
       "    }\n",
       "</style>\n",
       "<table border=\"1\" class=\"dataframe\">\n",
       "  <thead>\n",
       "    <tr style=\"text-align: right;\">\n",
       "      <th></th>\n",
       "      <th>id</th>\n",
       "      <th>comment</th>\n",
       "      <th>header</th>\n",
       "      <th>docstring</th>\n",
       "      <th>body</th>\n",
       "      <th>full_code</th>\n",
       "      <th>func_bytes</th>\n",
       "    </tr>\n",
       "  </thead>\n",
       "  <tbody>\n",
       "    <tr>\n",
       "      <th>0</th>\n",
       "      <td>4dB3DV</td>\n",
       "      <td></td>\n",
       "      <td>vec3 mod289(vec3 x) {</td>\n",
       "      <td></td>\n",
       "      <td>\\n  return x - floor(x * (1.0 / 289.0)) * 289....</td>\n",
       "      <td>\\nvec3 mod289(vec3 x) {\\n  return x - floor(x ...</td>\n",
       "      <td>[1, 1, 22, 22, 71]</td>\n",
       "    </tr>\n",
       "    <tr>\n",
       "      <th>1</th>\n",
       "      <td>4dB3DV</td>\n",
       "      <td></td>\n",
       "      <td>vec2 mod289(vec2 x) {</td>\n",
       "      <td></td>\n",
       "      <td>\\n  return x - floor(x * (1.0 / 289.0)) * 289....</td>\n",
       "      <td>\\nvec3 mod289(vec3 x) {\\n  return x - floor(x ...</td>\n",
       "      <td>[73, 73, 94, 94, 143]</td>\n",
       "    </tr>\n",
       "    <tr>\n",
       "      <th>2</th>\n",
       "      <td>4dB3DV</td>\n",
       "      <td></td>\n",
       "      <td>vec4 mod289(vec4 x) {</td>\n",
       "      <td></td>\n",
       "      <td>\\n  return x - floor(x * (1.0 / 289.0)) * 289....</td>\n",
       "      <td>\\nvec3 mod289(vec3 x) {\\n  return x - floor(x ...</td>\n",
       "      <td>[145, 145, 166, 166, 215]</td>\n",
       "    </tr>\n",
       "    <tr>\n",
       "      <th>3</th>\n",
       "      <td>4dB3DV</td>\n",
       "      <td></td>\n",
       "      <td>vec4 permute(vec4 x) {</td>\n",
       "      <td></td>\n",
       "      <td>\\n     return mod289(((x*34.0)+1.0)*x);\\n}</td>\n",
       "      <td>\\nvec3 mod289(vec3 x) {\\n  return x - floor(x ...</td>\n",
       "      <td>[217, 217, 239, 239, 279]</td>\n",
       "    </tr>\n",
       "    <tr>\n",
       "      <th>4</th>\n",
       "      <td>4dB3DV</td>\n",
       "      <td></td>\n",
       "      <td>vec3 permute(vec3 x) {</td>\n",
       "      <td></td>\n",
       "      <td>\\n  return mod289(((x*34.0)+1.0)*x);\\n}</td>\n",
       "      <td>\\nvec3 mod289(vec3 x) {\\n  return x - floor(x ...</td>\n",
       "      <td>[281, 281, 303, 303, 340]</td>\n",
       "    </tr>\n",
       "  </tbody>\n",
       "</table>\n",
       "</div>"
      ],
      "text/plain": [
       "       id comment                  header docstring  \\\n",
       "0  4dB3DV           vec3 mod289(vec3 x) {             \n",
       "1  4dB3DV           vec2 mod289(vec2 x) {             \n",
       "2  4dB3DV           vec4 mod289(vec4 x) {             \n",
       "3  4dB3DV          vec4 permute(vec4 x) {             \n",
       "4  4dB3DV          vec3 permute(vec3 x) {             \n",
       "\n",
       "                                                body  \\\n",
       "0  \\n  return x - floor(x * (1.0 / 289.0)) * 289....   \n",
       "1  \\n  return x - floor(x * (1.0 / 289.0)) * 289....   \n",
       "2  \\n  return x - floor(x * (1.0 / 289.0)) * 289....   \n",
       "3         \\n     return mod289(((x*34.0)+1.0)*x);\\n}   \n",
       "4            \\n  return mod289(((x*34.0)+1.0)*x);\\n}   \n",
       "\n",
       "                                           full_code  \\\n",
       "0  \\nvec3 mod289(vec3 x) {\\n  return x - floor(x ...   \n",
       "1  \\nvec3 mod289(vec3 x) {\\n  return x - floor(x ...   \n",
       "2  \\nvec3 mod289(vec3 x) {\\n  return x - floor(x ...   \n",
       "3  \\nvec3 mod289(vec3 x) {\\n  return x - floor(x ...   \n",
       "4  \\nvec3 mod289(vec3 x) {\\n  return x - floor(x ...   \n",
       "\n",
       "                  func_bytes  \n",
       "0         [1, 1, 22, 22, 71]  \n",
       "1      [73, 73, 94, 94, 143]  \n",
       "2  [145, 145, 166, 166, 215]  \n",
       "3  [217, 217, 239, 239, 279]  \n",
       "4  [281, 281, 303, 303, 340]  "
      ]
     },
     "execution_count": 16,
     "metadata": {},
     "output_type": "execute_result"
    }
   ],
   "source": [
    "func_df = func_ds.to_pandas()\n",
    "func_df.head() "
   ]
  },
  {
   "cell_type": "code",
   "execution_count": 17,
   "metadata": {},
   "outputs": [
    {
     "name": "stdout",
     "output_type": "stream",
     "text": [
      "functions with context = 18921\n"
     ]
    },
    {
     "data": {
      "text/html": [
       "<div>\n",
       "<style scoped>\n",
       "    .dataframe tbody tr th:only-of-type {\n",
       "        vertical-align: middle;\n",
       "    }\n",
       "\n",
       "    .dataframe tbody tr th {\n",
       "        vertical-align: top;\n",
       "    }\n",
       "\n",
       "    .dataframe thead th {\n",
       "        text-align: right;\n",
       "    }\n",
       "</style>\n",
       "<table border=\"1\" class=\"dataframe\">\n",
       "  <thead>\n",
       "    <tr style=\"text-align: right;\">\n",
       "      <th>has_docstring</th>\n",
       "      <th>False</th>\n",
       "      <th>True</th>\n",
       "      <th>All</th>\n",
       "    </tr>\n",
       "    <tr>\n",
       "      <th>has_comment</th>\n",
       "      <th></th>\n",
       "      <th></th>\n",
       "      <th></th>\n",
       "    </tr>\n",
       "  </thead>\n",
       "  <tbody>\n",
       "    <tr>\n",
       "      <th>False</th>\n",
       "      <td>64479</td>\n",
       "      <td>5719</td>\n",
       "      <td>70198</td>\n",
       "    </tr>\n",
       "    <tr>\n",
       "      <th>True</th>\n",
       "      <td>11739</td>\n",
       "      <td>1463</td>\n",
       "      <td>13202</td>\n",
       "    </tr>\n",
       "    <tr>\n",
       "      <th>All</th>\n",
       "      <td>76218</td>\n",
       "      <td>7182</td>\n",
       "      <td>83400</td>\n",
       "    </tr>\n",
       "  </tbody>\n",
       "</table>\n",
       "</div>"
      ],
      "text/plain": [
       "has_docstring  False  True    All\n",
       "has_comment                      \n",
       "False          64479  5719  70198\n",
       "True           11739  1463  13202\n",
       "All            76218  7182  83400"
      ]
     },
     "execution_count": 17,
     "metadata": {},
     "output_type": "execute_result"
    }
   ],
   "source": [
    "func_df[\"has_comment\"] = func_df[\"comment\"] != \"\"\n",
    "func_df[\"has_docstring\"] = func_df[\"docstring\"] != \"\"\n",
    "func_df[\"model_ctx\"] = func_df[\"comment\"] + func_df[\"header\"] + func_df[\"comment\"]\n",
    "# how many functions are there, and what is the share of comments, \n",
    "\n",
    "xtab = pd.crosstab(func_df[\"has_comment\"], func_df[\"has_docstring\"], margins=True)\n",
    "print(f\"functions with context = {xtab.iloc[-1,-1] - xtab.iloc[0,0]}\")\n",
    "xtab\n",
    "\n",
    "# for the permissive subset of shaders 21k the number goes down to like 253 for both... and 150 for valid shaders only."
   ]
  },
  {
   "cell_type": "code",
   "execution_count": 18,
   "metadata": {},
   "outputs": [
    {
     "name": "stdout",
     "output_type": "stream",
     "text": [
      "7677\n"
     ]
    },
    {
     "data": {
      "text/plain": [
       "comment\n",
       "                                                                                                                                                                                                                                                                                                                                                                                                                                                                                                                                70198\n",
       "/**\\n * Using the gradient of the SDF, estimate the normal on the surface at point p.\\n */\\n                                                                                                                                                                                                                                                                                                                                                                                                                                       78\n",
       "/**\\n * Lighting via Phong illumination.\\n * \\n * The vec3 returned is the RGB color of that point after lighting is applied.\\n * k_a: Ambient color\\n * k_d: Diffuse color\\n * k_s: Specular color\\n * alpha: Shininess coefficient\\n * p: position of point being lit\\n * eye: the position of the camera\\n *\\n * See https://en.wikipedia.org/wiki/Phong_reflection_model#Description\\n */\\n                                                                                                                                    77\n",
       "/**\\n * Return the shortest distance from the eyepoint to the scene surface along\\n * the marching direction. If no part of the surface is found between start and end,\\n * return end.\\n * \\n * eye: the eye point, acting as the origin of the ray\\n * marchingDirection: the normalized direction to march in\\n * start: the starting distance away from the eye\\n * end: the max distance away from the ey to march before giving up\\n */\\n                                                                                    76\n",
       "/**\\n * Return a transform matrix that will transform a ray from view space\\n * to world coordinates, given the eye point, the camera target, and an up vector.\\n *\\n * This assumes that the center of the camera is aligned with the negative z axis in\\n * view space when calculating the ray marching direction. See rayDirection.\\n */\\n                                                                                                                                                                                     75\n",
       "/**\\n * Lighting contribution of a single point light source via Phong illumination.\\n * \\n * The vec3 returned is the RGB color of the light's contribution.\\n *\\n * k_a: Ambient color\\n * k_d: Diffuse color\\n * k_s: Specular color\\n * alpha: Shininess coefficient\\n * p: position of point being lit\\n * eye: the position of the camera\\n * lightPos: the position of the light\\n * lightIntensity: color/intensity of the light\\n *\\n * See https://en.wikipedia.org/wiki/Phong_reflection_model#Description\\n */\\n       74\n",
       "/**\\n * Return the normalized direction to march in from the eye point for a single pixel.\\n * \\n * fieldOfView: vertical field of view in degrees\\n * size: resolution of the output image\\n * fragCoord: the x,y coordinate of the pixel in the output image\\n */\\n                                                                                                                                                                                                                                                              74\n",
       "// http://iquilezles.org/www/articles/normalsSDF/normalsSDF.htm\\n                                                                                                                                                                                                                                                                                                                                                                                                                                                                  53\n",
       "//--------------------------------------------------------------------------\\n                                                                                                                                                                                                                                                                                                                                                                                                                                                     48\n",
       "/**\\n * Signed distance function describing the scene.\\n * \\n * Absolute value of the return value indicates the distance to the surface.\\n * Sign indicates whether the point is inside or outside the surface,\\n * negative indicating inside.\\n */\\n                                                                                                                                                                                                                                                                            46\n",
       "Name: count, dtype: int64"
      ]
     },
     "execution_count": 18,
     "metadata": {},
     "output_type": "execute_result"
    }
   ],
   "source": [
    "# FINDING: only about half the comments are unique.\n",
    "# some frequent comment looks like a template maybe? should investigate\n",
    "print(func_df[\"comment\"].nunique())\n",
    "func_df[\"comment\"].value_counts(sort=True, ascending=False).head(10)"
   ]
  },
  {
   "cell_type": "code",
   "execution_count": 19,
   "metadata": {},
   "outputs": [
    {
     "name": "stdout",
     "output_type": "stream",
     "text": [
      "37740\n"
     ]
    },
    {
     "data": {
      "text/plain": [
       "header\n",
       "void mainImage( out vec4 fragColor, in vec2 fragCoord )\\n{    8839\n",
       "void mainImage( out vec4 fragColor, in vec2 fragCoord ) {      831\n",
       "void mainImage(out vec4 fragColor, in vec2 fragCoord) {        677\n",
       "void mainImage(out vec4 fragColor, in vec2 fragCoord)\\n{       421\n",
       "void mainImage( out vec4 fragColor, in vec2 fragCoord ){       351\n",
       "float sdBox( vec3 p, vec3 b )\\n{                               287\n",
       "float map(vec3 p)\\n{                                           188\n",
       "float smin( float a, float b, float k )\\n{                     181\n",
       "float map(vec3 p) {                                            173\n",
       "float rand(vec2 co){                                           168\n",
       "Name: count, dtype: int64"
      ]
     },
     "execution_count": 19,
     "metadata": {},
     "output_type": "execute_result"
    }
   ],
   "source": [
    "# FINDING = only about a third of function-headers are unique?\n",
    "# it's expect to have one mainImage function per renderpass... but they are just whitesapce variable here - maybe we skip them in general\n",
    "print(func_df[\"header\"].nunique())\n",
    "func_df[\"header\"].value_counts(sort=True, ascending=False).head(10)"
   ]
  },
  {
   "cell_type": "code",
   "execution_count": 20,
   "metadata": {},
   "outputs": [
    {
     "data": {
      "text/plain": [
       "13037"
      ]
     },
     "execution_count": 20,
     "metadata": {},
     "output_type": "execute_result"
    }
   ],
   "source": [
    "# looks like some are not exact or might even use the common pass to bypass this\n",
    "func_df[\"header\"].str.startswith(\"void mainImage\").sum()"
   ]
  },
  {
   "cell_type": "code",
   "execution_count": 21,
   "metadata": {},
   "outputs": [
    {
     "name": "stdout",
     "output_type": "stream",
     "text": [
      "3731\n"
     ]
    },
    {
     "data": {
      "text/plain": [
       "docstring\n",
       "                                                                                                                                                                                        76218\n",
       "\\n    // Normalized pixel coordinates (from 0 to 1)                                                                                                                                      1520\n",
       "\\n    // Based on gluLookAt man page                                                                                                                                                      100\n",
       "\\n  // n must be normalized                                                                                                                                                                67\n",
       "\\n    // Normalized pixel coordinates (from -1 to 1)                                                                                                                                       51\n",
       "\\n    // Add scaled noises                                                                                                                                                                 37\n",
       "\\n    // filter kernel                                                                                                                                                                     28\n",
       "\\n    //from David Hoskin's \"Hash without sine\"                                                                                                                                            26\n",
       "\\n    // Initial values                                                                                                                                                                    22\n",
       "\\n    //return fract(sin(dot(uv, vec2(12.9898,78.233)))*10000.*iTime);\\n\\t//return fract(sin(dot(uv, iMouse.xy))*10000.);\\n\\t//return (fract(sin(dot(uv, vec2(12., 70.)))*100000.));       21\n",
       "Name: count, dtype: int64"
      ]
     },
     "execution_count": 21,
     "metadata": {},
     "output_type": "execute_result"
    }
   ],
   "source": [
    "# half the docstrings aren't unique?\n",
    "# most common one is the shadertoy.com/new default for the main function\n",
    "print(func_df[\"docstring\"].nunique())\n",
    "func_df[\"docstring\"].value_counts(sort=True, ascending=False).head(10)"
   ]
  },
  {
   "cell_type": "code",
   "execution_count": 22,
   "metadata": {},
   "outputs": [
    {
     "data": {
      "text/plain": [
       "830"
      ]
     },
     "execution_count": 22,
     "metadata": {},
     "output_type": "execute_result"
    }
   ],
   "source": [
    "# indicator where the docstring is just something commented out - not helpful instructions.\n",
    "func_df[\"docstring\"].str.endswith(\";\").sum()"
   ]
  },
  {
   "cell_type": "code",
   "execution_count": 23,
   "metadata": {},
   "outputs": [
    {
     "name": "stdout",
     "output_type": "stream",
     "text": [
      "1716\n",
      "1653\n"
     ]
    }
   ],
   "source": [
    "# the comment is just a link to some website/reference? although sometimes it's a bunch of natural langauge too?\n",
    "print(func_df[\"comment\"].str.contains(\"https://\").sum())\n",
    "print(func_df[\"comment\"].str.contains(\"www.\").sum())"
   ]
  },
  {
   "cell_type": "code",
   "execution_count": 24,
   "metadata": {},
   "outputs": [
    {
     "name": "stdout",
     "output_type": "stream",
     "text": [
      "40802\n"
     ]
    },
    {
     "data": {
      "text/plain": [
       "model_ctx\n",
       "void mainImage( out vec4 fragColor, in vec2 fragCoord )\\n{    8641\n",
       "void mainImage( out vec4 fragColor, in vec2 fragCoord ) {      798\n",
       "void mainImage(out vec4 fragColor, in vec2 fragCoord) {        654\n",
       "void mainImage(out vec4 fragColor, in vec2 fragCoord)\\n{       402\n",
       "void mainImage( out vec4 fragColor, in vec2 fragCoord ){       342\n",
       "float sdBox( vec3 p, vec3 b )\\n{                               253\n",
       "float map(vec3 p)\\n{                                           173\n",
       "float map(vec3 p) {                                            162\n",
       "float rand(vec2 co){                                           151\n",
       "float map(vec3 p){                                             146\n",
       "Name: count, dtype: int64"
      ]
     },
     "execution_count": 24,
     "metadata": {},
     "output_type": "execute_result"
    }
   ],
   "source": [
    "# proposed model_ctx takes all of them in normal order (doens't filter out the naked functions)\n",
    "print(func_df[\"model_ctx\"].nunique())\n",
    "func_df[\"model_ctx\"].value_counts(sort=True, ascending=False).head(10)"
   ]
  },
  {
   "cell_type": "code",
   "execution_count": 25,
   "metadata": {},
   "outputs": [
    {
     "data": {
      "text/plain": [
       "header\n",
       "void mainImage( out vec4 fragColor, in vec2 fragCoord )\\n{                         65\n",
       "mat3 viewMatrix(vec3 eye, vec3 center, vec3 up) {                                  58\n",
       "vec3 hash31(float p)\\n{                                                            32\n",
       "mat4 viewMatrix(vec3 eye, vec3 center, vec3 up) {                                  22\n",
       "float simplex3d(vec3 p) {                                                          20\n",
       "vec3 shade(in vec3 p,in vec3 n)\\n{                                                 19\n",
       "float calcSoftshadow( in vec3 ro, in vec3 rd, in float mint, in float tmax )\\n{    16\n",
       "vec3 Shade(vec3 p, vec3 n)\\n{                                                      15\n",
       "float StableStarField( in vec2 vSamplePos, float fThreshhold )\\n{                  15\n",
       "float turbulence(in vec3 p,in vec3 n)\\n{                                           14\n",
       "Name: count, dtype: int64"
      ]
     },
     "execution_count": 25,
     "metadata": {},
     "output_type": "execute_result"
    }
   ],
   "source": [
    "# figure out if a function is needed, by removing if from body and check if the code still runs (you should have filtered for only working shaders before)\n",
    "\n",
    "# step 1. subset the dataframe to only those rows that have comment and docstring\n",
    "both_df = func_df[func_df[\"has_comment\"] & func_df[\"has_docstring\"]]\n",
    "# 253 functions form 168 shaders, only 179 of which are unique combinations...\n",
    "both_df[\"header\"].value_counts(sort=True, ascending=False).head(10)"
   ]
  },
  {
   "cell_type": "code",
   "execution_count": 26,
   "metadata": {},
   "outputs": [
    {
     "data": {
      "text/plain": [
       "1463"
      ]
     },
     "execution_count": 26,
     "metadata": {},
     "output_type": "execute_result"
    }
   ],
   "source": [
    "len(both_df)"
   ]
  },
  {
   "cell_type": "code",
   "execution_count": 27,
   "metadata": {},
   "outputs": [
    {
     "name": "stderr",
     "output_type": "stream",
     "text": [
      "C:\\Users\\Jan\\AppData\\Local\\Temp\\ipykernel_11244\\4005513836.py:13: SettingWithCopyWarning: \n",
      "A value is trying to be set on a copy of a slice from a DataFrame.\n",
      "Try using .loc[row_indexer,col_indexer] = value instead\n",
      "\n",
      "See the caveats in the documentation: https://pandas.pydata.org/pandas-docs/stable/user_guide/indexing.html#returning-a-view-versus-a-copy\n",
      "  both_df[\"needed\"] = both_df.apply(check_function_needed, axis=1)\n"
     ]
    },
    {
     "data": {
      "text/plain": [
       "needed\n",
       "True     1386\n",
       "False      77\n",
       "Name: count, dtype: int64"
      ]
     },
     "execution_count": 27,
     "metadata": {},
     "output_type": "execute_result"
    }
   ],
   "source": [
    "# this step can timeout/hang -.-\n",
    "# step 2. if code runs without the function.\n",
    "from annotate import run_shader\n",
    "\n",
    "def check_function_needed(row):\n",
    "    code = row[\"full_code\"]\n",
    "    start_comment, start_header, end_header, end_docstring, end_function = row[\"func_bytes\"]\n",
    "    test_code = code[:start_comment] + code[end_function:] #TODO: this needs to be done in bytes -.-\n",
    "    status = run_shader(test_code)\n",
    "    return status == \"error\"\n",
    "\n",
    "\n",
    "both_df[\"needed\"] = both_df.apply(check_function_needed, axis=1)\n",
    "both_df[\"needed\"].value_counts()"
   ]
  },
  {
   "cell_type": "code",
   "execution_count": 28,
   "metadata": {},
   "outputs": [
    {
     "name": "stderr",
     "output_type": "stream",
     "text": [
      "C:\\Users\\Jan\\AppData\\Local\\Temp\\ipykernel_11244\\902904704.py:8: SettingWithCopyWarning: \n",
      "A value is trying to be set on a copy of a slice from a DataFrame.\n",
      "Try using .loc[row_indexer,col_indexer] = value instead\n",
      "\n",
      "See the caveats in the documentation: https://pandas.pydata.org/pandas-docs/stable/user_guide/indexing.html#returning-a-view-versus-a-copy\n",
      "  both_df[\"status\"] = both_df.apply(check_code, axis=1)\n"
     ]
    }
   ],
   "source": [
    "# step 3. check if the whole code works originally (we filtered for valid only) (this is redundant)\n",
    "\n",
    "def check_code(row):\n",
    "    code = row[\"full_code\"]\n",
    "    status = run_shader(code)\n",
    "    return status\n",
    "\n",
    "both_df[\"status\"] = both_df.apply(check_code, axis=1)"
   ]
  },
  {
   "cell_type": "code",
   "execution_count": 29,
   "metadata": {},
   "outputs": [
    {
     "name": "stdout",
     "output_type": "stream",
     "text": [
      "1463\n"
     ]
    },
    {
     "data": {
      "text/plain": [
       "1386"
      ]
     },
     "execution_count": 29,
     "metadata": {},
     "output_type": "execute_result"
    }
   ],
   "source": [
    "# down select the only the needed and working examples.\n",
    "print(len(both_df))\n",
    "both_df = both_df.loc[both_df[\"needed\"]]\n",
    "len(both_df)"
   ]
  },
  {
   "cell_type": "code",
   "execution_count": 30,
   "metadata": {},
   "outputs": [
    {
     "name": "stdout",
     "output_type": "stream",
     "text": [
      "(1386, 16)\n",
      "986\n"
     ]
    },
    {
     "data": {
      "text/plain": [
       "Dataset({\n",
       "    features: ['id', 'comment', 'header', 'docstring', 'body', 'full_code', 'func_bytes', 'has_comment', 'has_docstring', 'model_ctx', 'needed', 'status', 'input_both', 'input_comment', 'input_docstring', 'input_none', '__index_level_0__'],\n",
       "    num_rows: 986\n",
       "})"
      ]
     },
     "execution_count": 30,
     "metadata": {},
     "output_type": "execute_result"
    }
   ],
   "source": [
    "from datasets import Dataset\n",
    "\n",
    "both_df.loc[:,\"input_both\"] = both_df[\"comment\"] + both_df[\"header\"] + both_df[\"docstring\"]\n",
    "both_df.loc[:,\"input_comment\"] = both_df[\"comment\"] + both_df[\"header\"]\n",
    "both_df.loc[:,\"input_docstring\"] = both_df[\"header\"] + both_df[\"docstring\"]\n",
    "both_df.loc[:,\"input_none\"] = both_df[\"header\"]\n",
    "print(both_df.shape)\n",
    "print(both_df[\"input_both\"].nunique())\n",
    "# remove the duplicates\n",
    "both_df.drop_duplicates(\"input_both\", inplace=True)\n",
    "experiment_ds = Dataset.from_pandas(both_df)\n",
    "experiment_ds"
   ]
  },
  {
   "cell_type": "code",
   "execution_count": 31,
   "metadata": {},
   "outputs": [
    {
     "data": {
      "application/vnd.jupyter.widget-view+json": {
       "model_id": "2fc4b859068c45b496627beceedb039d",
       "version_major": 2,
       "version_minor": 0
      },
      "text/plain": [
       "Uploading the dataset shards:   0%|          | 0/1 [00:00<?, ?it/s]"
      ]
     },
     "metadata": {},
     "output_type": "display_data"
    },
    {
     "data": {
      "application/vnd.jupyter.widget-view+json": {
       "model_id": "5a02cf773c784678876be28aa157f8a1",
       "version_major": 2,
       "version_minor": 0
      },
      "text/plain": [
       "Creating parquet from Arrow format:   0%|          | 0/1 [00:00<?, ?ba/s]"
      ]
     },
     "metadata": {},
     "output_type": "display_data"
    },
    {
     "data": {
      "text/plain": [
       "CommitInfo(commit_url='https://huggingface.co/datasets/Vipitis/Shadereval-experiments-dev/commit/3a915c11eb6445642f2d043624ae579489a0534d', commit_message='v0.2 has 986 rows, includes base license', commit_description='', oid='3a915c11eb6445642f2d043624ae579489a0534d', pr_url=None, pr_revision=None, pr_num=None)"
      ]
     },
     "execution_count": 31,
     "metadata": {},
     "output_type": "execute_result"
    }
   ],
   "source": [
    "# this pushes the dataset to the hub, uncomment with care!\n",
    "# experiment_ds.push_to_hub(\"Vipitis/Shadereval-experiments-dev\", private=False, commit_message=\"v0.2 has 986 rows, includes base license\")"
   ]
  }
 ],
 "metadata": {
  "kernelspec": {
   "display_name": "Python 3",
   "language": "python",
   "name": "python3"
  },
  "language_info": {
   "codemirror_mode": {
    "name": "ipython",
    "version": 3
   },
   "file_extension": ".py",
   "mimetype": "text/x-python",
   "name": "python",
   "nbconvert_exporter": "python",
   "pygments_lexer": "ipython3",
   "version": "3.9.4"
  }
 },
 "nbformat": 4,
 "nbformat_minor": 2
}
