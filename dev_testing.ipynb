{
 "cells": [
  {
   "cell_type": "markdown",
   "metadata": {},
   "source": [
    "# developing external testting tricks?\n",
    "\n",
    "## the OpenAI/BigCode variant only works on UNix\n",
    "\n",
    "## I know that tempdir and subprocess works and does timeout... but can you actually recover from that?\n",
    "should I allow `wgpu-shadertoy` to take a code arg in cli? instead of just\n",
    "this will only work for singlepass shaders just now.\n",
    "\n",
    "we hope that wgpu 22 and get shader compilation info gets upstreamed to wgpu-py soon (and I will participate)."
   ]
  },
  {
   "cell_type": "code",
   "execution_count": 8,
   "metadata": {},
   "outputs": [],
   "source": [
    "import os\n",
    "import tempfile\n",
    "import subprocess\n",
    "\n",
    "\n",
    "file_template = \"\"\"\n",
    "from wgpu_shadertoy import Shadertoy\n",
    "\n",
    "shader_code = '''{}'''\n",
    "\n",
    "shader = Shadertoy(shader_code, shader_type=\"glsl\", offscreen=True)\n",
    "\n",
    "if __name__ == \"__main__\":\n",
    "    shader.show()\n",
    "    shader.snapshot(0.0)\n",
    "\"\"\"\n",
    "\n",
    "def run_shader_in_subprocess(shader_code, timeout=5):\n",
    "    status = \"ok\" # default case\n",
    "    with tempfile.NamedTemporaryFile(mode=\"w\", suffix=\".py\", delete=False, encoding=\"utf-8\") as f:\n",
    "        f.write(file_template.format(shader_code))\n",
    "        f.flush()\n",
    "        try:\n",
    "            p = subprocess.run([\"python\", f.name], capture_output=True, timeout=timeout)\n",
    "            \n",
    "        except subprocess.SubprocessError as e:\n",
    "            if isinstance(e, subprocess.TimeoutExpired):\n",
    "                status = \"timeout\"\n",
    "            else:\n",
    "                status = \"error\"\n",
    "\n",
    "        if p.stderr != b\"\":\n",
    "            status = \"error\"\n",
    "    \n",
    "    # cleanup temp file\n",
    "    os.remove(f.name)\n",
    "\n",
    "    return status\n"
   ]
  },
  {
   "cell_type": "code",
   "execution_count": 9,
   "metadata": {},
   "outputs": [],
   "source": [
    "new_code = \"\"\"\n",
    "void mainImage( out vec4 fragColor, in vec2 fragCoord )\n",
    "{\n",
    "    // Normalized pixel coordinates (from 0 to 1)\n",
    "    vec2 uv = fragCoord/iResolution.xy;\n",
    "\n",
    "    // Time varying pixel color\n",
    "    vec3 col = 0.5 + 0.5*cos(iTime+uv.xyx+vec3(0,2,4));\n",
    "\n",
    "    // Output to screen\n",
    "    fragColor = vec4(col,1.0);\n",
    "}\n",
    "\n",
    "\"\"\"\n",
    "\n",
    "# this panics because it loses device\n",
    "minimal_code = \"\"\"\n",
    "void mainImage( out vec4 fragColor, in vec2 fragCoord ) {\n",
    "\n",
    "    vec3 col = vec3(0.0);\n",
    "    float incr = 0.1;\n",
    "    for (float i = 0.5; i < 3.0; i += max(0.0, iTime)) {\n",
    "        col += vec3(0.2);\n",
    "        // continue;\n",
    "    }\n",
    "    fragColor = vec4(col, 1.0);\n",
    "}\n",
    "\n",
    "\"\"\""
   ]
  },
  {
   "cell_type": "code",
   "execution_count": 10,
   "metadata": {},
   "outputs": [
    {
     "name": "stdout",
     "output_type": "stream",
     "text": [
      "C:\\Users\\Jan\\AppData\\Local\\Temp\\tmpiyvbdxww.py\n",
      "ok\n",
      "C:\\Users\\Jan\\AppData\\Local\\Temp\\tmplrlcdzqp.py\n",
      "error\n"
     ]
    }
   ],
   "source": [
    "print(run_shader_in_subprocess(new_code))\n",
    "print(run_shader_in_subprocess(minimal_code, 10))"
   ]
  },
  {
   "cell_type": "code",
   "execution_count": 4,
   "metadata": {},
   "outputs": [
    {
     "name": "stdout",
     "output_type": "stream",
     "text": [
      "ok\n",
      "ok\n"
     ]
    }
   ],
   "source": [
    "from annotate import run_shader\n",
    "\n",
    "print(run_shader(new_code))\n",
    "print(run_shader(minimal_code))"
   ]
  }
 ],
 "metadata": {
  "kernelspec": {
   "display_name": "Python 3",
   "language": "python",
   "name": "python3"
  },
  "language_info": {
   "codemirror_mode": {
    "name": "ipython",
    "version": 3
   },
   "file_extension": ".py",
   "mimetype": "text/x-python",
   "name": "python",
   "nbconvert_exporter": "python",
   "pygments_lexer": "ipython3",
   "version": "3.9.4"
  }
 },
 "nbformat": 4,
 "nbformat_minor": 2
}
