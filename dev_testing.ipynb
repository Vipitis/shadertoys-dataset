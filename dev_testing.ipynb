{
 "cells": [
  {
   "cell_type": "markdown",
   "metadata": {},
   "source": [
    "# developing external testting tricks?\n",
    "\n",
    "## the OpenAI/BigCode variant only works on UNix\n",
    "\n",
    "## I know that tempdir and subprocess works and does timeout... but can you actually recover from that?\n",
    "should I allow `wgpu-shadertoy` to take a code arg in cli? instead of just\n",
    "this will only work for singlepass shaders just now.\n",
    "\n",
    "wgpu-22 gott shader compilation info (not in wgpu-native yet)"
   ]
  },
  {
   "cell_type": "code",
   "execution_count": 1,
   "metadata": {},
   "outputs": [],
   "source": [
    "import os\n",
    "import tempfile\n",
    "import subprocess\n",
    "\n",
    "\n",
    "file_template = \"\"\"\n",
    "from wgpu_shadertoy import Shadertoy\n",
    "\n",
    "shader_code = '''{}'''\n",
    "\n",
    "shader = Shadertoy(shader_code, shader_type=\"glsl\", offscreen=True)\n",
    "\n",
    "if __name__ == \"__main__\":\n",
    "    shader.show()\n",
    "    shader.snapshot(0.0)\n",
    "\"\"\"\n",
    "\n",
    "def run_shader_in_subprocess(shader_code, timeout=5):\n",
    "    status = \"ok\" # default case\n",
    "    with tempfile.NamedTemporaryFile(mode=\"w\", suffix=\".py\", delete=False, encoding=\"utf-8\") as f:\n",
    "        f.write(file_template.format(shader_code))\n",
    "        f.flush()\n",
    "        try:\n",
    "            p = subprocess.run([\"python\", f.name], capture_output=True, timeout=timeout)\n",
    "            \n",
    "        except subprocess.SubprocessError as e:\n",
    "            if isinstance(e, subprocess.TimeoutExpired):\n",
    "                status = \"timeout\"\n",
    "            else:\n",
    "                status = \"error\"\n",
    "            # return status # early exit here never removes the temp file -.-\n",
    "    \n",
    "    # cleanup temp file, delete_on_close was only added in Python 3.12?\n",
    "    os.remove(f.name)\n",
    "        \n",
    "    if status == \"ok\":\n",
    "        if p.returncode != 0:\n",
    "            status = \"error\"\n",
    "    \n",
    "    return status\n"
   ]
  },
  {
   "cell_type": "code",
   "execution_count": 2,
   "metadata": {},
   "outputs": [],
   "source": [
    "new_code = \"\"\"\n",
    "void mainImage( out vec4 fragColor, in vec2 fragCoord )\n",
    "{\n",
    "    // Normalized pixel coordinates (from 0 to 1)\n",
    "    vec2 uv = fragCoord/iResolution.xy;\n",
    "\n",
    "    // Time varying pixel color\n",
    "    vec3 col = 0.5 + 0.5*cos(iTime+uv.xyx+vec3(0,2,4));\n",
    "\n",
    "    // Output to screen\n",
    "    fragColor = vec4(col,1.0);\n",
    "}\n",
    "\"\"\"\n",
    "\n",
    "\n",
    "error_code = \"\"\"\n",
    "void mainImage( out vec4 fragColor, in vec2 fragCoord )\n",
    "{\n",
    "    // Normalized pixel coordinates (from 0 to 1)\n",
    "    vec2 uv = fragCoord/iResolution.xy;\n",
    "\n",
    "    // Time varying pixel color\n",
    "    vec3 col = 0.5 + 0.5*cos(iTime+uv.xyx+vec3(0,2,4));\n",
    "\n",
    "    // Output to screen\n",
    "    fragColor = vec4(coll,1.0);\n",
    "}\n",
    "\"\"\"\n",
    "\n",
    "# this panics because it loses device, works in 22.1!\n",
    "minimal_code = \"\"\"\n",
    "void mainImage( out vec4 fragColor, in vec2 fragCoord ) {\n",
    "\n",
    "    vec3 col = vec3(0.0);\n",
    "    float incr = 0.1;\n",
    "    for (float i = 0.5; i < 3.0; i += max(0.0, iTime)) {\n",
    "        col += vec3(0.2);\n",
    "        // continue;\n",
    "    }\n",
    "    fragColor = vec4(col, 1.0);\n",
    "}\n",
    "\"\"\""
   ]
  },
  {
   "cell_type": "code",
   "execution_count": 3,
   "metadata": {},
   "outputs": [
    {
     "name": "stdout",
     "output_type": "stream",
     "text": [
      "ok\n",
      "error\n",
      "ok\n"
     ]
    }
   ],
   "source": [
    "seconds = 10\n",
    "print(run_shader_in_subprocess(new_code, seconds))\n",
    "print(run_shader_in_subprocess(error_code, seconds))\n",
    "print(run_shader_in_subprocess(minimal_code, seconds))"
   ]
  },
  {
   "cell_type": "code",
   "execution_count": 4,
   "metadata": {},
   "outputs": [
    {
     "name": "stdout",
     "output_type": "stream",
     "text": [
      "ok\n",
      "error\n",
      "ok\n",
      "valid\n",
      "error\n",
      "valid\n"
     ]
    }
   ],
   "source": [
    "from annotate import run_shader, validate_shader\n",
    "\n",
    "print(run_shader(new_code)) # erroniously timesout because it's so slow...\n",
    "print(run_shader(error_code))\n",
    "print(run_shader(minimal_code))\n",
    "\n",
    "print(validate_shader(new_code))\n",
    "print(validate_shader(error_code))\n",
    "print(validate_shader(minimal_code))"
   ]
  },
  {
   "cell_type": "code",
   "execution_count": 18,
   "metadata": {},
   "outputs": [
    {
     "name": "stdout",
     "output_type": "stream",
     "text": [
      "ok\n",
      "error\n"
     ]
    },
    {
     "ename": "",
     "evalue": "",
     "output_type": "error",
     "traceback": [
      "\u001b[1;31mThe Kernel crashed while executing code in the current cell or a previous cell. \n",
      "\u001b[1;31mPlease review the code in the cell(s) to identify a possible cause of the failure. \n",
      "\u001b[1;31mClick <a href='https://aka.ms/vscodeJupyterKernelCrash'>here</a> for more info. \n",
      "\u001b[1;31mView Jupyter <a href='command:jupyter.viewOutput'>log</a> for further details."
     ]
    }
   ],
   "source": [
    "# initilize the default device once\n",
    "from wgpu.utils.device import get_default_device\n",
    "get_default_device()\n",
    "\n",
    "\n",
    "from wgpu_shadertoy import Shadertoy\n",
    "def minimal_run(shader_code):\n",
    "    try:\n",
    "        shader = Shadertoy(shader_code, shader_type=\"glsl\", offscreen=True)\n",
    "        # shader.show()\n",
    "        shader.snapshot(0.0)\n",
    "        return \"ok\"\n",
    "    except Exception as e:\n",
    "        return \"error\"\n",
    "    # return \"untested\"\n",
    "# trying to use concurrent.futures this time...\n",
    "\n",
    "shader_codes = [new_code, error_code, minimal_code]\n",
    "TIMEOUT = 10\n",
    "\n",
    "import concurrent.futures\n",
    "from concurrent.futures import ProcessPoolExecutor, ThreadPoolExecutor\n",
    "\n",
    "with ThreadPoolExecutor(max_workers=1) as executor:\n",
    "    for shader_code in shader_codes:\n",
    "        try:\n",
    "            future = executor.submit(minimal_run, shader_code)\n",
    "            print(future.result(timeout=TIMEOUT))\n",
    "        except concurrent.futures.TimeoutError:\n",
    "            print(\"timeout\")\n",
    "        except Exception as e:\n",
    "            print(\"ERROR\", e)"
   ]
  },
  {
   "cell_type": "code",
   "execution_count": 4,
   "metadata": {},
   "outputs": [
    {
     "name": "stdout",
     "output_type": "stream",
     "text": [
      "error: unknown\n",
      "error: unknown\n",
      "error: unknown\n"
     ]
    }
   ],
   "source": [
    "import multiprocessing\n",
    "from wgpu_shadertoy import Shadertoy\n",
    "\n",
    "def minimal_run(shader_code, return_dict):\n",
    "    try:\n",
    "        shader = Shadertoy(shader_code, shader_type=\"glsl\", offscreen=True)\n",
    "        # shader.show()\n",
    "        shader.snapshot(0.0)\n",
    "        return_dict['result'] = \"ok\"\n",
    "    except Exception as e:\n",
    "        return_dict['result'] = f\"error: {e}\"\n",
    "\n",
    "def run_shader_code(shader_code, timeout):\n",
    "    manager = multiprocessing.Manager()\n",
    "    return_dict = manager.dict()\n",
    "    process = multiprocessing.Process(target=minimal_run, args=(shader_code, return_dict))\n",
    "    process.start()\n",
    "    process.join(timeout)\n",
    "\n",
    "    if process.is_alive():\n",
    "        process.terminate()\n",
    "        process.join()\n",
    "        return \"timeout\"\n",
    "    else:\n",
    "        return return_dict.get('result', 'error: unknown')\n",
    "\n",
    "shader_codes = [new_code, error_code, minimal_code]\n",
    "TIMEOUT = 10\n",
    "\n",
    "results = []\n",
    "for shader_code in shader_codes:\n",
    "    result = run_shader_code(shader_code, TIMEOUT)\n",
    "    results.append(result)\n",
    "    print(result)"
   ]
  }
 ],
 "metadata": {
  "kernelspec": {
   "display_name": "Python 3",
   "language": "python",
   "name": "python3"
  },
  "language_info": {
   "codemirror_mode": {
    "name": "ipython",
    "version": 3
   },
   "file_extension": ".py",
   "mimetype": "text/x-python",
   "name": "python",
   "nbconvert_exporter": "python",
   "pygments_lexer": "ipython3",
   "version": "3.9.7"
  }
 },
 "nbformat": 4,
 "nbformat_minor": 2
}
