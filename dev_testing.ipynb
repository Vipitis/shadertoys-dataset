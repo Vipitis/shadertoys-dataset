{
 "cells": [
  {
   "cell_type": "markdown",
   "metadata": {},
   "source": [
    "# developing external testting tricks?\n",
    "\n",
    "## the OpenAI/BigCode variant only works on UNix\n",
    "\n",
    "## I know that tempdir and subprocess works and does timeout... but can you actually recover from that?\n",
    "should I allow `wgpu-shadertoy` to take a code arg in cli? instead of just\n",
    "this will only work for singlepass shaders just now.\n",
    "\n",
    "we hope that wgpu 22 and get shader compilation info gets upstreamed to wgpu-py soon (and I will participate)."
   ]
  },
  {
   "cell_type": "code",
   "execution_count": 2,
   "metadata": {},
   "outputs": [],
   "source": [
    "import os\n",
    "import tempfile\n",
    "import subprocess\n",
    "\n",
    "\n",
    "file_template = \"\"\"\n",
    "from wgpu_shadertoy import Shadertoy\n",
    "\n",
    "shader_code = '''{}'''\n",
    "\n",
    "shader = Shadertoy(shader_code, shader_type=\"glsl\", offscreen=True)\n",
    "\n",
    "if __name__ == \"__main__\":\n",
    "    shader.show()\n",
    "    shader.snapshot(0.0)\n",
    "\"\"\"\n",
    "\n",
    "def run_shader_in_subprocess(shader_code, timeout=5):\n",
    "    status = \"ok\" # default case\n",
    "    with tempfile.NamedTemporaryFile(mode=\"w\", suffix=\".py\", delete=False, encoding=\"utf-8\") as f:\n",
    "        f.write(file_template.format(shader_code))\n",
    "        f.flush()\n",
    "        try:\n",
    "            p = subprocess.run([\"python\", f.name], capture_output=True, timeout=timeout)\n",
    "            \n",
    "        except subprocess.SubprocessError as e:\n",
    "            if isinstance(e, subprocess.TimeoutExpired):\n",
    "                status = \"timeout\"\n",
    "            else:\n",
    "                status = \"error\"\n",
    "    # cleanup temp file, delete_on_close was only added in Python 3.12?\n",
    "    os.remove(f.name)\n",
    "        \n",
    "    if status == \"ok\":\n",
    "        if p.stderr != b\"\":\n",
    "            status = \"error\"\n",
    "    \n",
    "    return status\n",
    "\n"
   ]
  },
  {
   "cell_type": "code",
   "execution_count": 1,
   "metadata": {},
   "outputs": [],
   "source": [
    "new_code = \"\"\"\n",
    "void mainImage( out vec4 fragColor, in vec2 fragCoord )\n",
    "{\n",
    "    // Normalized pixel coordinates (from 0 to 1)\n",
    "    vec2 uv = fragCoord/iResolution.xy;\n",
    "\n",
    "    // Time varying pixel color\n",
    "    vec3 col = 0.5 + 0.5*cos(iTime+uv.xyx+vec3(0,2,4));\n",
    "\n",
    "    // Output to screen\n",
    "    fragColor = vec4(col,1.0);\n",
    "}\n",
    "\"\"\"\n",
    "\n",
    "\n",
    "error_code = \"\"\"\n",
    "void mainImage( out vec4 fragColor, in vec2 fragCoord )\n",
    "{\n",
    "    // Normalized pixel coordinates (from 0 to 1)\n",
    "    vec2 uv = fragCoord/iResolution.xy;\n",
    "\n",
    "    // Time varying pixel color\n",
    "    vec3 col = 0.5 + 0.5*cos(iTime+uv.xyx+vec3(0,2,4));\n",
    "\n",
    "    // Output to screen\n",
    "    fragColor = vec4(coll,1.0);\n",
    "}\n",
    "\"\"\"\n",
    "\n",
    "# this panics because it loses device\n",
    "minimal_code = \"\"\"\n",
    "void mainImage( out vec4 fragColor, in vec2 fragCoord ) {\n",
    "\n",
    "    vec3 col = vec3(0.0);\n",
    "    float incr = 0.1;\n",
    "    for (float i = 0.5; i < 3.0; i += max(0.0, iTime)) {\n",
    "        col += vec3(0.2);\n",
    "        // continue;\n",
    "    }\n",
    "    fragColor = vec4(col, 1.0);\n",
    "}\n",
    "\"\"\""
   ]
  },
  {
   "cell_type": "code",
   "execution_count": 2,
   "metadata": {},
   "outputs": [
    {
     "name": "stdout",
     "output_type": "stream",
     "text": [
      "running <queue.Queue object at 0x000001980AFA74C0>\n",
      "starting <Process name='Process-2' parent=6304 initial>\n",
      "started <Process name='Process-2' pid=3276 parent=6304 started>\n",
      "joined <Process name='Process-2' pid=3276 parent=6304 stopped exitcode=1>\n",
      "<Process name='Process-2' pid=3276 parent=6304 stopped exitcode=1> is not alive\n",
      "<Process name='Process-2' pid=3276 parent=6304 stopped exitcode=1> terminated for sure\n",
      "<Process name='Process-2' pid=3276 parent=6304 stopped exitcode=1> joined for sure\n"
     ]
    },
    {
     "ename": "Empty",
     "evalue": "",
     "output_type": "error",
     "traceback": [
      "\u001b[1;31m---------------------------------------------------------------------------\u001b[0m",
      "\u001b[1;31mEmpty\u001b[0m                                     Traceback (most recent call last)",
      "Cell \u001b[1;32mIn[2], line 58\u001b[0m\n\u001b[0;32m     56\u001b[0m \u001b[38;5;66;03m# Example usage\u001b[39;00m\n\u001b[0;32m     57\u001b[0m new_code \u001b[38;5;241m=\u001b[39m \u001b[38;5;124m\"\u001b[39m\u001b[38;5;124myour_shader_code_here\u001b[39m\u001b[38;5;124m\"\u001b[39m\n\u001b[1;32m---> 58\u001b[0m \u001b[38;5;28mprint\u001b[39m(\u001b[43mrun_as_thread\u001b[49m\u001b[43m(\u001b[49m\u001b[43mnew_code\u001b[49m\u001b[43m)\u001b[49m)\n",
      "Cell \u001b[1;32mIn[2], line 44\u001b[0m, in \u001b[0;36mrun_as_thread\u001b[1;34m(shader_code, timeout)\u001b[0m\n\u001b[0;32m     42\u001b[0m p\u001b[38;5;241m.\u001b[39mclose()\n\u001b[0;32m     43\u001b[0m \u001b[38;5;66;03m# print(f\"returning {len(q)}\")\u001b[39;00m\n\u001b[1;32m---> 44\u001b[0m q_item \u001b[38;5;241m=\u001b[39m \u001b[43mq\u001b[49m\u001b[38;5;241;43m.\u001b[39;49m\u001b[43mget_nowait\u001b[49m\u001b[43m(\u001b[49m\u001b[43m)\u001b[49m\n\u001b[0;32m     45\u001b[0m \u001b[38;5;28mprint\u001b[39m(\u001b[38;5;124mf\u001b[39m\u001b[38;5;124m\"\u001b[39m\u001b[38;5;124mgot \u001b[39m\u001b[38;5;132;01m{\u001b[39;00mq_item\u001b[38;5;132;01m}\u001b[39;00m\u001b[38;5;124m\"\u001b[39m)\n\u001b[0;32m     46\u001b[0m \u001b[38;5;66;03m# q.get_nowait() # clear this as well?\u001b[39;00m\n",
      "File \u001b[1;32m<string>:2\u001b[0m, in \u001b[0;36mget_nowait\u001b[1;34m(self, *args, **kwds)\u001b[0m\n",
      "File \u001b[1;32mc:\\Users\\Jan\\AppData\\Local\\Programs\\Python\\Python39\\lib\\multiprocessing\\managers.py:824\u001b[0m, in \u001b[0;36mBaseProxy._callmethod\u001b[1;34m(self, methodname, args, kwds)\u001b[0m\n\u001b[0;32m    822\u001b[0m     dispatch(conn, \u001b[38;5;28;01mNone\u001b[39;00m, \u001b[38;5;124m'\u001b[39m\u001b[38;5;124mdecref\u001b[39m\u001b[38;5;124m'\u001b[39m, (token\u001b[38;5;241m.\u001b[39mid,))\n\u001b[0;32m    823\u001b[0m     \u001b[38;5;28;01mreturn\u001b[39;00m proxy\n\u001b[1;32m--> 824\u001b[0m \u001b[38;5;28;01mraise\u001b[39;00m convert_to_error(kind, result)\n",
      "\u001b[1;31mEmpty\u001b[0m: "
     ]
    }
   ],
   "source": [
    "import multiprocessing\n",
    "import time\n",
    "from wgpu_shadertoy import Shadertoy\n",
    "\n",
    "def minimal_run(shader_code, p_queue):\n",
    "    print(\"running minimal run\")\n",
    "    try:\n",
    "        # shader.show()\n",
    "        shader = Shadertoy(shader_code, shader_type=\"glsl\", offscreen=True)\n",
    "        frame = shader.snapshot(10.0)\n",
    "        del shader\n",
    "        print(type(frame))\n",
    "        p_queue.put(\"ok\")\n",
    "    except Exception as e:\n",
    "        print(e)\n",
    "        p_queue.put(\"error\")\n",
    "\n",
    "def run_as_thread(shader_code, timeout=5):\n",
    "    # Use Manager().Queue() for better compatibility in some environments\n",
    "    manager = multiprocessing.Manager()\n",
    "    q = manager.Queue()\n",
    "    print(f\"running {q}\")\n",
    "    p = multiprocessing.Process(target=minimal_run, args=(shader_code, q))\n",
    "    print(f\"starting {p}\")\n",
    "    p.start()\n",
    "    print(f\"started {p}\")\n",
    "    # time.sleep(5)\n",
    "    p.join(timeout)\n",
    "    print(f\"joined {p}\")\n",
    "    if p.is_alive():\n",
    "        print(f\"{p} is alive\")\n",
    "        p.terminate()\n",
    "        print(f\"{p} terminated\")\n",
    "        # p.join()\n",
    "        return \"timeout\"\n",
    "    else:\n",
    "        print(f\"{p} is not alive\")\n",
    "        p.terminate()\n",
    "        print(f\"{p} terminated for sure\")\n",
    "        p.join()\n",
    "        print(f\"{p} joined for sure\")\n",
    "    p.close()\n",
    "    # print(f\"returning {len(q)}\")\n",
    "    q_item = q.get_nowait()\n",
    "    print(f\"got {q_item}\")\n",
    "    # q.get_nowait() # clear this as well?\n",
    "\n",
    "    try:\n",
    "        return q.get()\n",
    "    except Exception as e:\n",
    "        print(e)\n",
    "        return \"error\"\n",
    "    finally:\n",
    "        return \"idk\"\n",
    "\n",
    "# Example usage\n",
    "new_code = \"your_shader_code_here\"\n",
    "print(run_as_thread(new_code))"
   ]
  },
  {
   "cell_type": "code",
   "execution_count": 4,
   "metadata": {},
   "outputs": [
    {
     "name": "stdout",
     "output_type": "stream",
     "text": [
      "ok\n",
      "error\n",
      "timeout\n"
     ]
    }
   ],
   "source": [
    "print(run_shader_in_subprocess(new_code, 10))\n",
    "print(run_shader_in_subprocess(error_code, 10))\n",
    "print(run_shader_in_subprocess(minimal_code, 10))"
   ]
  },
  {
   "cell_type": "code",
   "execution_count": 5,
   "metadata": {},
   "outputs": [
    {
     "name": "stdout",
     "output_type": "stream",
     "text": [
      "timeout\n",
      "error\n",
      "timeout\n"
     ]
    }
   ],
   "source": [
    "from annotate import run_shader\n",
    "\n",
    "print(run_shader(new_code)) # erroniously timesout because it's so slow...\n",
    "print(run_shader(error_code))\n",
    "print(run_shader(minimal_code))"
   ]
  }
 ],
 "metadata": {
  "kernelspec": {
   "display_name": "Python 3",
   "language": "python",
   "name": "python3"
  },
  "language_info": {
   "codemirror_mode": {
    "name": "ipython",
    "version": 3
   },
   "file_extension": ".py",
   "mimetype": "text/x-python",
   "name": "python",
   "nbconvert_exporter": "python",
   "pygments_lexer": "ipython3",
   "version": "3.9.4"
  }
 },
 "nbformat": 4,
 "nbformat_minor": 2
}
