{
 "cells": [
  {
   "cell_type": "markdown",
   "metadata": {},
   "source": [
    "### parsing functions\n",
    "using - https://github.com/tree-sitter-grammars/tree-sitter-glsl\n",
    "basic usage: https://github.com/tree-sitter/py-tree-sitter"
   ]
  },
  {
   "cell_type": "code",
   "execution_count": 100,
   "metadata": {},
   "outputs": [],
   "source": [
    "import tree_sitter_glsl as tsglsl\n",
    "import tree_sitter\n",
    "from tree_sitter import Language, Parser\n",
    "\n",
    "GLSL_LANGUAGE = Language(tsglsl.language())\n",
    "\n",
    "parser = Parser(GLSL_LANGUAGE)"
   ]
  },
  {
   "cell_type": "code",
   "execution_count": 101,
   "metadata": {},
   "outputs": [
    {
     "data": {
      "text/plain": [
       "<tree_sitter.Tree at 0x1a0b46fcd30>"
      ]
     },
     "execution_count": 101,
     "metadata": {},
     "output_type": "execute_result"
    }
   ],
   "source": [
    "example_code = \"\"\"\n",
    "// comment directly infront of a function\n",
    "float red(float intensity){\n",
    "    // comment inside the function body, but the top\n",
    "    itensity = max(itensity, 1.0)\n",
    "\n",
    "    // comment deeper inside the function body\n",
    "    return vec3(1.0,0.0,0.0) * intensity;\n",
    "}\n",
    "\n",
    "// comment one before\n",
    "// comment two before\n",
    "float blue(float intensity){\n",
    "    itensity = max(itensity, 1.0)\n",
    "\n",
    "    return vec3(0.0,0.0,1.0) * intensity;\n",
    "}\n",
    "\n",
    "\n",
    "void mainImage( out vec4 fragColor, in vec2 fragCoord )\n",
    "{\n",
    "    vec2 uv = fragCoord/iResolution.xy;\n",
    "\n",
    "    vec3 col = mix(red(0.5), blue(0.3), 0.8);\n",
    "    fragColor = vec4(col,1.0);\n",
    "}\n",
    "\"\"\"\n",
    "\n",
    "tree = parser.parse(bytes(example_code, encoding=\"utf-8\"))\n",
    "tree"
   ]
  },
  {
   "cell_type": "code",
   "execution_count": 102,
   "metadata": {},
   "outputs": [
    {
     "name": "stdout",
     "output_type": "stream",
     "text": [
      "float red(float intensity){\n",
      "    // comment inside the function body, but the top\n",
      "    itensity = max(itensity, 1.0)\n",
      "\n",
      "    // comment deeper inside the function body\n",
      "    return vec3(1.0,0.0,0.0) * intensity;\n",
      "}\n",
      "##byte range is 43:249\n",
      "(function_definition type: (primitive_type) declarator: (function_declarator declarator: (identifier) parameters: (parameter_list (parameter_declaration type: (primitive_type) declarator: (identifier)))) body: (compound_statement (comment) (expression_statement (assignment_expression left: (identifier) right: (call_expression function: (identifier) arguments: (argument_list (identifier) (number_literal)))) (comment) (MISSING \";\")) (return_statement (binary_expression left: (call_expression function: (identifier) arguments: (argument_list (number_literal) (number_literal) (number_literal))) right: (identifier)))))\n",
      "float blue(float intensity){\n",
      "    itensity = max(itensity, 1.0)\n",
      "\n",
      "    return vec3(0.0,0.0,1.0) * intensity;\n",
      "}\n",
      "##byte range is 295:402\n",
      "(function_definition type: (primitive_type) declarator: (function_declarator declarator: (identifier) parameters: (parameter_list (parameter_declaration type: (primitive_type) declarator: (identifier)))) body: (compound_statement (expression_statement (assignment_expression left: (identifier) right: (call_expression function: (identifier) arguments: (argument_list (identifier) (number_literal)))) (MISSING \";\")) (return_statement (binary_expression left: (call_expression function: (identifier) arguments: (argument_list (number_literal) (number_literal) (number_literal))) right: (identifier)))))\n",
      "void mainImage( out vec4 fragColor, in vec2 fragCoord )\n",
      "{\n",
      "    vec2 uv = fragCoord/iResolution.xy;\n",
      "\n",
      "    vec3 col = mix(red(0.5), blue(0.3), 0.8);\n",
      "    fragColor = vec4(col,1.0);\n",
      "}\n",
      "##byte range is 405:582\n",
      "(function_definition type: (primitive_type) declarator: (function_declarator declarator: (identifier) parameters: (parameter_list (parameter_declaration type: (type_identifier) declarator: (identifier)) (parameter_declaration type: (type_identifier) declarator: (identifier)))) body: (compound_statement (declaration type: (type_identifier) declarator: (init_declarator declarator: (identifier) value: (binary_expression left: (identifier) right: (field_expression argument: (identifier) field: (field_identifier))))) (declaration type: (type_identifier) declarator: (init_declarator declarator: (identifier) value: (call_expression function: (identifier) arguments: (argument_list (call_expression function: (identifier) arguments: (argument_list (number_literal))) (call_expression function: (identifier) arguments: (argument_list (number_literal))) (number_literal))))) (expression_statement (assignment_expression left: (identifier) right: (call_expression function: (identifier) arguments: (argument_list (identifier) (number_literal)))))))\n"
     ]
    }
   ],
   "source": [
    "root_node = tree.root_node\n",
    "for child in root_node.children:\n",
    "    if child.type == \"function_definition\":\n",
    "        print(f\"{child.text.decode(encoding='utf-8')}\\n##byte range is {child.start_byte}:{child.end_byte}\")\n",
    "        print(str(child))"
   ]
  },
  {
   "cell_type": "code",
   "execution_count": 103,
   "metadata": {},
   "outputs": [
    {
     "name": "stdout",
     "output_type": "stream",
     "text": [
      "[<Node type=comment, start_point=(1, 0), end_point=(1, 41)>]\n",
      "b'float'\n",
      "b'red(float intensity)'\n",
      "b'{\\n    // comment inside the function body, but the top\\n    itensity = max(itensity, 1.0)\\n\\n    // comment deeper inside the function body\\n    return vec3(1.0,0.0,0.0) * intensity;\\n}'\n",
      "[<Node type=comment, start_point=(3, 4), end_point=(3, 52)>]\n",
      "\n",
      "[<Node type=comment, start_point=(1, 0), end_point=(1, 41)>]\n",
      "b'float'\n",
      "b'blue(float intensity)'\n",
      "b'{\\n    itensity = max(itensity, 1.0)\\n\\n    return vec3(0.0,0.0,1.0) * intensity;\\n}'\n"
     ]
    },
    {
     "ename": "KeyError",
     "evalue": "'comments.top_body'",
     "output_type": "error",
     "traceback": [
      "\u001b[1;31m---------------------------------------------------------------------------\u001b[0m",
      "\u001b[1;31mKeyError\u001b[0m                                  Traceback (most recent call last)",
      "Cell \u001b[1;32mIn[103], line 24\u001b[0m\n\u001b[0;32m     22\u001b[0m \u001b[38;5;28mprint\u001b[39m(match[\u001b[38;5;241m1\u001b[39m][\u001b[38;5;124m\"\u001b[39m\u001b[38;5;124mfunction.declarator\u001b[39m\u001b[38;5;124m\"\u001b[39m]\u001b[38;5;241m.\u001b[39mtext)\n\u001b[0;32m     23\u001b[0m \u001b[38;5;28mprint\u001b[39m(match[\u001b[38;5;241m1\u001b[39m][\u001b[38;5;124m\"\u001b[39m\u001b[38;5;124mfunction.body\u001b[39m\u001b[38;5;124m\"\u001b[39m]\u001b[38;5;241m.\u001b[39mtext)\n\u001b[1;32m---> 24\u001b[0m \u001b[38;5;28mprint\u001b[39m(\u001b[43mmatch\u001b[49m\u001b[43m[\u001b[49m\u001b[38;5;241;43m1\u001b[39;49m\u001b[43m]\u001b[49m\u001b[43m[\u001b[49m\u001b[38;5;124;43m\"\u001b[39;49m\u001b[38;5;124;43mcomments.top_body\u001b[39;49m\u001b[38;5;124;43m\"\u001b[39;49m\u001b[43m]\u001b[49m)\n\u001b[0;32m     25\u001b[0m \u001b[38;5;28mprint\u001b[39m()\n",
      "\u001b[1;31mKeyError\u001b[0m: 'comments.top_body'"
     ]
    }
   ],
   "source": [
    "# https://tree-sitter.github.io/tree-sitter/using-parsers#query-syntax\n",
    "\n",
    "query = GLSL_LANGUAGE.query(\n",
    "        \"\"\"\n",
    "        (\n",
    "        (comment)* @comments.before\n",
    "        (function_definition \n",
    "            type: (primitive_type) @function.type\n",
    "            declarator: (function_declarator) @function.declarator\n",
    "            body: (compound_statement\n",
    "                (comment)* @comments.body\n",
    "                ) @function.body\n",
    "        )\n",
    "        )\n",
    "        \"\"\"\n",
    "    )\n",
    "\n",
    "matches = query.matches(tree.root_node)\n",
    "for match in matches:\n",
    "    print(match[1][\"comments.before\"])\n",
    "    print(match[1][\"function.type\"].text)\n",
    "    print(match[1][\"function.declarator\"].text)\n",
    "    print(match[1][\"function.body\"].text)\n",
    "    print(match[1][\"comments.body\"])\n",
    "    print()"
   ]
  },
  {
   "cell_type": "code",
   "execution_count": null,
   "metadata": {},
   "outputs": [
    {
     "name": "stdout",
     "output_type": "stream",
     "text": [
      "('(translation_unit (comment) (function_definition type: (primitive_type) '\n",
      " 'declarator: (function_declarator declarator: (identifier) parameters: '\n",
      " '(parameter_list (parameter_declaration type: (primitive_type) declarator: '\n",
      " '(identifier)))) body: (compound_statement (comment) (expression_statement '\n",
      " '(assignment_expression left: (identifier) right: (call_expression function: '\n",
      " '(identifier) arguments: (argument_list (identifier) (number_literal)))) '\n",
      " '(comment) (MISSING \";\")) (return_statement (binary_expression left: '\n",
      " '(call_expression function: (identifier) arguments: (argument_list '\n",
      " '(number_literal) (number_literal) (number_literal))) right: (identifier))))) '\n",
      " '(function_definition type: (primitive_type) declarator: (function_declarator '\n",
      " 'declarator: (identifier) parameters: (parameter_list (parameter_declaration '\n",
      " 'type: (primitive_type) declarator: (identifier)))) body: (compound_statement '\n",
      " '(expression_statement (assignment_expression left: (identifier) right: '\n",
      " '(call_expression function: (identifier) arguments: (argument_list '\n",
      " '(identifier) (number_literal)))) (MISSING \";\")) (return_statement '\n",
      " '(binary_expression left: (call_expression function: (identifier) arguments: '\n",
      " '(argument_list (number_literal) (number_literal) (number_literal))) right: '\n",
      " '(identifier))))) (function_definition type: (primitive_type) declarator: '\n",
      " '(function_declarator declarator: (identifier) parameters: (parameter_list '\n",
      " '(parameter_declaration type: (type_identifier) declarator: (identifier)) '\n",
      " '(parameter_declaration type: (type_identifier) declarator: (identifier)))) '\n",
      " 'body: (compound_statement (declaration type: (type_identifier) declarator: '\n",
      " '(init_declarator declarator: (identifier) value: (binary_expression left: '\n",
      " '(identifier) right: (field_expression argument: (identifier) field: '\n",
      " '(field_identifier))))) (declaration type: (type_identifier) declarator: '\n",
      " '(init_declarator declarator: (identifier) value: (call_expression function: '\n",
      " '(identifier) arguments: (argument_list (call_expression function: '\n",
      " '(identifier) arguments: (argument_list (number_literal))) (call_expression '\n",
      " 'function: (identifier) arguments: (argument_list (number_literal))) '\n",
      " '(number_literal))))) (expression_statement (assignment_expression left: '\n",
      " '(identifier) right: (call_expression function: (identifier) arguments: '\n",
      " '(argument_list (identifier) (number_literal))))))))')\n"
     ]
    }
   ],
   "source": [
    "from pprint import pprint\n",
    "\n",
    "pprint(str(root_node))"
   ]
  }
 ],
 "metadata": {
  "kernelspec": {
   "display_name": "Python 3",
   "language": "python",
   "name": "python3"
  },
  "language_info": {
   "codemirror_mode": {
    "name": "ipython",
    "version": 3
   },
   "file_extension": ".py",
   "mimetype": "text/x-python",
   "name": "python",
   "nbconvert_exporter": "python",
   "pygments_lexer": "ipython3",
   "version": "3.9.4"
  }
 },
 "nbformat": 4,
 "nbformat_minor": 2
}
