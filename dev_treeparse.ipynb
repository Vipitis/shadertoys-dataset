{
 "cells": [
  {
   "cell_type": "markdown",
   "metadata": {},
   "source": [
    "### parsing functions\n",
    "using - https://github.com/tree-sitter-grammars/tree-sitter-glsl\n",
    "basic usage: https://github.com/tree-sitter/py-tree-sitter"
   ]
  },
  {
   "cell_type": "code",
   "execution_count": 109,
   "metadata": {},
   "outputs": [],
   "source": [
    "import tree_sitter_glsl as tsglsl\n",
    "import tree_sitter\n",
    "from tree_sitter import Language, Parser\n",
    "\n",
    "GLSL_LANGUAGE = Language(tsglsl.language())\n",
    "\n",
    "parser = Parser(GLSL_LANGUAGE)"
   ]
  },
  {
   "cell_type": "code",
   "execution_count": 110,
   "metadata": {},
   "outputs": [
    {
     "data": {
      "text/plain": [
       "<tree_sitter.Tree at 0x1b6d857c430>"
      ]
     },
     "execution_count": 110,
     "metadata": {},
     "output_type": "execute_result"
    }
   ],
   "source": [
    "example_code = \"\"\"\n",
    "// comment directly infront of a function\n",
    "vec3 red(float intensity){\n",
    "    // comment inside the function body, but the top\n",
    "    intensity = max(intensity, 1.0);\n",
    "\n",
    "    // comment deeper inside the function body\n",
    "    return vec3(1.0,0.0,0.0) * intensity;\n",
    "}\n",
    "\n",
    "vec3 green(float intensity){\n",
    "    // docstring inside\n",
    "    // second inside docstring\n",
    "    intensity = max(intensity, 1.0);\n",
    "\n",
    "    return vec3(0.0,1.0,0.0) * intensity;\n",
    "}\n",
    "\n",
    "// comment one before\n",
    "// comment two before\n",
    "vec3 blue(float intensity){\n",
    "    intensity = max(intensity, 1.0);\n",
    "\n",
    "    return vec3(0.0,0.0,1.0) * intensity;\n",
    "}\n",
    "\n",
    "void mainImage( out vec4 fragColor, in vec2 fragCoord )\n",
    "{\n",
    "    vec2 uv = fragCoord/iResolution.xy;\n",
    "\n",
    "    vec3 col = mix(red(0.5), blue(0.3), 0.8);\n",
    "    col = mix(col, green(1.0), sin(iTime));\n",
    "    fragColor = vec4(col,1.0);\n",
    "}\n",
    "\"\"\"\n",
    "\n",
    "tree = parser.parse(bytes(example_code, encoding=\"utf-8\"))\n",
    "tree"
   ]
  },
  {
   "cell_type": "code",
   "execution_count": 111,
   "metadata": {},
   "outputs": [
    {
     "name": "stdout",
     "output_type": "stream",
     "text": [
      "comment\n",
      "function_definition\n",
      "(compound_statement (comment) (expression_statement (assignment_expression left: (identifier) right: (call_expression function: (identifier) arguments: (argument_list (identifier) (number_literal))))) (comment) (return_statement (binary_expression left: (call_expression function: (identifier) arguments: (argument_list (number_literal) (number_literal) (number_literal))) right: (identifier))))\n",
      "function_definition\n",
      "(compound_statement (comment) (comment) (expression_statement (assignment_expression left: (identifier) right: (call_expression function: (identifier) arguments: (argument_list (identifier) (number_literal))))) (return_statement (binary_expression left: (call_expression function: (identifier) arguments: (argument_list (number_literal) (number_literal) (number_literal))) right: (identifier))))\n",
      "comment\n",
      "comment\n",
      "function_definition\n",
      "(compound_statement (expression_statement (assignment_expression left: (identifier) right: (call_expression function: (identifier) arguments: (argument_list (identifier) (number_literal))))) (return_statement (binary_expression left: (call_expression function: (identifier) arguments: (argument_list (number_literal) (number_literal) (number_literal))) right: (identifier))))\n",
      "function_definition\n",
      "(compound_statement (declaration type: (type_identifier) declarator: (init_declarator declarator: (identifier) value: (binary_expression left: (identifier) right: (field_expression argument: (identifier) field: (field_identifier))))) (declaration type: (type_identifier) declarator: (init_declarator declarator: (identifier) value: (call_expression function: (identifier) arguments: (argument_list (call_expression function: (identifier) arguments: (argument_list (number_literal))) (call_expression function: (identifier) arguments: (argument_list (number_literal))) (number_literal))))) (expression_statement (assignment_expression left: (identifier) right: (call_expression function: (identifier) arguments: (argument_list (identifier) (call_expression function: (identifier) arguments: (argument_list (number_literal))) (call_expression function: (identifier) arguments: (argument_list (identifier))))))) (expression_statement (assignment_expression left: (identifier) right: (call_expression function: (identifier) arguments: (argument_list (identifier) (number_literal))))))\n"
     ]
    }
   ],
   "source": [
    "root_node = tree.root_node\n",
    "for child in root_node.children:\n",
    "    print(child.type)\n",
    "    if child.type == \"function_definition\":\n",
    "        print(child.children[-1])\n",
    "    #     print(f\"{child.text.decode(encoding='utf-8')}\\n##byte range is {child.start_byte}:{child.end_byte}\")\n",
    "    #     print(str(child))"
   ]
  },
  {
   "cell_type": "code",
   "execution_count": 112,
   "metadata": {},
   "outputs": [
    {
     "name": "stdout",
     "output_type": "stream",
     "text": [
      "{'comments.before': [<Node type=comment, start_point=(1, 0), end_point=(1, 41)>], 'function.type': <Node type=primitive_type, start_point=(26, 0), end_point=(26, 4)>, 'function.declarator': <Node type=function_declarator, start_point=(26, 5), end_point=(26, 55)>, 'function.body': <Node type=compound_statement, start_point=(27, 0), end_point=(33, 1)>}\n",
      "{'comments.before': [<Node type=comment, start_point=(18, 0), end_point=(18, 21)>, <Node type=comment, start_point=(19, 0), end_point=(19, 21)>], 'function.type': <Node type=primitive_type, start_point=(26, 0), end_point=(26, 4)>, 'function.declarator': <Node type=function_declarator, start_point=(26, 5), end_point=(26, 55)>, 'function.body': <Node type=compound_statement, start_point=(27, 0), end_point=(33, 1)>}\n"
     ]
    }
   ],
   "source": [
    "# https://tree-sitter.github.io/tree-sitter/using-parsers#query-syntax\n",
    "\n",
    "query = GLSL_LANGUAGE.query(\n",
    "        \"\"\"\n",
    "        (\n",
    "        (comment)* @comments.before\n",
    "        (function_definition \n",
    "            type: (primitive_type) @function.type\n",
    "            declarator: (function_declarator) @function.declarator\n",
    "            \n",
    "            body: (compound_statement\n",
    "                (comment)* @docstring\n",
    "                ) @function.body\n",
    "        )\n",
    "        )\n",
    "        \"\"\"\n",
    "    )\n",
    "\n",
    "matches = query.matches(tree.root_node)\n",
    "# print(matches)\n",
    "for match in matches:\n",
    "    # break\n",
    "    print(match[1])\n",
    "    # print()"
   ]
  },
  {
   "cell_type": "code",
   "execution_count": 113,
   "metadata": {},
   "outputs": [
    {
     "name": "stdout",
     "output_type": "stream",
     "text": [
      "('(translation_unit (comment) (function_definition type: (type_identifier) '\n",
      " 'declarator: (function_declarator declarator: (identifier) parameters: '\n",
      " '(parameter_list (parameter_declaration type: (primitive_type) declarator: '\n",
      " '(identifier)))) body: (compound_statement (comment) (expression_statement '\n",
      " '(assignment_expression left: (identifier) right: (call_expression function: '\n",
      " '(identifier) arguments: (argument_list (identifier) (number_literal))))) '\n",
      " '(comment) (return_statement (binary_expression left: (call_expression '\n",
      " 'function: (identifier) arguments: (argument_list (number_literal) '\n",
      " '(number_literal) (number_literal))) right: (identifier))))) '\n",
      " '(function_definition type: (type_identifier) declarator: '\n",
      " '(function_declarator declarator: (identifier) parameters: (parameter_list '\n",
      " '(parameter_declaration type: (primitive_type) declarator: (identifier)))) '\n",
      " 'body: (compound_statement (comment) (comment) (expression_statement '\n",
      " '(assignment_expression left: (identifier) right: (call_expression function: '\n",
      " '(identifier) arguments: (argument_list (identifier) (number_literal))))) '\n",
      " '(return_statement (binary_expression left: (call_expression function: '\n",
      " '(identifier) arguments: (argument_list (number_literal) (number_literal) '\n",
      " '(number_literal))) right: (identifier))))) (comment) (comment) '\n",
      " '(function_definition type: (type_identifier) declarator: '\n",
      " '(function_declarator declarator: (identifier) parameters: (parameter_list '\n",
      " '(parameter_declaration type: (primitive_type) declarator: (identifier)))) '\n",
      " 'body: (compound_statement (expression_statement (assignment_expression left: '\n",
      " '(identifier) right: (call_expression function: (identifier) arguments: '\n",
      " '(argument_list (identifier) (number_literal))))) (return_statement '\n",
      " '(binary_expression left: (call_expression function: (identifier) arguments: '\n",
      " '(argument_list (number_literal) (number_literal) (number_literal))) right: '\n",
      " '(identifier))))) (function_definition type: (primitive_type) declarator: '\n",
      " '(function_declarator declarator: (identifier) parameters: (parameter_list '\n",
      " '(parameter_declaration type: (type_identifier) declarator: (identifier)) '\n",
      " '(parameter_declaration type: (type_identifier) declarator: (identifier)))) '\n",
      " 'body: (compound_statement (declaration type: (type_identifier) declarator: '\n",
      " '(init_declarator declarator: (identifier) value: (binary_expression left: '\n",
      " '(identifier) right: (field_expression argument: (identifier) field: '\n",
      " '(field_identifier))))) (declaration type: (type_identifier) declarator: '\n",
      " '(init_declarator declarator: (identifier) value: (call_expression function: '\n",
      " '(identifier) arguments: (argument_list (call_expression function: '\n",
      " '(identifier) arguments: (argument_list (number_literal))) (call_expression '\n",
      " 'function: (identifier) arguments: (argument_list (number_literal))) '\n",
      " '(number_literal))))) (expression_statement (assignment_expression left: '\n",
      " '(identifier) right: (call_expression function: (identifier) arguments: '\n",
      " '(argument_list (identifier) (call_expression function: (identifier) '\n",
      " 'arguments: (argument_list (number_literal))) (call_expression function: '\n",
      " '(identifier) arguments: (argument_list (identifier))))))) '\n",
      " '(expression_statement (assignment_expression left: (identifier) right: '\n",
      " '(call_expression function: (identifier) arguments: (argument_list '\n",
      " '(identifier) (number_literal))))))))')\n"
     ]
    }
   ],
   "source": [
    "from pprint import pprint\n",
    "\n",
    "pprint(str(root_node))"
   ]
  },
  {
   "cell_type": "code",
   "execution_count": 114,
   "metadata": {},
   "outputs": [
    {
     "name": "stdout",
     "output_type": "stream",
     "text": [
      "\u001b[0m\u001b[32m// comment directly infront of a function\n",
      "\u001b[31mvec3 red(float intensity){\u001b[33m\n",
      "    // comment inside the function body, but the top\u001b[34m\n",
      "    intensity = max(intensity, 1.0);\n",
      "\n",
      "    // comment deeper inside the function body\n",
      "    return vec3(1.0,0.0,0.0) * intensity;\n",
      "}\u001b[0m\n",
      "\n",
      "\u001b[32m\u001b[31mvec3 green(float intensity){\u001b[33m\n",
      "    // docstring inside\n",
      "    // second inside docstring\u001b[34m\n",
      "    intensity = max(intensity, 1.0);\n",
      "\n",
      "    return vec3(0.0,1.0,0.0) * intensity;\n",
      "}\u001b[0m\n",
      "\n",
      "\u001b[32m// comment one before\n",
      "// comment two before\n",
      "\u001b[31mvec3 blue(float intensity){\u001b[33m\u001b[34m\n",
      "    intensity = max(intensity, 1.0);\n",
      "\n",
      "    return vec3(0.0,0.0,1.0) * intensity;\n",
      "}\u001b[0m\n",
      "\n",
      "\u001b[32m\u001b[31mvoid mainImage( out vec4 fragColor, in vec2 fragCoord )\n",
      "{\u001b[33m\u001b[34m\n",
      "    vec2 uv = fragCoord/iResolution.xy;\n",
      "\n",
      "    vec3 col = mix(red(0.5), blue(0.3), 0.8);\n",
      "    col = mix(col, green(1.0), sin(iTime));\n",
      "    fragColor = vec4(col,1.0);\n",
      "}\u001b[0m\n",
      "\n",
      "\n"
     ]
    }
   ],
   "source": [
    "from typing import List, Tuple\n",
    "def parse_functions(code:str) -> List[Tuple[int,int,int,int,int]]:\n",
    "    \"\"\"\n",
    "    parses the code using tree-parser-glsl\n",
    "    returns the **byte-indecies** for before_comment, start header, end header, end docstring, end_function.\n",
    "    returns a list 5-tupel. If before_comment or docstring aren't found, the indiecies will coinside with the next one.\n",
    "    \"\"\"\n",
    "    tree = parser.parse(bytes(code, encoding=\"utf-8\"))\n",
    "    root_node = tree.root_node\n",
    "    funcs = []\n",
    "    \n",
    "    # lazy init\n",
    "    start_comment = start_header = end_header = end_docstring = end_function = None\n",
    "    for child in root_node.children:\n",
    "        if child.type == \"comment\" and not start_comment:\n",
    "            start_comment = child.start_byte\n",
    "        if child.type == \"function_definition\":\n",
    "            start_header = child.start_byte\n",
    "            if not start_comment:\n",
    "                start_comment = start_header\n",
    "            end_function = child.end_byte\n",
    "            end_header = child.children[-1].children[0].end_byte\n",
    "            # inside the function body, past the \"{\"\n",
    "            for sub_child in child.children[-1].children[1:]:\n",
    "                if sub_child.type == \"comment\":\n",
    "                    end_docstring = sub_child.end_byte\n",
    "                else:\n",
    "                    if not end_docstring:\n",
    "                        end_docstring = end_header\n",
    "                    break\n",
    "                \n",
    "\n",
    "\n",
    "            funcs.append(tuple([start_comment, start_header, end_header, end_docstring, end_function]))\n",
    "            start_comment = start_header = end_header = end_docstring = end_function = None\n",
    "    return funcs\n",
    "\n",
    "def color_ranges(code:str, func_bytes:list):\n",
    "    code_bytes = bytes(code, encoding=\"utf-8\")\n",
    "    colored_bytes = b\"\\x1b[0m\"\n",
    "    for start_comment, start_header, end_header, end_docstring, end_function in func_bytes:\n",
    "        colored_bytes += b\"\\x1b[32m\" + code_bytes[start_comment:start_header]\n",
    "        colored_bytes += b\"\\x1b[31m\" + code_bytes[start_header:end_header]\n",
    "        colored_bytes += b\"\\x1b[33m\" + code_bytes[end_header:end_docstring]\n",
    "        colored_bytes += b\"\\x1b[34m\" + code_bytes[end_docstring:end_function]\n",
    "        colored_bytes += b\"\\x1b[0m\" #escape back to normal\n",
    "        colored_bytes += b\"\\n\\n\" # for pretty\n",
    "\n",
    "    return colored_bytes.decode(encoding=\"utf-8\")\n",
    "\n",
    "funcs = parse_functions(example_code)\n",
    "colored_funcs = color_ranges(example_code, func_bytes=funcs)\n",
    "print(colored_funcs)\n"
   ]
  }
 ],
 "metadata": {
  "kernelspec": {
   "display_name": "Python 3",
   "language": "python",
   "name": "python3"
  },
  "language_info": {
   "codemirror_mode": {
    "name": "ipython",
    "version": 3
   },
   "file_extension": ".py",
   "mimetype": "text/x-python",
   "name": "python",
   "nbconvert_exporter": "python",
   "pygments_lexer": "ipython3",
   "version": "3.9.4"
  }
 },
 "nbformat": 4,
 "nbformat_minor": 2
}
